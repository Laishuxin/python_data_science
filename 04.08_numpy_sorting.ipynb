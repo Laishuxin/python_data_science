{
 "cells": [
  {
   "cell_type": "markdown",
   "metadata": {},
   "source": [
    "# sorting arrays"
   ]
  },
  {
   "cell_type": "code",
   "execution_count": 20,
   "metadata": {
    "ExecuteTime": {
     "end_time": "2019-10-18T06:54:32.291753Z",
     "start_time": "2019-10-18T06:54:32.276541Z"
    }
   },
   "outputs": [],
   "source": [
    "# selection sort\n",
    "# 选择排序：从当前第0项开始，找到后边最小的项，然后相互调换位置\n",
    "import numpy as np\n",
    "\n",
    "def selection_sort(x):\n",
    "    for i in range(len(x)):  # 对数组进行遍历\n",
    "        swap = i + np.argmin(x[i:])  # 找到从当前位置后面最小的数的索引，\n",
    "#         print(i, swap)\n",
    "        x[i], x[swap] = x[swap], x[i]\n",
    "    return x"
   ]
  },
  {
   "cell_type": "code",
   "execution_count": 19,
   "metadata": {
    "ExecuteTime": {
     "end_time": "2019-10-18T06:53:19.209606Z",
     "start_time": "2019-10-18T06:53:08.264853Z"
    }
   },
   "outputs": [
    {
     "name": "stdout",
     "output_type": "stream",
     "text": [
      "[   2    4    5    6    6   23   43   44  232 7567]\n",
      "13.4 µs ± 168 ns per loop (mean ± std. dev. of 7 runs, 100000 loops each)\n"
     ]
    }
   ],
   "source": [
    "x = np.array([2,4,6,23,44,232,6,7567,43,5])\n",
    "print(selection_sort(x))\n",
    "%timeit selection_sort(x)"
   ]
  },
  {
   "cell_type": "code",
   "execution_count": 25,
   "metadata": {
    "ExecuteTime": {
     "end_time": "2019-10-18T07:00:04.936747Z",
     "start_time": "2019-10-18T07:00:04.930957Z"
    }
   },
   "outputs": [],
   "source": [
    "# bogosort\n",
    "\n",
    "def bogosort(x):\n",
    "    i = 0\n",
    "    while np.any(x[:-1] > x[1:]):\n",
    "        np.random.shuffle(x)\n",
    "        print(i)\n",
    "        i+= 1\n",
    "    return x"
   ]
  },
  {
   "cell_type": "code",
   "execution_count": 28,
   "metadata": {
    "ExecuteTime": {
     "end_time": "2019-10-18T07:02:04.589909Z",
     "start_time": "2019-10-18T07:02:04.577713Z"
    }
   },
   "outputs": [
    {
     "data": {
      "text/plain": [
       "array([   2,    4,    5,    6,    6,   23,   43,   44,  232, 7567])"
      ]
     },
     "execution_count": 28,
     "metadata": {},
     "output_type": "execute_result"
    }
   ],
   "source": [
    "bogosort(x)"
   ]
  },
  {
   "cell_type": "markdown",
   "metadata": {},
   "source": [
    "## fast sorting in numpy : np.sort() and np.argsort()"
   ]
  },
  {
   "cell_type": "code",
   "execution_count": 30,
   "metadata": {
    "ExecuteTime": {
     "end_time": "2019-10-18T07:06:07.849637Z",
     "start_time": "2019-10-18T07:06:07.843079Z"
    }
   },
   "outputs": [
    {
     "data": {
      "text/plain": [
       "array([  1,   2,  34,  41, 231])"
      ]
     },
     "execution_count": 30,
     "metadata": {},
     "output_type": "execute_result"
    }
   ],
   "source": [
    "# np.sort()  sorting the array and return it\n",
    "x = np.array([1,34,231,41,2])\n",
    "np.sort(x)"
   ]
  },
  {
   "cell_type": "code",
   "execution_count": 33,
   "metadata": {
    "ExecuteTime": {
     "end_time": "2019-10-18T07:07:25.081383Z",
     "start_time": "2019-10-18T07:07:25.075192Z"
    }
   },
   "outputs": [
    {
     "name": "stdout",
     "output_type": "stream",
     "text": [
      "[0 4 1 3 2]\n"
     ]
    }
   ],
   "source": [
    "# np.argsort() return the sorted array indice\n",
    "sort_indice = np.argsort(x)\n",
    "print(sort_indice)"
   ]
  },
  {
   "cell_type": "code",
   "execution_count": 36,
   "metadata": {
    "ExecuteTime": {
     "end_time": "2019-10-18T07:07:50.278442Z",
     "start_time": "2019-10-18T07:07:50.267274Z"
    }
   },
   "outputs": [
    {
     "data": {
      "text/plain": [
       "array([  1,   2,  34,  41, 231])"
      ]
     },
     "execution_count": 36,
     "metadata": {},
     "output_type": "execute_result"
    }
   ],
   "source": [
    "x[sort_indice]\n"
   ]
  },
  {
   "cell_type": "markdown",
   "metadata": {
    "ExecuteTime": {
     "end_time": "2019-10-18T07:08:00.682974Z",
     "start_time": "2019-10-18T07:08:00.679990Z"
    }
   },
   "source": [
    "### sorting along rows or colums\n",
    "\n",
    "it will treat each row or colum as an independent array"
   ]
  },
  {
   "cell_type": "code",
   "execution_count": 61,
   "metadata": {
    "ExecuteTime": {
     "end_time": "2019-10-18T07:24:31.052859Z",
     "start_time": "2019-10-18T07:24:31.048256Z"
    }
   },
   "outputs": [
    {
     "name": "stdout",
     "output_type": "stream",
     "text": [
      "[[6 3 7 4 6 9]\n",
      " [2 6 7 4 3 7]\n",
      " [7 2 5 4 1 7]\n",
      " [5 1 4 0 9 5]]\n"
     ]
    }
   ],
   "source": [
    "rand = np.random.RandomState(42)\n",
    "x = rand.randint(0, 10, (4,6))\n",
    "print(x)"
   ]
  },
  {
   "cell_type": "code",
   "execution_count": 56,
   "metadata": {
    "ExecuteTime": {
     "end_time": "2019-10-18T07:19:23.138360Z",
     "start_time": "2019-10-18T07:19:23.132794Z"
    }
   },
   "outputs": [
    {
     "name": "stdout",
     "output_type": "stream",
     "text": [
      "[[2 1 4 0 1 5]\n",
      " [5 2 5 4 3 7]\n",
      " [6 3 7 4 6 7]\n",
      " [7 6 7 4 9 9]]\n",
      "[[3 4 6 6 7 9]\n",
      " [2 3 4 6 7 7]\n",
      " [1 2 4 5 7 7]\n",
      " [0 1 4 5 5 9]]\n"
     ]
    }
   ],
   "source": [
    "# sort each colum of x\n",
    "print(np.sort(x, axis=0))\n",
    "# sort each row of x\n",
    "print(np.sort(x, axis=1))"
   ]
  },
  {
   "cell_type": "markdown",
   "metadata": {},
   "source": [
    "##  Partial Sorts: Partitioning\n",
    "\n",
    "> Note that the first three values in the resulting array are the three smallest in the array, and the remaining array positions contain the remaining values. Within the two partitions, the elements have arbitrary order."
   ]
  },
  {
   "cell_type": "code",
   "execution_count": 59,
   "metadata": {
    "ExecuteTime": {
     "end_time": "2019-10-18T07:24:11.872709Z",
     "start_time": "2019-10-18T07:24:11.864257Z"
    }
   },
   "outputs": [
    {
     "data": {
      "text/plain": [
       "array([2, 1, 3, 4, 6, 5, 7])"
      ]
     },
     "execution_count": 59,
     "metadata": {},
     "output_type": "execute_result"
    }
   ],
   "source": [
    "# np.partition(arrary, k)\n",
    "X = np.array([7,2,3,1,6,5,4])\n",
    "np.partition(X, 3)  # return the array which the smallest K values to the left\n"
   ]
  },
  {
   "cell_type": "code",
   "execution_count": 63,
   "metadata": {
    "ExecuteTime": {
     "end_time": "2019-10-18T07:25:43.413755Z",
     "start_time": "2019-10-18T07:25:43.408776Z"
    }
   },
   "outputs": [
    {
     "data": {
      "text/plain": [
       "array([[3, 4, 6, 7, 6, 9],\n",
       "       [2, 3, 4, 7, 6, 7],\n",
       "       [1, 2, 4, 5, 7, 7],\n",
       "       [0, 1, 4, 5, 9, 5]])"
      ]
     },
     "execution_count": 63,
     "metadata": {},
     "output_type": "execute_result"
    }
   ],
   "source": [
    "np.partition(x, 2, axis=1)"
   ]
  },
  {
   "cell_type": "markdown",
   "metadata": {},
   "source": [
    "## example: k-nearest neighbors\n",
    "argsort()"
   ]
  },
  {
   "cell_type": "code",
   "execution_count": 65,
   "metadata": {
    "ExecuteTime": {
     "end_time": "2019-10-18T07:28:23.600208Z",
     "start_time": "2019-10-18T07:28:23.593449Z"
    }
   },
   "outputs": [
    {
     "data": {
      "text/plain": [
       "array([[0.23089383, 0.24102547],\n",
       "       [0.68326352, 0.60999666],\n",
       "       [0.83319491, 0.17336465],\n",
       "       [0.39106061, 0.18223609],\n",
       "       [0.75536141, 0.42515587],\n",
       "       [0.20794166, 0.56770033],\n",
       "       [0.03131329, 0.84228477],\n",
       "       [0.44975413, 0.39515024],\n",
       "       [0.92665887, 0.727272  ],\n",
       "       [0.32654077, 0.57044397]])"
      ]
     },
     "execution_count": 65,
     "metadata": {},
     "output_type": "execute_result"
    }
   ],
   "source": [
    "x = rand.rand(10, 2)\n",
    "x\n"
   ]
  },
  {
   "cell_type": "code",
   "execution_count": 67,
   "metadata": {
    "ExecuteTime": {
     "end_time": "2019-10-18T07:28:47.486163Z",
     "start_time": "2019-10-18T07:28:47.381575Z"
    }
   },
   "outputs": [
    {
     "data": {
      "image/png": "[encoded data removed]",
      "text/plain": [
       "<Figure size 432x288 with 1 Axes>"
      ]
     },
     "metadata": {},
     "output_type": "display_data"
    }
   ],
   "source": [
    "import matplotlib.pyplot as plt\n",
    "import seaborn; seaborn.set()\n",
    "plt.scatter(x[:,0], x[:,1])\n",
    "plt.show()"
   ]
  },
  {
   "cell_type": "code",
   "execution_count": 75,
   "metadata": {
    "ExecuteTime": {
     "end_time": "2019-10-18T07:38:31.553894Z",
     "start_time": "2019-10-18T07:38:31.548175Z"
    }
   },
   "outputs": [],
   "source": [
    "dist_sq = np.sum((x[:, np.newaxis,:] - x[np.newaxis, :, :]) ** 2, axis=-1)"
   ]
  },
  {
   "cell_type": "code",
   "execution_count": 80,
   "metadata": {
    "ExecuteTime": {
     "end_time": "2019-10-18T07:42:48.198047Z",
     "start_time": "2019-10-18T07:42:48.191912Z"
    }
   },
   "outputs": [],
   "source": [
    "# print(x[:,np.newaxis,:].shape)\n",
    "# print(x[np.newaxis,:,:])"
   ]
  },
  {
   "cell_type": "code",
   "execution_count": 83,
   "metadata": {
    "ExecuteTime": {
     "end_time": "2019-10-18T07:43:51.690714Z",
     "start_time": "2019-10-18T07:43:51.682092Z"
    }
   },
   "outputs": [
    {
     "name": "stdout",
     "output_type": "stream",
     "text": [
      "(10, 10, 2)\n"
     ]
    }
   ],
   "source": [
    "# the above code can be broken down into its component steps\n",
    "\n",
    "# for each pair of points, compute differeces in their coordinates\n",
    "differeces = x[:,np.newaxis,:] - x[np.newaxis,:,:]\n",
    "print(differeces.shape)"
   ]
  },
  {
   "cell_type": "code",
   "execution_count": 85,
   "metadata": {
    "ExecuteTime": {
     "end_time": "2019-10-18T07:45:32.218815Z",
     "start_time": "2019-10-18T07:45:32.211028Z"
    }
   },
   "outputs": [
    {
     "name": "stdout",
     "output_type": "stream",
     "text": [
      "(10, 10, 2)\n",
      "[[[0.00000000e+00 0.00000000e+00]\n",
      "  [2.04638339e-01 1.36139740e-01]\n",
      "  [3.62766598e-01 4.57798555e-03]\n",
      "  [2.56533980e-02 3.45619099e-03]\n",
      "  [2.75066247e-01 3.39040073e-02]\n",
      "  [5.26801775e-04 1.06716465e-01]\n",
      "  [3.98323892e-02 3.61512756e-01]\n",
      "  [4.78998343e-02 2.37544447e-02]\n",
      "  [4.84088991e-01 2.36435688e-01]\n",
      "  [9.14833774e-03 1.08516554e-01]]\n",
      "\n",
      " [[2.04638339e-01 1.36139740e-01]\n",
      "  [0.00000000e+00 0.00000000e+00]\n",
      "  [2.24794226e-02 1.90647507e-01]\n",
      "  [8.53825413e-02 1.82979105e-01]\n",
      "  [5.19810596e-03 3.41661152e-02]\n",
      "  [2.25930867e-01 1.78897953e-03]\n",
      "  [4.25039098e-01 5.39577692e-02]\n",
      "  [5.45266331e-02 4.61589850e-02]\n",
      "  [5.92412949e-02 1.37535049e-02]\n",
      "  [1.27251120e-01 1.56441476e-03]]\n",
      "\n",
      " [[3.62766598e-01 4.57798555e-03]\n",
      "  [2.24794226e-02 1.90647507e-01]\n",
      "  [0.00000000e+00 0.00000000e+00]\n",
      "  [1.95482743e-01 7.87023462e-05]\n",
      "  [6.05805394e-03 6.33988190e-02]\n",
      "  [3.90941625e-01 1.55500624e-01]\n",
      "  [6.43014131e-01 4.47454128e-01]\n",
      "  [1.47026831e-01 4.91888446e-02]\n",
      "  [8.73551071e-03 3.06813344e-01]\n",
      "  [2.56698421e-01 1.57671987e-01]]\n",
      "\n",
      " [[2.56533980e-02 3.45619099e-03]\n",
      "  [8.53825413e-02 1.82979105e-01]\n",
      "  [1.95482743e-01 7.87023462e-05]\n",
      "  [0.00000000e+00 0.00000000e+00]\n",
      "  [1.32715075e-01 5.90100228e-02]\n",
      "  [3.35325479e-02 1.48582680e-01]\n",
      "  [1.29418131e-01 4.35664269e-01]\n",
      "  [3.44492997e-03 4.53324345e-02]\n",
      "  [2.86865494e-01 2.97064141e-01]\n",
      "  [4.16280959e-03 1.50705363e-01]]\n",
      "\n",
      " [[2.75066247e-01 3.39040073e-02]\n",
      "  [5.19810596e-03 3.41661152e-02]\n",
      "  [6.05805394e-03 6.33988190e-02]\n",
      "  [1.32715075e-01 5.90100228e-02]\n",
      "  [0.00000000e+00 0.00000000e+00]\n",
      "  [2.99668380e-01 2.03189212e-02]\n",
      "  [5.24245677e-01 1.73996519e-01]\n",
      "  [9.33958077e-02 9.00338341e-04]\n",
      "  [2.93428183e-02 9.12741508e-02]\n",
      "  [1.83887143e-01 2.11086320e-02]]\n",
      "\n",
      " [[5.26801775e-04 1.06716465e-01]\n",
      "  [2.25930867e-01 1.78897953e-03]\n",
      "  [3.90941625e-01 1.55500624e-01]\n",
      "  [3.35325479e-02 1.48582680e-01]\n",
      "  [2.99668380e-01 2.03189212e-02]\n",
      "  [0.00000000e+00 0.00000000e+00]\n",
      "  [3.11975812e-02 7.53966184e-02]\n",
      "  [5.84732709e-02 2.97735342e-02]\n",
      "  [5.16554418e-01 2.54631172e-02]\n",
      "  [1.40657479e-02 7.52759659e-06]]\n",
      "\n",
      " [[3.98323892e-02 3.61512756e-01]\n",
      "  [4.25039098e-01 5.39577692e-02]\n",
      "  [6.43014131e-01 4.47454128e-01]\n",
      "  [1.29418131e-01 4.35664269e-01]\n",
      "  [5.24245677e-01 1.73996519e-01]\n",
      "  [3.11975812e-02 7.53966184e-02]\n",
      "  [0.00000000e+00 0.00000000e+00]\n",
      "  [1.75092737e-01 1.99929296e-01]\n",
      "  [8.01643696e-01 1.32279393e-02]\n",
      "  [8.71592628e-02 7.38974206e-02]]\n",
      "\n",
      " [[4.78998343e-02 2.37544447e-02]\n",
      "  [5.45266331e-02 4.61589850e-02]\n",
      "  [1.47026831e-01 4.91888446e-02]\n",
      "  [3.44492997e-03 4.53324345e-02]\n",
      "  [9.33958077e-02 9.00338341e-04]\n",
      "  [5.84732709e-02 2.97735342e-02]\n",
      "  [1.75092737e-01 1.99929296e-01]\n",
      "  [0.00000000e+00 0.00000000e+00]\n",
      "  [2.27438124e-01 1.10304863e-01]\n",
      "  [1.51815332e-02 3.07278947e-02]]\n",
      "\n",
      " [[4.84088991e-01 2.36435688e-01]\n",
      "  [5.92412949e-02 1.37535049e-02]\n",
      "  [8.73551071e-03 3.06813344e-01]\n",
      "  [2.86865494e-01 2.97064141e-01]\n",
      "  [2.93428183e-02 9.12741508e-02]\n",
      "  [5.16554418e-01 2.54631172e-02]\n",
      "  [8.01643696e-01 1.32279393e-02]\n",
      "  [2.27438124e-01 1.10304863e-01]\n",
      "  [0.00000000e+00 0.00000000e+00]\n",
      "  [3.60141730e-01 2.45950283e-02]]\n",
      "\n",
      " [[9.14833774e-03 1.08516554e-01]\n",
      "  [1.27251120e-01 1.56441476e-03]\n",
      "  [2.56698421e-01 1.57671987e-01]\n",
      "  [4.16280959e-03 1.50705363e-01]\n",
      "  [1.83887143e-01 2.11086320e-02]\n",
      "  [1.40657479e-02 7.52759659e-06]\n",
      "  [8.71592628e-02 7.38974206e-02]\n",
      "  [1.51815332e-02 3.07278947e-02]\n",
      "  [3.60141730e-01 2.45950283e-02]\n",
      "  [0.00000000e+00 0.00000000e+00]]]\n"
     ]
    }
   ],
   "source": [
    "# square the coordinate differeces\n",
    "\n",
    "sq_differences = differeces ** 2\n",
    "\n",
    "print(sq_differences.shape)\n",
    "print(sq_differences)"
   ]
  },
  {
   "cell_type": "code",
   "execution_count": 94,
   "metadata": {
    "ExecuteTime": {
     "end_time": "2019-10-18T07:54:00.526732Z",
     "start_time": "2019-10-18T07:54:00.521287Z"
    }
   },
   "outputs": [
    {
     "name": "stdout",
     "output_type": "stream",
     "text": [
      "[[0.         0.34077808 0.36734458 0.02910959 0.30897025 0.10724327\n",
      "  0.40134515 0.07165428 0.72052468 0.11766489]\n",
      " [0.34077808 0.         0.21312693 0.26836165 0.03936422 0.22771985\n",
      "  0.47899687 0.10068562 0.0729948  0.12881554]\n",
      " [0.36734458 0.21312693 0.         0.19556145 0.06945687 0.54644225\n",
      "  1.09046826 0.19621568 0.31554885 0.41437041]\n",
      " [0.02910959 0.26836165 0.19556145 0.         0.1917251  0.18211523\n",
      "  0.5650824  0.04877736 0.58392964 0.15486817]\n",
      " [0.30897025 0.03936422 0.06945687 0.1917251  0.         0.3199873\n",
      "  0.6982422  0.09429615 0.12061697 0.20499577]\n",
      " [0.10724327 0.22771985 0.54644225 0.18211523 0.3199873  0.\n",
      "  0.1065942  0.08824681 0.54201754 0.01407328]\n",
      " [0.40134515 0.47899687 1.09046826 0.5650824  0.6982422  0.1065942\n",
      "  0.         0.37502203 0.81487163 0.16105668]\n",
      " [0.07165428 0.10068562 0.19621568 0.04877736 0.09429615 0.08824681\n",
      "  0.37502203 0.         0.33774299 0.04590943]\n",
      " [0.72052468 0.0729948  0.31554885 0.58392964 0.12061697 0.54201754\n",
      "  0.81487163 0.33774299 0.         0.38473676]\n",
      " [0.11766489 0.12881554 0.41437041 0.15486817 0.20499577 0.01407328\n",
      "  0.16105668 0.04590943 0.38473676 0.        ]]\n",
      "(10, 10)\n"
     ]
    }
   ],
   "source": [
    "# sum the coordinate differences to get the squared distance\n",
    "dist_sq = sq_differences.sum(axis=-1) # equivalently (x1 - x2)^2 + (y1 - y2)^2\n",
    "print(dist_sq)\n",
    "print(dist_sq.shape)\n"
   ]
  },
  {
   "cell_type": "code",
   "execution_count": 92,
   "metadata": {
    "ExecuteTime": {
     "end_time": "2019-10-18T07:51:51.526672Z",
     "start_time": "2019-10-18T07:51:51.520634Z"
    }
   },
   "outputs": [
    {
     "data": {
      "text/plain": [
       "array([0., 0., 0., 0., 0., 0., 0., 0., 0., 0.])"
      ]
     },
     "execution_count": 92,
     "metadata": {},
     "output_type": "execute_result"
    }
   ],
   "source": [
    "# print the diagonal of the matrix\n",
    "dist_sq.diagonal()"
   ]
  },
  {
   "cell_type": "code",
   "execution_count": 95,
   "metadata": {
    "ExecuteTime": {
     "end_time": "2019-10-18T08:07:02.184828Z",
     "start_time": "2019-10-18T08:07:02.180501Z"
    }
   },
   "outputs": [
    {
     "name": "stdout",
     "output_type": "stream",
     "text": [
      "[[0 3 7 5 9 4 1 2 6 8]\n",
      " [1 4 8 7 9 2 5 3 0 6]\n",
      " [2 4 3 7 1 8 0 9 5 6]\n",
      " [3 0 7 9 5 4 2 1 6 8]\n",
      " [4 1 2 7 8 3 9 0 5 6]\n",
      " [5 9 7 6 0 3 1 4 8 2]\n",
      " [6 5 9 7 0 1 3 4 8 2]\n",
      " [7 9 3 0 5 4 1 2 8 6]\n",
      " [8 1 4 2 7 9 5 3 0 6]\n",
      " [9 5 7 0 1 3 6 4 8 2]]\n"
     ]
    }
   ],
   "source": [
    "nearest = np.argsort(dist_sq, axis=1)\n",
    "print(nearest)"
   ]
  },
  {
   "cell_type": "code",
   "execution_count": 107,
   "metadata": {
    "ExecuteTime": {
     "end_time": "2019-10-18T08:16:35.828926Z",
     "start_time": "2019-10-18T08:16:35.669193Z"
    }
   },
   "outputs": [
    {
     "ename": "RuntimeError",
     "evalue": "matplotlib does not support generators as input",
     "output_type": "error",
     "traceback": [
      "\u001b[0;31m---------------------------------------------------------------------------\u001b[0m",
      "\u001b[0;31mAttributeError\u001b[0m                            Traceback (most recent call last)",
      "\u001b[0;32m~/anaconda3/lib/python3.7/site-packages/matplotlib/units.py\u001b[0m in \u001b[0;36mget_converter\u001b[0;34m(self, x)\u001b[0m\n\u001b[1;32m    167\u001b[0m                 \u001b[0;31m# get_converter\u001b[0m\u001b[0;34m\u001b[0m\u001b[0;34m\u001b[0m\u001b[0;34m\u001b[0m\u001b[0m\n\u001b[0;32m--> 168\u001b[0;31m                 \u001b[0;32mif\u001b[0m \u001b[0;32mnot\u001b[0m \u001b[0mnp\u001b[0m\u001b[0;34m.\u001b[0m\u001b[0mall\u001b[0m\u001b[0;34m(\u001b[0m\u001b[0mxravel\u001b[0m\u001b[0;34m.\u001b[0m\u001b[0mmask\u001b[0m\u001b[0;34m)\u001b[0m\u001b[0;34m:\u001b[0m\u001b[0;34m\u001b[0m\u001b[0;34m\u001b[0m\u001b[0m\n\u001b[0m\u001b[1;32m    169\u001b[0m                     \u001b[0;31m# some elements are not masked\u001b[0m\u001b[0;34m\u001b[0m\u001b[0;34m\u001b[0m\u001b[0;34m\u001b[0m\u001b[0m\n",
      "\u001b[0;31mAttributeError\u001b[0m: 'numpy.ndarray' object has no attribute 'mask'",
      "\nDuring handling of the above exception, another exception occurred:\n",
      "\u001b[0;31mRuntimeError\u001b[0m                              Traceback (most recent call last)",
      "\u001b[0;32m<ipython-input-107-62b85ab022c9>\u001b[0m in \u001b[0;36m<module>\u001b[0;34m\u001b[0m\n\u001b[1;32m      5\u001b[0m     \u001b[0;32mfor\u001b[0m \u001b[0mj\u001b[0m \u001b[0;32min\u001b[0m \u001b[0mnearest_partition\u001b[0m\u001b[0;34m[\u001b[0m\u001b[0mi\u001b[0m\u001b[0;34m:\u001b[0m \u001b[0mk\u001b[0m\u001b[0;34m+\u001b[0m\u001b[0;36m1\u001b[0m\u001b[0;34m]\u001b[0m\u001b[0;34m:\u001b[0m\u001b[0;34m\u001b[0m\u001b[0;34m\u001b[0m\u001b[0m\n\u001b[1;32m      6\u001b[0m \u001b[0;34m\u001b[0m\u001b[0m\n\u001b[0;32m----> 7\u001b[0;31m         \u001b[0mplt\u001b[0m\u001b[0;34m.\u001b[0m\u001b[0mplot\u001b[0m\u001b[0;34m(\u001b[0m\u001b[0mzip\u001b[0m\u001b[0;34m(\u001b[0m\u001b[0mx\u001b[0m\u001b[0;34m[\u001b[0m\u001b[0mj\u001b[0m\u001b[0;34m]\u001b[0m\u001b[0;34m,\u001b[0m \u001b[0mx\u001b[0m\u001b[0;34m[\u001b[0m\u001b[0mi\u001b[0m\u001b[0;34m]\u001b[0m\u001b[0;34m)\u001b[0m\u001b[0;34m,\u001b[0m \u001b[0mcolor\u001b[0m\u001b[0;34m=\u001b[0m\u001b[0;34m'black'\u001b[0m\u001b[0;34m)\u001b[0m\u001b[0;34m\u001b[0m\u001b[0;34m\u001b[0m\u001b[0m\n\u001b[0m",
      "\u001b[0;32m~/anaconda3/lib/python3.7/site-packages/matplotlib/pyplot.py\u001b[0m in \u001b[0;36mplot\u001b[0;34m(scalex, scaley, data, *args, **kwargs)\u001b[0m\n\u001b[1;32m   2809\u001b[0m     return gca().plot(\n\u001b[1;32m   2810\u001b[0m         *args, scalex=scalex, scaley=scaley, **({\"data\": data} if data\n\u001b[0;32m-> 2811\u001b[0;31m         is not None else {}), **kwargs)\n\u001b[0m\u001b[1;32m   2812\u001b[0m \u001b[0;34m\u001b[0m\u001b[0m\n\u001b[1;32m   2813\u001b[0m \u001b[0;34m\u001b[0m\u001b[0m\n",
      "\u001b[0;32m~/anaconda3/lib/python3.7/site-packages/matplotlib/__init__.py\u001b[0m in \u001b[0;36minner\u001b[0;34m(ax, data, *args, **kwargs)\u001b[0m\n\u001b[1;32m   1808\u001b[0m                         \u001b[0;34m\"the Matplotlib list!)\"\u001b[0m \u001b[0;34m%\u001b[0m \u001b[0;34m(\u001b[0m\u001b[0mlabel_namer\u001b[0m\u001b[0;34m,\u001b[0m \u001b[0mfunc\u001b[0m\u001b[0;34m.\u001b[0m\u001b[0m__name__\u001b[0m\u001b[0;34m)\u001b[0m\u001b[0;34m,\u001b[0m\u001b[0;34m\u001b[0m\u001b[0;34m\u001b[0m\u001b[0m\n\u001b[1;32m   1809\u001b[0m                         RuntimeWarning, stacklevel=2)\n\u001b[0;32m-> 1810\u001b[0;31m             \u001b[0;32mreturn\u001b[0m \u001b[0mfunc\u001b[0m\u001b[0;34m(\u001b[0m\u001b[0max\u001b[0m\u001b[0;34m,\u001b[0m \u001b[0;34m*\u001b[0m\u001b[0margs\u001b[0m\u001b[0;34m,\u001b[0m \u001b[0;34m**\u001b[0m\u001b[0mkwargs\u001b[0m\u001b[0;34m)\u001b[0m\u001b[0;34m\u001b[0m\u001b[0;34m\u001b[0m\u001b[0m\n\u001b[0m\u001b[1;32m   1811\u001b[0m \u001b[0;34m\u001b[0m\u001b[0m\n\u001b[1;32m   1812\u001b[0m         inner.__doc__ = _add_data_doc(inner.__doc__,\n",
      "\u001b[0;32m~/anaconda3/lib/python3.7/site-packages/matplotlib/axes/_axes.py\u001b[0m in \u001b[0;36mplot\u001b[0;34m(self, scalex, scaley, *args, **kwargs)\u001b[0m\n\u001b[1;32m   1609\u001b[0m         \u001b[0mkwargs\u001b[0m \u001b[0;34m=\u001b[0m \u001b[0mcbook\u001b[0m\u001b[0;34m.\u001b[0m\u001b[0mnormalize_kwargs\u001b[0m\u001b[0;34m(\u001b[0m\u001b[0mkwargs\u001b[0m\u001b[0;34m,\u001b[0m \u001b[0mmlines\u001b[0m\u001b[0;34m.\u001b[0m\u001b[0mLine2D\u001b[0m\u001b[0;34m.\u001b[0m\u001b[0m_alias_map\u001b[0m\u001b[0;34m)\u001b[0m\u001b[0;34m\u001b[0m\u001b[0;34m\u001b[0m\u001b[0m\n\u001b[1;32m   1610\u001b[0m \u001b[0;34m\u001b[0m\u001b[0m\n\u001b[0;32m-> 1611\u001b[0;31m         \u001b[0;32mfor\u001b[0m \u001b[0mline\u001b[0m \u001b[0;32min\u001b[0m \u001b[0mself\u001b[0m\u001b[0;34m.\u001b[0m\u001b[0m_get_lines\u001b[0m\u001b[0;34m(\u001b[0m\u001b[0;34m*\u001b[0m\u001b[0margs\u001b[0m\u001b[0;34m,\u001b[0m \u001b[0;34m**\u001b[0m\u001b[0mkwargs\u001b[0m\u001b[0;34m)\u001b[0m\u001b[0;34m:\u001b[0m\u001b[0;34m\u001b[0m\u001b[0;34m\u001b[0m\u001b[0m\n\u001b[0m\u001b[1;32m   1612\u001b[0m             \u001b[0mself\u001b[0m\u001b[0;34m.\u001b[0m\u001b[0madd_line\u001b[0m\u001b[0;34m(\u001b[0m\u001b[0mline\u001b[0m\u001b[0;34m)\u001b[0m\u001b[0;34m\u001b[0m\u001b[0;34m\u001b[0m\u001b[0m\n\u001b[1;32m   1613\u001b[0m             \u001b[0mlines\u001b[0m\u001b[0;34m.\u001b[0m\u001b[0mappend\u001b[0m\u001b[0;34m(\u001b[0m\u001b[0mline\u001b[0m\u001b[0;34m)\u001b[0m\u001b[0;34m\u001b[0m\u001b[0;34m\u001b[0m\u001b[0m\n",
      "\u001b[0;32m~/anaconda3/lib/python3.7/site-packages/matplotlib/axes/_base.py\u001b[0m in \u001b[0;36m_grab_next_args\u001b[0;34m(self, *args, **kwargs)\u001b[0m\n\u001b[1;32m    391\u001b[0m                 \u001b[0mthis\u001b[0m \u001b[0;34m+=\u001b[0m \u001b[0margs\u001b[0m\u001b[0;34m[\u001b[0m\u001b[0;36m0\u001b[0m\u001b[0;34m]\u001b[0m\u001b[0;34m,\u001b[0m\u001b[0;34m\u001b[0m\u001b[0;34m\u001b[0m\u001b[0m\n\u001b[1;32m    392\u001b[0m                 \u001b[0margs\u001b[0m \u001b[0;34m=\u001b[0m \u001b[0margs\u001b[0m\u001b[0;34m[\u001b[0m\u001b[0;36m1\u001b[0m\u001b[0;34m:\u001b[0m\u001b[0;34m]\u001b[0m\u001b[0;34m\u001b[0m\u001b[0;34m\u001b[0m\u001b[0m\n\u001b[0;32m--> 393\u001b[0;31m             \u001b[0;32myield\u001b[0m \u001b[0;32mfrom\u001b[0m \u001b[0mself\u001b[0m\u001b[0;34m.\u001b[0m\u001b[0m_plot_args\u001b[0m\u001b[0;34m(\u001b[0m\u001b[0mthis\u001b[0m\u001b[0;34m,\u001b[0m \u001b[0mkwargs\u001b[0m\u001b[0;34m)\u001b[0m\u001b[0;34m\u001b[0m\u001b[0;34m\u001b[0m\u001b[0m\n\u001b[0m\u001b[1;32m    394\u001b[0m \u001b[0;34m\u001b[0m\u001b[0m\n\u001b[1;32m    395\u001b[0m \u001b[0;34m\u001b[0m\u001b[0m\n",
      "\u001b[0;32m~/anaconda3/lib/python3.7/site-packages/matplotlib/axes/_base.py\u001b[0m in \u001b[0;36m_plot_args\u001b[0;34m(self, tup, kwargs)\u001b[0m\n\u001b[1;32m    368\u001b[0m             \u001b[0mx\u001b[0m\u001b[0;34m,\u001b[0m \u001b[0my\u001b[0m \u001b[0;34m=\u001b[0m \u001b[0mindex_of\u001b[0m\u001b[0;34m(\u001b[0m\u001b[0mtup\u001b[0m\u001b[0;34m[\u001b[0m\u001b[0;34m-\u001b[0m\u001b[0;36m1\u001b[0m\u001b[0;34m]\u001b[0m\u001b[0;34m)\u001b[0m\u001b[0;34m\u001b[0m\u001b[0;34m\u001b[0m\u001b[0m\n\u001b[1;32m    369\u001b[0m \u001b[0;34m\u001b[0m\u001b[0m\n\u001b[0;32m--> 370\u001b[0;31m         \u001b[0mx\u001b[0m\u001b[0;34m,\u001b[0m \u001b[0my\u001b[0m \u001b[0;34m=\u001b[0m \u001b[0mself\u001b[0m\u001b[0;34m.\u001b[0m\u001b[0m_xy_from_xy\u001b[0m\u001b[0;34m(\u001b[0m\u001b[0mx\u001b[0m\u001b[0;34m,\u001b[0m \u001b[0my\u001b[0m\u001b[0;34m)\u001b[0m\u001b[0;34m\u001b[0m\u001b[0;34m\u001b[0m\u001b[0m\n\u001b[0m\u001b[1;32m    371\u001b[0m \u001b[0;34m\u001b[0m\u001b[0m\n\u001b[1;32m    372\u001b[0m         \u001b[0;32mif\u001b[0m \u001b[0mself\u001b[0m\u001b[0;34m.\u001b[0m\u001b[0mcommand\u001b[0m \u001b[0;34m==\u001b[0m \u001b[0;34m'plot'\u001b[0m\u001b[0;34m:\u001b[0m\u001b[0;34m\u001b[0m\u001b[0;34m\u001b[0m\u001b[0m\n",
      "\u001b[0;32m~/anaconda3/lib/python3.7/site-packages/matplotlib/axes/_base.py\u001b[0m in \u001b[0;36m_xy_from_xy\u001b[0;34m(self, x, y)\u001b[0m\n\u001b[1;32m    203\u001b[0m         \u001b[0;32mif\u001b[0m \u001b[0mself\u001b[0m\u001b[0;34m.\u001b[0m\u001b[0maxes\u001b[0m\u001b[0;34m.\u001b[0m\u001b[0mxaxis\u001b[0m \u001b[0;32mis\u001b[0m \u001b[0;32mnot\u001b[0m \u001b[0;32mNone\u001b[0m \u001b[0;32mand\u001b[0m \u001b[0mself\u001b[0m\u001b[0;34m.\u001b[0m\u001b[0maxes\u001b[0m\u001b[0;34m.\u001b[0m\u001b[0myaxis\u001b[0m \u001b[0;32mis\u001b[0m \u001b[0;32mnot\u001b[0m \u001b[0;32mNone\u001b[0m\u001b[0;34m:\u001b[0m\u001b[0;34m\u001b[0m\u001b[0;34m\u001b[0m\u001b[0m\n\u001b[1;32m    204\u001b[0m             \u001b[0mbx\u001b[0m \u001b[0;34m=\u001b[0m \u001b[0mself\u001b[0m\u001b[0;34m.\u001b[0m\u001b[0maxes\u001b[0m\u001b[0;34m.\u001b[0m\u001b[0mxaxis\u001b[0m\u001b[0;34m.\u001b[0m\u001b[0mupdate_units\u001b[0m\u001b[0;34m(\u001b[0m\u001b[0mx\u001b[0m\u001b[0;34m)\u001b[0m\u001b[0;34m\u001b[0m\u001b[0;34m\u001b[0m\u001b[0m\n\u001b[0;32m--> 205\u001b[0;31m             \u001b[0mby\u001b[0m \u001b[0;34m=\u001b[0m \u001b[0mself\u001b[0m\u001b[0;34m.\u001b[0m\u001b[0maxes\u001b[0m\u001b[0;34m.\u001b[0m\u001b[0myaxis\u001b[0m\u001b[0;34m.\u001b[0m\u001b[0mupdate_units\u001b[0m\u001b[0;34m(\u001b[0m\u001b[0my\u001b[0m\u001b[0;34m)\u001b[0m\u001b[0;34m\u001b[0m\u001b[0;34m\u001b[0m\u001b[0m\n\u001b[0m\u001b[1;32m    206\u001b[0m \u001b[0;34m\u001b[0m\u001b[0m\n\u001b[1;32m    207\u001b[0m             \u001b[0;32mif\u001b[0m \u001b[0mself\u001b[0m\u001b[0;34m.\u001b[0m\u001b[0mcommand\u001b[0m \u001b[0;34m!=\u001b[0m \u001b[0;34m'plot'\u001b[0m\u001b[0;34m:\u001b[0m\u001b[0;34m\u001b[0m\u001b[0;34m\u001b[0m\u001b[0m\n",
      "\u001b[0;32m~/anaconda3/lib/python3.7/site-packages/matplotlib/axis.py\u001b[0m in \u001b[0;36mupdate_units\u001b[0;34m(self, data)\u001b[0m\n\u001b[1;32m   1465\u001b[0m         \"\"\"\n\u001b[1;32m   1466\u001b[0m \u001b[0;34m\u001b[0m\u001b[0m\n\u001b[0;32m-> 1467\u001b[0;31m         \u001b[0mconverter\u001b[0m \u001b[0;34m=\u001b[0m \u001b[0mmunits\u001b[0m\u001b[0;34m.\u001b[0m\u001b[0mregistry\u001b[0m\u001b[0;34m.\u001b[0m\u001b[0mget_converter\u001b[0m\u001b[0;34m(\u001b[0m\u001b[0mdata\u001b[0m\u001b[0;34m)\u001b[0m\u001b[0;34m\u001b[0m\u001b[0;34m\u001b[0m\u001b[0m\n\u001b[0m\u001b[1;32m   1468\u001b[0m         \u001b[0;32mif\u001b[0m \u001b[0mconverter\u001b[0m \u001b[0;32mis\u001b[0m \u001b[0;32mNone\u001b[0m\u001b[0;34m:\u001b[0m\u001b[0;34m\u001b[0m\u001b[0;34m\u001b[0m\u001b[0m\n\u001b[1;32m   1469\u001b[0m             \u001b[0;32mreturn\u001b[0m \u001b[0;32mFalse\u001b[0m\u001b[0;34m\u001b[0m\u001b[0;34m\u001b[0m\u001b[0m\n",
      "\u001b[0;32m~/anaconda3/lib/python3.7/site-packages/matplotlib/units.py\u001b[0m in \u001b[0;36mget_converter\u001b[0;34m(self, x)\u001b[0m\n\u001b[1;32m    179\u001b[0m                 if (not isinstance(next_item, np.ndarray) or\n\u001b[1;32m    180\u001b[0m                         next_item.shape != x.shape):\n\u001b[0;32m--> 181\u001b[0;31m                     \u001b[0mconverter\u001b[0m \u001b[0;34m=\u001b[0m \u001b[0mself\u001b[0m\u001b[0;34m.\u001b[0m\u001b[0mget_converter\u001b[0m\u001b[0;34m(\u001b[0m\u001b[0mnext_item\u001b[0m\u001b[0;34m)\u001b[0m\u001b[0;34m\u001b[0m\u001b[0;34m\u001b[0m\u001b[0m\n\u001b[0m\u001b[1;32m    182\u001b[0m                 \u001b[0;32mreturn\u001b[0m \u001b[0mconverter\u001b[0m\u001b[0;34m\u001b[0m\u001b[0;34m\u001b[0m\u001b[0m\n\u001b[1;32m    183\u001b[0m \u001b[0;34m\u001b[0m\u001b[0m\n",
      "\u001b[0;32m~/anaconda3/lib/python3.7/site-packages/matplotlib/units.py\u001b[0m in \u001b[0;36mget_converter\u001b[0;34m(self, x)\u001b[0m\n\u001b[1;32m    185\u001b[0m         \u001b[0;32mif\u001b[0m \u001b[0mconverter\u001b[0m \u001b[0;32mis\u001b[0m \u001b[0;32mNone\u001b[0m\u001b[0;34m:\u001b[0m\u001b[0;34m\u001b[0m\u001b[0;34m\u001b[0m\u001b[0m\n\u001b[1;32m    186\u001b[0m             \u001b[0;32mtry\u001b[0m\u001b[0;34m:\u001b[0m\u001b[0;34m\u001b[0m\u001b[0;34m\u001b[0m\u001b[0m\n\u001b[0;32m--> 187\u001b[0;31m                 \u001b[0mthisx\u001b[0m \u001b[0;34m=\u001b[0m \u001b[0msafe_first_element\u001b[0m\u001b[0;34m(\u001b[0m\u001b[0mx\u001b[0m\u001b[0;34m)\u001b[0m\u001b[0;34m\u001b[0m\u001b[0;34m\u001b[0m\u001b[0m\n\u001b[0m\u001b[1;32m    188\u001b[0m             \u001b[0;32mexcept\u001b[0m \u001b[0;34m(\u001b[0m\u001b[0mTypeError\u001b[0m\u001b[0;34m,\u001b[0m \u001b[0mStopIteration\u001b[0m\u001b[0;34m)\u001b[0m\u001b[0;34m:\u001b[0m\u001b[0;34m\u001b[0m\u001b[0;34m\u001b[0m\u001b[0m\n\u001b[1;32m    189\u001b[0m                 \u001b[0;32mpass\u001b[0m\u001b[0;34m\u001b[0m\u001b[0;34m\u001b[0m\u001b[0m\n",
      "\u001b[0;32m~/anaconda3/lib/python3.7/site-packages/matplotlib/cbook/__init__.py\u001b[0m in \u001b[0;36msafe_first_element\u001b[0;34m(obj)\u001b[0m\n\u001b[1;32m   1633\u001b[0m         \u001b[0;32mexcept\u001b[0m \u001b[0mTypeError\u001b[0m\u001b[0;34m:\u001b[0m\u001b[0;34m\u001b[0m\u001b[0;34m\u001b[0m\u001b[0m\n\u001b[1;32m   1634\u001b[0m             \u001b[0;32mpass\u001b[0m\u001b[0;34m\u001b[0m\u001b[0;34m\u001b[0m\u001b[0m\n\u001b[0;32m-> 1635\u001b[0;31m         raise RuntimeError(\"matplotlib does not support generators \"\n\u001b[0m\u001b[1;32m   1636\u001b[0m                            \"as input\")\n\u001b[1;32m   1637\u001b[0m     \u001b[0;32mreturn\u001b[0m \u001b[0mnext\u001b[0m\u001b[0;34m(\u001b[0m\u001b[0miter\u001b[0m\u001b[0;34m(\u001b[0m\u001b[0mobj\u001b[0m\u001b[0;34m)\u001b[0m\u001b[0;34m)\u001b[0m\u001b[0;34m\u001b[0m\u001b[0;34m\u001b[0m\u001b[0m\n",
      "\u001b[0;31mRuntimeError\u001b[0m: matplotlib does not support generators as input"
     ]
    },
    {
     "data": {
      "image/png": "[encoded data removed]",
      "text/plain": [
       "<Figure size 432x288 with 1 Axes>"
      ]
     },
     "metadata": {},
     "output_type": "display_data"
    }
   ],
   "source": [
    "k = 2\n",
    "nearest_partition = np.argpartition(dist_sq, k+1, axis=1)\n",
    "plt.scatter(x[:,0], x[:,1], s=100)\n",
    "for i in range(x.shape[0]):\n",
    "    for j in nearest_partition[i: k+1]:\n",
    "        \n",
    "        plt.plot(*zip(x[j], x[i]), color='black')"
   ]
  },
  {
   "cell_type": "code",
   "execution_count": null,
   "metadata": {},
   "outputs": [],
   "source": []
  }
 ],
 "metadata": {
  "kernelspec": {
   "display_name": "Python 3",
   "language": "python",
   "name": "python3"
  },
  "language_info": {
   "codemirror_mode": {
    "name": "ipython",
    "version": 3
   },
   "file_extension": ".py",
   "mimetype": "text/x-python",
   "name": "python",
   "nbconvert_exporter": "python",
   "pygments_lexer": "ipython3",
   "version": "3.7.3"
  },
  "toc": {
   "base_numbering": 1,
   "nav_menu": {},
   "number_sections": true,
   "sideBar": true,
   "skip_h1_title": false,
   "title_cell": "Table of Contents",
   "title_sidebar": "Contents",
   "toc_cell": false,
   "toc_position": {},
   "toc_section_display": true,
   "toc_window_display": false
  }
 },
 "nbformat": 4,
 "nbformat_minor": 2
}
