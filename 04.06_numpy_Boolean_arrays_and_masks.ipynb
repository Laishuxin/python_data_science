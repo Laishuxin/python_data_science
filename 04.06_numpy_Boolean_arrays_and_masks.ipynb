{
 "cells": [
  {
   "cell_type": "markdown",
   "metadata": {
    "ExecuteTime": {
     "end_time": "2019-10-13T13:00:41.983416Z",
     "start_time": "2019-10-13T13:00:41.972299Z"
    }
   },
   "source": [
    "## 比较，掩码和布尔逻辑"
   ]
  },
  {
   "cell_type": "markdown",
   "metadata": {},
   "source": [
    "### 示例：计算下雨天数"
   ]
  },
  {
   "cell_type": "code",
   "execution_count": 1,
   "metadata": {
    "ExecuteTime": {
     "end_time": "2019-10-17T11:50:24.222926Z",
     "start_time": "2019-10-17T11:50:23.962424Z"
    }
   },
   "outputs": [
    {
     "name": "stdout",
     "output_type": "stream",
     "text": [
      "[  0  41  15   0   0   3 122  97  58  43 213  15   0   0   0   0   0   0\n",
      "   0   0   0   5   0   0   0   0   0  89 216   0  23  20   0   0   0   0\n",
      "   0   0  51   5 183 170  46  18  94 117 264 145 152  10  30  28  25  61\n",
      " 130   3   0   0   0   5 191 107 165 467  30   0 323  43 188   0   0   5\n",
      "  69  81 277   3   0   5   0   0   0   0   0  41  36   3 221 140   0   0\n",
      "   0   0  25   0  46   0   0  46   0   0   0   0   0   0   5 109 185   0\n",
      " 137   0  51 142  89 124   0  33  69   0   0   0   0   0 333 160  51   0\n",
      "   0 137  20   5   0   0   0   0   0   0   0   0   0   0   0   0  38   0\n",
      "  56   0   0   0   0   0   0   0   0   0   0   0   0   0   0   0   0   0\n",
      "  18  64   0   5  36  13   0   8   3   0   0   0   0   0   0  18  23   0\n",
      "   0   0   0   0   0   0   0   0   0   0   0   0   0   0   0   0   0   0\n",
      "   0   0   0   0   3 193   0   0   0   0   0   0   0   0   0   5   0   0\n",
      "   0   0   0   0   0   0   5 127 216   0  10   0   0   0   0   0   0   0\n",
      "   0   0   0   0   0   0   0  84  13   0  30   0   0   0   0   0   0   0\n",
      "   0   0   0   0   0   0   0   5   3   0   0   0   3 183 203  43  89   0\n",
      "   0   8   0   0   0   0   0   0   0   0   0   0   3  74   0  76  71  86\n",
      "   0  33 150   0 117  10 320  94  41  61  15   8 127   5 254 170   0  18\n",
      " 109  41  48  41   0   0  51   0   0   0   0   0   0   0   0   0   0  36\n",
      " 152   5 119  13 183   3  33 343  36   0   0   0   0   8  30  74   0  91\n",
      "  99 130  69   0   0   0   0   0  28 130  30 196   0   0 206  53   0   0\n",
      "  33  41   0   0   0]\n",
      "(365,)\n"
     ]
    }
   ],
   "source": [
    "import numpy as np\n",
    "import pandas as pd\n",
    "rainfall = pd.read_csv('data/Seattle2014.csv')['PRCP'].values\n",
    "print(rainfall)\n",
    "inches = rainfall / 254.0\n",
    "print(inches.shape)"
   ]
  },
  {
   "cell_type": "code",
   "execution_count": 2,
   "metadata": {
    "ExecuteTime": {
     "end_time": "2019-10-17T11:50:24.712953Z",
     "start_time": "2019-10-17T11:50:24.225703Z"
    }
   },
   "outputs": [
    {
     "data": {
      "image/png": "[encoded data removed]",
      "text/plain": [
       "<Figure size 432x288 with 1 Axes>"
      ]
     },
     "metadata": {},
     "output_type": "display_data"
    }
   ],
   "source": [
    "%matplotlib inline\n",
    "import matplotlib.pyplot as plt\n",
    "import seaborn \n",
    "seaborn.set()\n",
    "plt.hist(inches, 40)\n",
    "plt.show()"
   ]
  },
  {
   "cell_type": "markdown",
   "metadata": {
    "ExecuteTime": {
     "end_time": "2019-10-17T11:21:53.472121Z",
     "start_time": "2019-10-17T11:21:53.201616Z"
    }
   },
   "source": [
    "### digging into the data\n"
   ]
  },
  {
   "cell_type": "code",
   "execution_count": 3,
   "metadata": {
    "ExecuteTime": {
     "end_time": "2019-10-17T11:50:24.716758Z",
     "start_time": "2019-10-17T11:50:24.714862Z"
    }
   },
   "outputs": [],
   "source": [
    "## 掩码：比较运算"
   ]
  },
  {
   "cell_type": "code",
   "execution_count": 4,
   "metadata": {
    "ExecuteTime": {
     "end_time": "2019-10-17T11:50:24.723460Z",
     "start_time": "2019-10-17T11:50:24.718219Z"
    }
   },
   "outputs": [
    {
     "data": {
      "text/plain": [
       "array([False, False, False,  True,  True])"
      ]
     },
     "execution_count": 4,
     "metadata": {},
     "output_type": "execute_result"
    }
   ],
   "source": [
    "import numpy as np\n",
    "x = np.array([1,2,3,4,5])\n",
    "x>3"
   ]
  },
  {
   "cell_type": "code",
   "execution_count": 5,
   "metadata": {
    "ExecuteTime": {
     "end_time": "2019-10-17T11:50:24.728545Z",
     "start_time": "2019-10-17T11:50:24.724958Z"
    }
   },
   "outputs": [
    {
     "data": {
      "text/plain": [
       "array([False,  True, False, False, False])"
      ]
     },
     "execution_count": 5,
     "metadata": {},
     "output_type": "execute_result"
    }
   ],
   "source": [
    "(2 * x) == (x ** 2)\n"
   ]
  },
  {
   "cell_type": "code",
   "execution_count": 6,
   "metadata": {
    "ExecuteTime": {
     "end_time": "2019-10-17T11:50:24.732997Z",
     "start_time": "2019-10-17T11:50:24.730237Z"
    }
   },
   "outputs": [],
   "source": [
    "rng = np.random.RandomState(0)\n",
    "x = rng.randint(10, size=(3,4))"
   ]
  },
  {
   "cell_type": "code",
   "execution_count": 7,
   "metadata": {
    "ExecuteTime": {
     "end_time": "2019-10-17T11:50:24.738271Z",
     "start_time": "2019-10-17T11:50:24.734986Z"
    }
   },
   "outputs": [
    {
     "data": {
      "text/plain": [
       "array([[ True,  True,  True,  True],\n",
       "       [False, False,  True,  True],\n",
       "       [ True,  True, False, False]])"
      ]
     },
     "execution_count": 7,
     "metadata": {},
     "output_type": "execute_result"
    }
   ],
   "source": [
    "x< 6"
   ]
  },
  {
   "cell_type": "markdown",
   "metadata": {},
   "source": [
    "## 操作布尔数组"
   ]
  },
  {
   "cell_type": "markdown",
   "metadata": {
    "ExecuteTime": {
     "end_time": "2019-10-17T11:45:22.180238Z",
     "start_time": "2019-10-17T11:45:22.177471Z"
    }
   },
   "source": [
    "### 统计数据"
   ]
  },
  {
   "cell_type": "code",
   "execution_count": 8,
   "metadata": {
    "ExecuteTime": {
     "end_time": "2019-10-17T11:50:24.743718Z",
     "start_time": "2019-10-17T11:50:24.739947Z"
    }
   },
   "outputs": [
    {
     "data": {
      "text/plain": [
       "8"
      ]
     },
     "execution_count": 8,
     "metadata": {},
     "output_type": "execute_result"
    }
   ],
   "source": [
    "np.count_nonzero(x<6)"
   ]
  },
  {
   "cell_type": "code",
   "execution_count": 9,
   "metadata": {
    "ExecuteTime": {
     "end_time": "2019-10-17T11:50:24.750159Z",
     "start_time": "2019-10-17T11:50:24.745331Z"
    }
   },
   "outputs": [
    {
     "data": {
      "text/plain": [
       "array([4, 2, 2])"
      ]
     },
     "execution_count": 9,
     "metadata": {},
     "output_type": "execute_result"
    }
   ],
   "source": [
    "np.sum(x<6, axis=1)"
   ]
  },
  {
   "cell_type": "code",
   "execution_count": 10,
   "metadata": {
    "ExecuteTime": {
     "end_time": "2019-10-17T11:50:24.754778Z",
     "start_time": "2019-10-17T11:50:24.751655Z"
    }
   },
   "outputs": [
    {
     "data": {
      "text/plain": [
       "True"
      ]
     },
     "execution_count": 10,
     "metadata": {},
     "output_type": "execute_result"
    }
   ],
   "source": [
    "# 是否有一个大于8的\n",
    "np.any(x>8)"
   ]
  },
  {
   "cell_type": "code",
   "execution_count": 11,
   "metadata": {
    "ExecuteTime": {
     "end_time": "2019-10-17T11:50:24.761397Z",
     "start_time": "2019-10-17T11:50:24.757072Z"
    }
   },
   "outputs": [
    {
     "data": {
      "text/plain": [
       "False"
      ]
     },
     "execution_count": 11,
     "metadata": {},
     "output_type": "execute_result"
    }
   ],
   "source": [
    "# 是否全部等于6\n",
    "np.all(x == 6)"
   ]
  },
  {
   "cell_type": "code",
   "execution_count": 12,
   "metadata": {
    "ExecuteTime": {
     "end_time": "2019-10-17T11:50:24.767011Z",
     "start_time": "2019-10-17T11:50:24.762936Z"
    }
   },
   "outputs": [
    {
     "data": {
      "text/plain": [
       "array([ True, False,  True])"
      ]
     },
     "execution_count": 12,
     "metadata": {},
     "output_type": "execute_result"
    }
   ],
   "source": [
    "# any 和 all可以指定特点轴\n",
    "np.all(x<8, axis=1)"
   ]
  },
  {
   "cell_type": "markdown",
   "metadata": {},
   "source": [
    "## 布尔操作\n",
    "\n",
    "| Operator\t    | Equivalent ufunc    | Operator\t    | Equivalent ufunc    |\n",
    "|---------------|---------------------|---------------|---------------------|\n",
    "|``&``          |``np.bitwise_and``   |&#124;         |``np.bitwise_or``    |\n",
    "|``^``          |``np.bitwise_xor``   |``~``          |``np.bitwise_not``   |\n",
    "\n",
    ">**note:** and or not 与 & | ～ 的区别在与，and or not 是**判断整个对象**， 而掩码操作的利用比特进行的"
   ]
  },
  {
   "cell_type": "code",
   "execution_count": 17,
   "metadata": {
    "ExecuteTime": {
     "end_time": "2019-10-17T11:51:45.530643Z",
     "start_time": "2019-10-17T11:51:45.524219Z"
    }
   },
   "outputs": [
    {
     "data": {
      "text/plain": [
       "29"
      ]
     },
     "execution_count": 17,
     "metadata": {},
     "output_type": "execute_result"
    }
   ],
   "source": [
    "np.sum((inches > 0.5) & (inches < 1))"
   ]
  },
  {
   "cell_type": "code",
   "execution_count": 20,
   "metadata": {
    "ExecuteTime": {
     "end_time": "2019-10-17T12:00:51.740269Z",
     "start_time": "2019-10-17T12:00:51.731423Z"
    }
   },
   "outputs": [
    {
     "data": {
      "text/plain": [
       "29"
      ]
     },
     "execution_count": 20,
     "metadata": {},
     "output_type": "execute_result"
    }
   ],
   "source": [
    "np.sum(~((inches<=0.5) | (inches>=1)))"
   ]
  },
  {
   "cell_type": "code",
   "execution_count": 22,
   "metadata": {
    "ExecuteTime": {
     "end_time": "2019-10-17T12:03:41.379798Z",
     "start_time": "2019-10-17T12:03:41.370762Z"
    }
   },
   "outputs": [
    {
     "name": "stdout",
     "output_type": "stream",
     "text": [
      "Number days without rain:       215\n",
      "Number days with rain:          150\n",
      "Days with more than 0.5 inches: 37\n",
      "Rainy days with < 0.2 inches  : 75\n"
     ]
    }
   ],
   "source": [
    "print(\"Number days without rain:      \",np.sum(inches==0))\n",
    "print(\"Number days with rain:         \",np.sum(inches>0))\n",
    "print(\"Days with more than 0.5 inches:\",np.sum(inches>0.5))\n",
    "print(\"Rainy days with < 0.2 inches  :\",np.sum((inches<0.2)&(inches>0)))"
   ]
  },
  {
   "cell_type": "markdown",
   "metadata": {},
   "source": [
    "## Boolean Arrays as Masks"
   ]
  },
  {
   "cell_type": "code",
   "execution_count": 23,
   "metadata": {
    "ExecuteTime": {
     "end_time": "2019-10-17T12:04:47.076817Z",
     "start_time": "2019-10-17T12:04:47.070795Z"
    }
   },
   "outputs": [
    {
     "name": "stdout",
     "output_type": "stream",
     "text": [
      "[[5 0 3 3]\n",
      " [7 9 3 5]\n",
      " [2 4 7 6]]\n"
     ]
    }
   ],
   "source": [
    "print(x)"
   ]
  },
  {
   "cell_type": "code",
   "execution_count": 24,
   "metadata": {
    "ExecuteTime": {
     "end_time": "2019-10-17T12:04:54.664447Z",
     "start_time": "2019-10-17T12:04:54.660028Z"
    }
   },
   "outputs": [
    {
     "data": {
      "text/plain": [
       "array([[False,  True,  True,  True],\n",
       "       [False, False,  True, False],\n",
       "       [ True,  True, False, False]])"
      ]
     },
     "execution_count": 24,
     "metadata": {},
     "output_type": "execute_result"
    }
   ],
   "source": [
    "x<5"
   ]
  },
  {
   "cell_type": "code",
   "execution_count": 25,
   "metadata": {
    "ExecuteTime": {
     "end_time": "2019-10-17T12:05:38.092098Z",
     "start_time": "2019-10-17T12:05:38.084983Z"
    }
   },
   "outputs": [
    {
     "data": {
      "text/plain": [
       "array([0, 3, 3, 3, 2, 4])"
      ]
     },
     "execution_count": 25,
     "metadata": {},
     "output_type": "execute_result"
    }
   ],
   "source": [
    "# select these values from the array which x<5\n",
    "x[x<5]"
   ]
  },
  {
   "cell_type": "code",
   "execution_count": 32,
   "metadata": {
    "ExecuteTime": {
     "end_time": "2019-10-17T12:14:11.754192Z",
     "start_time": "2019-10-17T12:14:11.743206Z"
    }
   },
   "outputs": [
    {
     "name": "stdout",
     "output_type": "stream",
     "text": [
      "Median precip on rainy days in 2014 (inches):    0.19488188976377951\n",
      "Median precip on summer days in 2014 (inches):   0.0\n",
      "Maximum precip on summer days in 2014 (inches):  0.8503937007874016\n",
      "Median precip on non`-summer rainy days (inches): 0.20078740157480315\n"
     ]
    }
   ],
   "source": [
    "# compute some relevant statistics on the Seattle rain data\n",
    "\n",
    "rainy = (inches>0)\n",
    "days = np.arange(365)\n",
    "summer = (days>172) & (days<262)\n",
    "print(\"Median precip on rainy days in 2014 (inches):   \",\n",
    "     np.median(inches[rainy]))\n",
    "print(\"Median precip on summer days in 2014 (inches):  \",\n",
    "     np.median(inches[summer]))\n",
    "print(\"Maximum precip on summer days in 2014 (inches): \",\n",
    "      np.max(inches[summer]))\n",
    "print(\"Median precip on non`-summer rainy days (inches):\",\n",
    "      np.median(inches[(rainy & ~summer)]))"
   ]
  },
  {
   "cell_type": "code",
   "execution_count": 39,
   "metadata": {
    "ExecuteTime": {
     "end_time": "2019-10-17T12:19:37.784164Z",
     "start_time": "2019-10-17T12:19:37.778893Z"
    }
   },
   "outputs": [
    {
     "name": "stdout",
     "output_type": "stream",
     "text": [
      "[False  True  True False]\n"
     ]
    }
   ],
   "source": [
    "a = np.array([1,2,3,0],dtype=bool)\n",
    "b = np.array([0,1,2,0],dtype=bool)\n",
    "print(a&b)\n",
    "# print(a and b) 报错"
   ]
  },
  {
   "cell_type": "code",
   "execution_count": null,
   "metadata": {},
   "outputs": [],
   "source": []
  }
 ],
 "metadata": {
  "kernelspec": {
   "display_name": "Python 3",
   "language": "python",
   "name": "python3"
  },
  "language_info": {
   "codemirror_mode": {
    "name": "ipython",
    "version": 3
   },
   "file_extension": ".py",
   "mimetype": "text/x-python",
   "name": "python",
   "nbconvert_exporter": "python",
   "pygments_lexer": "ipython3",
   "version": "3.7.3"
  },
  "toc": {
   "base_numbering": 1,
   "nav_menu": {},
   "number_sections": true,
   "sideBar": true,
   "skip_h1_title": false,
   "title_cell": "Table of Contents",
   "title_sidebar": "Contents",
   "toc_cell": false,
   "toc_position": {},
   "toc_section_display": true,
   "toc_window_display": false
  },
  "varInspector": {
   "cols": {
    "lenName": 16,
    "lenType": 16,
    "lenVar": 40
   },
   "kernels_config": {
    "python": {
     "delete_cmd_postfix": "",
     "delete_cmd_prefix": "del ",
     "library": "var_list.py",
     "varRefreshCmd": "print(var_dic_list())"
    },
    "r": {
     "delete_cmd_postfix": ") ",
     "delete_cmd_prefix": "rm(",
     "library": "var_list.r",
     "varRefreshCmd": "cat(var_dic_list()) "
    }
   },
   "types_to_exclude": [
    "module",
    "function",
    "builtin_function_or_method",
    "instance",
    "_Feature"
   ],
   "window_display": false
  }
 },
 "nbformat": 4,
 "nbformat_minor": 2
}
