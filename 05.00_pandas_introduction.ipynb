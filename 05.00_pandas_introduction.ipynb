{
 "cells": [
  {
   "cell_type": "code",
   "execution_count": 1,
   "metadata": {
    "ExecuteTime": {
     "end_time": "2019-10-18T11:24:25.717399Z",
     "start_time": "2019-10-18T11:24:25.483680Z"
    }
   },
   "outputs": [],
   "source": [
    "import numpy as np\n",
    "import pandas as pd\n",
    "\n"
   ]
  },
  {
   "cell_type": "markdown",
   "metadata": {},
   "source": [
    "## object creation"
   ]
  },
  {
   "cell_type": "code",
   "execution_count": 3,
   "metadata": {
    "ExecuteTime": {
     "end_time": "2019-10-18T11:26:09.070288Z",
     "start_time": "2019-10-18T11:26:09.065142Z"
    }
   },
   "outputs": [
    {
     "name": "stdout",
     "output_type": "stream",
     "text": [
      "0    1.0\n",
      "1    3.0\n",
      "2    5.0\n",
      "3    NaN\n",
      "4    6.0\n",
      "5    8.0\n",
      "dtype: float64\n"
     ]
    }
   ],
   "source": [
    "# creat a series\n",
    "s = pd.Series([1,3,5,np.nan,6,8])\n",
    "print(s)"
   ]
  },
  {
   "cell_type": "code",
   "execution_count": 9,
   "metadata": {
    "ExecuteTime": {
     "end_time": "2019-10-18T11:31:13.882030Z",
     "start_time": "2019-10-18T11:31:13.871186Z"
    }
   },
   "outputs": [
    {
     "name": "stdout",
     "output_type": "stream",
     "text": [
      "DatetimeIndex(['2019-10-23', '2019-10-24', '2019-10-25', '2019-10-26',\n",
      "               '2019-10-27', '2019-10-28'],\n",
      "              dtype='datetime64[ns]', freq='D')\n",
      "                   a         b         c         d\n",
      "2019-10-23 -0.417845  1.608733 -0.814029 -0.382326\n",
      "2019-10-24  0.275593  0.044249  0.342023 -0.072100\n",
      "2019-10-25 -0.365925  0.183008  1.783170 -0.341942\n",
      "2019-10-26 -0.863842 -2.388911 -0.202457 -0.841896\n",
      "2019-10-27 -0.179464 -1.068517  1.434838 -0.992652\n",
      "2019-10-28  0.449325  0.686399  1.125770  1.873668\n"
     ]
    }
   ],
   "source": [
    "# creat a DataFrame\n",
    "dates = pd.date_range('20191023', periods=6)\n",
    "print(dates)\n",
    "\n",
    "# pd.DataFrame(array, index, col_index)\n",
    "df = pd.DataFrame(np.random.randn(6,4), index=dates, columns=list('abcd'))\n",
    "print(df)"
   ]
  },
  {
   "cell_type": "code",
   "execution_count": 13,
   "metadata": {
    "ExecuteTime": {
     "end_time": "2019-10-18T11:37:01.600189Z",
     "start_time": "2019-10-18T11:37:01.585509Z"
    }
   },
   "outputs": [
    {
     "name": "stdout",
     "output_type": "stream",
     "text": [
      "   a          b    c  d      e    f\n",
      "0  1 2019-10-25  1.0  3   test  foo\n",
      "1  1 2019-10-25  1.0  3  train  foo\n",
      "2  1 2019-10-25  1.0  3   test  foo\n",
      "3  1 2019-10-25  1.0  3  train  foo\n"
     ]
    }
   ],
   "source": [
    "# creating a DataFrame by passing a dict of object \n",
    "df2 = pd.DataFrame({'a':1,\n",
    "                    'b':pd.Timestamp('20191025'),\n",
    "                    'c':pd.Series(1,index=list(range(4)),dtype='float32'),\n",
    "                    'd':np.array([3]*4, dtype='int32'),\n",
    "                    'e': pd.Categorical([\"test\", \"train\", \"test\", \"train\"]),\n",
    "                    'f':'foo'\n",
    "                    })\n",
    "\n",
    "print(df2)"
   ]
  },
  {
   "cell_type": "code",
   "execution_count": 16,
   "metadata": {
    "ExecuteTime": {
     "end_time": "2019-10-18T11:40:40.691526Z",
     "start_time": "2019-10-18T11:40:40.685956Z"
    }
   },
   "outputs": [
    {
     "data": {
      "text/plain": [
       "array([3, 3, 3, 3], dtype=int32)"
      ]
     },
     "execution_count": 16,
     "metadata": {},
     "output_type": "execute_result"
    }
   ],
   "source": [
    "np.array([3]*4, dtype='int32')"
   ]
  },
  {
   "cell_type": "markdown",
   "metadata": {},
   "source": [
    "## viewing data"
   ]
  },
  {
   "cell_type": "code",
   "execution_count": 17,
   "metadata": {
    "ExecuteTime": {
     "end_time": "2019-10-18T11:40:55.240984Z",
     "start_time": "2019-10-18T11:40:55.217025Z"
    }
   },
   "outputs": [
    {
     "data": {
      "text/html": [
       "<div>\n",
       "<style scoped>\n",
       "    .dataframe tbody tr th:only-of-type {\n",
       "        vertical-align: middle;\n",
       "    }\n",
       "\n",
       "    .dataframe tbody tr th {\n",
       "        vertical-align: top;\n",
       "    }\n",
       "\n",
       "    .dataframe thead th {\n",
       "        text-align: right;\n",
       "    }\n",
       "</style>\n",
       "<table border=\"1\" class=\"dataframe\">\n",
       "  <thead>\n",
       "    <tr style=\"text-align: right;\">\n",
       "      <th></th>\n",
       "      <th>a</th>\n",
       "      <th>b</th>\n",
       "      <th>c</th>\n",
       "      <th>d</th>\n",
       "    </tr>\n",
       "  </thead>\n",
       "  <tbody>\n",
       "    <tr>\n",
       "      <th>2019-10-23</th>\n",
       "      <td>-0.417845</td>\n",
       "      <td>1.608733</td>\n",
       "      <td>-0.814029</td>\n",
       "      <td>-0.382326</td>\n",
       "    </tr>\n",
       "    <tr>\n",
       "      <th>2019-10-24</th>\n",
       "      <td>0.275593</td>\n",
       "      <td>0.044249</td>\n",
       "      <td>0.342023</td>\n",
       "      <td>-0.072100</td>\n",
       "    </tr>\n",
       "    <tr>\n",
       "      <th>2019-10-25</th>\n",
       "      <td>-0.365925</td>\n",
       "      <td>0.183008</td>\n",
       "      <td>1.783170</td>\n",
       "      <td>-0.341942</td>\n",
       "    </tr>\n",
       "    <tr>\n",
       "      <th>2019-10-26</th>\n",
       "      <td>-0.863842</td>\n",
       "      <td>-2.388911</td>\n",
       "      <td>-0.202457</td>\n",
       "      <td>-0.841896</td>\n",
       "    </tr>\n",
       "    <tr>\n",
       "      <th>2019-10-27</th>\n",
       "      <td>-0.179464</td>\n",
       "      <td>-1.068517</td>\n",
       "      <td>1.434838</td>\n",
       "      <td>-0.992652</td>\n",
       "    </tr>\n",
       "  </tbody>\n",
       "</table>\n",
       "</div>"
      ],
      "text/plain": [
       "                   a         b         c         d\n",
       "2019-10-23 -0.417845  1.608733 -0.814029 -0.382326\n",
       "2019-10-24  0.275593  0.044249  0.342023 -0.072100\n",
       "2019-10-25 -0.365925  0.183008  1.783170 -0.341942\n",
       "2019-10-26 -0.863842 -2.388911 -0.202457 -0.841896\n",
       "2019-10-27 -0.179464 -1.068517  1.434838 -0.992652"
      ]
     },
     "execution_count": 17,
     "metadata": {},
     "output_type": "execute_result"
    }
   ],
   "source": [
    "df.head()"
   ]
  },
  {
   "cell_type": "code",
   "execution_count": 20,
   "metadata": {
    "ExecuteTime": {
     "end_time": "2019-10-18T11:41:08.697505Z",
     "start_time": "2019-10-18T11:41:08.679715Z"
    }
   },
   "outputs": [
    {
     "data": {
      "text/html": [
       "<div>\n",
       "<style scoped>\n",
       "    .dataframe tbody tr th:only-of-type {\n",
       "        vertical-align: middle;\n",
       "    }\n",
       "\n",
       "    .dataframe tbody tr th {\n",
       "        vertical-align: top;\n",
       "    }\n",
       "\n",
       "    .dataframe thead th {\n",
       "        text-align: right;\n",
       "    }\n",
       "</style>\n",
       "<table border=\"1\" class=\"dataframe\">\n",
       "  <thead>\n",
       "    <tr style=\"text-align: right;\">\n",
       "      <th></th>\n",
       "      <th>a</th>\n",
       "      <th>b</th>\n",
       "      <th>c</th>\n",
       "      <th>d</th>\n",
       "    </tr>\n",
       "  </thead>\n",
       "  <tbody>\n",
       "    <tr>\n",
       "      <th>2019-10-26</th>\n",
       "      <td>-0.863842</td>\n",
       "      <td>-2.388911</td>\n",
       "      <td>-0.202457</td>\n",
       "      <td>-0.841896</td>\n",
       "    </tr>\n",
       "    <tr>\n",
       "      <th>2019-10-27</th>\n",
       "      <td>-0.179464</td>\n",
       "      <td>-1.068517</td>\n",
       "      <td>1.434838</td>\n",
       "      <td>-0.992652</td>\n",
       "    </tr>\n",
       "    <tr>\n",
       "      <th>2019-10-28</th>\n",
       "      <td>0.449325</td>\n",
       "      <td>0.686399</td>\n",
       "      <td>1.125770</td>\n",
       "      <td>1.873668</td>\n",
       "    </tr>\n",
       "  </tbody>\n",
       "</table>\n",
       "</div>"
      ],
      "text/plain": [
       "                   a         b         c         d\n",
       "2019-10-26 -0.863842 -2.388911 -0.202457 -0.841896\n",
       "2019-10-27 -0.179464 -1.068517  1.434838 -0.992652\n",
       "2019-10-28  0.449325  0.686399  1.125770  1.873668"
      ]
     },
     "execution_count": 20,
     "metadata": {},
     "output_type": "execute_result"
    }
   ],
   "source": [
    "df.tail(3)"
   ]
  },
  {
   "cell_type": "code",
   "execution_count": 22,
   "metadata": {
    "ExecuteTime": {
     "end_time": "2019-10-18T11:41:18.892498Z",
     "start_time": "2019-10-18T11:41:18.886606Z"
    }
   },
   "outputs": [
    {
     "data": {
      "text/plain": [
       "DatetimeIndex(['2019-10-23', '2019-10-24', '2019-10-25', '2019-10-26',\n",
       "               '2019-10-27', '2019-10-28'],\n",
       "              dtype='datetime64[ns]', freq='D')"
      ]
     },
     "execution_count": 22,
     "metadata": {},
     "output_type": "execute_result"
    }
   ],
   "source": [
    "df.index"
   ]
  },
  {
   "cell_type": "code",
   "execution_count": 23,
   "metadata": {
    "ExecuteTime": {
     "end_time": "2019-10-18T11:41:31.217763Z",
     "start_time": "2019-10-18T11:41:31.211468Z"
    }
   },
   "outputs": [
    {
     "data": {
      "text/plain": [
       "Index(['a', 'b', 'c', 'd'], dtype='object')"
      ]
     },
     "execution_count": 23,
     "metadata": {},
     "output_type": "execute_result"
    }
   ],
   "source": [
    "df.columns"
   ]
  },
  {
   "cell_type": "code",
   "execution_count": 25,
   "metadata": {
    "ExecuteTime": {
     "end_time": "2019-10-18T11:43:06.124119Z",
     "start_time": "2019-10-18T11:43:06.110481Z"
    }
   },
   "outputs": [
    {
     "data": {
      "text/plain": [
       "array([[-0.4178448 ,  1.60873258, -0.81402923, -0.38232638],\n",
       "       [ 0.27559321,  0.04424864,  0.34202265, -0.07210047],\n",
       "       [-0.36592485,  0.18300844,  1.78317044, -0.34194197],\n",
       "       [-0.86384225, -2.38891148, -0.2024566 , -0.84189566],\n",
       "       [-0.17946364, -1.0685172 ,  1.43483809, -0.99265234],\n",
       "       [ 0.44932517,  0.68639919,  1.12577004,  1.87366752]])"
      ]
     },
     "execution_count": 25,
     "metadata": {},
     "output_type": "execute_result"
    }
   ],
   "source": [
    "df.to_numpy()"
   ]
  },
  {
   "cell_type": "code",
   "execution_count": 26,
   "metadata": {
    "ExecuteTime": {
     "end_time": "2019-10-18T11:43:39.561381Z",
     "start_time": "2019-10-18T11:43:39.553965Z"
    }
   },
   "outputs": [
    {
     "data": {
      "text/plain": [
       "array([[1, Timestamp('2019-10-25 00:00:00'), 1.0, 3, 'test', 'foo'],\n",
       "       [1, Timestamp('2019-10-25 00:00:00'), 1.0, 3, 'train', 'foo'],\n",
       "       [1, Timestamp('2019-10-25 00:00:00'), 1.0, 3, 'test', 'foo'],\n",
       "       [1, Timestamp('2019-10-25 00:00:00'), 1.0, 3, 'train', 'foo']],\n",
       "      dtype=object)"
      ]
     },
     "execution_count": 26,
     "metadata": {},
     "output_type": "execute_result"
    }
   ],
   "source": [
    "df2.to_numpy()"
   ]
  },
  {
   "cell_type": "markdown",
   "metadata": {},
   "source": [
    "***Note:*** DataFrame.to_numpy() does not include the index or column labels in the output."
   ]
  },
  {
   "cell_type": "markdown",
   "metadata": {},
   "source": [
    "### decribe() shows a quick statistic summary of data\n"
   ]
  },
  {
   "cell_type": "code",
   "execution_count": 28,
   "metadata": {
    "ExecuteTime": {
     "end_time": "2019-10-18T11:45:13.597094Z",
     "start_time": "2019-10-18T11:45:13.564029Z"
    }
   },
   "outputs": [
    {
     "data": {
      "text/html": [
       "<div>\n",
       "<style scoped>\n",
       "    .dataframe tbody tr th:only-of-type {\n",
       "        vertical-align: middle;\n",
       "    }\n",
       "\n",
       "    .dataframe tbody tr th {\n",
       "        vertical-align: top;\n",
       "    }\n",
       "\n",
       "    .dataframe thead th {\n",
       "        text-align: right;\n",
       "    }\n",
       "</style>\n",
       "<table border=\"1\" class=\"dataframe\">\n",
       "  <thead>\n",
       "    <tr style=\"text-align: right;\">\n",
       "      <th></th>\n",
       "      <th>a</th>\n",
       "      <th>b</th>\n",
       "      <th>c</th>\n",
       "      <th>d</th>\n",
       "    </tr>\n",
       "  </thead>\n",
       "  <tbody>\n",
       "    <tr>\n",
       "      <th>count</th>\n",
       "      <td>6.000000</td>\n",
       "      <td>6.000000</td>\n",
       "      <td>6.000000</td>\n",
       "      <td>6.000000</td>\n",
       "    </tr>\n",
       "    <tr>\n",
       "      <th>mean</th>\n",
       "      <td>-0.183693</td>\n",
       "      <td>-0.155840</td>\n",
       "      <td>0.611553</td>\n",
       "      <td>-0.126208</td>\n",
       "    </tr>\n",
       "    <tr>\n",
       "      <th>std</th>\n",
       "      <td>0.482144</td>\n",
       "      <td>1.399823</td>\n",
       "      <td>1.008211</td>\n",
       "      <td>1.037063</td>\n",
       "    </tr>\n",
       "    <tr>\n",
       "      <th>min</th>\n",
       "      <td>-0.863842</td>\n",
       "      <td>-2.388911</td>\n",
       "      <td>-0.814029</td>\n",
       "      <td>-0.992652</td>\n",
       "    </tr>\n",
       "    <tr>\n",
       "      <th>25%</th>\n",
       "      <td>-0.404865</td>\n",
       "      <td>-0.790326</td>\n",
       "      <td>-0.066337</td>\n",
       "      <td>-0.727003</td>\n",
       "    </tr>\n",
       "    <tr>\n",
       "      <th>50%</th>\n",
       "      <td>-0.272694</td>\n",
       "      <td>0.113629</td>\n",
       "      <td>0.733896</td>\n",
       "      <td>-0.362134</td>\n",
       "    </tr>\n",
       "    <tr>\n",
       "      <th>75%</th>\n",
       "      <td>0.161829</td>\n",
       "      <td>0.560552</td>\n",
       "      <td>1.357571</td>\n",
       "      <td>-0.139561</td>\n",
       "    </tr>\n",
       "    <tr>\n",
       "      <th>max</th>\n",
       "      <td>0.449325</td>\n",
       "      <td>1.608733</td>\n",
       "      <td>1.783170</td>\n",
       "      <td>1.873668</td>\n",
       "    </tr>\n",
       "  </tbody>\n",
       "</table>\n",
       "</div>"
      ],
      "text/plain": [
       "              a         b         c         d\n",
       "count  6.000000  6.000000  6.000000  6.000000\n",
       "mean  -0.183693 -0.155840  0.611553 -0.126208\n",
       "std    0.482144  1.399823  1.008211  1.037063\n",
       "min   -0.863842 -2.388911 -0.814029 -0.992652\n",
       "25%   -0.404865 -0.790326 -0.066337 -0.727003\n",
       "50%   -0.272694  0.113629  0.733896 -0.362134\n",
       "75%    0.161829  0.560552  1.357571 -0.139561\n",
       "max    0.449325  1.608733  1.783170  1.873668"
      ]
     },
     "execution_count": 28,
     "metadata": {},
     "output_type": "execute_result"
    }
   ],
   "source": [
    "df.describe()"
   ]
  },
  {
   "cell_type": "markdown",
   "metadata": {},
   "source": [
    "### df.T transposing data"
   ]
  },
  {
   "cell_type": "code",
   "execution_count": 30,
   "metadata": {
    "ExecuteTime": {
     "end_time": "2019-10-18T11:45:56.190524Z",
     "start_time": "2019-10-18T11:45:56.177018Z"
    }
   },
   "outputs": [
    {
     "data": {
      "text/html": [
       "<div>\n",
       "<style scoped>\n",
       "    .dataframe tbody tr th:only-of-type {\n",
       "        vertical-align: middle;\n",
       "    }\n",
       "\n",
       "    .dataframe tbody tr th {\n",
       "        vertical-align: top;\n",
       "    }\n",
       "\n",
       "    .dataframe thead th {\n",
       "        text-align: right;\n",
       "    }\n",
       "</style>\n",
       "<table border=\"1\" class=\"dataframe\">\n",
       "  <thead>\n",
       "    <tr style=\"text-align: right;\">\n",
       "      <th></th>\n",
       "      <th>2019-10-23 00:00:00</th>\n",
       "      <th>2019-10-24 00:00:00</th>\n",
       "      <th>2019-10-25 00:00:00</th>\n",
       "      <th>2019-10-26 00:00:00</th>\n",
       "      <th>2019-10-27 00:00:00</th>\n",
       "      <th>2019-10-28 00:00:00</th>\n",
       "    </tr>\n",
       "  </thead>\n",
       "  <tbody>\n",
       "    <tr>\n",
       "      <th>a</th>\n",
       "      <td>-0.417845</td>\n",
       "      <td>0.275593</td>\n",
       "      <td>-0.365925</td>\n",
       "      <td>-0.863842</td>\n",
       "      <td>-0.179464</td>\n",
       "      <td>0.449325</td>\n",
       "    </tr>\n",
       "    <tr>\n",
       "      <th>b</th>\n",
       "      <td>1.608733</td>\n",
       "      <td>0.044249</td>\n",
       "      <td>0.183008</td>\n",
       "      <td>-2.388911</td>\n",
       "      <td>-1.068517</td>\n",
       "      <td>0.686399</td>\n",
       "    </tr>\n",
       "    <tr>\n",
       "      <th>c</th>\n",
       "      <td>-0.814029</td>\n",
       "      <td>0.342023</td>\n",
       "      <td>1.783170</td>\n",
       "      <td>-0.202457</td>\n",
       "      <td>1.434838</td>\n",
       "      <td>1.125770</td>\n",
       "    </tr>\n",
       "    <tr>\n",
       "      <th>d</th>\n",
       "      <td>-0.382326</td>\n",
       "      <td>-0.072100</td>\n",
       "      <td>-0.341942</td>\n",
       "      <td>-0.841896</td>\n",
       "      <td>-0.992652</td>\n",
       "      <td>1.873668</td>\n",
       "    </tr>\n",
       "  </tbody>\n",
       "</table>\n",
       "</div>"
      ],
      "text/plain": [
       "   2019-10-23  2019-10-24  2019-10-25  2019-10-26  2019-10-27  2019-10-28\n",
       "a   -0.417845    0.275593   -0.365925   -0.863842   -0.179464    0.449325\n",
       "b    1.608733    0.044249    0.183008   -2.388911   -1.068517    0.686399\n",
       "c   -0.814029    0.342023    1.783170   -0.202457    1.434838    1.125770\n",
       "d   -0.382326   -0.072100   -0.341942   -0.841896   -0.992652    1.873668"
      ]
     },
     "execution_count": 30,
     "metadata": {},
     "output_type": "execute_result"
    }
   ],
   "source": [
    "df.T"
   ]
  },
  {
   "cell_type": "markdown",
   "metadata": {},
   "source": [
    "### sorting by values"
   ]
  },
  {
   "cell_type": "code",
   "execution_count": 32,
   "metadata": {
    "ExecuteTime": {
     "end_time": "2019-10-18T11:47:35.294401Z",
     "start_time": "2019-10-18T11:47:35.282454Z"
    }
   },
   "outputs": [
    {
     "data": {
      "text/html": [
       "<div>\n",
       "<style scoped>\n",
       "    .dataframe tbody tr th:only-of-type {\n",
       "        vertical-align: middle;\n",
       "    }\n",
       "\n",
       "    .dataframe tbody tr th {\n",
       "        vertical-align: top;\n",
       "    }\n",
       "\n",
       "    .dataframe thead th {\n",
       "        text-align: right;\n",
       "    }\n",
       "</style>\n",
       "<table border=\"1\" class=\"dataframe\">\n",
       "  <thead>\n",
       "    <tr style=\"text-align: right;\">\n",
       "      <th></th>\n",
       "      <th>a</th>\n",
       "      <th>b</th>\n",
       "      <th>c</th>\n",
       "      <th>d</th>\n",
       "    </tr>\n",
       "  </thead>\n",
       "  <tbody>\n",
       "    <tr>\n",
       "      <th>2019-10-23</th>\n",
       "      <td>-0.417845</td>\n",
       "      <td>1.608733</td>\n",
       "      <td>-0.814029</td>\n",
       "      <td>-0.382326</td>\n",
       "    </tr>\n",
       "    <tr>\n",
       "      <th>2019-10-26</th>\n",
       "      <td>-0.863842</td>\n",
       "      <td>-2.388911</td>\n",
       "      <td>-0.202457</td>\n",
       "      <td>-0.841896</td>\n",
       "    </tr>\n",
       "    <tr>\n",
       "      <th>2019-10-24</th>\n",
       "      <td>0.275593</td>\n",
       "      <td>0.044249</td>\n",
       "      <td>0.342023</td>\n",
       "      <td>-0.072100</td>\n",
       "    </tr>\n",
       "    <tr>\n",
       "      <th>2019-10-28</th>\n",
       "      <td>0.449325</td>\n",
       "      <td>0.686399</td>\n",
       "      <td>1.125770</td>\n",
       "      <td>1.873668</td>\n",
       "    </tr>\n",
       "    <tr>\n",
       "      <th>2019-10-27</th>\n",
       "      <td>-0.179464</td>\n",
       "      <td>-1.068517</td>\n",
       "      <td>1.434838</td>\n",
       "      <td>-0.992652</td>\n",
       "    </tr>\n",
       "    <tr>\n",
       "      <th>2019-10-25</th>\n",
       "      <td>-0.365925</td>\n",
       "      <td>0.183008</td>\n",
       "      <td>1.783170</td>\n",
       "      <td>-0.341942</td>\n",
       "    </tr>\n",
       "  </tbody>\n",
       "</table>\n",
       "</div>"
      ],
      "text/plain": [
       "                   a         b         c         d\n",
       "2019-10-23 -0.417845  1.608733 -0.814029 -0.382326\n",
       "2019-10-26 -0.863842 -2.388911 -0.202457 -0.841896\n",
       "2019-10-24  0.275593  0.044249  0.342023 -0.072100\n",
       "2019-10-28  0.449325  0.686399  1.125770  1.873668\n",
       "2019-10-27 -0.179464 -1.068517  1.434838 -0.992652\n",
       "2019-10-25 -0.365925  0.183008  1.783170 -0.341942"
      ]
     },
     "execution_count": 32,
     "metadata": {},
     "output_type": "execute_result"
    }
   ],
   "source": [
    "df.sort_values(by='c')"
   ]
  },
  {
   "cell_type": "markdown",
   "metadata": {},
   "source": [
    "## Selection"
   ]
  },
  {
   "cell_type": "markdown",
   "metadata": {
    "ExecuteTime": {
     "end_time": "2019-10-18T11:48:02.155794Z",
     "start_time": "2019-10-18T11:48:02.152584Z"
    }
   },
   "source": [
    "### getting"
   ]
  },
  {
   "cell_type": "code",
   "execution_count": 36,
   "metadata": {
    "ExecuteTime": {
     "end_time": "2019-10-18T11:48:47.622738Z",
     "start_time": "2019-10-18T11:48:47.617572Z"
    }
   },
   "outputs": [
    {
     "name": "stdout",
     "output_type": "stream",
     "text": [
      "2019-10-23   -0.417845\n",
      "2019-10-24    0.275593\n",
      "2019-10-25   -0.365925\n",
      "2019-10-26   -0.863842\n",
      "2019-10-27   -0.179464\n",
      "2019-10-28    0.449325\n",
      "Freq: D, Name: a, dtype: float64\n"
     ]
    }
   ],
   "source": [
    "print(df['a'])"
   ]
  },
  {
   "cell_type": "code",
   "execution_count": 39,
   "metadata": {
    "ExecuteTime": {
     "end_time": "2019-10-18T11:50:17.592151Z",
     "start_time": "2019-10-18T11:50:17.576286Z"
    }
   },
   "outputs": [
    {
     "name": "stdout",
     "output_type": "stream",
     "text": [
      "                   a         b         c         d\n",
      "2019-10-23 -0.417845  1.608733 -0.814029 -0.382326\n",
      "2019-10-24  0.275593  0.044249  0.342023 -0.072100\n",
      "2019-10-25 -0.365925  0.183008  1.783170 -0.341942\n",
      "                   a         b         c         d\n",
      "2019-10-24  0.275593  0.044249  0.342023 -0.072100\n",
      "2019-10-25 -0.365925  0.183008  1.783170 -0.341942\n",
      "2019-10-26 -0.863842 -2.388911 -0.202457 -0.841896\n",
      "2019-10-27 -0.179464 -1.068517  1.434838 -0.992652\n"
     ]
    }
   ],
   "source": [
    "# selecting via [], which slices the row\n",
    "print(df[0:3])\n",
    "print(df['20191024':'20191027'])"
   ]
  },
  {
   "cell_type": "markdown",
   "metadata": {},
   "source": [
    "### selection by label\n",
    "loc:selecting by label"
   ]
  },
  {
   "cell_type": "code",
   "execution_count": 57,
   "metadata": {
    "ExecuteTime": {
     "end_time": "2019-10-18T11:55:37.379559Z",
     "start_time": "2019-10-18T11:55:37.361258Z"
    }
   },
   "outputs": [
    {
     "name": "stdout",
     "output_type": "stream",
     "text": [
      "                   a         b         c         d\n",
      "2019-10-23 -0.417845  1.608733 -0.814029 -0.382326\n",
      "2019-10-24  0.275593  0.044249  0.342023 -0.072100\n",
      "2019-10-25 -0.365925  0.183008  1.783170 -0.341942\n",
      "2019-10-26 -0.863842 -2.388911 -0.202457 -0.841896\n",
      "2019-10-27 -0.179464 -1.068517  1.434838 -0.992652\n",
      "2019-10-28  0.449325  0.686399  1.125770  1.873668\n"
     ]
    }
   ],
   "source": [
    "print(df)"
   ]
  },
  {
   "cell_type": "code",
   "execution_count": 58,
   "metadata": {
    "ExecuteTime": {
     "end_time": "2019-10-18T11:55:38.231260Z",
     "start_time": "2019-10-18T11:55:38.214962Z"
    }
   },
   "outputs": [
    {
     "data": {
      "text/plain": [
       "a   -0.417845\n",
       "b    1.608733\n",
       "c   -0.814029\n",
       "d   -0.382326\n",
       "Name: 2019-10-23 00:00:00, dtype: float64"
      ]
     },
     "execution_count": 58,
     "metadata": {},
     "output_type": "execute_result"
    }
   ],
   "source": [
    "df.loc[dates[0]]\n"
   ]
  },
  {
   "cell_type": "code",
   "execution_count": 59,
   "metadata": {
    "ExecuteTime": {
     "end_time": "2019-10-18T11:55:38.624702Z",
     "start_time": "2019-10-18T11:55:38.614030Z"
    }
   },
   "outputs": [
    {
     "data": {
      "text/html": [
       "<div>\n",
       "<style scoped>\n",
       "    .dataframe tbody tr th:only-of-type {\n",
       "        vertical-align: middle;\n",
       "    }\n",
       "\n",
       "    .dataframe tbody tr th {\n",
       "        vertical-align: top;\n",
       "    }\n",
       "\n",
       "    .dataframe thead th {\n",
       "        text-align: right;\n",
       "    }\n",
       "</style>\n",
       "<table border=\"1\" class=\"dataframe\">\n",
       "  <thead>\n",
       "    <tr style=\"text-align: right;\">\n",
       "      <th></th>\n",
       "      <th>a</th>\n",
       "      <th>b</th>\n",
       "    </tr>\n",
       "  </thead>\n",
       "  <tbody>\n",
       "    <tr>\n",
       "      <th>2019-10-23</th>\n",
       "      <td>-0.417845</td>\n",
       "      <td>1.608733</td>\n",
       "    </tr>\n",
       "    <tr>\n",
       "      <th>2019-10-24</th>\n",
       "      <td>0.275593</td>\n",
       "      <td>0.044249</td>\n",
       "    </tr>\n",
       "    <tr>\n",
       "      <th>2019-10-25</th>\n",
       "      <td>-0.365925</td>\n",
       "      <td>0.183008</td>\n",
       "    </tr>\n",
       "    <tr>\n",
       "      <th>2019-10-26</th>\n",
       "      <td>-0.863842</td>\n",
       "      <td>-2.388911</td>\n",
       "    </tr>\n",
       "    <tr>\n",
       "      <th>2019-10-27</th>\n",
       "      <td>-0.179464</td>\n",
       "      <td>-1.068517</td>\n",
       "    </tr>\n",
       "    <tr>\n",
       "      <th>2019-10-28</th>\n",
       "      <td>0.449325</td>\n",
       "      <td>0.686399</td>\n",
       "    </tr>\n",
       "  </tbody>\n",
       "</table>\n",
       "</div>"
      ],
      "text/plain": [
       "                   a         b\n",
       "2019-10-23 -0.417845  1.608733\n",
       "2019-10-24  0.275593  0.044249\n",
       "2019-10-25 -0.365925  0.183008\n",
       "2019-10-26 -0.863842 -2.388911\n",
       "2019-10-27 -0.179464 -1.068517\n",
       "2019-10-28  0.449325  0.686399"
      ]
     },
     "execution_count": 59,
     "metadata": {},
     "output_type": "execute_result"
    }
   ],
   "source": [
    "# selecting on a multi-axis by label\n",
    "df.loc[:, ['a','b']]"
   ]
  },
  {
   "cell_type": "code",
   "execution_count": 61,
   "metadata": {
    "ExecuteTime": {
     "end_time": "2019-10-18T11:56:46.446852Z",
     "start_time": "2019-10-18T11:56:46.433122Z"
    }
   },
   "outputs": [
    {
     "data": {
      "text/html": [
       "<div>\n",
       "<style scoped>\n",
       "    .dataframe tbody tr th:only-of-type {\n",
       "        vertical-align: middle;\n",
       "    }\n",
       "\n",
       "    .dataframe tbody tr th {\n",
       "        vertical-align: top;\n",
       "    }\n",
       "\n",
       "    .dataframe thead th {\n",
       "        text-align: right;\n",
       "    }\n",
       "</style>\n",
       "<table border=\"1\" class=\"dataframe\">\n",
       "  <thead>\n",
       "    <tr style=\"text-align: right;\">\n",
       "      <th></th>\n",
       "      <th>a</th>\n",
       "      <th>b</th>\n",
       "    </tr>\n",
       "  </thead>\n",
       "  <tbody>\n",
       "    <tr>\n",
       "      <th>2019-10-24</th>\n",
       "      <td>0.275593</td>\n",
       "      <td>0.044249</td>\n",
       "    </tr>\n",
       "    <tr>\n",
       "      <th>2019-10-25</th>\n",
       "      <td>-0.365925</td>\n",
       "      <td>0.183008</td>\n",
       "    </tr>\n",
       "    <tr>\n",
       "      <th>2019-10-26</th>\n",
       "      <td>-0.863842</td>\n",
       "      <td>-2.388911</td>\n",
       "    </tr>\n",
       "    <tr>\n",
       "      <th>2019-10-27</th>\n",
       "      <td>-0.179464</td>\n",
       "      <td>-1.068517</td>\n",
       "    </tr>\n",
       "  </tbody>\n",
       "</table>\n",
       "</div>"
      ],
      "text/plain": [
       "                   a         b\n",
       "2019-10-24  0.275593  0.044249\n",
       "2019-10-25 -0.365925  0.183008\n",
       "2019-10-26 -0.863842 -2.388911\n",
       "2019-10-27 -0.179464 -1.068517"
      ]
     },
     "execution_count": 61,
     "metadata": {},
     "output_type": "execute_result"
    }
   ],
   "source": [
    "# note: endpoints are included\n",
    "df.loc['20191024':'20191027', ['a', 'b']]"
   ]
  },
  {
   "cell_type": "markdown",
   "metadata": {},
   "source": [
    "### getting a scalar value\n"
   ]
  },
  {
   "cell_type": "code",
   "execution_count": 63,
   "metadata": {
    "ExecuteTime": {
     "end_time": "2019-10-18T11:58:32.411735Z",
     "start_time": "2019-10-18T11:58:32.400933Z"
    }
   },
   "outputs": [
    {
     "data": {
      "text/plain": [
       "-0.41784480220906567"
      ]
     },
     "execution_count": 63,
     "metadata": {},
     "output_type": "execute_result"
    }
   ],
   "source": [
    "df.loc[dates[0], 'a']\n"
   ]
  },
  {
   "cell_type": "code",
   "execution_count": 65,
   "metadata": {
    "ExecuteTime": {
     "end_time": "2019-10-18T11:59:00.969282Z",
     "start_time": "2019-10-18T11:59:00.962038Z"
    }
   },
   "outputs": [
    {
     "data": {
      "text/plain": [
       "-0.41784480220906567"
      ]
     },
     "execution_count": 65,
     "metadata": {},
     "output_type": "execute_result"
    }
   ],
   "source": [
    "df.at[dates[0], 'a']"
   ]
  },
  {
   "cell_type": "markdown",
   "metadata": {},
   "source": [
    "### selection by position\n",
    "iloc: selecting by index"
   ]
  },
  {
   "cell_type": "code",
   "execution_count": 67,
   "metadata": {
    "ExecuteTime": {
     "end_time": "2019-10-18T12:05:38.708019Z",
     "start_time": "2019-10-18T12:05:38.702448Z"
    }
   },
   "outputs": [
    {
     "data": {
      "text/plain": [
       "a   -0.863842\n",
       "b   -2.388911\n",
       "c   -0.202457\n",
       "d   -0.841896\n",
       "Name: 2019-10-26 00:00:00, dtype: float64"
      ]
     },
     "execution_count": 67,
     "metadata": {},
     "output_type": "execute_result"
    }
   ],
   "source": [
    "df.iloc[3]"
   ]
  },
  {
   "cell_type": "code",
   "execution_count": 69,
   "metadata": {
    "ExecuteTime": {
     "end_time": "2019-10-18T12:06:00.414178Z",
     "start_time": "2019-10-18T12:06:00.401507Z"
    }
   },
   "outputs": [
    {
     "data": {
      "text/html": [
       "<div>\n",
       "<style scoped>\n",
       "    .dataframe tbody tr th:only-of-type {\n",
       "        vertical-align: middle;\n",
       "    }\n",
       "\n",
       "    .dataframe tbody tr th {\n",
       "        vertical-align: top;\n",
       "    }\n",
       "\n",
       "    .dataframe thead th {\n",
       "        text-align: right;\n",
       "    }\n",
       "</style>\n",
       "<table border=\"1\" class=\"dataframe\">\n",
       "  <thead>\n",
       "    <tr style=\"text-align: right;\">\n",
       "      <th></th>\n",
       "      <th>a</th>\n",
       "      <th>b</th>\n",
       "    </tr>\n",
       "  </thead>\n",
       "  <tbody>\n",
       "    <tr>\n",
       "      <th>2019-10-26</th>\n",
       "      <td>-0.863842</td>\n",
       "      <td>-2.388911</td>\n",
       "    </tr>\n",
       "    <tr>\n",
       "      <th>2019-10-27</th>\n",
       "      <td>-0.179464</td>\n",
       "      <td>-1.068517</td>\n",
       "    </tr>\n",
       "  </tbody>\n",
       "</table>\n",
       "</div>"
      ],
      "text/plain": [
       "                   a         b\n",
       "2019-10-26 -0.863842 -2.388911\n",
       "2019-10-27 -0.179464 -1.068517"
      ]
     },
     "execution_count": 69,
     "metadata": {},
     "output_type": "execute_result"
    }
   ],
   "source": [
    "df.iloc[3:5,0:2]"
   ]
  },
  {
   "cell_type": "code",
   "execution_count": 70,
   "metadata": {
    "ExecuteTime": {
     "end_time": "2019-10-18T12:06:18.074593Z",
     "start_time": "2019-10-18T12:06:18.062009Z"
    }
   },
   "outputs": [
    {
     "data": {
      "text/html": [
       "<div>\n",
       "<style scoped>\n",
       "    .dataframe tbody tr th:only-of-type {\n",
       "        vertical-align: middle;\n",
       "    }\n",
       "\n",
       "    .dataframe tbody tr th {\n",
       "        vertical-align: top;\n",
       "    }\n",
       "\n",
       "    .dataframe thead th {\n",
       "        text-align: right;\n",
       "    }\n",
       "</style>\n",
       "<table border=\"1\" class=\"dataframe\">\n",
       "  <thead>\n",
       "    <tr style=\"text-align: right;\">\n",
       "      <th></th>\n",
       "      <th>a</th>\n",
       "      <th>c</th>\n",
       "    </tr>\n",
       "  </thead>\n",
       "  <tbody>\n",
       "    <tr>\n",
       "      <th>2019-10-24</th>\n",
       "      <td>0.275593</td>\n",
       "      <td>0.342023</td>\n",
       "    </tr>\n",
       "    <tr>\n",
       "      <th>2019-10-25</th>\n",
       "      <td>-0.365925</td>\n",
       "      <td>1.783170</td>\n",
       "    </tr>\n",
       "    <tr>\n",
       "      <th>2019-10-27</th>\n",
       "      <td>-0.179464</td>\n",
       "      <td>1.434838</td>\n",
       "    </tr>\n",
       "  </tbody>\n",
       "</table>\n",
       "</div>"
      ],
      "text/plain": [
       "                   a         c\n",
       "2019-10-24  0.275593  0.342023\n",
       "2019-10-25 -0.365925  1.783170\n",
       "2019-10-27 -0.179464  1.434838"
      ]
     },
     "execution_count": 70,
     "metadata": {},
     "output_type": "execute_result"
    }
   ],
   "source": [
    "df.iloc[[1,2,4],[0,2]]"
   ]
  },
  {
   "cell_type": "code",
   "execution_count": 72,
   "metadata": {
    "ExecuteTime": {
     "end_time": "2019-10-18T12:07:43.511689Z",
     "start_time": "2019-10-18T12:07:43.498402Z"
    }
   },
   "outputs": [
    {
     "data": {
      "text/html": [
       "<div>\n",
       "<style scoped>\n",
       "    .dataframe tbody tr th:only-of-type {\n",
       "        vertical-align: middle;\n",
       "    }\n",
       "\n",
       "    .dataframe tbody tr th {\n",
       "        vertical-align: top;\n",
       "    }\n",
       "\n",
       "    .dataframe thead th {\n",
       "        text-align: right;\n",
       "    }\n",
       "</style>\n",
       "<table border=\"1\" class=\"dataframe\">\n",
       "  <thead>\n",
       "    <tr style=\"text-align: right;\">\n",
       "      <th></th>\n",
       "      <th>a</th>\n",
       "      <th>b</th>\n",
       "      <th>c</th>\n",
       "      <th>d</th>\n",
       "    </tr>\n",
       "  </thead>\n",
       "  <tbody>\n",
       "    <tr>\n",
       "      <th>2019-10-24</th>\n",
       "      <td>0.275593</td>\n",
       "      <td>0.044249</td>\n",
       "      <td>0.342023</td>\n",
       "      <td>-0.072100</td>\n",
       "    </tr>\n",
       "    <tr>\n",
       "      <th>2019-10-25</th>\n",
       "      <td>-0.365925</td>\n",
       "      <td>0.183008</td>\n",
       "      <td>1.783170</td>\n",
       "      <td>-0.341942</td>\n",
       "    </tr>\n",
       "  </tbody>\n",
       "</table>\n",
       "</div>"
      ],
      "text/plain": [
       "                   a         b         c         d\n",
       "2019-10-24  0.275593  0.044249  0.342023 -0.072100\n",
       "2019-10-25 -0.365925  0.183008  1.783170 -0.341942"
      ]
     },
     "execution_count": 72,
     "metadata": {},
     "output_type": "execute_result"
    }
   ],
   "source": [
    "df.iloc[1:3, :]\n",
    "# endpoins are not included"
   ]
  },
  {
   "cell_type": "markdown",
   "metadata": {},
   "source": [
    "slicing columns explicitly\n"
   ]
  },
  {
   "cell_type": "code",
   "execution_count": 74,
   "metadata": {
    "ExecuteTime": {
     "end_time": "2019-10-18T12:08:41.069870Z",
     "start_time": "2019-10-18T12:08:41.058167Z"
    }
   },
   "outputs": [
    {
     "data": {
      "text/html": [
       "<div>\n",
       "<style scoped>\n",
       "    .dataframe tbody tr th:only-of-type {\n",
       "        vertical-align: middle;\n",
       "    }\n",
       "\n",
       "    .dataframe tbody tr th {\n",
       "        vertical-align: top;\n",
       "    }\n",
       "\n",
       "    .dataframe thead th {\n",
       "        text-align: right;\n",
       "    }\n",
       "</style>\n",
       "<table border=\"1\" class=\"dataframe\">\n",
       "  <thead>\n",
       "    <tr style=\"text-align: right;\">\n",
       "      <th></th>\n",
       "      <th>c</th>\n",
       "      <th>d</th>\n",
       "    </tr>\n",
       "  </thead>\n",
       "  <tbody>\n",
       "    <tr>\n",
       "      <th>2019-10-23</th>\n",
       "      <td>-0.814029</td>\n",
       "      <td>-0.382326</td>\n",
       "    </tr>\n",
       "    <tr>\n",
       "      <th>2019-10-24</th>\n",
       "      <td>0.342023</td>\n",
       "      <td>-0.072100</td>\n",
       "    </tr>\n",
       "    <tr>\n",
       "      <th>2019-10-25</th>\n",
       "      <td>1.783170</td>\n",
       "      <td>-0.341942</td>\n",
       "    </tr>\n",
       "    <tr>\n",
       "      <th>2019-10-26</th>\n",
       "      <td>-0.202457</td>\n",
       "      <td>-0.841896</td>\n",
       "    </tr>\n",
       "    <tr>\n",
       "      <th>2019-10-27</th>\n",
       "      <td>1.434838</td>\n",
       "      <td>-0.992652</td>\n",
       "    </tr>\n",
       "    <tr>\n",
       "      <th>2019-10-28</th>\n",
       "      <td>1.125770</td>\n",
       "      <td>1.873668</td>\n",
       "    </tr>\n",
       "  </tbody>\n",
       "</table>\n",
       "</div>"
      ],
      "text/plain": [
       "                   c         d\n",
       "2019-10-23 -0.814029 -0.382326\n",
       "2019-10-24  0.342023 -0.072100\n",
       "2019-10-25  1.783170 -0.341942\n",
       "2019-10-26 -0.202457 -0.841896\n",
       "2019-10-27  1.434838 -0.992652\n",
       "2019-10-28  1.125770  1.873668"
      ]
     },
     "execution_count": 74,
     "metadata": {},
     "output_type": "execute_result"
    }
   ],
   "source": [
    "df.iloc[:, 2:4]"
   ]
  },
  {
   "cell_type": "markdown",
   "metadata": {},
   "source": [
    "## boolean indexing"
   ]
  },
  {
   "cell_type": "code",
   "execution_count": 76,
   "metadata": {
    "ExecuteTime": {
     "end_time": "2019-10-18T12:09:21.304345Z",
     "start_time": "2019-10-18T12:09:21.290114Z"
    }
   },
   "outputs": [
    {
     "data": {
      "text/plain": [
       "2019-10-23   -0.417845\n",
       "2019-10-24    0.275593\n",
       "2019-10-25   -0.365925\n",
       "2019-10-26   -0.863842\n",
       "2019-10-27   -0.179464\n",
       "2019-10-28    0.449325\n",
       "Freq: D, Name: a, dtype: float64"
      ]
     },
     "execution_count": 76,
     "metadata": {},
     "output_type": "execute_result"
    }
   ],
   "source": [
    "df.a # equivelantly df['a']"
   ]
  },
  {
   "cell_type": "code",
   "execution_count": 87,
   "metadata": {
    "ExecuteTime": {
     "end_time": "2019-10-18T12:11:56.151007Z",
     "start_time": "2019-10-18T12:11:56.137224Z"
    }
   },
   "outputs": [
    {
     "data": {
      "text/plain": [
       "2019-10-23    False\n",
       "2019-10-24     True\n",
       "2019-10-25    False\n",
       "2019-10-26    False\n",
       "2019-10-27    False\n",
       "2019-10-28     True\n",
       "Freq: D, Name: a, dtype: bool"
      ]
     },
     "execution_count": 87,
     "metadata": {},
     "output_type": "execute_result"
    }
   ],
   "source": [
    "df['a'] > 0"
   ]
  },
  {
   "cell_type": "code",
   "execution_count": 89,
   "metadata": {
    "ExecuteTime": {
     "end_time": "2019-10-18T12:12:21.253485Z",
     "start_time": "2019-10-18T12:12:21.237512Z"
    }
   },
   "outputs": [
    {
     "data": {
      "text/html": [
       "<div>\n",
       "<style scoped>\n",
       "    .dataframe tbody tr th:only-of-type {\n",
       "        vertical-align: middle;\n",
       "    }\n",
       "\n",
       "    .dataframe tbody tr th {\n",
       "        vertical-align: top;\n",
       "    }\n",
       "\n",
       "    .dataframe thead th {\n",
       "        text-align: right;\n",
       "    }\n",
       "</style>\n",
       "<table border=\"1\" class=\"dataframe\">\n",
       "  <thead>\n",
       "    <tr style=\"text-align: right;\">\n",
       "      <th></th>\n",
       "      <th>a</th>\n",
       "      <th>b</th>\n",
       "      <th>c</th>\n",
       "      <th>d</th>\n",
       "    </tr>\n",
       "  </thead>\n",
       "  <tbody>\n",
       "    <tr>\n",
       "      <th>2019-10-24</th>\n",
       "      <td>0.275593</td>\n",
       "      <td>0.044249</td>\n",
       "      <td>0.342023</td>\n",
       "      <td>-0.072100</td>\n",
       "    </tr>\n",
       "    <tr>\n",
       "      <th>2019-10-28</th>\n",
       "      <td>0.449325</td>\n",
       "      <td>0.686399</td>\n",
       "      <td>1.125770</td>\n",
       "      <td>1.873668</td>\n",
       "    </tr>\n",
       "  </tbody>\n",
       "</table>\n",
       "</div>"
      ],
      "text/plain": [
       "                   a         b         c         d\n",
       "2019-10-24  0.275593  0.044249  0.342023 -0.072100\n",
       "2019-10-28  0.449325  0.686399  1.125770  1.873668"
      ]
     },
     "execution_count": 89,
     "metadata": {},
     "output_type": "execute_result"
    }
   ],
   "source": [
    "df[df['a']>0]"
   ]
  },
  {
   "cell_type": "code",
   "execution_count": 90,
   "metadata": {
    "ExecuteTime": {
     "end_time": "2019-10-18T12:12:23.703272Z",
     "start_time": "2019-10-18T12:12:23.687503Z"
    }
   },
   "outputs": [
    {
     "data": {
      "text/html": [
       "<div>\n",
       "<style scoped>\n",
       "    .dataframe tbody tr th:only-of-type {\n",
       "        vertical-align: middle;\n",
       "    }\n",
       "\n",
       "    .dataframe tbody tr th {\n",
       "        vertical-align: top;\n",
       "    }\n",
       "\n",
       "    .dataframe thead th {\n",
       "        text-align: right;\n",
       "    }\n",
       "</style>\n",
       "<table border=\"1\" class=\"dataframe\">\n",
       "  <thead>\n",
       "    <tr style=\"text-align: right;\">\n",
       "      <th></th>\n",
       "      <th>a</th>\n",
       "      <th>b</th>\n",
       "      <th>c</th>\n",
       "      <th>d</th>\n",
       "    </tr>\n",
       "  </thead>\n",
       "  <tbody>\n",
       "    <tr>\n",
       "      <th>2019-10-23</th>\n",
       "      <td>NaN</td>\n",
       "      <td>1.608733</td>\n",
       "      <td>NaN</td>\n",
       "      <td>NaN</td>\n",
       "    </tr>\n",
       "    <tr>\n",
       "      <th>2019-10-24</th>\n",
       "      <td>0.275593</td>\n",
       "      <td>0.044249</td>\n",
       "      <td>0.342023</td>\n",
       "      <td>NaN</td>\n",
       "    </tr>\n",
       "    <tr>\n",
       "      <th>2019-10-25</th>\n",
       "      <td>NaN</td>\n",
       "      <td>0.183008</td>\n",
       "      <td>1.783170</td>\n",
       "      <td>NaN</td>\n",
       "    </tr>\n",
       "    <tr>\n",
       "      <th>2019-10-26</th>\n",
       "      <td>NaN</td>\n",
       "      <td>NaN</td>\n",
       "      <td>NaN</td>\n",
       "      <td>NaN</td>\n",
       "    </tr>\n",
       "    <tr>\n",
       "      <th>2019-10-27</th>\n",
       "      <td>NaN</td>\n",
       "      <td>NaN</td>\n",
       "      <td>1.434838</td>\n",
       "      <td>NaN</td>\n",
       "    </tr>\n",
       "    <tr>\n",
       "      <th>2019-10-28</th>\n",
       "      <td>0.449325</td>\n",
       "      <td>0.686399</td>\n",
       "      <td>1.125770</td>\n",
       "      <td>1.873668</td>\n",
       "    </tr>\n",
       "  </tbody>\n",
       "</table>\n",
       "</div>"
      ],
      "text/plain": [
       "                   a         b         c         d\n",
       "2019-10-23       NaN  1.608733       NaN       NaN\n",
       "2019-10-24  0.275593  0.044249  0.342023       NaN\n",
       "2019-10-25       NaN  0.183008  1.783170       NaN\n",
       "2019-10-26       NaN       NaN       NaN       NaN\n",
       "2019-10-27       NaN       NaN  1.434838       NaN\n",
       "2019-10-28  0.449325  0.686399  1.125770  1.873668"
      ]
     },
     "execution_count": 90,
     "metadata": {},
     "output_type": "execute_result"
    }
   ],
   "source": [
    "df[df>0]"
   ]
  },
  {
   "cell_type": "markdown",
   "metadata": {},
   "source": [
    "### using the isin() method for filtering "
   ]
  },
  {
   "cell_type": "code",
   "execution_count": 96,
   "metadata": {
    "ExecuteTime": {
     "end_time": "2019-10-18T12:15:49.372816Z",
     "start_time": "2019-10-18T12:15:49.364468Z"
    }
   },
   "outputs": [
    {
     "data": {
      "text/html": [
       "<div>\n",
       "<style scoped>\n",
       "    .dataframe tbody tr th:only-of-type {\n",
       "        vertical-align: middle;\n",
       "    }\n",
       "\n",
       "    .dataframe tbody tr th {\n",
       "        vertical-align: top;\n",
       "    }\n",
       "\n",
       "    .dataframe thead th {\n",
       "        text-align: right;\n",
       "    }\n",
       "</style>\n",
       "<table border=\"1\" class=\"dataframe\">\n",
       "  <thead>\n",
       "    <tr style=\"text-align: right;\">\n",
       "      <th></th>\n",
       "      <th>a</th>\n",
       "      <th>b</th>\n",
       "      <th>c</th>\n",
       "      <th>d</th>\n",
       "      <th>e</th>\n",
       "    </tr>\n",
       "  </thead>\n",
       "  <tbody>\n",
       "    <tr>\n",
       "      <th>2019-10-23</th>\n",
       "      <td>-0.417845</td>\n",
       "      <td>1.608733</td>\n",
       "      <td>-0.814029</td>\n",
       "      <td>-0.382326</td>\n",
       "      <td>one</td>\n",
       "    </tr>\n",
       "    <tr>\n",
       "      <th>2019-10-24</th>\n",
       "      <td>0.275593</td>\n",
       "      <td>0.044249</td>\n",
       "      <td>0.342023</td>\n",
       "      <td>-0.072100</td>\n",
       "      <td>two</td>\n",
       "    </tr>\n",
       "    <tr>\n",
       "      <th>2019-10-25</th>\n",
       "      <td>-0.365925</td>\n",
       "      <td>0.183008</td>\n",
       "      <td>1.783170</td>\n",
       "      <td>-0.341942</td>\n",
       "      <td>three</td>\n",
       "    </tr>\n",
       "    <tr>\n",
       "      <th>2019-10-26</th>\n",
       "      <td>-0.863842</td>\n",
       "      <td>-2.388911</td>\n",
       "      <td>-0.202457</td>\n",
       "      <td>-0.841896</td>\n",
       "      <td>four</td>\n",
       "    </tr>\n",
       "    <tr>\n",
       "      <th>2019-10-27</th>\n",
       "      <td>-0.179464</td>\n",
       "      <td>-1.068517</td>\n",
       "      <td>1.434838</td>\n",
       "      <td>-0.992652</td>\n",
       "      <td>five</td>\n",
       "    </tr>\n",
       "    <tr>\n",
       "      <th>2019-10-28</th>\n",
       "      <td>0.449325</td>\n",
       "      <td>0.686399</td>\n",
       "      <td>1.125770</td>\n",
       "      <td>1.873668</td>\n",
       "      <td>six</td>\n",
       "    </tr>\n",
       "  </tbody>\n",
       "</table>\n",
       "</div>"
      ],
      "text/plain": [
       "                   a         b         c         d      e\n",
       "2019-10-23 -0.417845  1.608733 -0.814029 -0.382326    one\n",
       "2019-10-24  0.275593  0.044249  0.342023 -0.072100    two\n",
       "2019-10-25 -0.365925  0.183008  1.783170 -0.341942  three\n",
       "2019-10-26 -0.863842 -2.388911 -0.202457 -0.841896   four\n",
       "2019-10-27 -0.179464 -1.068517  1.434838 -0.992652   five\n",
       "2019-10-28  0.449325  0.686399  1.125770  1.873668    six"
      ]
     },
     "execution_count": 96,
     "metadata": {},
     "output_type": "execute_result"
    }
   ],
   "source": [
    "df2 = df.copy()\n",
    "df2['e'] = ['one', 'two', 'three', 'four', 'five', 'six']\n",
    "df2"
   ]
  },
  {
   "cell_type": "code",
   "execution_count": 99,
   "metadata": {
    "ExecuteTime": {
     "end_time": "2019-10-18T12:17:03.948180Z",
     "start_time": "2019-10-18T12:17:03.933984Z"
    }
   },
   "outputs": [
    {
     "data": {
      "text/html": [
       "<div>\n",
       "<style scoped>\n",
       "    .dataframe tbody tr th:only-of-type {\n",
       "        vertical-align: middle;\n",
       "    }\n",
       "\n",
       "    .dataframe tbody tr th {\n",
       "        vertical-align: top;\n",
       "    }\n",
       "\n",
       "    .dataframe thead th {\n",
       "        text-align: right;\n",
       "    }\n",
       "</style>\n",
       "<table border=\"1\" class=\"dataframe\">\n",
       "  <thead>\n",
       "    <tr style=\"text-align: right;\">\n",
       "      <th></th>\n",
       "      <th>a</th>\n",
       "      <th>b</th>\n",
       "      <th>c</th>\n",
       "      <th>d</th>\n",
       "      <th>e</th>\n",
       "    </tr>\n",
       "  </thead>\n",
       "  <tbody>\n",
       "    <tr>\n",
       "      <th>2019-10-24</th>\n",
       "      <td>0.275593</td>\n",
       "      <td>0.044249</td>\n",
       "      <td>0.342023</td>\n",
       "      <td>-0.072100</td>\n",
       "      <td>two</td>\n",
       "    </tr>\n",
       "    <tr>\n",
       "      <th>2019-10-26</th>\n",
       "      <td>-0.863842</td>\n",
       "      <td>-2.388911</td>\n",
       "      <td>-0.202457</td>\n",
       "      <td>-0.841896</td>\n",
       "      <td>four</td>\n",
       "    </tr>\n",
       "  </tbody>\n",
       "</table>\n",
       "</div>"
      ],
      "text/plain": [
       "                   a         b         c         d     e\n",
       "2019-10-24  0.275593  0.044249  0.342023 -0.072100   two\n",
       "2019-10-26 -0.863842 -2.388911 -0.202457 -0.841896  four"
      ]
     },
     "execution_count": 99,
     "metadata": {},
     "output_type": "execute_result"
    }
   ],
   "source": [
    "df2[df2['e'].isin(['two', 'four'])]"
   ]
  },
  {
   "cell_type": "markdown",
   "metadata": {},
   "source": [
    "## setting"
   ]
  },
  {
   "cell_type": "code",
   "execution_count": 102,
   "metadata": {
    "ExecuteTime": {
     "end_time": "2019-10-18T12:18:32.251702Z",
     "start_time": "2019-10-18T12:18:32.246567Z"
    }
   },
   "outputs": [
    {
     "name": "stdout",
     "output_type": "stream",
     "text": [
      "2019-11-11    1\n",
      "2019-11-12    2\n",
      "2019-11-13    3\n",
      "2019-11-14    4\n",
      "2019-11-15    5\n",
      "2019-11-16    6\n",
      "Freq: D, dtype: int64\n"
     ]
    }
   ],
   "source": [
    "s1 = pd.Series(list(range(1,7)), index=pd.date_range('20191111', periods=6))\n",
    "print(s1)"
   ]
  },
  {
   "cell_type": "markdown",
   "metadata": {},
   "source": [
    "### setting values by label\n"
   ]
  },
  {
   "cell_type": "code",
   "execution_count": 104,
   "metadata": {
    "ExecuteTime": {
     "end_time": "2019-10-18T12:20:02.632123Z",
     "start_time": "2019-10-18T12:20:02.627237Z"
    }
   },
   "outputs": [],
   "source": [
    "df.at[dates[0], 'a'] = 0"
   ]
  },
  {
   "cell_type": "code",
   "execution_count": 105,
   "metadata": {
    "ExecuteTime": {
     "end_time": "2019-10-18T12:20:04.388762Z",
     "start_time": "2019-10-18T12:20:04.377206Z"
    }
   },
   "outputs": [
    {
     "data": {
      "text/html": [
       "<div>\n",
       "<style scoped>\n",
       "    .dataframe tbody tr th:only-of-type {\n",
       "        vertical-align: middle;\n",
       "    }\n",
       "\n",
       "    .dataframe tbody tr th {\n",
       "        vertical-align: top;\n",
       "    }\n",
       "\n",
       "    .dataframe thead th {\n",
       "        text-align: right;\n",
       "    }\n",
       "</style>\n",
       "<table border=\"1\" class=\"dataframe\">\n",
       "  <thead>\n",
       "    <tr style=\"text-align: right;\">\n",
       "      <th></th>\n",
       "      <th>a</th>\n",
       "      <th>b</th>\n",
       "      <th>c</th>\n",
       "      <th>d</th>\n",
       "    </tr>\n",
       "  </thead>\n",
       "  <tbody>\n",
       "    <tr>\n",
       "      <th>2019-10-23</th>\n",
       "      <td>0.000000</td>\n",
       "      <td>1.608733</td>\n",
       "      <td>-0.814029</td>\n",
       "      <td>-0.382326</td>\n",
       "    </tr>\n",
       "    <tr>\n",
       "      <th>2019-10-24</th>\n",
       "      <td>0.275593</td>\n",
       "      <td>0.044249</td>\n",
       "      <td>0.342023</td>\n",
       "      <td>-0.072100</td>\n",
       "    </tr>\n",
       "    <tr>\n",
       "      <th>2019-10-25</th>\n",
       "      <td>-0.365925</td>\n",
       "      <td>0.183008</td>\n",
       "      <td>1.783170</td>\n",
       "      <td>-0.341942</td>\n",
       "    </tr>\n",
       "    <tr>\n",
       "      <th>2019-10-26</th>\n",
       "      <td>-0.863842</td>\n",
       "      <td>-2.388911</td>\n",
       "      <td>-0.202457</td>\n",
       "      <td>-0.841896</td>\n",
       "    </tr>\n",
       "    <tr>\n",
       "      <th>2019-10-27</th>\n",
       "      <td>-0.179464</td>\n",
       "      <td>-1.068517</td>\n",
       "      <td>1.434838</td>\n",
       "      <td>-0.992652</td>\n",
       "    </tr>\n",
       "    <tr>\n",
       "      <th>2019-10-28</th>\n",
       "      <td>0.449325</td>\n",
       "      <td>0.686399</td>\n",
       "      <td>1.125770</td>\n",
       "      <td>1.873668</td>\n",
       "    </tr>\n",
       "  </tbody>\n",
       "</table>\n",
       "</div>"
      ],
      "text/plain": [
       "                   a         b         c         d\n",
       "2019-10-23  0.000000  1.608733 -0.814029 -0.382326\n",
       "2019-10-24  0.275593  0.044249  0.342023 -0.072100\n",
       "2019-10-25 -0.365925  0.183008  1.783170 -0.341942\n",
       "2019-10-26 -0.863842 -2.388911 -0.202457 -0.841896\n",
       "2019-10-27 -0.179464 -1.068517  1.434838 -0.992652\n",
       "2019-10-28  0.449325  0.686399  1.125770  1.873668"
      ]
     },
     "execution_count": 105,
     "metadata": {},
     "output_type": "execute_result"
    }
   ],
   "source": [
    "df"
   ]
  },
  {
   "cell_type": "markdown",
   "metadata": {},
   "source": [
    "### setting values by position"
   ]
  },
  {
   "cell_type": "code",
   "execution_count": 106,
   "metadata": {
    "ExecuteTime": {
     "end_time": "2019-10-18T12:21:26.008998Z",
     "start_time": "2019-10-18T12:21:25.999601Z"
    }
   },
   "outputs": [],
   "source": [
    "df.iat[0,1] = 0"
   ]
  },
  {
   "cell_type": "code",
   "execution_count": 107,
   "metadata": {
    "ExecuteTime": {
     "end_time": "2019-10-18T12:21:28.544673Z",
     "start_time": "2019-10-18T12:21:28.531415Z"
    }
   },
   "outputs": [
    {
     "data": {
      "text/html": [
       "<div>\n",
       "<style scoped>\n",
       "    .dataframe tbody tr th:only-of-type {\n",
       "        vertical-align: middle;\n",
       "    }\n",
       "\n",
       "    .dataframe tbody tr th {\n",
       "        vertical-align: top;\n",
       "    }\n",
       "\n",
       "    .dataframe thead th {\n",
       "        text-align: right;\n",
       "    }\n",
       "</style>\n",
       "<table border=\"1\" class=\"dataframe\">\n",
       "  <thead>\n",
       "    <tr style=\"text-align: right;\">\n",
       "      <th></th>\n",
       "      <th>a</th>\n",
       "      <th>b</th>\n",
       "      <th>c</th>\n",
       "      <th>d</th>\n",
       "    </tr>\n",
       "  </thead>\n",
       "  <tbody>\n",
       "    <tr>\n",
       "      <th>2019-10-23</th>\n",
       "      <td>0.000000</td>\n",
       "      <td>0.000000</td>\n",
       "      <td>-0.814029</td>\n",
       "      <td>-0.382326</td>\n",
       "    </tr>\n",
       "    <tr>\n",
       "      <th>2019-10-24</th>\n",
       "      <td>0.275593</td>\n",
       "      <td>0.044249</td>\n",
       "      <td>0.342023</td>\n",
       "      <td>-0.072100</td>\n",
       "    </tr>\n",
       "    <tr>\n",
       "      <th>2019-10-25</th>\n",
       "      <td>-0.365925</td>\n",
       "      <td>0.183008</td>\n",
       "      <td>1.783170</td>\n",
       "      <td>-0.341942</td>\n",
       "    </tr>\n",
       "    <tr>\n",
       "      <th>2019-10-26</th>\n",
       "      <td>-0.863842</td>\n",
       "      <td>-2.388911</td>\n",
       "      <td>-0.202457</td>\n",
       "      <td>-0.841896</td>\n",
       "    </tr>\n",
       "    <tr>\n",
       "      <th>2019-10-27</th>\n",
       "      <td>-0.179464</td>\n",
       "      <td>-1.068517</td>\n",
       "      <td>1.434838</td>\n",
       "      <td>-0.992652</td>\n",
       "    </tr>\n",
       "    <tr>\n",
       "      <th>2019-10-28</th>\n",
       "      <td>0.449325</td>\n",
       "      <td>0.686399</td>\n",
       "      <td>1.125770</td>\n",
       "      <td>1.873668</td>\n",
       "    </tr>\n",
       "  </tbody>\n",
       "</table>\n",
       "</div>"
      ],
      "text/plain": [
       "                   a         b         c         d\n",
       "2019-10-23  0.000000  0.000000 -0.814029 -0.382326\n",
       "2019-10-24  0.275593  0.044249  0.342023 -0.072100\n",
       "2019-10-25 -0.365925  0.183008  1.783170 -0.341942\n",
       "2019-10-26 -0.863842 -2.388911 -0.202457 -0.841896\n",
       "2019-10-27 -0.179464 -1.068517  1.434838 -0.992652\n",
       "2019-10-28  0.449325  0.686399  1.125770  1.873668"
      ]
     },
     "execution_count": 107,
     "metadata": {},
     "output_type": "execute_result"
    }
   ],
   "source": [
    "df"
   ]
  },
  {
   "cell_type": "markdown",
   "metadata": {},
   "source": [
    "### setting by assigning with a numpy array"
   ]
  },
  {
   "cell_type": "code",
   "execution_count": 113,
   "metadata": {
    "ExecuteTime": {
     "end_time": "2019-10-18T12:23:07.862546Z",
     "start_time": "2019-10-18T12:23:07.857441Z"
    }
   },
   "outputs": [],
   "source": [
    "df.loc[:, 'd'] = np.array([5] * len(df))"
   ]
  },
  {
   "cell_type": "code",
   "execution_count": 114,
   "metadata": {
    "ExecuteTime": {
     "end_time": "2019-10-18T12:23:08.835545Z",
     "start_time": "2019-10-18T12:23:08.814637Z"
    }
   },
   "outputs": [
    {
     "data": {
      "text/html": [
       "<div>\n",
       "<style scoped>\n",
       "    .dataframe tbody tr th:only-of-type {\n",
       "        vertical-align: middle;\n",
       "    }\n",
       "\n",
       "    .dataframe tbody tr th {\n",
       "        vertical-align: top;\n",
       "    }\n",
       "\n",
       "    .dataframe thead th {\n",
       "        text-align: right;\n",
       "    }\n",
       "</style>\n",
       "<table border=\"1\" class=\"dataframe\">\n",
       "  <thead>\n",
       "    <tr style=\"text-align: right;\">\n",
       "      <th></th>\n",
       "      <th>a</th>\n",
       "      <th>b</th>\n",
       "      <th>c</th>\n",
       "      <th>d</th>\n",
       "    </tr>\n",
       "  </thead>\n",
       "  <tbody>\n",
       "    <tr>\n",
       "      <th>2019-10-23</th>\n",
       "      <td>0.000000</td>\n",
       "      <td>0.000000</td>\n",
       "      <td>-0.814029</td>\n",
       "      <td>5</td>\n",
       "    </tr>\n",
       "    <tr>\n",
       "      <th>2019-10-24</th>\n",
       "      <td>0.275593</td>\n",
       "      <td>0.044249</td>\n",
       "      <td>0.342023</td>\n",
       "      <td>5</td>\n",
       "    </tr>\n",
       "    <tr>\n",
       "      <th>2019-10-25</th>\n",
       "      <td>-0.365925</td>\n",
       "      <td>0.183008</td>\n",
       "      <td>1.783170</td>\n",
       "      <td>5</td>\n",
       "    </tr>\n",
       "    <tr>\n",
       "      <th>2019-10-26</th>\n",
       "      <td>-0.863842</td>\n",
       "      <td>-2.388911</td>\n",
       "      <td>-0.202457</td>\n",
       "      <td>5</td>\n",
       "    </tr>\n",
       "    <tr>\n",
       "      <th>2019-10-27</th>\n",
       "      <td>-0.179464</td>\n",
       "      <td>-1.068517</td>\n",
       "      <td>1.434838</td>\n",
       "      <td>5</td>\n",
       "    </tr>\n",
       "    <tr>\n",
       "      <th>2019-10-28</th>\n",
       "      <td>0.449325</td>\n",
       "      <td>0.686399</td>\n",
       "      <td>1.125770</td>\n",
       "      <td>5</td>\n",
       "    </tr>\n",
       "  </tbody>\n",
       "</table>\n",
       "</div>"
      ],
      "text/plain": [
       "                   a         b         c  d\n",
       "2019-10-23  0.000000  0.000000 -0.814029  5\n",
       "2019-10-24  0.275593  0.044249  0.342023  5\n",
       "2019-10-25 -0.365925  0.183008  1.783170  5\n",
       "2019-10-26 -0.863842 -2.388911 -0.202457  5\n",
       "2019-10-27 -0.179464 -1.068517  1.434838  5\n",
       "2019-10-28  0.449325  0.686399  1.125770  5"
      ]
     },
     "execution_count": 114,
     "metadata": {},
     "output_type": "execute_result"
    }
   ],
   "source": [
    "df"
   ]
  },
  {
   "cell_type": "markdown",
   "metadata": {
    "ExecuteTime": {
     "end_time": "2019-10-18T12:24:27.400187Z",
     "start_time": "2019-10-18T12:24:27.397690Z"
    }
   },
   "source": [
    "## missing data\n",
    "### df.reindex()"
   ]
  },
  {
   "cell_type": "code",
   "execution_count": 118,
   "metadata": {
    "ExecuteTime": {
     "end_time": "2019-10-18T12:28:43.612477Z",
     "start_time": "2019-10-18T12:28:43.598022Z"
    }
   },
   "outputs": [
    {
     "data": {
      "text/html": [
       "<div>\n",
       "<style scoped>\n",
       "    .dataframe tbody tr th:only-of-type {\n",
       "        vertical-align: middle;\n",
       "    }\n",
       "\n",
       "    .dataframe tbody tr th {\n",
       "        vertical-align: top;\n",
       "    }\n",
       "\n",
       "    .dataframe thead th {\n",
       "        text-align: right;\n",
       "    }\n",
       "</style>\n",
       "<table border=\"1\" class=\"dataframe\">\n",
       "  <thead>\n",
       "    <tr style=\"text-align: right;\">\n",
       "      <th></th>\n",
       "      <th>a</th>\n",
       "      <th>b</th>\n",
       "      <th>c</th>\n",
       "      <th>d</th>\n",
       "      <th>e</th>\n",
       "    </tr>\n",
       "  </thead>\n",
       "  <tbody>\n",
       "    <tr>\n",
       "      <th>2019-10-23</th>\n",
       "      <td>0.000000</td>\n",
       "      <td>0.000000</td>\n",
       "      <td>-0.814029</td>\n",
       "      <td>5</td>\n",
       "      <td>1.0</td>\n",
       "    </tr>\n",
       "    <tr>\n",
       "      <th>2019-10-24</th>\n",
       "      <td>0.275593</td>\n",
       "      <td>0.044249</td>\n",
       "      <td>0.342023</td>\n",
       "      <td>5</td>\n",
       "      <td>1.0</td>\n",
       "    </tr>\n",
       "    <tr>\n",
       "      <th>2019-10-25</th>\n",
       "      <td>-0.365925</td>\n",
       "      <td>0.183008</td>\n",
       "      <td>1.783170</td>\n",
       "      <td>5</td>\n",
       "      <td>NaN</td>\n",
       "    </tr>\n",
       "    <tr>\n",
       "      <th>2019-10-26</th>\n",
       "      <td>-0.863842</td>\n",
       "      <td>-2.388911</td>\n",
       "      <td>-0.202457</td>\n",
       "      <td>5</td>\n",
       "      <td>NaN</td>\n",
       "    </tr>\n",
       "  </tbody>\n",
       "</table>\n",
       "</div>"
      ],
      "text/plain": [
       "                   a         b         c  d    e\n",
       "2019-10-23  0.000000  0.000000 -0.814029  5  1.0\n",
       "2019-10-24  0.275593  0.044249  0.342023  5  1.0\n",
       "2019-10-25 -0.365925  0.183008  1.783170  5  NaN\n",
       "2019-10-26 -0.863842 -2.388911 -0.202457  5  NaN"
      ]
     },
     "execution_count": 118,
     "metadata": {},
     "output_type": "execute_result"
    }
   ],
   "source": [
    "df1 = df.reindex(index=dates[0:4], columns=list(df.columns)+['e'])\n",
    "df1.loc[dates[0]:dates[1], 'e'] = 1\n",
    "df1"
   ]
  },
  {
   "cell_type": "code",
   "execution_count": 119,
   "metadata": {
    "ExecuteTime": {
     "end_time": "2019-10-18T12:29:18.744764Z",
     "start_time": "2019-10-18T12:29:18.729093Z"
    }
   },
   "outputs": [
    {
     "data": {
      "text/html": [
       "<div>\n",
       "<style scoped>\n",
       "    .dataframe tbody tr th:only-of-type {\n",
       "        vertical-align: middle;\n",
       "    }\n",
       "\n",
       "    .dataframe tbody tr th {\n",
       "        vertical-align: top;\n",
       "    }\n",
       "\n",
       "    .dataframe thead th {\n",
       "        text-align: right;\n",
       "    }\n",
       "</style>\n",
       "<table border=\"1\" class=\"dataframe\">\n",
       "  <thead>\n",
       "    <tr style=\"text-align: right;\">\n",
       "      <th></th>\n",
       "      <th>a</th>\n",
       "      <th>b</th>\n",
       "      <th>c</th>\n",
       "      <th>d</th>\n",
       "      <th>e</th>\n",
       "    </tr>\n",
       "  </thead>\n",
       "  <tbody>\n",
       "    <tr>\n",
       "      <th>2019-10-23</th>\n",
       "      <td>0.000000</td>\n",
       "      <td>0.000000</td>\n",
       "      <td>-0.814029</td>\n",
       "      <td>5</td>\n",
       "      <td>1.0</td>\n",
       "    </tr>\n",
       "    <tr>\n",
       "      <th>2019-10-24</th>\n",
       "      <td>0.275593</td>\n",
       "      <td>0.044249</td>\n",
       "      <td>0.342023</td>\n",
       "      <td>5</td>\n",
       "      <td>1.0</td>\n",
       "    </tr>\n",
       "  </tbody>\n",
       "</table>\n",
       "</div>"
      ],
      "text/plain": [
       "                   a         b         c  d    e\n",
       "2019-10-23  0.000000  0.000000 -0.814029  5  1.0\n",
       "2019-10-24  0.275593  0.044249  0.342023  5  1.0"
      ]
     },
     "execution_count": 119,
     "metadata": {},
     "output_type": "execute_result"
    }
   ],
   "source": [
    "# drop any rows that have missing data\n",
    "df1.dropna(how='any')"
   ]
  },
  {
   "cell_type": "code",
   "execution_count": 122,
   "metadata": {
    "ExecuteTime": {
     "end_time": "2019-10-18T12:30:00.008957Z",
     "start_time": "2019-10-18T12:29:59.982773Z"
    }
   },
   "outputs": [
    {
     "data": {
      "text/html": [
       "<div>\n",
       "<style scoped>\n",
       "    .dataframe tbody tr th:only-of-type {\n",
       "        vertical-align: middle;\n",
       "    }\n",
       "\n",
       "    .dataframe tbody tr th {\n",
       "        vertical-align: top;\n",
       "    }\n",
       "\n",
       "    .dataframe thead th {\n",
       "        text-align: right;\n",
       "    }\n",
       "</style>\n",
       "<table border=\"1\" class=\"dataframe\">\n",
       "  <thead>\n",
       "    <tr style=\"text-align: right;\">\n",
       "      <th></th>\n",
       "      <th>a</th>\n",
       "      <th>b</th>\n",
       "      <th>c</th>\n",
       "      <th>d</th>\n",
       "      <th>e</th>\n",
       "    </tr>\n",
       "  </thead>\n",
       "  <tbody>\n",
       "    <tr>\n",
       "      <th>2019-10-23</th>\n",
       "      <td>0.000000</td>\n",
       "      <td>0.000000</td>\n",
       "      <td>-0.814029</td>\n",
       "      <td>5</td>\n",
       "      <td>1.0</td>\n",
       "    </tr>\n",
       "    <tr>\n",
       "      <th>2019-10-24</th>\n",
       "      <td>0.275593</td>\n",
       "      <td>0.044249</td>\n",
       "      <td>0.342023</td>\n",
       "      <td>5</td>\n",
       "      <td>1.0</td>\n",
       "    </tr>\n",
       "    <tr>\n",
       "      <th>2019-10-25</th>\n",
       "      <td>-0.365925</td>\n",
       "      <td>0.183008</td>\n",
       "      <td>1.783170</td>\n",
       "      <td>5</td>\n",
       "      <td>NaN</td>\n",
       "    </tr>\n",
       "    <tr>\n",
       "      <th>2019-10-26</th>\n",
       "      <td>-0.863842</td>\n",
       "      <td>-2.388911</td>\n",
       "      <td>-0.202457</td>\n",
       "      <td>5</td>\n",
       "      <td>NaN</td>\n",
       "    </tr>\n",
       "  </tbody>\n",
       "</table>\n",
       "</div>"
      ],
      "text/plain": [
       "                   a         b         c  d    e\n",
       "2019-10-23  0.000000  0.000000 -0.814029  5  1.0\n",
       "2019-10-24  0.275593  0.044249  0.342023  5  1.0\n",
       "2019-10-25 -0.365925  0.183008  1.783170  5  NaN\n",
       "2019-10-26 -0.863842 -2.388911 -0.202457  5  NaN"
      ]
     },
     "execution_count": 122,
     "metadata": {},
     "output_type": "execute_result"
    }
   ],
   "source": [
    "# drop all rows that have missing data\n",
    "df1.dropna(how='all')"
   ]
  },
  {
   "cell_type": "code",
   "execution_count": 127,
   "metadata": {
    "ExecuteTime": {
     "end_time": "2019-10-18T12:31:15.688265Z",
     "start_time": "2019-10-18T12:31:15.680432Z"
    }
   },
   "outputs": [
    {
     "name": "stdout",
     "output_type": "stream",
     "text": [
      "                   a         b         c  d        e\n",
      "2019-10-23  0.000000  0.000000 -0.814029  5        1\n",
      "2019-10-24  0.275593  0.044249  0.342023  5        1\n",
      "2019-10-25 -0.365925  0.183008  1.783170  5  missing\n",
      "2019-10-26 -0.863842 -2.388911 -0.202457  5  missing\n"
     ]
    }
   ],
   "source": [
    "# filling missing data\n",
    "df2 = df1.fillna(value='missing')\n",
    "print(df2)\n",
    "# df2.loc[:,'e']"
   ]
  },
  {
   "cell_type": "code",
   "execution_count": 128,
   "metadata": {
    "ExecuteTime": {
     "end_time": "2019-10-18T12:31:43.733884Z",
     "start_time": "2019-10-18T12:31:43.721933Z"
    }
   },
   "outputs": [
    {
     "data": {
      "text/html": [
       "<div>\n",
       "<style scoped>\n",
       "    .dataframe tbody tr th:only-of-type {\n",
       "        vertical-align: middle;\n",
       "    }\n",
       "\n",
       "    .dataframe tbody tr th {\n",
       "        vertical-align: top;\n",
       "    }\n",
       "\n",
       "    .dataframe thead th {\n",
       "        text-align: right;\n",
       "    }\n",
       "</style>\n",
       "<table border=\"1\" class=\"dataframe\">\n",
       "  <thead>\n",
       "    <tr style=\"text-align: right;\">\n",
       "      <th></th>\n",
       "      <th>a</th>\n",
       "      <th>b</th>\n",
       "      <th>c</th>\n",
       "      <th>d</th>\n",
       "      <th>e</th>\n",
       "    </tr>\n",
       "  </thead>\n",
       "  <tbody>\n",
       "    <tr>\n",
       "      <th>2019-10-23</th>\n",
       "      <td>False</td>\n",
       "      <td>False</td>\n",
       "      <td>False</td>\n",
       "      <td>False</td>\n",
       "      <td>False</td>\n",
       "    </tr>\n",
       "    <tr>\n",
       "      <th>2019-10-24</th>\n",
       "      <td>False</td>\n",
       "      <td>False</td>\n",
       "      <td>False</td>\n",
       "      <td>False</td>\n",
       "      <td>False</td>\n",
       "    </tr>\n",
       "    <tr>\n",
       "      <th>2019-10-25</th>\n",
       "      <td>False</td>\n",
       "      <td>False</td>\n",
       "      <td>False</td>\n",
       "      <td>False</td>\n",
       "      <td>True</td>\n",
       "    </tr>\n",
       "    <tr>\n",
       "      <th>2019-10-26</th>\n",
       "      <td>False</td>\n",
       "      <td>False</td>\n",
       "      <td>False</td>\n",
       "      <td>False</td>\n",
       "      <td>True</td>\n",
       "    </tr>\n",
       "  </tbody>\n",
       "</table>\n",
       "</div>"
      ],
      "text/plain": [
       "                a      b      c      d      e\n",
       "2019-10-23  False  False  False  False  False\n",
       "2019-10-24  False  False  False  False  False\n",
       "2019-10-25  False  False  False  False   True\n",
       "2019-10-26  False  False  False  False   True"
      ]
     },
     "execution_count": 128,
     "metadata": {},
     "output_type": "execute_result"
    }
   ],
   "source": [
    "# get the boolean mask where values are nan\n",
    "pd.isna(df1)"
   ]
  },
  {
   "cell_type": "markdown",
   "metadata": {},
   "source": [
    "## operations"
   ]
  },
  {
   "cell_type": "markdown",
   "metadata": {},
   "source": [
    "### stats"
   ]
  },
  {
   "cell_type": "code",
   "execution_count": 135,
   "metadata": {
    "ExecuteTime": {
     "end_time": "2019-10-18T12:35:30.583604Z",
     "start_time": "2019-10-18T12:35:30.551869Z"
    }
   },
   "outputs": [
    {
     "name": "stdout",
     "output_type": "stream",
     "text": [
      "              a         b         c    d\n",
      "count  6.000000  6.000000  6.000000  6.0\n",
      "mean  -0.114052 -0.423962  0.611553  5.0\n",
      "std    0.471620  1.120425  1.008211  0.0\n",
      "min   -0.863842 -2.388911 -0.814029  5.0\n",
      "25%   -0.319310 -0.801388 -0.066337  5.0\n",
      "50%   -0.089732  0.022124  0.733896  5.0\n",
      "75%    0.206695  0.148318  1.357571  5.0\n",
      "max    0.449325  0.686399  1.783170  5.0\n",
      "**************************************************\n",
      "a   -0.114052\n",
      "b   -0.423962\n",
      "c    0.611553\n",
      "d    5.000000\n",
      "dtype: float64\n",
      "**************************************************\n",
      "2019-10-23    1.046493\n",
      "2019-10-24    1.415466\n",
      "2019-10-25    1.650064\n",
      "2019-10-26    0.386197\n",
      "2019-10-27    1.296714\n",
      "2019-10-28    1.815374\n",
      "Freq: D, dtype: float64\n",
      "**************************************************\n",
      "a   -0.114052\n",
      "b   -0.423962\n",
      "c    0.611553\n",
      "d    5.000000\n",
      "dtype: float64\n"
     ]
    }
   ],
   "source": [
    "# performing a descriptive statistic\n",
    "print(df.describe())\n",
    "print('*'*50)\n",
    "print(df.mean())\n",
    "print('*'*50)\n",
    "print(df.mean(axis=1))\n",
    "print('*'*50)\n",
    "print(df.mean(axis=0))\n"
   ]
  },
  {
   "cell_type": "code",
   "execution_count": 147,
   "metadata": {
    "ExecuteTime": {
     "end_time": "2019-10-18T12:45:26.290003Z",
     "start_time": "2019-10-18T12:45:26.283524Z"
    }
   },
   "outputs": [
    {
     "data": {
      "text/plain": [
       "2019-10-23    1.0\n",
       "2019-10-24    3.0\n",
       "2019-10-25    5.0\n",
       "2019-10-26    NaN\n",
       "2019-10-27    6.0\n",
       "2019-10-28    8.0\n",
       "Freq: D, dtype: float64"
      ]
     },
     "execution_count": 147,
     "metadata": {},
     "output_type": "execute_result"
    }
   ],
   "source": [
    "s = pd.Series([1,3,5,np.nan, 6,8],index=dates)\n",
    "s\n",
    "\n"
   ]
  },
  {
   "cell_type": "code",
   "execution_count": 151,
   "metadata": {
    "ExecuteTime": {
     "end_time": "2019-10-18T12:48:52.216037Z",
     "start_time": "2019-10-18T12:48:52.200862Z"
    }
   },
   "outputs": [
    {
     "name": "stdout",
     "output_type": "stream",
     "text": [
      "                   a         b         c    d\n",
      "2019-10-23 -1.000000 -1.000000 -1.814029  4.0\n",
      "2019-10-24 -2.724407 -2.955751 -2.657977  2.0\n",
      "2019-10-25 -5.365925 -4.816992 -3.216830  0.0\n",
      "2019-10-26       NaN       NaN       NaN  NaN\n",
      "2019-10-27 -6.179464 -7.068517 -4.565162 -1.0\n",
      "2019-10-28 -7.550675 -7.313601 -6.874230 -3.0\n"
     ]
    },
    {
     "data": {
      "text/html": [
       "<div>\n",
       "<style scoped>\n",
       "    .dataframe tbody tr th:only-of-type {\n",
       "        vertical-align: middle;\n",
       "    }\n",
       "\n",
       "    .dataframe tbody tr th {\n",
       "        vertical-align: top;\n",
       "    }\n",
       "\n",
       "    .dataframe thead th {\n",
       "        text-align: right;\n",
       "    }\n",
       "</style>\n",
       "<table border=\"1\" class=\"dataframe\">\n",
       "  <thead>\n",
       "    <tr style=\"text-align: right;\">\n",
       "      <th></th>\n",
       "      <th>a</th>\n",
       "      <th>b</th>\n",
       "      <th>c</th>\n",
       "      <th>d</th>\n",
       "    </tr>\n",
       "  </thead>\n",
       "  <tbody>\n",
       "    <tr>\n",
       "      <th>2019-10-23</th>\n",
       "      <td>0.000000</td>\n",
       "      <td>0.000000</td>\n",
       "      <td>-0.814029</td>\n",
       "      <td>5</td>\n",
       "    </tr>\n",
       "    <tr>\n",
       "      <th>2019-10-24</th>\n",
       "      <td>0.275593</td>\n",
       "      <td>0.044249</td>\n",
       "      <td>0.342023</td>\n",
       "      <td>5</td>\n",
       "    </tr>\n",
       "    <tr>\n",
       "      <th>2019-10-25</th>\n",
       "      <td>-0.365925</td>\n",
       "      <td>0.183008</td>\n",
       "      <td>1.783170</td>\n",
       "      <td>5</td>\n",
       "    </tr>\n",
       "    <tr>\n",
       "      <th>2019-10-26</th>\n",
       "      <td>-0.863842</td>\n",
       "      <td>-2.388911</td>\n",
       "      <td>-0.202457</td>\n",
       "      <td>5</td>\n",
       "    </tr>\n",
       "    <tr>\n",
       "      <th>2019-10-27</th>\n",
       "      <td>-0.179464</td>\n",
       "      <td>-1.068517</td>\n",
       "      <td>1.434838</td>\n",
       "      <td>5</td>\n",
       "    </tr>\n",
       "    <tr>\n",
       "      <th>2019-10-28</th>\n",
       "      <td>0.449325</td>\n",
       "      <td>0.686399</td>\n",
       "      <td>1.125770</td>\n",
       "      <td>5</td>\n",
       "    </tr>\n",
       "  </tbody>\n",
       "</table>\n",
       "</div>"
      ],
      "text/plain": [
       "                   a         b         c  d\n",
       "2019-10-23  0.000000  0.000000 -0.814029  5\n",
       "2019-10-24  0.275593  0.044249  0.342023  5\n",
       "2019-10-25 -0.365925  0.183008  1.783170  5\n",
       "2019-10-26 -0.863842 -2.388911 -0.202457  5\n",
       "2019-10-27 -0.179464 -1.068517  1.434838  5\n",
       "2019-10-28  0.449325  0.686399  1.125770  5"
      ]
     },
     "execution_count": 151,
     "metadata": {},
     "output_type": "execute_result"
    }
   ],
   "source": [
    "print(df.sub(s, axis='index'))\n",
    "df"
   ]
  },
  {
   "cell_type": "markdown",
   "metadata": {},
   "source": [
    "### apply\n",
    "applying functions to the data"
   ]
  },
  {
   "cell_type": "code",
   "execution_count": 153,
   "metadata": {
    "ExecuteTime": {
     "end_time": "2019-10-18T12:52:47.327819Z",
     "start_time": "2019-10-18T12:52:47.312504Z"
    }
   },
   "outputs": [
    {
     "data": {
      "text/html": [
       "<div>\n",
       "<style scoped>\n",
       "    .dataframe tbody tr th:only-of-type {\n",
       "        vertical-align: middle;\n",
       "    }\n",
       "\n",
       "    .dataframe tbody tr th {\n",
       "        vertical-align: top;\n",
       "    }\n",
       "\n",
       "    .dataframe thead th {\n",
       "        text-align: right;\n",
       "    }\n",
       "</style>\n",
       "<table border=\"1\" class=\"dataframe\">\n",
       "  <thead>\n",
       "    <tr style=\"text-align: right;\">\n",
       "      <th></th>\n",
       "      <th>a</th>\n",
       "      <th>b</th>\n",
       "      <th>c</th>\n",
       "      <th>d</th>\n",
       "    </tr>\n",
       "  </thead>\n",
       "  <tbody>\n",
       "    <tr>\n",
       "      <th>2019-10-23</th>\n",
       "      <td>0.000000</td>\n",
       "      <td>0.000000</td>\n",
       "      <td>-0.814029</td>\n",
       "      <td>5</td>\n",
       "    </tr>\n",
       "    <tr>\n",
       "      <th>2019-10-24</th>\n",
       "      <td>0.275593</td>\n",
       "      <td>0.044249</td>\n",
       "      <td>-0.472007</td>\n",
       "      <td>10</td>\n",
       "    </tr>\n",
       "    <tr>\n",
       "      <th>2019-10-25</th>\n",
       "      <td>-0.090332</td>\n",
       "      <td>0.227257</td>\n",
       "      <td>1.311164</td>\n",
       "      <td>15</td>\n",
       "    </tr>\n",
       "    <tr>\n",
       "      <th>2019-10-26</th>\n",
       "      <td>-0.954174</td>\n",
       "      <td>-2.161654</td>\n",
       "      <td>1.108707</td>\n",
       "      <td>20</td>\n",
       "    </tr>\n",
       "    <tr>\n",
       "      <th>2019-10-27</th>\n",
       "      <td>-1.133638</td>\n",
       "      <td>-3.230172</td>\n",
       "      <td>2.543545</td>\n",
       "      <td>25</td>\n",
       "    </tr>\n",
       "    <tr>\n",
       "      <th>2019-10-28</th>\n",
       "      <td>-0.684312</td>\n",
       "      <td>-2.543772</td>\n",
       "      <td>3.669315</td>\n",
       "      <td>30</td>\n",
       "    </tr>\n",
       "  </tbody>\n",
       "</table>\n",
       "</div>"
      ],
      "text/plain": [
       "                   a         b         c   d\n",
       "2019-10-23  0.000000  0.000000 -0.814029   5\n",
       "2019-10-24  0.275593  0.044249 -0.472007  10\n",
       "2019-10-25 -0.090332  0.227257  1.311164  15\n",
       "2019-10-26 -0.954174 -2.161654  1.108707  20\n",
       "2019-10-27 -1.133638 -3.230172  2.543545  25\n",
       "2019-10-28 -0.684312 -2.543772  3.669315  30"
      ]
     },
     "execution_count": 153,
     "metadata": {},
     "output_type": "execute_result"
    }
   ],
   "source": [
    "df.apply(np.cumsum)\n"
   ]
  },
  {
   "cell_type": "code",
   "execution_count": 154,
   "metadata": {
    "ExecuteTime": {
     "end_time": "2019-10-18T12:53:09.283937Z",
     "start_time": "2019-10-18T12:53:09.273572Z"
    }
   },
   "outputs": [
    {
     "data": {
      "text/plain": [
       "a    1.313167\n",
       "b    3.075311\n",
       "c    2.597200\n",
       "d    0.000000\n",
       "dtype: float64"
      ]
     },
     "execution_count": 154,
     "metadata": {},
     "output_type": "execute_result"
    }
   ],
   "source": [
    "df.apply(lambda x:x.max() - x.min())"
   ]
  },
  {
   "cell_type": "markdown",
   "metadata": {},
   "source": [
    "### histogramming"
   ]
  },
  {
   "cell_type": "code",
   "execution_count": 155,
   "metadata": {
    "ExecuteTime": {
     "end_time": "2019-10-18T12:54:37.791316Z",
     "start_time": "2019-10-18T12:54:37.784055Z"
    }
   },
   "outputs": [
    {
     "data": {
      "text/plain": [
       "0    6\n",
       "1    2\n",
       "2    4\n",
       "3    1\n",
       "4    3\n",
       "5    6\n",
       "6    4\n",
       "7    0\n",
       "8    1\n",
       "9    3\n",
       "dtype: int64"
      ]
     },
     "execution_count": 155,
     "metadata": {},
     "output_type": "execute_result"
    }
   ],
   "source": [
    "s = pd.Series(np.random.randint(0, 7, size=10))\n",
    "s"
   ]
  },
  {
   "cell_type": "code",
   "execution_count": 156,
   "metadata": {
    "ExecuteTime": {
     "end_time": "2019-10-18T12:54:52.961501Z",
     "start_time": "2019-10-18T12:54:52.953916Z"
    }
   },
   "outputs": [
    {
     "data": {
      "text/plain": [
       "6    2\n",
       "4    2\n",
       "3    2\n",
       "1    2\n",
       "2    1\n",
       "0    1\n",
       "dtype: int64"
      ]
     },
     "execution_count": 156,
     "metadata": {},
     "output_type": "execute_result"
    }
   ],
   "source": [
    "s.value_counts()"
   ]
  }
 ],
 "metadata": {
  "kernelspec": {
   "display_name": "Python 3",
   "language": "python",
   "name": "python3"
  },
  "language_info": {
   "codemirror_mode": {
    "name": "ipython",
    "version": 3
   },
   "file_extension": ".py",
   "mimetype": "text/x-python",
   "name": "python",
   "nbconvert_exporter": "python",
   "pygments_lexer": "ipython3",
   "version": "3.7.3"
  },
  "toc": {
   "base_numbering": 1,
   "nav_menu": {},
   "number_sections": true,
   "sideBar": true,
   "skip_h1_title": false,
   "title_cell": "Table of Contents",
   "title_sidebar": "Contents",
   "toc_cell": false,
   "toc_position": {},
   "toc_section_display": true,
   "toc_window_display": false
  }
 },
 "nbformat": 4,
 "nbformat_minor": 2
}
