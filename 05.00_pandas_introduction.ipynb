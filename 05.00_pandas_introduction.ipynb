{
 "cells": [
  {
   "cell_type": "code",
   "execution_count": 1,
   "metadata": {
    "ExecuteTime": {
     "end_time": "2019-10-21T10:43:02.345885Z",
     "start_time": "2019-10-21T10:42:55.686965Z"
    }
   },
   "outputs": [],
   "source": [
    "import numpy as np\n",
    "import pandas as pd\n",
    "\n"
   ]
  },
  {
   "cell_type": "markdown",
   "metadata": {},
   "source": [
    "## object creation"
   ]
  },
  {
   "cell_type": "code",
   "execution_count": 2,
   "metadata": {
    "ExecuteTime": {
     "end_time": "2019-10-21T10:43:02.394856Z",
     "start_time": "2019-10-21T10:43:02.350753Z"
    }
   },
   "outputs": [
    {
     "name": "stdout",
     "output_type": "stream",
     "text": [
      "0    1.0\n",
      "1    3.0\n",
      "2    5.0\n",
      "3    NaN\n",
      "4    6.0\n",
      "5    8.0\n",
      "dtype: float64\n"
     ]
    }
   ],
   "source": [
    "# creat a series\n",
    "s = pd.Series([1,3,5,np.nan,6,8])\n",
    "print(s)"
   ]
  },
  {
   "cell_type": "code",
   "execution_count": 3,
   "metadata": {
    "ExecuteTime": {
     "end_time": "2019-10-21T10:43:02.555978Z",
     "start_time": "2019-10-21T10:43:02.399978Z"
    }
   },
   "outputs": [
    {
     "name": "stdout",
     "output_type": "stream",
     "text": [
      "DatetimeIndex(['2019-10-23', '2019-10-24', '2019-10-25', '2019-10-26',\n",
      "               '2019-10-27', '2019-10-28'],\n",
      "              dtype='datetime64[ns]', freq='D')\n",
      "                   a         b         c         d\n",
      "2019-10-23 -1.144811 -0.332166 -1.497940  0.911046\n",
      "2019-10-24  2.362060 -1.408420 -1.379263  1.077921\n",
      "2019-10-25  0.193773  1.562984 -0.114057  1.098926\n",
      "2019-10-26  1.428276  0.663978  0.466409 -0.642886\n",
      "2019-10-27  0.795113  0.813499 -0.023738 -0.248085\n",
      "2019-10-28  1.114396 -0.586237  1.789198 -0.214345\n"
     ]
    }
   ],
   "source": [
    "# creat a DataFrame\n",
    "dates = pd.date_range('20191023', periods=6)\n",
    "print(dates)\n",
    "\n",
    "# pd.DataFrame(array, index, col_index)\n",
    "df = pd.DataFrame(np.random.randn(6,4), index=dates, columns=list('abcd'))\n",
    "print(df)"
   ]
  },
  {
   "cell_type": "code",
   "execution_count": 4,
   "metadata": {
    "ExecuteTime": {
     "end_time": "2019-10-21T10:43:02.602026Z",
     "start_time": "2019-10-21T10:43:02.560241Z"
    }
   },
   "outputs": [
    {
     "name": "stdout",
     "output_type": "stream",
     "text": [
      "   a          b    c  d      e    f\n",
      "0  1 2019-10-25  1.0  3   test  foo\n",
      "1  1 2019-10-25  1.0  3  train  foo\n",
      "2  1 2019-10-25  1.0  3   test  foo\n",
      "3  1 2019-10-25  1.0  3  train  foo\n"
     ]
    }
   ],
   "source": [
    "# creating a DataFrame by passing a dict of object \n",
    "df2 = pd.DataFrame({'a':1,\n",
    "                    'b':pd.Timestamp('20191025'),\n",
    "                    'c':pd.Series(1,index=list(range(4)),dtype='float32'),\n",
    "                    'd':np.array([3]*4, dtype='int32'),\n",
    "                    'e': pd.Categorical([\"test\", \"train\", \"test\", \"train\"]),\n",
    "                    'f':'foo'\n",
    "                    })\n",
    "\n",
    "print(df2)"
   ]
  },
  {
   "cell_type": "code",
   "execution_count": 5,
   "metadata": {
    "ExecuteTime": {
     "end_time": "2019-10-21T10:43:02.680004Z",
     "start_time": "2019-10-21T10:43:02.606037Z"
    }
   },
   "outputs": [
    {
     "data": {
      "text/plain": [
       "array([3, 3, 3, 3])"
      ]
     },
     "execution_count": 5,
     "metadata": {},
     "output_type": "execute_result"
    }
   ],
   "source": [
    "np.array([3]*4, dtype='int32')"
   ]
  },
  {
   "cell_type": "markdown",
   "metadata": {},
   "source": [
    "## viewing data"
   ]
  },
  {
   "cell_type": "code",
   "execution_count": 6,
   "metadata": {
    "ExecuteTime": {
     "end_time": "2019-10-21T10:43:02.807607Z",
     "start_time": "2019-10-21T10:43:02.686327Z"
    }
   },
   "outputs": [
    {
     "data": {
      "text/html": [
       "<div>\n",
       "<style scoped>\n",
       "    .dataframe tbody tr th:only-of-type {\n",
       "        vertical-align: middle;\n",
       "    }\n",
       "\n",
       "    .dataframe tbody tr th {\n",
       "        vertical-align: top;\n",
       "    }\n",
       "\n",
       "    .dataframe thead th {\n",
       "        text-align: right;\n",
       "    }\n",
       "</style>\n",
       "<table border=\"1\" class=\"dataframe\">\n",
       "  <thead>\n",
       "    <tr style=\"text-align: right;\">\n",
       "      <th></th>\n",
       "      <th>a</th>\n",
       "      <th>b</th>\n",
       "      <th>c</th>\n",
       "      <th>d</th>\n",
       "    </tr>\n",
       "  </thead>\n",
       "  <tbody>\n",
       "    <tr>\n",
       "      <th>2019-10-23</th>\n",
       "      <td>-1.144811</td>\n",
       "      <td>-0.332166</td>\n",
       "      <td>-1.497940</td>\n",
       "      <td>0.911046</td>\n",
       "    </tr>\n",
       "    <tr>\n",
       "      <th>2019-10-24</th>\n",
       "      <td>2.362060</td>\n",
       "      <td>-1.408420</td>\n",
       "      <td>-1.379263</td>\n",
       "      <td>1.077921</td>\n",
       "    </tr>\n",
       "    <tr>\n",
       "      <th>2019-10-25</th>\n",
       "      <td>0.193773</td>\n",
       "      <td>1.562984</td>\n",
       "      <td>-0.114057</td>\n",
       "      <td>1.098926</td>\n",
       "    </tr>\n",
       "    <tr>\n",
       "      <th>2019-10-26</th>\n",
       "      <td>1.428276</td>\n",
       "      <td>0.663978</td>\n",
       "      <td>0.466409</td>\n",
       "      <td>-0.642886</td>\n",
       "    </tr>\n",
       "    <tr>\n",
       "      <th>2019-10-27</th>\n",
       "      <td>0.795113</td>\n",
       "      <td>0.813499</td>\n",
       "      <td>-0.023738</td>\n",
       "      <td>-0.248085</td>\n",
       "    </tr>\n",
       "  </tbody>\n",
       "</table>\n",
       "</div>"
      ],
      "text/plain": [
       "                   a         b         c         d\n",
       "2019-10-23 -1.144811 -0.332166 -1.497940  0.911046\n",
       "2019-10-24  2.362060 -1.408420 -1.379263  1.077921\n",
       "2019-10-25  0.193773  1.562984 -0.114057  1.098926\n",
       "2019-10-26  1.428276  0.663978  0.466409 -0.642886\n",
       "2019-10-27  0.795113  0.813499 -0.023738 -0.248085"
      ]
     },
     "execution_count": 6,
     "metadata": {},
     "output_type": "execute_result"
    }
   ],
   "source": [
    "df.head()"
   ]
  },
  {
   "cell_type": "code",
   "execution_count": 7,
   "metadata": {
    "ExecuteTime": {
     "end_time": "2019-10-21T10:43:02.856360Z",
     "start_time": "2019-10-21T10:43:02.809639Z"
    }
   },
   "outputs": [
    {
     "data": {
      "text/html": [
       "<div>\n",
       "<style scoped>\n",
       "    .dataframe tbody tr th:only-of-type {\n",
       "        vertical-align: middle;\n",
       "    }\n",
       "\n",
       "    .dataframe tbody tr th {\n",
       "        vertical-align: top;\n",
       "    }\n",
       "\n",
       "    .dataframe thead th {\n",
       "        text-align: right;\n",
       "    }\n",
       "</style>\n",
       "<table border=\"1\" class=\"dataframe\">\n",
       "  <thead>\n",
       "    <tr style=\"text-align: right;\">\n",
       "      <th></th>\n",
       "      <th>a</th>\n",
       "      <th>b</th>\n",
       "      <th>c</th>\n",
       "      <th>d</th>\n",
       "    </tr>\n",
       "  </thead>\n",
       "  <tbody>\n",
       "    <tr>\n",
       "      <th>2019-10-26</th>\n",
       "      <td>1.428276</td>\n",
       "      <td>0.663978</td>\n",
       "      <td>0.466409</td>\n",
       "      <td>-0.642886</td>\n",
       "    </tr>\n",
       "    <tr>\n",
       "      <th>2019-10-27</th>\n",
       "      <td>0.795113</td>\n",
       "      <td>0.813499</td>\n",
       "      <td>-0.023738</td>\n",
       "      <td>-0.248085</td>\n",
       "    </tr>\n",
       "    <tr>\n",
       "      <th>2019-10-28</th>\n",
       "      <td>1.114396</td>\n",
       "      <td>-0.586237</td>\n",
       "      <td>1.789198</td>\n",
       "      <td>-0.214345</td>\n",
       "    </tr>\n",
       "  </tbody>\n",
       "</table>\n",
       "</div>"
      ],
      "text/plain": [
       "                   a         b         c         d\n",
       "2019-10-26  1.428276  0.663978  0.466409 -0.642886\n",
       "2019-10-27  0.795113  0.813499 -0.023738 -0.248085\n",
       "2019-10-28  1.114396 -0.586237  1.789198 -0.214345"
      ]
     },
     "execution_count": 7,
     "metadata": {},
     "output_type": "execute_result"
    }
   ],
   "source": [
    "df.tail(3)"
   ]
  },
  {
   "cell_type": "code",
   "execution_count": 8,
   "metadata": {
    "ExecuteTime": {
     "end_time": "2019-10-21T10:43:02.872275Z",
     "start_time": "2019-10-21T10:43:02.859819Z"
    }
   },
   "outputs": [
    {
     "data": {
      "text/plain": [
       "DatetimeIndex(['2019-10-23', '2019-10-24', '2019-10-25', '2019-10-26',\n",
       "               '2019-10-27', '2019-10-28'],\n",
       "              dtype='datetime64[ns]', freq='D')"
      ]
     },
     "execution_count": 8,
     "metadata": {},
     "output_type": "execute_result"
    }
   ],
   "source": [
    "df.index"
   ]
  },
  {
   "cell_type": "code",
   "execution_count": 9,
   "metadata": {
    "ExecuteTime": {
     "end_time": "2019-10-21T10:43:02.887636Z",
     "start_time": "2019-10-21T10:43:02.875855Z"
    }
   },
   "outputs": [
    {
     "data": {
      "text/plain": [
       "Index(['a', 'b', 'c', 'd'], dtype='object')"
      ]
     },
     "execution_count": 9,
     "metadata": {},
     "output_type": "execute_result"
    }
   ],
   "source": [
    "df.columns"
   ]
  },
  {
   "cell_type": "code",
   "execution_count": 10,
   "metadata": {
    "ExecuteTime": {
     "end_time": "2019-10-21T10:43:02.903553Z",
     "start_time": "2019-10-21T10:43:02.892295Z"
    }
   },
   "outputs": [
    {
     "data": {
      "text/plain": [
       "array([[-1.14481127, -0.33216641, -1.49793986,  0.91104642],\n",
       "       [ 2.36205975, -1.40842012, -1.3792635 ,  1.07792101],\n",
       "       [ 0.19377278,  1.5629842 , -0.11405724,  1.09892604],\n",
       "       [ 1.42827555,  0.66397787,  0.46640859, -0.64288605],\n",
       "       [ 0.79511315,  0.81349872, -0.02373785, -0.24808535],\n",
       "       [ 1.11439565, -0.5862375 ,  1.78919772, -0.21434506]])"
      ]
     },
     "execution_count": 10,
     "metadata": {},
     "output_type": "execute_result"
    }
   ],
   "source": [
    "df.to_numpy()"
   ]
  },
  {
   "cell_type": "code",
   "execution_count": 11,
   "metadata": {
    "ExecuteTime": {
     "end_time": "2019-10-21T10:43:02.942040Z",
     "start_time": "2019-10-21T10:43:02.909817Z"
    }
   },
   "outputs": [
    {
     "data": {
      "text/plain": [
       "array([[1, Timestamp('2019-10-25 00:00:00'), 1.0, 3, 'test', 'foo'],\n",
       "       [1, Timestamp('2019-10-25 00:00:00'), 1.0, 3, 'train', 'foo'],\n",
       "       [1, Timestamp('2019-10-25 00:00:00'), 1.0, 3, 'test', 'foo'],\n",
       "       [1, Timestamp('2019-10-25 00:00:00'), 1.0, 3, 'train', 'foo']],\n",
       "      dtype=object)"
      ]
     },
     "execution_count": 11,
     "metadata": {},
     "output_type": "execute_result"
    }
   ],
   "source": [
    "df2.to_numpy()"
   ]
  },
  {
   "cell_type": "markdown",
   "metadata": {},
   "source": [
    "***Note:*** DataFrame.to_numpy() does not include the index or column labels in the output."
   ]
  },
  {
   "cell_type": "markdown",
   "metadata": {},
   "source": [
    "### decribe() shows a quick statistic summary of data\n"
   ]
  },
  {
   "cell_type": "code",
   "execution_count": 12,
   "metadata": {
    "ExecuteTime": {
     "end_time": "2019-10-21T10:43:02.997043Z",
     "start_time": "2019-10-21T10:43:02.949374Z"
    }
   },
   "outputs": [
    {
     "data": {
      "text/html": [
       "<div>\n",
       "<style scoped>\n",
       "    .dataframe tbody tr th:only-of-type {\n",
       "        vertical-align: middle;\n",
       "    }\n",
       "\n",
       "    .dataframe tbody tr th {\n",
       "        vertical-align: top;\n",
       "    }\n",
       "\n",
       "    .dataframe thead th {\n",
       "        text-align: right;\n",
       "    }\n",
       "</style>\n",
       "<table border=\"1\" class=\"dataframe\">\n",
       "  <thead>\n",
       "    <tr style=\"text-align: right;\">\n",
       "      <th></th>\n",
       "      <th>a</th>\n",
       "      <th>b</th>\n",
       "      <th>c</th>\n",
       "      <th>d</th>\n",
       "    </tr>\n",
       "  </thead>\n",
       "  <tbody>\n",
       "    <tr>\n",
       "      <th>count</th>\n",
       "      <td>6.000000</td>\n",
       "      <td>6.000000</td>\n",
       "      <td>6.000000</td>\n",
       "      <td>6.000000</td>\n",
       "    </tr>\n",
       "    <tr>\n",
       "      <th>mean</th>\n",
       "      <td>0.791468</td>\n",
       "      <td>0.118939</td>\n",
       "      <td>-0.126565</td>\n",
       "      <td>0.330430</td>\n",
       "    </tr>\n",
       "    <tr>\n",
       "      <th>std</th>\n",
       "      <td>1.190210</td>\n",
       "      <td>1.086125</td>\n",
       "      <td>1.223308</td>\n",
       "      <td>0.782975</td>\n",
       "    </tr>\n",
       "    <tr>\n",
       "      <th>min</th>\n",
       "      <td>-1.144811</td>\n",
       "      <td>-1.408420</td>\n",
       "      <td>-1.497940</td>\n",
       "      <td>-0.642886</td>\n",
       "    </tr>\n",
       "    <tr>\n",
       "      <th>25%</th>\n",
       "      <td>0.344108</td>\n",
       "      <td>-0.522720</td>\n",
       "      <td>-1.062962</td>\n",
       "      <td>-0.239650</td>\n",
       "    </tr>\n",
       "    <tr>\n",
       "      <th>50%</th>\n",
       "      <td>0.954754</td>\n",
       "      <td>0.165906</td>\n",
       "      <td>-0.068898</td>\n",
       "      <td>0.348351</td>\n",
       "    </tr>\n",
       "    <tr>\n",
       "      <th>75%</th>\n",
       "      <td>1.349806</td>\n",
       "      <td>0.776119</td>\n",
       "      <td>0.343872</td>\n",
       "      <td>1.036202</td>\n",
       "    </tr>\n",
       "    <tr>\n",
       "      <th>max</th>\n",
       "      <td>2.362060</td>\n",
       "      <td>1.562984</td>\n",
       "      <td>1.789198</td>\n",
       "      <td>1.098926</td>\n",
       "    </tr>\n",
       "  </tbody>\n",
       "</table>\n",
       "</div>"
      ],
      "text/plain": [
       "              a         b         c         d\n",
       "count  6.000000  6.000000  6.000000  6.000000\n",
       "mean   0.791468  0.118939 -0.126565  0.330430\n",
       "std    1.190210  1.086125  1.223308  0.782975\n",
       "min   -1.144811 -1.408420 -1.497940 -0.642886\n",
       "25%    0.344108 -0.522720 -1.062962 -0.239650\n",
       "50%    0.954754  0.165906 -0.068898  0.348351\n",
       "75%    1.349806  0.776119  0.343872  1.036202\n",
       "max    2.362060  1.562984  1.789198  1.098926"
      ]
     },
     "execution_count": 12,
     "metadata": {},
     "output_type": "execute_result"
    }
   ],
   "source": [
    "df.describe()"
   ]
  },
  {
   "cell_type": "markdown",
   "metadata": {},
   "source": [
    "### df.T transposing data"
   ]
  },
  {
   "cell_type": "code",
   "execution_count": 13,
   "metadata": {
    "ExecuteTime": {
     "end_time": "2019-10-21T10:43:03.028256Z",
     "start_time": "2019-10-21T10:43:03.001207Z"
    }
   },
   "outputs": [
    {
     "data": {
      "text/html": [
       "<div>\n",
       "<style scoped>\n",
       "    .dataframe tbody tr th:only-of-type {\n",
       "        vertical-align: middle;\n",
       "    }\n",
       "\n",
       "    .dataframe tbody tr th {\n",
       "        vertical-align: top;\n",
       "    }\n",
       "\n",
       "    .dataframe thead th {\n",
       "        text-align: right;\n",
       "    }\n",
       "</style>\n",
       "<table border=\"1\" class=\"dataframe\">\n",
       "  <thead>\n",
       "    <tr style=\"text-align: right;\">\n",
       "      <th></th>\n",
       "      <th>2019-10-23 00:00:00</th>\n",
       "      <th>2019-10-24 00:00:00</th>\n",
       "      <th>2019-10-25 00:00:00</th>\n",
       "      <th>2019-10-26 00:00:00</th>\n",
       "      <th>2019-10-27 00:00:00</th>\n",
       "      <th>2019-10-28 00:00:00</th>\n",
       "    </tr>\n",
       "  </thead>\n",
       "  <tbody>\n",
       "    <tr>\n",
       "      <th>a</th>\n",
       "      <td>-1.144811</td>\n",
       "      <td>2.362060</td>\n",
       "      <td>0.193773</td>\n",
       "      <td>1.428276</td>\n",
       "      <td>0.795113</td>\n",
       "      <td>1.114396</td>\n",
       "    </tr>\n",
       "    <tr>\n",
       "      <th>b</th>\n",
       "      <td>-0.332166</td>\n",
       "      <td>-1.408420</td>\n",
       "      <td>1.562984</td>\n",
       "      <td>0.663978</td>\n",
       "      <td>0.813499</td>\n",
       "      <td>-0.586237</td>\n",
       "    </tr>\n",
       "    <tr>\n",
       "      <th>c</th>\n",
       "      <td>-1.497940</td>\n",
       "      <td>-1.379263</td>\n",
       "      <td>-0.114057</td>\n",
       "      <td>0.466409</td>\n",
       "      <td>-0.023738</td>\n",
       "      <td>1.789198</td>\n",
       "    </tr>\n",
       "    <tr>\n",
       "      <th>d</th>\n",
       "      <td>0.911046</td>\n",
       "      <td>1.077921</td>\n",
       "      <td>1.098926</td>\n",
       "      <td>-0.642886</td>\n",
       "      <td>-0.248085</td>\n",
       "      <td>-0.214345</td>\n",
       "    </tr>\n",
       "  </tbody>\n",
       "</table>\n",
       "</div>"
      ],
      "text/plain": [
       "   2019-10-23  2019-10-24  2019-10-25  2019-10-26  2019-10-27  2019-10-28\n",
       "a   -1.144811    2.362060    0.193773    1.428276    0.795113    1.114396\n",
       "b   -0.332166   -1.408420    1.562984    0.663978    0.813499   -0.586237\n",
       "c   -1.497940   -1.379263   -0.114057    0.466409   -0.023738    1.789198\n",
       "d    0.911046    1.077921    1.098926   -0.642886   -0.248085   -0.214345"
      ]
     },
     "execution_count": 13,
     "metadata": {},
     "output_type": "execute_result"
    }
   ],
   "source": [
    "df.T"
   ]
  },
  {
   "cell_type": "markdown",
   "metadata": {},
   "source": [
    "### sorting by values"
   ]
  },
  {
   "cell_type": "code",
   "execution_count": 14,
   "metadata": {
    "ExecuteTime": {
     "end_time": "2019-10-21T10:43:03.059885Z",
     "start_time": "2019-10-21T10:43:03.031249Z"
    }
   },
   "outputs": [
    {
     "data": {
      "text/html": [
       "<div>\n",
       "<style scoped>\n",
       "    .dataframe tbody tr th:only-of-type {\n",
       "        vertical-align: middle;\n",
       "    }\n",
       "\n",
       "    .dataframe tbody tr th {\n",
       "        vertical-align: top;\n",
       "    }\n",
       "\n",
       "    .dataframe thead th {\n",
       "        text-align: right;\n",
       "    }\n",
       "</style>\n",
       "<table border=\"1\" class=\"dataframe\">\n",
       "  <thead>\n",
       "    <tr style=\"text-align: right;\">\n",
       "      <th></th>\n",
       "      <th>a</th>\n",
       "      <th>b</th>\n",
       "      <th>c</th>\n",
       "      <th>d</th>\n",
       "    </tr>\n",
       "  </thead>\n",
       "  <tbody>\n",
       "    <tr>\n",
       "      <th>2019-10-23</th>\n",
       "      <td>-1.144811</td>\n",
       "      <td>-0.332166</td>\n",
       "      <td>-1.497940</td>\n",
       "      <td>0.911046</td>\n",
       "    </tr>\n",
       "    <tr>\n",
       "      <th>2019-10-24</th>\n",
       "      <td>2.362060</td>\n",
       "      <td>-1.408420</td>\n",
       "      <td>-1.379263</td>\n",
       "      <td>1.077921</td>\n",
       "    </tr>\n",
       "    <tr>\n",
       "      <th>2019-10-25</th>\n",
       "      <td>0.193773</td>\n",
       "      <td>1.562984</td>\n",
       "      <td>-0.114057</td>\n",
       "      <td>1.098926</td>\n",
       "    </tr>\n",
       "    <tr>\n",
       "      <th>2019-10-27</th>\n",
       "      <td>0.795113</td>\n",
       "      <td>0.813499</td>\n",
       "      <td>-0.023738</td>\n",
       "      <td>-0.248085</td>\n",
       "    </tr>\n",
       "    <tr>\n",
       "      <th>2019-10-26</th>\n",
       "      <td>1.428276</td>\n",
       "      <td>0.663978</td>\n",
       "      <td>0.466409</td>\n",
       "      <td>-0.642886</td>\n",
       "    </tr>\n",
       "    <tr>\n",
       "      <th>2019-10-28</th>\n",
       "      <td>1.114396</td>\n",
       "      <td>-0.586237</td>\n",
       "      <td>1.789198</td>\n",
       "      <td>-0.214345</td>\n",
       "    </tr>\n",
       "  </tbody>\n",
       "</table>\n",
       "</div>"
      ],
      "text/plain": [
       "                   a         b         c         d\n",
       "2019-10-23 -1.144811 -0.332166 -1.497940  0.911046\n",
       "2019-10-24  2.362060 -1.408420 -1.379263  1.077921\n",
       "2019-10-25  0.193773  1.562984 -0.114057  1.098926\n",
       "2019-10-27  0.795113  0.813499 -0.023738 -0.248085\n",
       "2019-10-26  1.428276  0.663978  0.466409 -0.642886\n",
       "2019-10-28  1.114396 -0.586237  1.789198 -0.214345"
      ]
     },
     "execution_count": 14,
     "metadata": {},
     "output_type": "execute_result"
    }
   ],
   "source": [
    "df.sort_values(by='c')"
   ]
  },
  {
   "cell_type": "markdown",
   "metadata": {},
   "source": [
    "## Selection"
   ]
  },
  {
   "cell_type": "markdown",
   "metadata": {
    "ExecuteTime": {
     "end_time": "2019-10-18T11:48:02.155794Z",
     "start_time": "2019-10-18T11:48:02.152584Z"
    }
   },
   "source": [
    "### getting"
   ]
  },
  {
   "cell_type": "code",
   "execution_count": 15,
   "metadata": {
    "ExecuteTime": {
     "end_time": "2019-10-21T10:43:03.075908Z",
     "start_time": "2019-10-21T10:43:03.064362Z"
    }
   },
   "outputs": [
    {
     "name": "stdout",
     "output_type": "stream",
     "text": [
      "2019-10-23   -1.144811\n",
      "2019-10-24    2.362060\n",
      "2019-10-25    0.193773\n",
      "2019-10-26    1.428276\n",
      "2019-10-27    0.795113\n",
      "2019-10-28    1.114396\n",
      "Freq: D, Name: a, dtype: float64\n"
     ]
    }
   ],
   "source": [
    "print(df['a'])"
   ]
  },
  {
   "cell_type": "code",
   "execution_count": 16,
   "metadata": {
    "ExecuteTime": {
     "end_time": "2019-10-21T10:43:03.107436Z",
     "start_time": "2019-10-21T10:43:03.079790Z"
    }
   },
   "outputs": [
    {
     "name": "stdout",
     "output_type": "stream",
     "text": [
      "                   a         b         c         d\n",
      "2019-10-23 -1.144811 -0.332166 -1.497940  0.911046\n",
      "2019-10-24  2.362060 -1.408420 -1.379263  1.077921\n",
      "2019-10-25  0.193773  1.562984 -0.114057  1.098926\n",
      "                   a         b         c         d\n",
      "2019-10-24  2.362060 -1.408420 -1.379263  1.077921\n",
      "2019-10-25  0.193773  1.562984 -0.114057  1.098926\n",
      "2019-10-26  1.428276  0.663978  0.466409 -0.642886\n",
      "2019-10-27  0.795113  0.813499 -0.023738 -0.248085\n"
     ]
    }
   ],
   "source": [
    "# selecting via [], which slices the row\n",
    "print(df[0:3])\n",
    "print(df['20191024':'20191027'])"
   ]
  },
  {
   "cell_type": "markdown",
   "metadata": {},
   "source": [
    "### selection by label\n",
    "loc:selecting by label"
   ]
  },
  {
   "cell_type": "code",
   "execution_count": 17,
   "metadata": {
    "ExecuteTime": {
     "end_time": "2019-10-21T10:43:03.123008Z",
     "start_time": "2019-10-21T10:43:03.110733Z"
    }
   },
   "outputs": [
    {
     "name": "stdout",
     "output_type": "stream",
     "text": [
      "                   a         b         c         d\n",
      "2019-10-23 -1.144811 -0.332166 -1.497940  0.911046\n",
      "2019-10-24  2.362060 -1.408420 -1.379263  1.077921\n",
      "2019-10-25  0.193773  1.562984 -0.114057  1.098926\n",
      "2019-10-26  1.428276  0.663978  0.466409 -0.642886\n",
      "2019-10-27  0.795113  0.813499 -0.023738 -0.248085\n",
      "2019-10-28  1.114396 -0.586237  1.789198 -0.214345\n"
     ]
    }
   ],
   "source": [
    "print(df)"
   ]
  },
  {
   "cell_type": "code",
   "execution_count": 18,
   "metadata": {
    "ExecuteTime": {
     "end_time": "2019-10-21T10:43:03.138152Z",
     "start_time": "2019-10-21T10:43:03.125980Z"
    }
   },
   "outputs": [
    {
     "data": {
      "text/plain": [
       "a   -1.144811\n",
       "b   -0.332166\n",
       "c   -1.497940\n",
       "d    0.911046\n",
       "Name: 2019-10-23 00:00:00, dtype: float64"
      ]
     },
     "execution_count": 18,
     "metadata": {},
     "output_type": "execute_result"
    }
   ],
   "source": [
    "df.loc[dates[0]]\n"
   ]
  },
  {
   "cell_type": "code",
   "execution_count": 19,
   "metadata": {
    "ExecuteTime": {
     "end_time": "2019-10-21T10:43:03.168871Z",
     "start_time": "2019-10-21T10:43:03.139149Z"
    }
   },
   "outputs": [
    {
     "data": {
      "text/html": [
       "<div>\n",
       "<style scoped>\n",
       "    .dataframe tbody tr th:only-of-type {\n",
       "        vertical-align: middle;\n",
       "    }\n",
       "\n",
       "    .dataframe tbody tr th {\n",
       "        vertical-align: top;\n",
       "    }\n",
       "\n",
       "    .dataframe thead th {\n",
       "        text-align: right;\n",
       "    }\n",
       "</style>\n",
       "<table border=\"1\" class=\"dataframe\">\n",
       "  <thead>\n",
       "    <tr style=\"text-align: right;\">\n",
       "      <th></th>\n",
       "      <th>a</th>\n",
       "      <th>b</th>\n",
       "    </tr>\n",
       "  </thead>\n",
       "  <tbody>\n",
       "    <tr>\n",
       "      <th>2019-10-23</th>\n",
       "      <td>-1.144811</td>\n",
       "      <td>-0.332166</td>\n",
       "    </tr>\n",
       "    <tr>\n",
       "      <th>2019-10-24</th>\n",
       "      <td>2.362060</td>\n",
       "      <td>-1.408420</td>\n",
       "    </tr>\n",
       "    <tr>\n",
       "      <th>2019-10-25</th>\n",
       "      <td>0.193773</td>\n",
       "      <td>1.562984</td>\n",
       "    </tr>\n",
       "    <tr>\n",
       "      <th>2019-10-26</th>\n",
       "      <td>1.428276</td>\n",
       "      <td>0.663978</td>\n",
       "    </tr>\n",
       "    <tr>\n",
       "      <th>2019-10-27</th>\n",
       "      <td>0.795113</td>\n",
       "      <td>0.813499</td>\n",
       "    </tr>\n",
       "    <tr>\n",
       "      <th>2019-10-28</th>\n",
       "      <td>1.114396</td>\n",
       "      <td>-0.586237</td>\n",
       "    </tr>\n",
       "  </tbody>\n",
       "</table>\n",
       "</div>"
      ],
      "text/plain": [
       "                   a         b\n",
       "2019-10-23 -1.144811 -0.332166\n",
       "2019-10-24  2.362060 -1.408420\n",
       "2019-10-25  0.193773  1.562984\n",
       "2019-10-26  1.428276  0.663978\n",
       "2019-10-27  0.795113  0.813499\n",
       "2019-10-28  1.114396 -0.586237"
      ]
     },
     "execution_count": 19,
     "metadata": {},
     "output_type": "execute_result"
    }
   ],
   "source": [
    "# selecting on a multi-axis by label\n",
    "df.loc[:, ['a','b']]"
   ]
  },
  {
   "cell_type": "code",
   "execution_count": 20,
   "metadata": {
    "ExecuteTime": {
     "end_time": "2019-10-21T10:43:03.204240Z",
     "start_time": "2019-10-21T10:43:03.172784Z"
    }
   },
   "outputs": [
    {
     "data": {
      "text/html": [
       "<div>\n",
       "<style scoped>\n",
       "    .dataframe tbody tr th:only-of-type {\n",
       "        vertical-align: middle;\n",
       "    }\n",
       "\n",
       "    .dataframe tbody tr th {\n",
       "        vertical-align: top;\n",
       "    }\n",
       "\n",
       "    .dataframe thead th {\n",
       "        text-align: right;\n",
       "    }\n",
       "</style>\n",
       "<table border=\"1\" class=\"dataframe\">\n",
       "  <thead>\n",
       "    <tr style=\"text-align: right;\">\n",
       "      <th></th>\n",
       "      <th>a</th>\n",
       "      <th>b</th>\n",
       "    </tr>\n",
       "  </thead>\n",
       "  <tbody>\n",
       "    <tr>\n",
       "      <th>2019-10-24</th>\n",
       "      <td>2.362060</td>\n",
       "      <td>-1.408420</td>\n",
       "    </tr>\n",
       "    <tr>\n",
       "      <th>2019-10-25</th>\n",
       "      <td>0.193773</td>\n",
       "      <td>1.562984</td>\n",
       "    </tr>\n",
       "    <tr>\n",
       "      <th>2019-10-26</th>\n",
       "      <td>1.428276</td>\n",
       "      <td>0.663978</td>\n",
       "    </tr>\n",
       "    <tr>\n",
       "      <th>2019-10-27</th>\n",
       "      <td>0.795113</td>\n",
       "      <td>0.813499</td>\n",
       "    </tr>\n",
       "  </tbody>\n",
       "</table>\n",
       "</div>"
      ],
      "text/plain": [
       "                   a         b\n",
       "2019-10-24  2.362060 -1.408420\n",
       "2019-10-25  0.193773  1.562984\n",
       "2019-10-26  1.428276  0.663978\n",
       "2019-10-27  0.795113  0.813499"
      ]
     },
     "execution_count": 20,
     "metadata": {},
     "output_type": "execute_result"
    }
   ],
   "source": [
    "# note: endpoints are included\n",
    "df.loc['20191024':'20191027', ['a', 'b']]"
   ]
  },
  {
   "cell_type": "markdown",
   "metadata": {},
   "source": [
    "### getting a scalar value\n"
   ]
  },
  {
   "cell_type": "code",
   "execution_count": 21,
   "metadata": {
    "ExecuteTime": {
     "end_time": "2019-10-21T10:43:03.248837Z",
     "start_time": "2019-10-21T10:43:03.209492Z"
    }
   },
   "outputs": [
    {
     "data": {
      "text/plain": [
       "-1.1448112731288271"
      ]
     },
     "execution_count": 21,
     "metadata": {},
     "output_type": "execute_result"
    }
   ],
   "source": [
    "df.loc[dates[0], 'a']\n"
   ]
  },
  {
   "cell_type": "code",
   "execution_count": 22,
   "metadata": {
    "ExecuteTime": {
     "end_time": "2019-10-21T10:43:03.274695Z",
     "start_time": "2019-10-21T10:43:03.252359Z"
    }
   },
   "outputs": [
    {
     "data": {
      "text/plain": [
       "-1.1448112731288271"
      ]
     },
     "execution_count": 22,
     "metadata": {},
     "output_type": "execute_result"
    }
   ],
   "source": [
    "df.at[dates[0], 'a']"
   ]
  },
  {
   "cell_type": "markdown",
   "metadata": {},
   "source": [
    "### selection by position\n",
    "iloc: selecting by index"
   ]
  },
  {
   "cell_type": "code",
   "execution_count": 23,
   "metadata": {
    "ExecuteTime": {
     "end_time": "2019-10-21T10:43:03.290146Z",
     "start_time": "2019-10-21T10:43:03.278443Z"
    }
   },
   "outputs": [
    {
     "data": {
      "text/plain": [
       "a    1.428276\n",
       "b    0.663978\n",
       "c    0.466409\n",
       "d   -0.642886\n",
       "Name: 2019-10-26 00:00:00, dtype: float64"
      ]
     },
     "execution_count": 23,
     "metadata": {},
     "output_type": "execute_result"
    }
   ],
   "source": [
    "df.iloc[3]"
   ]
  },
  {
   "cell_type": "code",
   "execution_count": 24,
   "metadata": {
    "ExecuteTime": {
     "end_time": "2019-10-21T10:43:03.321733Z",
     "start_time": "2019-10-21T10:43:03.294026Z"
    }
   },
   "outputs": [
    {
     "data": {
      "text/html": [
       "<div>\n",
       "<style scoped>\n",
       "    .dataframe tbody tr th:only-of-type {\n",
       "        vertical-align: middle;\n",
       "    }\n",
       "\n",
       "    .dataframe tbody tr th {\n",
       "        vertical-align: top;\n",
       "    }\n",
       "\n",
       "    .dataframe thead th {\n",
       "        text-align: right;\n",
       "    }\n",
       "</style>\n",
       "<table border=\"1\" class=\"dataframe\">\n",
       "  <thead>\n",
       "    <tr style=\"text-align: right;\">\n",
       "      <th></th>\n",
       "      <th>a</th>\n",
       "      <th>b</th>\n",
       "    </tr>\n",
       "  </thead>\n",
       "  <tbody>\n",
       "    <tr>\n",
       "      <th>2019-10-26</th>\n",
       "      <td>1.428276</td>\n",
       "      <td>0.663978</td>\n",
       "    </tr>\n",
       "    <tr>\n",
       "      <th>2019-10-27</th>\n",
       "      <td>0.795113</td>\n",
       "      <td>0.813499</td>\n",
       "    </tr>\n",
       "  </tbody>\n",
       "</table>\n",
       "</div>"
      ],
      "text/plain": [
       "                   a         b\n",
       "2019-10-26  1.428276  0.663978\n",
       "2019-10-27  0.795113  0.813499"
      ]
     },
     "execution_count": 24,
     "metadata": {},
     "output_type": "execute_result"
    }
   ],
   "source": [
    "df.iloc[3:5,0:2]"
   ]
  },
  {
   "cell_type": "code",
   "execution_count": 25,
   "metadata": {
    "ExecuteTime": {
     "end_time": "2019-10-21T10:43:03.363046Z",
     "start_time": "2019-10-21T10:43:03.326187Z"
    }
   },
   "outputs": [
    {
     "data": {
      "text/html": [
       "<div>\n",
       "<style scoped>\n",
       "    .dataframe tbody tr th:only-of-type {\n",
       "        vertical-align: middle;\n",
       "    }\n",
       "\n",
       "    .dataframe tbody tr th {\n",
       "        vertical-align: top;\n",
       "    }\n",
       "\n",
       "    .dataframe thead th {\n",
       "        text-align: right;\n",
       "    }\n",
       "</style>\n",
       "<table border=\"1\" class=\"dataframe\">\n",
       "  <thead>\n",
       "    <tr style=\"text-align: right;\">\n",
       "      <th></th>\n",
       "      <th>a</th>\n",
       "      <th>c</th>\n",
       "    </tr>\n",
       "  </thead>\n",
       "  <tbody>\n",
       "    <tr>\n",
       "      <th>2019-10-24</th>\n",
       "      <td>2.362060</td>\n",
       "      <td>-1.379263</td>\n",
       "    </tr>\n",
       "    <tr>\n",
       "      <th>2019-10-25</th>\n",
       "      <td>0.193773</td>\n",
       "      <td>-0.114057</td>\n",
       "    </tr>\n",
       "    <tr>\n",
       "      <th>2019-10-27</th>\n",
       "      <td>0.795113</td>\n",
       "      <td>-0.023738</td>\n",
       "    </tr>\n",
       "  </tbody>\n",
       "</table>\n",
       "</div>"
      ],
      "text/plain": [
       "                   a         c\n",
       "2019-10-24  2.362060 -1.379263\n",
       "2019-10-25  0.193773 -0.114057\n",
       "2019-10-27  0.795113 -0.023738"
      ]
     },
     "execution_count": 25,
     "metadata": {},
     "output_type": "execute_result"
    }
   ],
   "source": [
    "df.iloc[[1,2,4],[0,2]]"
   ]
  },
  {
   "cell_type": "code",
   "execution_count": 26,
   "metadata": {
    "ExecuteTime": {
     "end_time": "2019-10-21T10:43:03.396228Z",
     "start_time": "2019-10-21T10:43:03.367147Z"
    }
   },
   "outputs": [
    {
     "data": {
      "text/html": [
       "<div>\n",
       "<style scoped>\n",
       "    .dataframe tbody tr th:only-of-type {\n",
       "        vertical-align: middle;\n",
       "    }\n",
       "\n",
       "    .dataframe tbody tr th {\n",
       "        vertical-align: top;\n",
       "    }\n",
       "\n",
       "    .dataframe thead th {\n",
       "        text-align: right;\n",
       "    }\n",
       "</style>\n",
       "<table border=\"1\" class=\"dataframe\">\n",
       "  <thead>\n",
       "    <tr style=\"text-align: right;\">\n",
       "      <th></th>\n",
       "      <th>a</th>\n",
       "      <th>b</th>\n",
       "      <th>c</th>\n",
       "      <th>d</th>\n",
       "    </tr>\n",
       "  </thead>\n",
       "  <tbody>\n",
       "    <tr>\n",
       "      <th>2019-10-24</th>\n",
       "      <td>2.362060</td>\n",
       "      <td>-1.408420</td>\n",
       "      <td>-1.379263</td>\n",
       "      <td>1.077921</td>\n",
       "    </tr>\n",
       "    <tr>\n",
       "      <th>2019-10-25</th>\n",
       "      <td>0.193773</td>\n",
       "      <td>1.562984</td>\n",
       "      <td>-0.114057</td>\n",
       "      <td>1.098926</td>\n",
       "    </tr>\n",
       "  </tbody>\n",
       "</table>\n",
       "</div>"
      ],
      "text/plain": [
       "                   a         b         c         d\n",
       "2019-10-24  2.362060 -1.408420 -1.379263  1.077921\n",
       "2019-10-25  0.193773  1.562984 -0.114057  1.098926"
      ]
     },
     "execution_count": 26,
     "metadata": {},
     "output_type": "execute_result"
    }
   ],
   "source": [
    "df.iloc[1:3, :]\n",
    "# endpoins are not included"
   ]
  },
  {
   "cell_type": "markdown",
   "metadata": {},
   "source": [
    "slicing columns explicitly\n"
   ]
  },
  {
   "cell_type": "code",
   "execution_count": 27,
   "metadata": {
    "ExecuteTime": {
     "end_time": "2019-10-21T10:43:03.427555Z",
     "start_time": "2019-10-21T10:43:03.397226Z"
    }
   },
   "outputs": [
    {
     "data": {
      "text/html": [
       "<div>\n",
       "<style scoped>\n",
       "    .dataframe tbody tr th:only-of-type {\n",
       "        vertical-align: middle;\n",
       "    }\n",
       "\n",
       "    .dataframe tbody tr th {\n",
       "        vertical-align: top;\n",
       "    }\n",
       "\n",
       "    .dataframe thead th {\n",
       "        text-align: right;\n",
       "    }\n",
       "</style>\n",
       "<table border=\"1\" class=\"dataframe\">\n",
       "  <thead>\n",
       "    <tr style=\"text-align: right;\">\n",
       "      <th></th>\n",
       "      <th>c</th>\n",
       "      <th>d</th>\n",
       "    </tr>\n",
       "  </thead>\n",
       "  <tbody>\n",
       "    <tr>\n",
       "      <th>2019-10-23</th>\n",
       "      <td>-1.497940</td>\n",
       "      <td>0.911046</td>\n",
       "    </tr>\n",
       "    <tr>\n",
       "      <th>2019-10-24</th>\n",
       "      <td>-1.379263</td>\n",
       "      <td>1.077921</td>\n",
       "    </tr>\n",
       "    <tr>\n",
       "      <th>2019-10-25</th>\n",
       "      <td>-0.114057</td>\n",
       "      <td>1.098926</td>\n",
       "    </tr>\n",
       "    <tr>\n",
       "      <th>2019-10-26</th>\n",
       "      <td>0.466409</td>\n",
       "      <td>-0.642886</td>\n",
       "    </tr>\n",
       "    <tr>\n",
       "      <th>2019-10-27</th>\n",
       "      <td>-0.023738</td>\n",
       "      <td>-0.248085</td>\n",
       "    </tr>\n",
       "    <tr>\n",
       "      <th>2019-10-28</th>\n",
       "      <td>1.789198</td>\n",
       "      <td>-0.214345</td>\n",
       "    </tr>\n",
       "  </tbody>\n",
       "</table>\n",
       "</div>"
      ],
      "text/plain": [
       "                   c         d\n",
       "2019-10-23 -1.497940  0.911046\n",
       "2019-10-24 -1.379263  1.077921\n",
       "2019-10-25 -0.114057  1.098926\n",
       "2019-10-26  0.466409 -0.642886\n",
       "2019-10-27 -0.023738 -0.248085\n",
       "2019-10-28  1.789198 -0.214345"
      ]
     },
     "execution_count": 27,
     "metadata": {},
     "output_type": "execute_result"
    }
   ],
   "source": [
    "df.iloc[:, 2:4]"
   ]
  },
  {
   "cell_type": "markdown",
   "metadata": {},
   "source": [
    "## boolean indexing"
   ]
  },
  {
   "cell_type": "code",
   "execution_count": 28,
   "metadata": {
    "ExecuteTime": {
     "end_time": "2019-10-21T10:43:03.444125Z",
     "start_time": "2019-10-21T10:43:03.432822Z"
    }
   },
   "outputs": [
    {
     "data": {
      "text/plain": [
       "2019-10-23   -1.144811\n",
       "2019-10-24    2.362060\n",
       "2019-10-25    0.193773\n",
       "2019-10-26    1.428276\n",
       "2019-10-27    0.795113\n",
       "2019-10-28    1.114396\n",
       "Freq: D, Name: a, dtype: float64"
      ]
     },
     "execution_count": 28,
     "metadata": {},
     "output_type": "execute_result"
    }
   ],
   "source": [
    "df.a # equivelantly df['a']"
   ]
  },
  {
   "cell_type": "code",
   "execution_count": 29,
   "metadata": {
    "ExecuteTime": {
     "end_time": "2019-10-21T10:43:03.474943Z",
     "start_time": "2019-10-21T10:43:03.449333Z"
    }
   },
   "outputs": [
    {
     "data": {
      "text/plain": [
       "2019-10-23    False\n",
       "2019-10-24     True\n",
       "2019-10-25     True\n",
       "2019-10-26     True\n",
       "2019-10-27     True\n",
       "2019-10-28     True\n",
       "Freq: D, Name: a, dtype: bool"
      ]
     },
     "execution_count": 29,
     "metadata": {},
     "output_type": "execute_result"
    }
   ],
   "source": [
    "df['a'] > 0"
   ]
  },
  {
   "cell_type": "code",
   "execution_count": 30,
   "metadata": {
    "ExecuteTime": {
     "end_time": "2019-10-21T10:43:03.510747Z",
     "start_time": "2019-10-21T10:43:03.478370Z"
    }
   },
   "outputs": [
    {
     "data": {
      "text/html": [
       "<div>\n",
       "<style scoped>\n",
       "    .dataframe tbody tr th:only-of-type {\n",
       "        vertical-align: middle;\n",
       "    }\n",
       "\n",
       "    .dataframe tbody tr th {\n",
       "        vertical-align: top;\n",
       "    }\n",
       "\n",
       "    .dataframe thead th {\n",
       "        text-align: right;\n",
       "    }\n",
       "</style>\n",
       "<table border=\"1\" class=\"dataframe\">\n",
       "  <thead>\n",
       "    <tr style=\"text-align: right;\">\n",
       "      <th></th>\n",
       "      <th>a</th>\n",
       "      <th>b</th>\n",
       "      <th>c</th>\n",
       "      <th>d</th>\n",
       "    </tr>\n",
       "  </thead>\n",
       "  <tbody>\n",
       "    <tr>\n",
       "      <th>2019-10-24</th>\n",
       "      <td>2.362060</td>\n",
       "      <td>-1.408420</td>\n",
       "      <td>-1.379263</td>\n",
       "      <td>1.077921</td>\n",
       "    </tr>\n",
       "    <tr>\n",
       "      <th>2019-10-25</th>\n",
       "      <td>0.193773</td>\n",
       "      <td>1.562984</td>\n",
       "      <td>-0.114057</td>\n",
       "      <td>1.098926</td>\n",
       "    </tr>\n",
       "    <tr>\n",
       "      <th>2019-10-26</th>\n",
       "      <td>1.428276</td>\n",
       "      <td>0.663978</td>\n",
       "      <td>0.466409</td>\n",
       "      <td>-0.642886</td>\n",
       "    </tr>\n",
       "    <tr>\n",
       "      <th>2019-10-27</th>\n",
       "      <td>0.795113</td>\n",
       "      <td>0.813499</td>\n",
       "      <td>-0.023738</td>\n",
       "      <td>-0.248085</td>\n",
       "    </tr>\n",
       "    <tr>\n",
       "      <th>2019-10-28</th>\n",
       "      <td>1.114396</td>\n",
       "      <td>-0.586237</td>\n",
       "      <td>1.789198</td>\n",
       "      <td>-0.214345</td>\n",
       "    </tr>\n",
       "  </tbody>\n",
       "</table>\n",
       "</div>"
      ],
      "text/plain": [
       "                   a         b         c         d\n",
       "2019-10-24  2.362060 -1.408420 -1.379263  1.077921\n",
       "2019-10-25  0.193773  1.562984 -0.114057  1.098926\n",
       "2019-10-26  1.428276  0.663978  0.466409 -0.642886\n",
       "2019-10-27  0.795113  0.813499 -0.023738 -0.248085\n",
       "2019-10-28  1.114396 -0.586237  1.789198 -0.214345"
      ]
     },
     "execution_count": 30,
     "metadata": {},
     "output_type": "execute_result"
    }
   ],
   "source": [
    "df[df['a']>0]"
   ]
  },
  {
   "cell_type": "code",
   "execution_count": 31,
   "metadata": {
    "ExecuteTime": {
     "end_time": "2019-10-21T10:43:03.699837Z",
     "start_time": "2019-10-21T10:43:03.515108Z"
    }
   },
   "outputs": [
    {
     "data": {
      "text/html": [
       "<div>\n",
       "<style scoped>\n",
       "    .dataframe tbody tr th:only-of-type {\n",
       "        vertical-align: middle;\n",
       "    }\n",
       "\n",
       "    .dataframe tbody tr th {\n",
       "        vertical-align: top;\n",
       "    }\n",
       "\n",
       "    .dataframe thead th {\n",
       "        text-align: right;\n",
       "    }\n",
       "</style>\n",
       "<table border=\"1\" class=\"dataframe\">\n",
       "  <thead>\n",
       "    <tr style=\"text-align: right;\">\n",
       "      <th></th>\n",
       "      <th>a</th>\n",
       "      <th>b</th>\n",
       "      <th>c</th>\n",
       "      <th>d</th>\n",
       "    </tr>\n",
       "  </thead>\n",
       "  <tbody>\n",
       "    <tr>\n",
       "      <th>2019-10-23</th>\n",
       "      <td>NaN</td>\n",
       "      <td>NaN</td>\n",
       "      <td>NaN</td>\n",
       "      <td>0.911046</td>\n",
       "    </tr>\n",
       "    <tr>\n",
       "      <th>2019-10-24</th>\n",
       "      <td>2.362060</td>\n",
       "      <td>NaN</td>\n",
       "      <td>NaN</td>\n",
       "      <td>1.077921</td>\n",
       "    </tr>\n",
       "    <tr>\n",
       "      <th>2019-10-25</th>\n",
       "      <td>0.193773</td>\n",
       "      <td>1.562984</td>\n",
       "      <td>NaN</td>\n",
       "      <td>1.098926</td>\n",
       "    </tr>\n",
       "    <tr>\n",
       "      <th>2019-10-26</th>\n",
       "      <td>1.428276</td>\n",
       "      <td>0.663978</td>\n",
       "      <td>0.466409</td>\n",
       "      <td>NaN</td>\n",
       "    </tr>\n",
       "    <tr>\n",
       "      <th>2019-10-27</th>\n",
       "      <td>0.795113</td>\n",
       "      <td>0.813499</td>\n",
       "      <td>NaN</td>\n",
       "      <td>NaN</td>\n",
       "    </tr>\n",
       "    <tr>\n",
       "      <th>2019-10-28</th>\n",
       "      <td>1.114396</td>\n",
       "      <td>NaN</td>\n",
       "      <td>1.789198</td>\n",
       "      <td>NaN</td>\n",
       "    </tr>\n",
       "  </tbody>\n",
       "</table>\n",
       "</div>"
      ],
      "text/plain": [
       "                   a         b         c         d\n",
       "2019-10-23       NaN       NaN       NaN  0.911046\n",
       "2019-10-24  2.362060       NaN       NaN  1.077921\n",
       "2019-10-25  0.193773  1.562984       NaN  1.098926\n",
       "2019-10-26  1.428276  0.663978  0.466409       NaN\n",
       "2019-10-27  0.795113  0.813499       NaN       NaN\n",
       "2019-10-28  1.114396       NaN  1.789198       NaN"
      ]
     },
     "execution_count": 31,
     "metadata": {},
     "output_type": "execute_result"
    }
   ],
   "source": [
    "df[df>0]"
   ]
  },
  {
   "cell_type": "markdown",
   "metadata": {},
   "source": [
    "### using the isin() method for filtering "
   ]
  },
  {
   "cell_type": "code",
   "execution_count": 60,
   "metadata": {
    "ExecuteTime": {
     "end_time": "2019-10-21T10:49:48.815961Z",
     "start_time": "2019-10-21T10:49:48.784629Z"
    }
   },
   "outputs": [
    {
     "data": {
      "text/html": [
       "<div>\n",
       "<style scoped>\n",
       "    .dataframe tbody tr th:only-of-type {\n",
       "        vertical-align: middle;\n",
       "    }\n",
       "\n",
       "    .dataframe tbody tr th {\n",
       "        vertical-align: top;\n",
       "    }\n",
       "\n",
       "    .dataframe thead th {\n",
       "        text-align: right;\n",
       "    }\n",
       "</style>\n",
       "<table border=\"1\" class=\"dataframe\">\n",
       "  <thead>\n",
       "    <tr style=\"text-align: right;\">\n",
       "      <th></th>\n",
       "      <th>a</th>\n",
       "      <th>b</th>\n",
       "      <th>c</th>\n",
       "      <th>d</th>\n",
       "      <th>e</th>\n",
       "    </tr>\n",
       "  </thead>\n",
       "  <tbody>\n",
       "    <tr>\n",
       "      <th>2019-10-23</th>\n",
       "      <td>0.000000</td>\n",
       "      <td>0.000000</td>\n",
       "      <td>-1.497940</td>\n",
       "      <td>5</td>\n",
       "      <td>one</td>\n",
       "    </tr>\n",
       "    <tr>\n",
       "      <th>2019-10-24</th>\n",
       "      <td>2.362060</td>\n",
       "      <td>-1.408420</td>\n",
       "      <td>-1.379263</td>\n",
       "      <td>5</td>\n",
       "      <td>two</td>\n",
       "    </tr>\n",
       "    <tr>\n",
       "      <th>2019-10-25</th>\n",
       "      <td>0.193773</td>\n",
       "      <td>1.562984</td>\n",
       "      <td>-0.114057</td>\n",
       "      <td>5</td>\n",
       "      <td>three</td>\n",
       "    </tr>\n",
       "    <tr>\n",
       "      <th>2019-10-26</th>\n",
       "      <td>1.428276</td>\n",
       "      <td>0.663978</td>\n",
       "      <td>0.466409</td>\n",
       "      <td>5</td>\n",
       "      <td>four</td>\n",
       "    </tr>\n",
       "    <tr>\n",
       "      <th>2019-10-27</th>\n",
       "      <td>0.795113</td>\n",
       "      <td>0.813499</td>\n",
       "      <td>-0.023738</td>\n",
       "      <td>5</td>\n",
       "      <td>five</td>\n",
       "    </tr>\n",
       "    <tr>\n",
       "      <th>2019-10-28</th>\n",
       "      <td>1.114396</td>\n",
       "      <td>-0.586237</td>\n",
       "      <td>1.789198</td>\n",
       "      <td>5</td>\n",
       "      <td>six</td>\n",
       "    </tr>\n",
       "  </tbody>\n",
       "</table>\n",
       "</div>"
      ],
      "text/plain": [
       "                   a         b         c  d      e\n",
       "2019-10-23  0.000000  0.000000 -1.497940  5    one\n",
       "2019-10-24  2.362060 -1.408420 -1.379263  5    two\n",
       "2019-10-25  0.193773  1.562984 -0.114057  5  three\n",
       "2019-10-26  1.428276  0.663978  0.466409  5   four\n",
       "2019-10-27  0.795113  0.813499 -0.023738  5   five\n",
       "2019-10-28  1.114396 -0.586237  1.789198  5    six"
      ]
     },
     "execution_count": 60,
     "metadata": {},
     "output_type": "execute_result"
    }
   ],
   "source": [
    "df2 = df.copy()\n",
    "df2['e'] = ['one', 'two', 'three', 'four', 'five', 'six']\n",
    "df2"
   ]
  },
  {
   "cell_type": "code",
   "execution_count": 64,
   "metadata": {
    "ExecuteTime": {
     "end_time": "2019-10-21T10:50:22.993543Z",
     "start_time": "2019-10-21T10:50:22.950082Z"
    }
   },
   "outputs": [
    {
     "data": {
      "text/html": [
       "<div>\n",
       "<style scoped>\n",
       "    .dataframe tbody tr th:only-of-type {\n",
       "        vertical-align: middle;\n",
       "    }\n",
       "\n",
       "    .dataframe tbody tr th {\n",
       "        vertical-align: top;\n",
       "    }\n",
       "\n",
       "    .dataframe thead th {\n",
       "        text-align: right;\n",
       "    }\n",
       "</style>\n",
       "<table border=\"1\" class=\"dataframe\">\n",
       "  <thead>\n",
       "    <tr style=\"text-align: right;\">\n",
       "      <th></th>\n",
       "      <th>a</th>\n",
       "      <th>b</th>\n",
       "      <th>c</th>\n",
       "      <th>d</th>\n",
       "      <th>e</th>\n",
       "    </tr>\n",
       "  </thead>\n",
       "  <tbody>\n",
       "    <tr>\n",
       "      <th>2019-10-24</th>\n",
       "      <td>2.362060</td>\n",
       "      <td>-1.408420</td>\n",
       "      <td>-1.379263</td>\n",
       "      <td>5</td>\n",
       "      <td>two</td>\n",
       "    </tr>\n",
       "    <tr>\n",
       "      <th>2019-10-26</th>\n",
       "      <td>1.428276</td>\n",
       "      <td>0.663978</td>\n",
       "      <td>0.466409</td>\n",
       "      <td>5</td>\n",
       "      <td>four</td>\n",
       "    </tr>\n",
       "  </tbody>\n",
       "</table>\n",
       "</div>"
      ],
      "text/plain": [
       "                   a         b         c  d     e\n",
       "2019-10-24  2.362060 -1.408420 -1.379263  5   two\n",
       "2019-10-26  1.428276  0.663978  0.466409  5  four"
      ]
     },
     "execution_count": 64,
     "metadata": {},
     "output_type": "execute_result"
    }
   ],
   "source": [
    "df2[df2['e'].isin(['two', 'four'])]\n"
   ]
  },
  {
   "cell_type": "markdown",
   "metadata": {},
   "source": [
    "\n",
    "## setting"
   ]
  },
  {
   "cell_type": "code",
   "execution_count": 34,
   "metadata": {
    "ExecuteTime": {
     "end_time": "2019-10-21T10:43:03.788293Z",
     "start_time": "2019-10-21T10:43:03.776047Z"
    }
   },
   "outputs": [
    {
     "name": "stdout",
     "output_type": "stream",
     "text": [
      "2019-11-11    1\n",
      "2019-11-12    2\n",
      "2019-11-13    3\n",
      "2019-11-14    4\n",
      "2019-11-15    5\n",
      "2019-11-16    6\n",
      "Freq: D, dtype: int64\n"
     ]
    }
   ],
   "source": [
    "s1 = pd.Series(list(range(1,7)), index=pd.date_range('20191111', periods=6))\n",
    "print(s1)"
   ]
  },
  {
   "cell_type": "markdown",
   "metadata": {},
   "source": [
    "### setting values by label\n"
   ]
  },
  {
   "cell_type": "code",
   "execution_count": 35,
   "metadata": {
    "ExecuteTime": {
     "end_time": "2019-10-21T10:43:03.803929Z",
     "start_time": "2019-10-21T10:43:03.792573Z"
    }
   },
   "outputs": [],
   "source": [
    "df.at[dates[0], 'a'] = 0"
   ]
  },
  {
   "cell_type": "code",
   "execution_count": 36,
   "metadata": {
    "ExecuteTime": {
     "end_time": "2019-10-21T10:43:03.838696Z",
     "start_time": "2019-10-21T10:43:03.810755Z"
    }
   },
   "outputs": [
    {
     "data": {
      "text/html": [
       "<div>\n",
       "<style scoped>\n",
       "    .dataframe tbody tr th:only-of-type {\n",
       "        vertical-align: middle;\n",
       "    }\n",
       "\n",
       "    .dataframe tbody tr th {\n",
       "        vertical-align: top;\n",
       "    }\n",
       "\n",
       "    .dataframe thead th {\n",
       "        text-align: right;\n",
       "    }\n",
       "</style>\n",
       "<table border=\"1\" class=\"dataframe\">\n",
       "  <thead>\n",
       "    <tr style=\"text-align: right;\">\n",
       "      <th></th>\n",
       "      <th>a</th>\n",
       "      <th>b</th>\n",
       "      <th>c</th>\n",
       "      <th>d</th>\n",
       "    </tr>\n",
       "  </thead>\n",
       "  <tbody>\n",
       "    <tr>\n",
       "      <th>2019-10-23</th>\n",
       "      <td>0.000000</td>\n",
       "      <td>-0.332166</td>\n",
       "      <td>-1.497940</td>\n",
       "      <td>0.911046</td>\n",
       "    </tr>\n",
       "    <tr>\n",
       "      <th>2019-10-24</th>\n",
       "      <td>2.362060</td>\n",
       "      <td>-1.408420</td>\n",
       "      <td>-1.379263</td>\n",
       "      <td>1.077921</td>\n",
       "    </tr>\n",
       "    <tr>\n",
       "      <th>2019-10-25</th>\n",
       "      <td>0.193773</td>\n",
       "      <td>1.562984</td>\n",
       "      <td>-0.114057</td>\n",
       "      <td>1.098926</td>\n",
       "    </tr>\n",
       "    <tr>\n",
       "      <th>2019-10-26</th>\n",
       "      <td>1.428276</td>\n",
       "      <td>0.663978</td>\n",
       "      <td>0.466409</td>\n",
       "      <td>-0.642886</td>\n",
       "    </tr>\n",
       "    <tr>\n",
       "      <th>2019-10-27</th>\n",
       "      <td>0.795113</td>\n",
       "      <td>0.813499</td>\n",
       "      <td>-0.023738</td>\n",
       "      <td>-0.248085</td>\n",
       "    </tr>\n",
       "    <tr>\n",
       "      <th>2019-10-28</th>\n",
       "      <td>1.114396</td>\n",
       "      <td>-0.586237</td>\n",
       "      <td>1.789198</td>\n",
       "      <td>-0.214345</td>\n",
       "    </tr>\n",
       "  </tbody>\n",
       "</table>\n",
       "</div>"
      ],
      "text/plain": [
       "                   a         b         c         d\n",
       "2019-10-23  0.000000 -0.332166 -1.497940  0.911046\n",
       "2019-10-24  2.362060 -1.408420 -1.379263  1.077921\n",
       "2019-10-25  0.193773  1.562984 -0.114057  1.098926\n",
       "2019-10-26  1.428276  0.663978  0.466409 -0.642886\n",
       "2019-10-27  0.795113  0.813499 -0.023738 -0.248085\n",
       "2019-10-28  1.114396 -0.586237  1.789198 -0.214345"
      ]
     },
     "execution_count": 36,
     "metadata": {},
     "output_type": "execute_result"
    }
   ],
   "source": [
    "df"
   ]
  },
  {
   "cell_type": "markdown",
   "metadata": {},
   "source": [
    "### setting values by position"
   ]
  },
  {
   "cell_type": "code",
   "execution_count": 37,
   "metadata": {
    "ExecuteTime": {
     "end_time": "2019-10-21T10:43:03.854586Z",
     "start_time": "2019-10-21T10:43:03.842069Z"
    }
   },
   "outputs": [],
   "source": [
    "df.iat[0,1] = 0"
   ]
  },
  {
   "cell_type": "code",
   "execution_count": 38,
   "metadata": {
    "ExecuteTime": {
     "end_time": "2019-10-21T10:43:03.903879Z",
     "start_time": "2019-10-21T10:43:03.876950Z"
    }
   },
   "outputs": [
    {
     "data": {
      "text/html": [
       "<div>\n",
       "<style scoped>\n",
       "    .dataframe tbody tr th:only-of-type {\n",
       "        vertical-align: middle;\n",
       "    }\n",
       "\n",
       "    .dataframe tbody tr th {\n",
       "        vertical-align: top;\n",
       "    }\n",
       "\n",
       "    .dataframe thead th {\n",
       "        text-align: right;\n",
       "    }\n",
       "</style>\n",
       "<table border=\"1\" class=\"dataframe\">\n",
       "  <thead>\n",
       "    <tr style=\"text-align: right;\">\n",
       "      <th></th>\n",
       "      <th>a</th>\n",
       "      <th>b</th>\n",
       "      <th>c</th>\n",
       "      <th>d</th>\n",
       "    </tr>\n",
       "  </thead>\n",
       "  <tbody>\n",
       "    <tr>\n",
       "      <th>2019-10-23</th>\n",
       "      <td>0.000000</td>\n",
       "      <td>0.000000</td>\n",
       "      <td>-1.497940</td>\n",
       "      <td>0.911046</td>\n",
       "    </tr>\n",
       "    <tr>\n",
       "      <th>2019-10-24</th>\n",
       "      <td>2.362060</td>\n",
       "      <td>-1.408420</td>\n",
       "      <td>-1.379263</td>\n",
       "      <td>1.077921</td>\n",
       "    </tr>\n",
       "    <tr>\n",
       "      <th>2019-10-25</th>\n",
       "      <td>0.193773</td>\n",
       "      <td>1.562984</td>\n",
       "      <td>-0.114057</td>\n",
       "      <td>1.098926</td>\n",
       "    </tr>\n",
       "    <tr>\n",
       "      <th>2019-10-26</th>\n",
       "      <td>1.428276</td>\n",
       "      <td>0.663978</td>\n",
       "      <td>0.466409</td>\n",
       "      <td>-0.642886</td>\n",
       "    </tr>\n",
       "    <tr>\n",
       "      <th>2019-10-27</th>\n",
       "      <td>0.795113</td>\n",
       "      <td>0.813499</td>\n",
       "      <td>-0.023738</td>\n",
       "      <td>-0.248085</td>\n",
       "    </tr>\n",
       "    <tr>\n",
       "      <th>2019-10-28</th>\n",
       "      <td>1.114396</td>\n",
       "      <td>-0.586237</td>\n",
       "      <td>1.789198</td>\n",
       "      <td>-0.214345</td>\n",
       "    </tr>\n",
       "  </tbody>\n",
       "</table>\n",
       "</div>"
      ],
      "text/plain": [
       "                   a         b         c         d\n",
       "2019-10-23  0.000000  0.000000 -1.497940  0.911046\n",
       "2019-10-24  2.362060 -1.408420 -1.379263  1.077921\n",
       "2019-10-25  0.193773  1.562984 -0.114057  1.098926\n",
       "2019-10-26  1.428276  0.663978  0.466409 -0.642886\n",
       "2019-10-27  0.795113  0.813499 -0.023738 -0.248085\n",
       "2019-10-28  1.114396 -0.586237  1.789198 -0.214345"
      ]
     },
     "execution_count": 38,
     "metadata": {},
     "output_type": "execute_result"
    }
   ],
   "source": [
    "df"
   ]
  },
  {
   "cell_type": "markdown",
   "metadata": {},
   "source": [
    "### setting by assigning with a numpy array"
   ]
  },
  {
   "cell_type": "code",
   "execution_count": 39,
   "metadata": {
    "ExecuteTime": {
     "end_time": "2019-10-21T10:43:03.936525Z",
     "start_time": "2019-10-21T10:43:03.916742Z"
    }
   },
   "outputs": [],
   "source": [
    "df.loc[:, 'd'] = np.array([5] * len(df))"
   ]
  },
  {
   "cell_type": "code",
   "execution_count": 40,
   "metadata": {
    "ExecuteTime": {
     "end_time": "2019-10-21T10:43:03.967101Z",
     "start_time": "2019-10-21T10:43:03.940590Z"
    }
   },
   "outputs": [
    {
     "data": {
      "text/html": [
       "<div>\n",
       "<style scoped>\n",
       "    .dataframe tbody tr th:only-of-type {\n",
       "        vertical-align: middle;\n",
       "    }\n",
       "\n",
       "    .dataframe tbody tr th {\n",
       "        vertical-align: top;\n",
       "    }\n",
       "\n",
       "    .dataframe thead th {\n",
       "        text-align: right;\n",
       "    }\n",
       "</style>\n",
       "<table border=\"1\" class=\"dataframe\">\n",
       "  <thead>\n",
       "    <tr style=\"text-align: right;\">\n",
       "      <th></th>\n",
       "      <th>a</th>\n",
       "      <th>b</th>\n",
       "      <th>c</th>\n",
       "      <th>d</th>\n",
       "    </tr>\n",
       "  </thead>\n",
       "  <tbody>\n",
       "    <tr>\n",
       "      <th>2019-10-23</th>\n",
       "      <td>0.000000</td>\n",
       "      <td>0.000000</td>\n",
       "      <td>-1.497940</td>\n",
       "      <td>5</td>\n",
       "    </tr>\n",
       "    <tr>\n",
       "      <th>2019-10-24</th>\n",
       "      <td>2.362060</td>\n",
       "      <td>-1.408420</td>\n",
       "      <td>-1.379263</td>\n",
       "      <td>5</td>\n",
       "    </tr>\n",
       "    <tr>\n",
       "      <th>2019-10-25</th>\n",
       "      <td>0.193773</td>\n",
       "      <td>1.562984</td>\n",
       "      <td>-0.114057</td>\n",
       "      <td>5</td>\n",
       "    </tr>\n",
       "    <tr>\n",
       "      <th>2019-10-26</th>\n",
       "      <td>1.428276</td>\n",
       "      <td>0.663978</td>\n",
       "      <td>0.466409</td>\n",
       "      <td>5</td>\n",
       "    </tr>\n",
       "    <tr>\n",
       "      <th>2019-10-27</th>\n",
       "      <td>0.795113</td>\n",
       "      <td>0.813499</td>\n",
       "      <td>-0.023738</td>\n",
       "      <td>5</td>\n",
       "    </tr>\n",
       "    <tr>\n",
       "      <th>2019-10-28</th>\n",
       "      <td>1.114396</td>\n",
       "      <td>-0.586237</td>\n",
       "      <td>1.789198</td>\n",
       "      <td>5</td>\n",
       "    </tr>\n",
       "  </tbody>\n",
       "</table>\n",
       "</div>"
      ],
      "text/plain": [
       "                   a         b         c  d\n",
       "2019-10-23  0.000000  0.000000 -1.497940  5\n",
       "2019-10-24  2.362060 -1.408420 -1.379263  5\n",
       "2019-10-25  0.193773  1.562984 -0.114057  5\n",
       "2019-10-26  1.428276  0.663978  0.466409  5\n",
       "2019-10-27  0.795113  0.813499 -0.023738  5\n",
       "2019-10-28  1.114396 -0.586237  1.789198  5"
      ]
     },
     "execution_count": 40,
     "metadata": {},
     "output_type": "execute_result"
    }
   ],
   "source": [
    "df"
   ]
  },
  {
   "cell_type": "markdown",
   "metadata": {
    "ExecuteTime": {
     "end_time": "2019-10-18T12:24:27.400187Z",
     "start_time": "2019-10-18T12:24:27.397690Z"
    }
   },
   "source": [
    "## missing data\n",
    "### df.reindex()"
   ]
  },
  {
   "cell_type": "code",
   "execution_count": 41,
   "metadata": {
    "ExecuteTime": {
     "end_time": "2019-10-21T10:43:03.998544Z",
     "start_time": "2019-10-21T10:43:03.970751Z"
    }
   },
   "outputs": [
    {
     "data": {
      "text/html": [
       "<div>\n",
       "<style scoped>\n",
       "    .dataframe tbody tr th:only-of-type {\n",
       "        vertical-align: middle;\n",
       "    }\n",
       "\n",
       "    .dataframe tbody tr th {\n",
       "        vertical-align: top;\n",
       "    }\n",
       "\n",
       "    .dataframe thead th {\n",
       "        text-align: right;\n",
       "    }\n",
       "</style>\n",
       "<table border=\"1\" class=\"dataframe\">\n",
       "  <thead>\n",
       "    <tr style=\"text-align: right;\">\n",
       "      <th></th>\n",
       "      <th>a</th>\n",
       "      <th>b</th>\n",
       "      <th>c</th>\n",
       "      <th>d</th>\n",
       "      <th>e</th>\n",
       "    </tr>\n",
       "  </thead>\n",
       "  <tbody>\n",
       "    <tr>\n",
       "      <th>2019-10-23</th>\n",
       "      <td>0.000000</td>\n",
       "      <td>0.000000</td>\n",
       "      <td>-1.497940</td>\n",
       "      <td>5</td>\n",
       "      <td>1.0</td>\n",
       "    </tr>\n",
       "    <tr>\n",
       "      <th>2019-10-24</th>\n",
       "      <td>2.362060</td>\n",
       "      <td>-1.408420</td>\n",
       "      <td>-1.379263</td>\n",
       "      <td>5</td>\n",
       "      <td>1.0</td>\n",
       "    </tr>\n",
       "    <tr>\n",
       "      <th>2019-10-25</th>\n",
       "      <td>0.193773</td>\n",
       "      <td>1.562984</td>\n",
       "      <td>-0.114057</td>\n",
       "      <td>5</td>\n",
       "      <td>NaN</td>\n",
       "    </tr>\n",
       "    <tr>\n",
       "      <th>2019-10-26</th>\n",
       "      <td>1.428276</td>\n",
       "      <td>0.663978</td>\n",
       "      <td>0.466409</td>\n",
       "      <td>5</td>\n",
       "      <td>NaN</td>\n",
       "    </tr>\n",
       "  </tbody>\n",
       "</table>\n",
       "</div>"
      ],
      "text/plain": [
       "                   a         b         c  d    e\n",
       "2019-10-23  0.000000  0.000000 -1.497940  5  1.0\n",
       "2019-10-24  2.362060 -1.408420 -1.379263  5  1.0\n",
       "2019-10-25  0.193773  1.562984 -0.114057  5  NaN\n",
       "2019-10-26  1.428276  0.663978  0.466409  5  NaN"
      ]
     },
     "execution_count": 41,
     "metadata": {},
     "output_type": "execute_result"
    }
   ],
   "source": [
    "df1 = df.reindex(index=dates[0:4], columns=list(df.columns)+['e'])\n",
    "df1.loc[dates[0]:dates[1], 'e'] = 1\n",
    "df1"
   ]
  },
  {
   "cell_type": "code",
   "execution_count": 42,
   "metadata": {
    "ExecuteTime": {
     "end_time": "2019-10-21T10:43:04.029767Z",
     "start_time": "2019-10-21T10:43:04.003562Z"
    }
   },
   "outputs": [
    {
     "data": {
      "text/html": [
       "<div>\n",
       "<style scoped>\n",
       "    .dataframe tbody tr th:only-of-type {\n",
       "        vertical-align: middle;\n",
       "    }\n",
       "\n",
       "    .dataframe tbody tr th {\n",
       "        vertical-align: top;\n",
       "    }\n",
       "\n",
       "    .dataframe thead th {\n",
       "        text-align: right;\n",
       "    }\n",
       "</style>\n",
       "<table border=\"1\" class=\"dataframe\">\n",
       "  <thead>\n",
       "    <tr style=\"text-align: right;\">\n",
       "      <th></th>\n",
       "      <th>a</th>\n",
       "      <th>b</th>\n",
       "      <th>c</th>\n",
       "      <th>d</th>\n",
       "      <th>e</th>\n",
       "    </tr>\n",
       "  </thead>\n",
       "  <tbody>\n",
       "    <tr>\n",
       "      <th>2019-10-23</th>\n",
       "      <td>0.00000</td>\n",
       "      <td>0.00000</td>\n",
       "      <td>-1.497940</td>\n",
       "      <td>5</td>\n",
       "      <td>1.0</td>\n",
       "    </tr>\n",
       "    <tr>\n",
       "      <th>2019-10-24</th>\n",
       "      <td>2.36206</td>\n",
       "      <td>-1.40842</td>\n",
       "      <td>-1.379263</td>\n",
       "      <td>5</td>\n",
       "      <td>1.0</td>\n",
       "    </tr>\n",
       "  </tbody>\n",
       "</table>\n",
       "</div>"
      ],
      "text/plain": [
       "                  a        b         c  d    e\n",
       "2019-10-23  0.00000  0.00000 -1.497940  5  1.0\n",
       "2019-10-24  2.36206 -1.40842 -1.379263  5  1.0"
      ]
     },
     "execution_count": 42,
     "metadata": {},
     "output_type": "execute_result"
    }
   ],
   "source": [
    "# drop any rows that have missing data\n",
    "df1.dropna(how='any')"
   ]
  },
  {
   "cell_type": "code",
   "execution_count": 43,
   "metadata": {
    "ExecuteTime": {
     "end_time": "2019-10-21T10:43:04.060996Z",
     "start_time": "2019-10-21T10:43:04.035489Z"
    }
   },
   "outputs": [
    {
     "data": {
      "text/html": [
       "<div>\n",
       "<style scoped>\n",
       "    .dataframe tbody tr th:only-of-type {\n",
       "        vertical-align: middle;\n",
       "    }\n",
       "\n",
       "    .dataframe tbody tr th {\n",
       "        vertical-align: top;\n",
       "    }\n",
       "\n",
       "    .dataframe thead th {\n",
       "        text-align: right;\n",
       "    }\n",
       "</style>\n",
       "<table border=\"1\" class=\"dataframe\">\n",
       "  <thead>\n",
       "    <tr style=\"text-align: right;\">\n",
       "      <th></th>\n",
       "      <th>a</th>\n",
       "      <th>b</th>\n",
       "      <th>c</th>\n",
       "      <th>d</th>\n",
       "      <th>e</th>\n",
       "    </tr>\n",
       "  </thead>\n",
       "  <tbody>\n",
       "    <tr>\n",
       "      <th>2019-10-23</th>\n",
       "      <td>0.000000</td>\n",
       "      <td>0.000000</td>\n",
       "      <td>-1.497940</td>\n",
       "      <td>5</td>\n",
       "      <td>1.0</td>\n",
       "    </tr>\n",
       "    <tr>\n",
       "      <th>2019-10-24</th>\n",
       "      <td>2.362060</td>\n",
       "      <td>-1.408420</td>\n",
       "      <td>-1.379263</td>\n",
       "      <td>5</td>\n",
       "      <td>1.0</td>\n",
       "    </tr>\n",
       "    <tr>\n",
       "      <th>2019-10-25</th>\n",
       "      <td>0.193773</td>\n",
       "      <td>1.562984</td>\n",
       "      <td>-0.114057</td>\n",
       "      <td>5</td>\n",
       "      <td>NaN</td>\n",
       "    </tr>\n",
       "    <tr>\n",
       "      <th>2019-10-26</th>\n",
       "      <td>1.428276</td>\n",
       "      <td>0.663978</td>\n",
       "      <td>0.466409</td>\n",
       "      <td>5</td>\n",
       "      <td>NaN</td>\n",
       "    </tr>\n",
       "  </tbody>\n",
       "</table>\n",
       "</div>"
      ],
      "text/plain": [
       "                   a         b         c  d    e\n",
       "2019-10-23  0.000000  0.000000 -1.497940  5  1.0\n",
       "2019-10-24  2.362060 -1.408420 -1.379263  5  1.0\n",
       "2019-10-25  0.193773  1.562984 -0.114057  5  NaN\n",
       "2019-10-26  1.428276  0.663978  0.466409  5  NaN"
      ]
     },
     "execution_count": 43,
     "metadata": {},
     "output_type": "execute_result"
    }
   ],
   "source": [
    "# drop all rows that have missing data\n",
    "df1.dropna(how='all')"
   ]
  },
  {
   "cell_type": "code",
   "execution_count": 44,
   "metadata": {
    "ExecuteTime": {
     "end_time": "2019-10-21T10:43:04.094816Z",
     "start_time": "2019-10-21T10:43:04.067273Z"
    }
   },
   "outputs": [
    {
     "name": "stdout",
     "output_type": "stream",
     "text": [
      "                   a         b         c  d        e\n",
      "2019-10-23  0.000000  0.000000 -1.497940  5        1\n",
      "2019-10-24  2.362060 -1.408420 -1.379263  5        1\n",
      "2019-10-25  0.193773  1.562984 -0.114057  5  missing\n",
      "2019-10-26  1.428276  0.663978  0.466409  5  missing\n"
     ]
    }
   ],
   "source": [
    "# filling missing data\n",
    "df2 = df1.fillna(value='missing')\n",
    "print(df2)\n",
    "# df2.loc[:,'e']"
   ]
  },
  {
   "cell_type": "code",
   "execution_count": 45,
   "metadata": {
    "ExecuteTime": {
     "end_time": "2019-10-21T10:43:04.126055Z",
     "start_time": "2019-10-21T10:43:04.099303Z"
    }
   },
   "outputs": [
    {
     "data": {
      "text/html": [
       "<div>\n",
       "<style scoped>\n",
       "    .dataframe tbody tr th:only-of-type {\n",
       "        vertical-align: middle;\n",
       "    }\n",
       "\n",
       "    .dataframe tbody tr th {\n",
       "        vertical-align: top;\n",
       "    }\n",
       "\n",
       "    .dataframe thead th {\n",
       "        text-align: right;\n",
       "    }\n",
       "</style>\n",
       "<table border=\"1\" class=\"dataframe\">\n",
       "  <thead>\n",
       "    <tr style=\"text-align: right;\">\n",
       "      <th></th>\n",
       "      <th>a</th>\n",
       "      <th>b</th>\n",
       "      <th>c</th>\n",
       "      <th>d</th>\n",
       "      <th>e</th>\n",
       "    </tr>\n",
       "  </thead>\n",
       "  <tbody>\n",
       "    <tr>\n",
       "      <th>2019-10-23</th>\n",
       "      <td>False</td>\n",
       "      <td>False</td>\n",
       "      <td>False</td>\n",
       "      <td>False</td>\n",
       "      <td>False</td>\n",
       "    </tr>\n",
       "    <tr>\n",
       "      <th>2019-10-24</th>\n",
       "      <td>False</td>\n",
       "      <td>False</td>\n",
       "      <td>False</td>\n",
       "      <td>False</td>\n",
       "      <td>False</td>\n",
       "    </tr>\n",
       "    <tr>\n",
       "      <th>2019-10-25</th>\n",
       "      <td>False</td>\n",
       "      <td>False</td>\n",
       "      <td>False</td>\n",
       "      <td>False</td>\n",
       "      <td>True</td>\n",
       "    </tr>\n",
       "    <tr>\n",
       "      <th>2019-10-26</th>\n",
       "      <td>False</td>\n",
       "      <td>False</td>\n",
       "      <td>False</td>\n",
       "      <td>False</td>\n",
       "      <td>True</td>\n",
       "    </tr>\n",
       "  </tbody>\n",
       "</table>\n",
       "</div>"
      ],
      "text/plain": [
       "                a      b      c      d      e\n",
       "2019-10-23  False  False  False  False  False\n",
       "2019-10-24  False  False  False  False  False\n",
       "2019-10-25  False  False  False  False   True\n",
       "2019-10-26  False  False  False  False   True"
      ]
     },
     "execution_count": 45,
     "metadata": {},
     "output_type": "execute_result"
    }
   ],
   "source": [
    "# get the boolean mask where values are nan\n",
    "pd.isna(df1)"
   ]
  },
  {
   "cell_type": "markdown",
   "metadata": {},
   "source": [
    "## operations"
   ]
  },
  {
   "cell_type": "markdown",
   "metadata": {},
   "source": [
    "### stats"
   ]
  },
  {
   "cell_type": "code",
   "execution_count": 68,
   "metadata": {
    "ExecuteTime": {
     "end_time": "2019-10-21T10:59:15.014454Z",
     "start_time": "2019-10-21T10:59:14.946095Z"
    }
   },
   "outputs": [
    {
     "name": "stdout",
     "output_type": "stream",
     "text": [
      "              a         b         c    d\n",
      "count  6.000000  6.000000  6.000000  6.0\n",
      "mean   0.982269  0.174301 -0.126565  5.0\n",
      "std    0.865079  1.066827  1.223308  0.0\n",
      "min    0.000000 -1.408420 -1.497940  5.0\n",
      "25%    0.344108 -0.439678 -1.062962  5.0\n",
      "50%    0.954754  0.331989 -0.068898  5.0\n",
      "75%    1.349806  0.776119  0.343872  5.0\n",
      "max    2.362060  1.562984  1.789198  5.0\n",
      "**************************************************\n",
      "a    0.982269\n",
      "b    0.174301\n",
      "c   -0.126565\n",
      "d    5.000000\n",
      "dtype: float64\n",
      "**************************************************\n",
      "2019-10-23    0.875515\n",
      "2019-10-24    1.143594\n",
      "2019-10-25    1.660675\n",
      "2019-10-26    1.889666\n",
      "2019-10-27    1.646219\n",
      "2019-10-28    1.829339\n",
      "Freq: D, dtype: float64\n",
      "**************************************************\n",
      "a    0.982269\n",
      "b    0.174301\n",
      "c   -0.126565\n",
      "d    5.000000\n",
      "dtype: float64\n"
     ]
    }
   ],
   "source": [
    "# performing a descriptive statistic\n",
    "print(df.describe())\n",
    "print('*'*50)\n",
    "print(df.mean())\n",
    "print('*'*50)\n",
    "print(df.mean(axis=1))\n",
    "print('*'*50)\n",
    "print(df.mean(axis=0))\n",
    "\n"
   ]
  },
  {
   "cell_type": "code",
   "execution_count": 47,
   "metadata": {
    "ExecuteTime": {
     "end_time": "2019-10-21T10:43:04.200502Z",
     "start_time": "2019-10-21T10:43:04.188451Z"
    }
   },
   "outputs": [
    {
     "data": {
      "text/plain": [
       "2019-10-23    1.0\n",
       "2019-10-24    3.0\n",
       "2019-10-25    5.0\n",
       "2019-10-26    NaN\n",
       "2019-10-27    6.0\n",
       "2019-10-28    8.0\n",
       "Freq: D, dtype: float64"
      ]
     },
     "execution_count": 47,
     "metadata": {},
     "output_type": "execute_result"
    }
   ],
   "source": [
    "s = pd.Series([1,3,5,np.nan, 6,8],index=dates)\n",
    "s\n",
    "\n"
   ]
  },
  {
   "cell_type": "code",
   "execution_count": 48,
   "metadata": {
    "ExecuteTime": {
     "end_time": "2019-10-21T10:43:04.245806Z",
     "start_time": "2019-10-21T10:43:04.204809Z"
    }
   },
   "outputs": [
    {
     "name": "stdout",
     "output_type": "stream",
     "text": [
      "                   a         b         c    d\n",
      "2019-10-23 -1.000000 -1.000000 -2.497940  4.0\n",
      "2019-10-24 -0.637940 -4.408420 -4.379263  2.0\n",
      "2019-10-25 -4.806227 -3.437016 -5.114057  0.0\n",
      "2019-10-26       NaN       NaN       NaN  NaN\n",
      "2019-10-27 -5.204887 -5.186501 -6.023738 -1.0\n",
      "2019-10-28 -6.885604 -8.586237 -6.210802 -3.0\n"
     ]
    },
    {
     "data": {
      "text/html": [
       "<div>\n",
       "<style scoped>\n",
       "    .dataframe tbody tr th:only-of-type {\n",
       "        vertical-align: middle;\n",
       "    }\n",
       "\n",
       "    .dataframe tbody tr th {\n",
       "        vertical-align: top;\n",
       "    }\n",
       "\n",
       "    .dataframe thead th {\n",
       "        text-align: right;\n",
       "    }\n",
       "</style>\n",
       "<table border=\"1\" class=\"dataframe\">\n",
       "  <thead>\n",
       "    <tr style=\"text-align: right;\">\n",
       "      <th></th>\n",
       "      <th>a</th>\n",
       "      <th>b</th>\n",
       "      <th>c</th>\n",
       "      <th>d</th>\n",
       "    </tr>\n",
       "  </thead>\n",
       "  <tbody>\n",
       "    <tr>\n",
       "      <th>2019-10-23</th>\n",
       "      <td>0.000000</td>\n",
       "      <td>0.000000</td>\n",
       "      <td>-1.497940</td>\n",
       "      <td>5</td>\n",
       "    </tr>\n",
       "    <tr>\n",
       "      <th>2019-10-24</th>\n",
       "      <td>2.362060</td>\n",
       "      <td>-1.408420</td>\n",
       "      <td>-1.379263</td>\n",
       "      <td>5</td>\n",
       "    </tr>\n",
       "    <tr>\n",
       "      <th>2019-10-25</th>\n",
       "      <td>0.193773</td>\n",
       "      <td>1.562984</td>\n",
       "      <td>-0.114057</td>\n",
       "      <td>5</td>\n",
       "    </tr>\n",
       "    <tr>\n",
       "      <th>2019-10-26</th>\n",
       "      <td>1.428276</td>\n",
       "      <td>0.663978</td>\n",
       "      <td>0.466409</td>\n",
       "      <td>5</td>\n",
       "    </tr>\n",
       "    <tr>\n",
       "      <th>2019-10-27</th>\n",
       "      <td>0.795113</td>\n",
       "      <td>0.813499</td>\n",
       "      <td>-0.023738</td>\n",
       "      <td>5</td>\n",
       "    </tr>\n",
       "    <tr>\n",
       "      <th>2019-10-28</th>\n",
       "      <td>1.114396</td>\n",
       "      <td>-0.586237</td>\n",
       "      <td>1.789198</td>\n",
       "      <td>5</td>\n",
       "    </tr>\n",
       "  </tbody>\n",
       "</table>\n",
       "</div>"
      ],
      "text/plain": [
       "                   a         b         c  d\n",
       "2019-10-23  0.000000  0.000000 -1.497940  5\n",
       "2019-10-24  2.362060 -1.408420 -1.379263  5\n",
       "2019-10-25  0.193773  1.562984 -0.114057  5\n",
       "2019-10-26  1.428276  0.663978  0.466409  5\n",
       "2019-10-27  0.795113  0.813499 -0.023738  5\n",
       "2019-10-28  1.114396 -0.586237  1.789198  5"
      ]
     },
     "execution_count": 48,
     "metadata": {},
     "output_type": "execute_result"
    }
   ],
   "source": [
    "print(df.sub(s, axis='index'))\n",
    "df"
   ]
  },
  {
   "cell_type": "markdown",
   "metadata": {},
   "source": [
    "### apply\n",
    "applying functions to the data"
   ]
  },
  {
   "cell_type": "code",
   "execution_count": 49,
   "metadata": {
    "ExecuteTime": {
     "end_time": "2019-10-21T10:43:04.286692Z",
     "start_time": "2019-10-21T10:43:04.248698Z"
    }
   },
   "outputs": [
    {
     "data": {
      "text/html": [
       "<div>\n",
       "<style scoped>\n",
       "    .dataframe tbody tr th:only-of-type {\n",
       "        vertical-align: middle;\n",
       "    }\n",
       "\n",
       "    .dataframe tbody tr th {\n",
       "        vertical-align: top;\n",
       "    }\n",
       "\n",
       "    .dataframe thead th {\n",
       "        text-align: right;\n",
       "    }\n",
       "</style>\n",
       "<table border=\"1\" class=\"dataframe\">\n",
       "  <thead>\n",
       "    <tr style=\"text-align: right;\">\n",
       "      <th></th>\n",
       "      <th>a</th>\n",
       "      <th>b</th>\n",
       "      <th>c</th>\n",
       "      <th>d</th>\n",
       "    </tr>\n",
       "  </thead>\n",
       "  <tbody>\n",
       "    <tr>\n",
       "      <th>2019-10-23</th>\n",
       "      <td>0.000000</td>\n",
       "      <td>0.000000</td>\n",
       "      <td>-1.497940</td>\n",
       "      <td>5</td>\n",
       "    </tr>\n",
       "    <tr>\n",
       "      <th>2019-10-24</th>\n",
       "      <td>2.362060</td>\n",
       "      <td>-1.408420</td>\n",
       "      <td>-2.877203</td>\n",
       "      <td>10</td>\n",
       "    </tr>\n",
       "    <tr>\n",
       "      <th>2019-10-25</th>\n",
       "      <td>2.555833</td>\n",
       "      <td>0.154564</td>\n",
       "      <td>-2.991261</td>\n",
       "      <td>15</td>\n",
       "    </tr>\n",
       "    <tr>\n",
       "      <th>2019-10-26</th>\n",
       "      <td>3.984108</td>\n",
       "      <td>0.818542</td>\n",
       "      <td>-2.524852</td>\n",
       "      <td>20</td>\n",
       "    </tr>\n",
       "    <tr>\n",
       "      <th>2019-10-27</th>\n",
       "      <td>4.779221</td>\n",
       "      <td>1.632041</td>\n",
       "      <td>-2.548590</td>\n",
       "      <td>25</td>\n",
       "    </tr>\n",
       "    <tr>\n",
       "      <th>2019-10-28</th>\n",
       "      <td>5.893617</td>\n",
       "      <td>1.045803</td>\n",
       "      <td>-0.759392</td>\n",
       "      <td>30</td>\n",
       "    </tr>\n",
       "  </tbody>\n",
       "</table>\n",
       "</div>"
      ],
      "text/plain": [
       "                   a         b         c   d\n",
       "2019-10-23  0.000000  0.000000 -1.497940   5\n",
       "2019-10-24  2.362060 -1.408420 -2.877203  10\n",
       "2019-10-25  2.555833  0.154564 -2.991261  15\n",
       "2019-10-26  3.984108  0.818542 -2.524852  20\n",
       "2019-10-27  4.779221  1.632041 -2.548590  25\n",
       "2019-10-28  5.893617  1.045803 -0.759392  30"
      ]
     },
     "execution_count": 49,
     "metadata": {},
     "output_type": "execute_result"
    }
   ],
   "source": [
    "df.apply(np.cumsum)\n"
   ]
  },
  {
   "cell_type": "code",
   "execution_count": 50,
   "metadata": {
    "ExecuteTime": {
     "end_time": "2019-10-21T10:43:04.329185Z",
     "start_time": "2019-10-21T10:43:04.290800Z"
    }
   },
   "outputs": [
    {
     "data": {
      "text/plain": [
       "a    2.362060\n",
       "b    2.971404\n",
       "c    3.287138\n",
       "d    0.000000\n",
       "dtype: float64"
      ]
     },
     "execution_count": 50,
     "metadata": {},
     "output_type": "execute_result"
    }
   ],
   "source": [
    "df.apply(lambda x:x.max() - x.min())"
   ]
  },
  {
   "cell_type": "markdown",
   "metadata": {},
   "source": [
    "### histogramming"
   ]
  },
  {
   "cell_type": "code",
   "execution_count": 51,
   "metadata": {
    "ExecuteTime": {
     "end_time": "2019-10-21T10:43:04.348411Z",
     "start_time": "2019-10-21T10:43:04.332348Z"
    }
   },
   "outputs": [
    {
     "data": {
      "text/plain": [
       "0    6\n",
       "1    1\n",
       "2    4\n",
       "3    1\n",
       "4    0\n",
       "5    0\n",
       "6    4\n",
       "7    1\n",
       "8    0\n",
       "9    1\n",
       "dtype: int32"
      ]
     },
     "execution_count": 51,
     "metadata": {},
     "output_type": "execute_result"
    }
   ],
   "source": [
    "s = pd.Series(np.random.randint(0, 7, size=10))\n",
    "s"
   ]
  },
  {
   "cell_type": "code",
   "execution_count": 69,
   "metadata": {
    "ExecuteTime": {
     "end_time": "2019-10-21T11:09:50.516206Z",
     "start_time": "2019-10-21T11:09:50.499223Z"
    }
   },
   "outputs": [
    {
     "data": {
      "text/plain": [
       "8.0    1\n",
       "6.0    1\n",
       "5.0    1\n",
       "3.0    1\n",
       "1.0    1\n",
       "dtype: int64"
      ]
     },
     "execution_count": 69,
     "metadata": {},
     "output_type": "execute_result"
    }
   ],
   "source": [
    "s.value_counts()  # return the count of value\n"
   ]
  },
  {
   "cell_type": "markdown",
   "metadata": {},
   "source": [
    "### string methods\n",
    "generally uses regular expression by default "
   ]
  },
  {
   "cell_type": "code",
   "execution_count": 77,
   "metadata": {
    "ExecuteTime": {
     "end_time": "2019-10-21T11:14:31.885657Z",
     "start_time": "2019-10-21T11:14:31.861724Z"
    }
   },
   "outputs": [
    {
     "data": {
      "text/plain": [
       "0      a\n",
       "1      b\n",
       "2      c\n",
       "3      d\n",
       "4    abd\n",
       "5    NaN\n",
       "dtype: object"
      ]
     },
     "execution_count": 77,
     "metadata": {},
     "output_type": "execute_result"
    }
   ],
   "source": [
    "s = pd.Series(['a','B','C','d','AbD',np.nan])#,[1,4,123,123,44,11]])\n",
    "s.str.lower()\n"
   ]
  },
  {
   "cell_type": "markdown",
   "metadata": {},
   "source": [
    "## merge"
   ]
  },
  {
   "cell_type": "markdown",
   "metadata": {},
   "source": [
    "### concat"
   ]
  },
  {
   "cell_type": "code",
   "execution_count": 81,
   "metadata": {
    "ExecuteTime": {
     "end_time": "2019-10-21T11:16:02.009713Z",
     "start_time": "2019-10-21T11:16:01.978189Z"
    }
   },
   "outputs": [
    {
     "data": {
      "text/html": [
       "<div>\n",
       "<style scoped>\n",
       "    .dataframe tbody tr th:only-of-type {\n",
       "        vertical-align: middle;\n",
       "    }\n",
       "\n",
       "    .dataframe tbody tr th {\n",
       "        vertical-align: top;\n",
       "    }\n",
       "\n",
       "    .dataframe thead th {\n",
       "        text-align: right;\n",
       "    }\n",
       "</style>\n",
       "<table border=\"1\" class=\"dataframe\">\n",
       "  <thead>\n",
       "    <tr style=\"text-align: right;\">\n",
       "      <th></th>\n",
       "      <th>0</th>\n",
       "      <th>1</th>\n",
       "      <th>2</th>\n",
       "      <th>3</th>\n",
       "    </tr>\n",
       "  </thead>\n",
       "  <tbody>\n",
       "    <tr>\n",
       "      <th>0</th>\n",
       "      <td>-1.737394</td>\n",
       "      <td>-1.584861</td>\n",
       "      <td>1.354222</td>\n",
       "      <td>-1.189527</td>\n",
       "    </tr>\n",
       "    <tr>\n",
       "      <th>1</th>\n",
       "      <td>-1.706995</td>\n",
       "      <td>-0.572205</td>\n",
       "      <td>1.948753</td>\n",
       "      <td>-1.353885</td>\n",
       "    </tr>\n",
       "    <tr>\n",
       "      <th>2</th>\n",
       "      <td>-0.464005</td>\n",
       "      <td>-1.254109</td>\n",
       "      <td>-0.453500</td>\n",
       "      <td>1.135584</td>\n",
       "    </tr>\n",
       "    <tr>\n",
       "      <th>3</th>\n",
       "      <td>0.902405</td>\n",
       "      <td>-0.801544</td>\n",
       "      <td>2.270568</td>\n",
       "      <td>0.298512</td>\n",
       "    </tr>\n",
       "    <tr>\n",
       "      <th>4</th>\n",
       "      <td>0.482657</td>\n",
       "      <td>-0.171032</td>\n",
       "      <td>-0.262119</td>\n",
       "      <td>0.262703</td>\n",
       "    </tr>\n",
       "    <tr>\n",
       "      <th>5</th>\n",
       "      <td>-1.417361</td>\n",
       "      <td>2.004298</td>\n",
       "      <td>2.582695</td>\n",
       "      <td>2.150646</td>\n",
       "    </tr>\n",
       "    <tr>\n",
       "      <th>6</th>\n",
       "      <td>0.370510</td>\n",
       "      <td>0.290963</td>\n",
       "      <td>0.956341</td>\n",
       "      <td>0.903678</td>\n",
       "    </tr>\n",
       "    <tr>\n",
       "      <th>7</th>\n",
       "      <td>0.455107</td>\n",
       "      <td>-0.490177</td>\n",
       "      <td>0.411205</td>\n",
       "      <td>1.326117</td>\n",
       "    </tr>\n",
       "    <tr>\n",
       "      <th>8</th>\n",
       "      <td>1.263528</td>\n",
       "      <td>-0.140004</td>\n",
       "      <td>-0.133637</td>\n",
       "      <td>-0.164293</td>\n",
       "    </tr>\n",
       "    <tr>\n",
       "      <th>9</th>\n",
       "      <td>0.091391</td>\n",
       "      <td>1.444391</td>\n",
       "      <td>0.334401</td>\n",
       "      <td>-0.536898</td>\n",
       "    </tr>\n",
       "  </tbody>\n",
       "</table>\n",
       "</div>"
      ],
      "text/plain": [
       "          0         1         2         3\n",
       "0 -1.737394 -1.584861  1.354222 -1.189527\n",
       "1 -1.706995 -0.572205  1.948753 -1.353885\n",
       "2 -0.464005 -1.254109 -0.453500  1.135584\n",
       "3  0.902405 -0.801544  2.270568  0.298512\n",
       "4  0.482657 -0.171032 -0.262119  0.262703\n",
       "5 -1.417361  2.004298  2.582695  2.150646\n",
       "6  0.370510  0.290963  0.956341  0.903678\n",
       "7  0.455107 -0.490177  0.411205  1.326117\n",
       "8  1.263528 -0.140004 -0.133637 -0.164293\n",
       "9  0.091391  1.444391  0.334401 -0.536898"
      ]
     },
     "execution_count": 81,
     "metadata": {},
     "output_type": "execute_result"
    }
   ],
   "source": [
    "df = pd.DataFrame(np.random.randn(10, 4))\n",
    "df"
   ]
  },
  {
   "cell_type": "code",
   "execution_count": 92,
   "metadata": {
    "ExecuteTime": {
     "end_time": "2019-10-21T11:18:15.552617Z",
     "start_time": "2019-10-21T11:18:15.512085Z"
    }
   },
   "outputs": [
    {
     "name": "stdout",
     "output_type": "stream",
     "text": [
      "<class 'list'>\n",
      "<class 'pandas.core.frame.DataFrame'>\n",
      "          0         1         2         3         0         1         2  \\\n",
      "0 -1.737394 -1.584861  1.354222 -1.189527       NaN       NaN       NaN   \n",
      "1 -1.706995 -0.572205  1.948753 -1.353885       NaN       NaN       NaN   \n",
      "2 -0.464005 -1.254109 -0.453500  1.135584 -0.464005 -1.254109 -0.453500   \n",
      "3       NaN       NaN       NaN       NaN  0.902405 -0.801544  2.270568   \n",
      "4       NaN       NaN       NaN       NaN  0.482657 -0.171032 -0.262119   \n",
      "5       NaN       NaN       NaN       NaN -1.417361  2.004298  2.582695   \n",
      "6       NaN       NaN       NaN       NaN  0.370510  0.290963  0.956341   \n",
      "7       NaN       NaN       NaN       NaN       NaN       NaN       NaN   \n",
      "8       NaN       NaN       NaN       NaN       NaN       NaN       NaN   \n",
      "9       NaN       NaN       NaN       NaN       NaN       NaN       NaN   \n",
      "\n",
      "          3         0  \n",
      "0       NaN -1.737394  \n",
      "1       NaN -1.706995  \n",
      "2  1.135584 -0.464005  \n",
      "3  0.298512  0.902405  \n",
      "4  0.262703  0.482657  \n",
      "5  2.150646 -1.417361  \n",
      "6  0.903678  0.370510  \n",
      "7       NaN  0.455107  \n",
      "8       NaN  1.263528  \n",
      "9       NaN  0.091391  \n"
     ]
    }
   ],
   "source": [
    "pieces = [df[:3], df[2:7], df[0]]\n",
    "print(type(pieces))\n",
    "print(type(pieces[0]))\n",
    "print(pd.concat(pieces,axis=1))"
   ]
  },
  {
   "cell_type": "markdown",
   "metadata": {},
   "source": [
    "### join"
   ]
  },
  {
   "cell_type": "code",
   "execution_count": 95,
   "metadata": {
    "ExecuteTime": {
     "end_time": "2019-10-21T11:19:29.880784Z",
     "start_time": "2019-10-21T11:19:29.847251Z"
    }
   },
   "outputs": [
    {
     "name": "stdout",
     "output_type": "stream",
     "text": [
      "   key  lval\n",
      "0  foo     1\n",
      "1  foo     2\n",
      "   key  rval\n",
      "0  foo     4\n",
      "1  foo     5\n"
     ]
    }
   ],
   "source": [
    "left = pd.DataFrame({'key': ['foo', 'foo'], 'lval': [1, 2]})\n",
    "right = pd.DataFrame({'key': ['foo', 'foo'], 'rval': [4, 5]})\n",
    "print(left)\n",
    "print(right)"
   ]
  },
  {
   "cell_type": "code",
   "execution_count": 100,
   "metadata": {
    "ExecuteTime": {
     "end_time": "2019-10-21T11:22:07.776860Z",
     "start_time": "2019-10-21T11:22:07.736649Z"
    }
   },
   "outputs": [
    {
     "data": {
      "text/html": [
       "<div>\n",
       "<style scoped>\n",
       "    .dataframe tbody tr th:only-of-type {\n",
       "        vertical-align: middle;\n",
       "    }\n",
       "\n",
       "    .dataframe tbody tr th {\n",
       "        vertical-align: top;\n",
       "    }\n",
       "\n",
       "    .dataframe thead th {\n",
       "        text-align: right;\n",
       "    }\n",
       "</style>\n",
       "<table border=\"1\" class=\"dataframe\">\n",
       "  <thead>\n",
       "    <tr style=\"text-align: right;\">\n",
       "      <th></th>\n",
       "      <th>key</th>\n",
       "      <th>lval</th>\n",
       "      <th>rval</th>\n",
       "    </tr>\n",
       "  </thead>\n",
       "  <tbody>\n",
       "    <tr>\n",
       "      <th>0</th>\n",
       "      <td>foo</td>\n",
       "      <td>1</td>\n",
       "      <td>4</td>\n",
       "    </tr>\n",
       "    <tr>\n",
       "      <th>1</th>\n",
       "      <td>foo</td>\n",
       "      <td>1</td>\n",
       "      <td>5</td>\n",
       "    </tr>\n",
       "    <tr>\n",
       "      <th>2</th>\n",
       "      <td>foo</td>\n",
       "      <td>2</td>\n",
       "      <td>4</td>\n",
       "    </tr>\n",
       "    <tr>\n",
       "      <th>3</th>\n",
       "      <td>foo</td>\n",
       "      <td>2</td>\n",
       "      <td>5</td>\n",
       "    </tr>\n",
       "  </tbody>\n",
       "</table>\n",
       "</div>"
      ],
      "text/plain": [
       "   key  lval  rval\n",
       "0  foo     1     4\n",
       "1  foo     1     5\n",
       "2  foo     2     4\n",
       "3  foo     2     5"
      ]
     },
     "execution_count": 100,
     "metadata": {},
     "output_type": "execute_result"
    }
   ],
   "source": [
    "pd.merge(left, right, on='key')"
   ]
  },
  {
   "cell_type": "code",
   "execution_count": 102,
   "metadata": {
    "ExecuteTime": {
     "end_time": "2019-10-21T11:23:57.244471Z",
     "start_time": "2019-10-21T11:23:57.207039Z"
    }
   },
   "outputs": [
    {
     "name": "stdout",
     "output_type": "stream",
     "text": [
      "   key  lval  rval\n",
      "0  foo     1     4\n",
      "1  bar     2     5\n"
     ]
    }
   ],
   "source": [
    "left = pd.DataFrame({'key': ['foo', 'bar'], 'lval': [1, 2]})\n",
    "right = pd.DataFrame({'key': ['foo', 'bar'], 'rval': [4, 5]})\n",
    "print(pd.merge(left,right,on='key'))"
   ]
  },
  {
   "cell_type": "markdown",
   "metadata": {},
   "source": [
    "### append"
   ]
  },
  {
   "cell_type": "code",
   "execution_count": 119,
   "metadata": {
    "ExecuteTime": {
     "end_time": "2019-10-21T11:28:18.603864Z",
     "start_time": "2019-10-21T11:28:18.563216Z"
    }
   },
   "outputs": [
    {
     "data": {
      "text/html": [
       "<div>\n",
       "<style scoped>\n",
       "    .dataframe tbody tr th:only-of-type {\n",
       "        vertical-align: middle;\n",
       "    }\n",
       "\n",
       "    .dataframe tbody tr th {\n",
       "        vertical-align: top;\n",
       "    }\n",
       "\n",
       "    .dataframe thead th {\n",
       "        text-align: right;\n",
       "    }\n",
       "</style>\n",
       "<table border=\"1\" class=\"dataframe\">\n",
       "  <thead>\n",
       "    <tr style=\"text-align: right;\">\n",
       "      <th></th>\n",
       "      <th>a</th>\n",
       "      <th>b</th>\n",
       "      <th>c</th>\n",
       "      <th>d</th>\n",
       "    </tr>\n",
       "  </thead>\n",
       "  <tbody>\n",
       "    <tr>\n",
       "      <th>0</th>\n",
       "      <td>1.354227</td>\n",
       "      <td>1.146030</td>\n",
       "      <td>0.128675</td>\n",
       "      <td>0.257873</td>\n",
       "    </tr>\n",
       "    <tr>\n",
       "      <th>1</th>\n",
       "      <td>-0.433177</td>\n",
       "      <td>-2.012264</td>\n",
       "      <td>-0.884185</td>\n",
       "      <td>1.452595</td>\n",
       "    </tr>\n",
       "    <tr>\n",
       "      <th>2</th>\n",
       "      <td>0.654226</td>\n",
       "      <td>-1.615389</td>\n",
       "      <td>-1.265937</td>\n",
       "      <td>1.819272</td>\n",
       "    </tr>\n",
       "    <tr>\n",
       "      <th>3</th>\n",
       "      <td>0.021121</td>\n",
       "      <td>-0.033980</td>\n",
       "      <td>-0.246129</td>\n",
       "      <td>2.638633</td>\n",
       "    </tr>\n",
       "    <tr>\n",
       "      <th>4</th>\n",
       "      <td>-1.970959</td>\n",
       "      <td>0.017091</td>\n",
       "      <td>-0.836447</td>\n",
       "      <td>-0.359465</td>\n",
       "    </tr>\n",
       "    <tr>\n",
       "      <th>5</th>\n",
       "      <td>-3.406390</td>\n",
       "      <td>1.122086</td>\n",
       "      <td>-2.286254</td>\n",
       "      <td>-1.487224</td>\n",
       "    </tr>\n",
       "    <tr>\n",
       "      <th>6</th>\n",
       "      <td>-0.824124</td>\n",
       "      <td>0.211413</td>\n",
       "      <td>-0.271275</td>\n",
       "      <td>-1.095760</td>\n",
       "    </tr>\n",
       "    <tr>\n",
       "      <th>7</th>\n",
       "      <td>1.436613</td>\n",
       "      <td>0.365950</td>\n",
       "      <td>-0.162878</td>\n",
       "      <td>-0.598318</td>\n",
       "    </tr>\n",
       "    <tr>\n",
       "      <th>8</th>\n",
       "      <td>1.354227</td>\n",
       "      <td>1.146030</td>\n",
       "      <td>0.128675</td>\n",
       "      <td>0.257873</td>\n",
       "    </tr>\n",
       "  </tbody>\n",
       "</table>\n",
       "</div>"
      ],
      "text/plain": [
       "          a         b         c         d\n",
       "0  1.354227  1.146030  0.128675  0.257873\n",
       "1 -0.433177 -2.012264 -0.884185  1.452595\n",
       "2  0.654226 -1.615389 -1.265937  1.819272\n",
       "3  0.021121 -0.033980 -0.246129  2.638633\n",
       "4 -1.970959  0.017091 -0.836447 -0.359465\n",
       "5 -3.406390  1.122086 -2.286254 -1.487224\n",
       "6 -0.824124  0.211413 -0.271275 -1.095760\n",
       "7  1.436613  0.365950 -0.162878 -0.598318\n",
       "8  1.354227  1.146030  0.128675  0.257873"
      ]
     },
     "execution_count": 119,
     "metadata": {},
     "output_type": "execute_result"
    }
   ],
   "source": [
    "df = pd.DataFrame(np.random.randn(8,4), columns=list('abcd'))\n",
    "# df\n",
    "s = df.loc[0]\n",
    "s\n",
    "df.append(s, ignore_index=True)  # if ignore_index=False(default),it would append with initial index\n",
    "\n"
   ]
  },
  {
   "cell_type": "markdown",
   "metadata": {},
   "source": [
    "### grouping\n",
    "'group by' are referring to a process involving one or more of the following steps\n",
    "+ **Splitting**\n",
    "+ **Applying**\n",
    "+ **Combining**\n"
   ]
  },
  {
   "cell_type": "code",
   "execution_count": 122,
   "metadata": {
    "ExecuteTime": {
     "end_time": "2019-10-21T11:33:06.059683Z",
     "start_time": "2019-10-21T11:33:06.019987Z"
    }
   },
   "outputs": [
    {
     "data": {
      "text/html": [
       "<div>\n",
       "<style scoped>\n",
       "    .dataframe tbody tr th:only-of-type {\n",
       "        vertical-align: middle;\n",
       "    }\n",
       "\n",
       "    .dataframe tbody tr th {\n",
       "        vertical-align: top;\n",
       "    }\n",
       "\n",
       "    .dataframe thead th {\n",
       "        text-align: right;\n",
       "    }\n",
       "</style>\n",
       "<table border=\"1\" class=\"dataframe\">\n",
       "  <thead>\n",
       "    <tr style=\"text-align: right;\">\n",
       "      <th></th>\n",
       "      <th>A</th>\n",
       "      <th>B</th>\n",
       "      <th>C</th>\n",
       "      <th>D</th>\n",
       "    </tr>\n",
       "  </thead>\n",
       "  <tbody>\n",
       "    <tr>\n",
       "      <th>0</th>\n",
       "      <td>foo</td>\n",
       "      <td>one</td>\n",
       "      <td>-0.016851</td>\n",
       "      <td>-0.100885</td>\n",
       "    </tr>\n",
       "    <tr>\n",
       "      <th>1</th>\n",
       "      <td>bar</td>\n",
       "      <td>one</td>\n",
       "      <td>-0.520713</td>\n",
       "      <td>-0.861990</td>\n",
       "    </tr>\n",
       "    <tr>\n",
       "      <th>2</th>\n",
       "      <td>foo</td>\n",
       "      <td>two</td>\n",
       "      <td>1.225373</td>\n",
       "      <td>0.671101</td>\n",
       "    </tr>\n",
       "    <tr>\n",
       "      <th>3</th>\n",
       "      <td>bar</td>\n",
       "      <td>three</td>\n",
       "      <td>1.560541</td>\n",
       "      <td>-1.019316</td>\n",
       "    </tr>\n",
       "    <tr>\n",
       "      <th>4</th>\n",
       "      <td>foo</td>\n",
       "      <td>two</td>\n",
       "      <td>-0.755831</td>\n",
       "      <td>-1.129835</td>\n",
       "    </tr>\n",
       "    <tr>\n",
       "      <th>5</th>\n",
       "      <td>bar</td>\n",
       "      <td>two</td>\n",
       "      <td>-1.630908</td>\n",
       "      <td>0.896623</td>\n",
       "    </tr>\n",
       "    <tr>\n",
       "      <th>6</th>\n",
       "      <td>foo</td>\n",
       "      <td>one</td>\n",
       "      <td>-1.802007</td>\n",
       "      <td>-2.625324</td>\n",
       "    </tr>\n",
       "    <tr>\n",
       "      <th>7</th>\n",
       "      <td>foo</td>\n",
       "      <td>three</td>\n",
       "      <td>-2.720111</td>\n",
       "      <td>0.715457</td>\n",
       "    </tr>\n",
       "  </tbody>\n",
       "</table>\n",
       "</div>"
      ],
      "text/plain": [
       "     A      B         C         D\n",
       "0  foo    one -0.016851 -0.100885\n",
       "1  bar    one -0.520713 -0.861990\n",
       "2  foo    two  1.225373  0.671101\n",
       "3  bar  three  1.560541 -1.019316\n",
       "4  foo    two -0.755831 -1.129835\n",
       "5  bar    two -1.630908  0.896623\n",
       "6  foo    one -1.802007 -2.625324\n",
       "7  foo  three -2.720111  0.715457"
      ]
     },
     "execution_count": 122,
     "metadata": {},
     "output_type": "execute_result"
    }
   ],
   "source": [
    "df = pd.DataFrame({'A': ['foo', 'bar', 'foo', 'bar',\n",
    "                         'foo', 'bar', 'foo', 'foo'],\n",
    "                   'B':['one', 'one', 'two', 'three',\n",
    "                        'two', 'two', 'one', 'three'],\n",
    "                   'C': np.random.randn(8),\n",
    "                   'D': np.random.randn(8)})\n",
    "df"
   ]
  },
  {
   "cell_type": "code",
   "execution_count": 124,
   "metadata": {
    "ExecuteTime": {
     "end_time": "2019-10-21T11:33:41.181351Z",
     "start_time": "2019-10-21T11:33:41.102523Z"
    }
   },
   "outputs": [
    {
     "data": {
      "text/html": [
       "<div>\n",
       "<style scoped>\n",
       "    .dataframe tbody tr th:only-of-type {\n",
       "        vertical-align: middle;\n",
       "    }\n",
       "\n",
       "    .dataframe tbody tr th {\n",
       "        vertical-align: top;\n",
       "    }\n",
       "\n",
       "    .dataframe thead th {\n",
       "        text-align: right;\n",
       "    }\n",
       "</style>\n",
       "<table border=\"1\" class=\"dataframe\">\n",
       "  <thead>\n",
       "    <tr style=\"text-align: right;\">\n",
       "      <th></th>\n",
       "      <th>C</th>\n",
       "      <th>D</th>\n",
       "    </tr>\n",
       "    <tr>\n",
       "      <th>A</th>\n",
       "      <th></th>\n",
       "      <th></th>\n",
       "    </tr>\n",
       "  </thead>\n",
       "  <tbody>\n",
       "    <tr>\n",
       "      <th>bar</th>\n",
       "      <td>-0.591080</td>\n",
       "      <td>-0.984682</td>\n",
       "    </tr>\n",
       "    <tr>\n",
       "      <th>foo</th>\n",
       "      <td>-4.069426</td>\n",
       "      <td>-2.469485</td>\n",
       "    </tr>\n",
       "  </tbody>\n",
       "</table>\n",
       "</div>"
      ],
      "text/plain": [
       "            C         D\n",
       "A                      \n",
       "bar -0.591080 -0.984682\n",
       "foo -4.069426 -2.469485"
      ]
     },
     "execution_count": 124,
     "metadata": {},
     "output_type": "execute_result"
    }
   ],
   "source": [
    "df.groupby('A').sum()"
   ]
  },
  {
   "cell_type": "code",
   "execution_count": 126,
   "metadata": {
    "ExecuteTime": {
     "end_time": "2019-10-21T11:41:33.350770Z",
     "start_time": "2019-10-21T11:41:33.321787Z"
    }
   },
   "outputs": [
    {
     "data": {
      "text/html": [
       "<div>\n",
       "<style scoped>\n",
       "    .dataframe tbody tr th:only-of-type {\n",
       "        vertical-align: middle;\n",
       "    }\n",
       "\n",
       "    .dataframe tbody tr th {\n",
       "        vertical-align: top;\n",
       "    }\n",
       "\n",
       "    .dataframe thead th {\n",
       "        text-align: right;\n",
       "    }\n",
       "</style>\n",
       "<table border=\"1\" class=\"dataframe\">\n",
       "  <thead>\n",
       "    <tr style=\"text-align: right;\">\n",
       "      <th></th>\n",
       "      <th></th>\n",
       "      <th>C</th>\n",
       "      <th>D</th>\n",
       "    </tr>\n",
       "    <tr>\n",
       "      <th>A</th>\n",
       "      <th>B</th>\n",
       "      <th></th>\n",
       "      <th></th>\n",
       "    </tr>\n",
       "  </thead>\n",
       "  <tbody>\n",
       "    <tr>\n",
       "      <th rowspan=\"3\" valign=\"top\">bar</th>\n",
       "      <th>one</th>\n",
       "      <td>-0.520713</td>\n",
       "      <td>-0.861990</td>\n",
       "    </tr>\n",
       "    <tr>\n",
       "      <th>three</th>\n",
       "      <td>1.560541</td>\n",
       "      <td>-1.019316</td>\n",
       "    </tr>\n",
       "    <tr>\n",
       "      <th>two</th>\n",
       "      <td>-1.630908</td>\n",
       "      <td>0.896623</td>\n",
       "    </tr>\n",
       "    <tr>\n",
       "      <th rowspan=\"3\" valign=\"top\">foo</th>\n",
       "      <th>one</th>\n",
       "      <td>-1.818858</td>\n",
       "      <td>-2.726208</td>\n",
       "    </tr>\n",
       "    <tr>\n",
       "      <th>three</th>\n",
       "      <td>-2.720111</td>\n",
       "      <td>0.715457</td>\n",
       "    </tr>\n",
       "    <tr>\n",
       "      <th>two</th>\n",
       "      <td>0.469543</td>\n",
       "      <td>-0.458734</td>\n",
       "    </tr>\n",
       "  </tbody>\n",
       "</table>\n",
       "</div>"
      ],
      "text/plain": [
       "                  C         D\n",
       "A   B                        \n",
       "bar one   -0.520713 -0.861990\n",
       "    three  1.560541 -1.019316\n",
       "    two   -1.630908  0.896623\n",
       "foo one   -1.818858 -2.726208\n",
       "    three -2.720111  0.715457\n",
       "    two    0.469543 -0.458734"
      ]
     },
     "execution_count": 126,
     "metadata": {},
     "output_type": "execute_result"
    }
   ],
   "source": [
    "df.groupby(['A','B']).sum()"
   ]
  },
  {
   "cell_type": "markdown",
   "metadata": {},
   "source": [
    "## reshaping"
   ]
  },
  {
   "cell_type": "markdown",
   "metadata": {},
   "source": [
    "### stack"
   ]
  },
  {
   "cell_type": "code",
   "execution_count": 132,
   "metadata": {
    "ExecuteTime": {
     "end_time": "2019-10-21T11:46:00.835530Z",
     "start_time": "2019-10-21T11:46:00.804948Z"
    }
   },
   "outputs": [
    {
     "name": "stdout",
     "output_type": "stream",
     "text": [
      "MultiIndex(levels=[['bar', 'baz', 'foo', 'qux'], ['one', 'two']],\n",
      "           codes=[[0, 0, 1, 1, 2, 2, 3, 3], [0, 1, 0, 1, 0, 1, 0, 1]],\n",
      "           names=['first', 'second'])\n"
     ]
    },
    {
     "data": {
      "text/html": [
       "<div>\n",
       "<style scoped>\n",
       "    .dataframe tbody tr th:only-of-type {\n",
       "        vertical-align: middle;\n",
       "    }\n",
       "\n",
       "    .dataframe tbody tr th {\n",
       "        vertical-align: top;\n",
       "    }\n",
       "\n",
       "    .dataframe thead th {\n",
       "        text-align: right;\n",
       "    }\n",
       "</style>\n",
       "<table border=\"1\" class=\"dataframe\">\n",
       "  <thead>\n",
       "    <tr style=\"text-align: right;\">\n",
       "      <th></th>\n",
       "      <th></th>\n",
       "      <th>A</th>\n",
       "      <th>B</th>\n",
       "    </tr>\n",
       "    <tr>\n",
       "      <th>first</th>\n",
       "      <th>second</th>\n",
       "      <th></th>\n",
       "      <th></th>\n",
       "    </tr>\n",
       "  </thead>\n",
       "  <tbody>\n",
       "    <tr>\n",
       "      <th rowspan=\"2\" valign=\"top\">bar</th>\n",
       "      <th>one</th>\n",
       "      <td>0.702398</td>\n",
       "      <td>-1.381821</td>\n",
       "    </tr>\n",
       "    <tr>\n",
       "      <th>two</th>\n",
       "      <td>-0.096019</td>\n",
       "      <td>0.632854</td>\n",
       "    </tr>\n",
       "    <tr>\n",
       "      <th rowspan=\"2\" valign=\"top\">baz</th>\n",
       "      <th>one</th>\n",
       "      <td>1.997007</td>\n",
       "      <td>0.724207</td>\n",
       "    </tr>\n",
       "    <tr>\n",
       "      <th>two</th>\n",
       "      <td>0.450249</td>\n",
       "      <td>-0.356366</td>\n",
       "    </tr>\n",
       "  </tbody>\n",
       "</table>\n",
       "</div>"
      ],
      "text/plain": [
       "                     A         B\n",
       "first second                    \n",
       "bar   one     0.702398 -1.381821\n",
       "      two    -0.096019  0.632854\n",
       "baz   one     1.997007  0.724207\n",
       "      two     0.450249 -0.356366"
      ]
     },
     "execution_count": 132,
     "metadata": {},
     "output_type": "execute_result"
    }
   ],
   "source": [
    "tuples = list(zip(*[['bar', 'bar', 'baz', 'baz',\n",
    "                     'foo', 'foo', 'qux', 'qux'],\n",
    "                    ['one', 'two', 'one', 'two',\n",
    "                     'one', 'two', 'one', 'two']]))\n",
    "index = pd.MultiIndex.from_tuples(tuples, names=['first', 'second'])\n",
    "print(index)\n",
    "df = pd.DataFrame(np.random.randn(8, 2), index=index, columns=['A', 'B'])\n",
    "df2 = df[:4]\n",
    "df2"
   ]
  },
  {
   "cell_type": "code",
   "execution_count": 133,
   "metadata": {
    "ExecuteTime": {
     "end_time": "2019-10-21T11:46:16.403262Z",
     "start_time": "2019-10-21T11:46:16.373619Z"
    }
   },
   "outputs": [
    {
     "data": {
      "text/plain": [
       "first  second   \n",
       "bar    one     A    0.702398\n",
       "               B   -1.381821\n",
       "       two     A   -0.096019\n",
       "               B    0.632854\n",
       "baz    one     A    1.997007\n",
       "               B    0.724207\n",
       "       two     A    0.450249\n",
       "               B   -0.356366\n",
       "dtype: float64"
      ]
     },
     "execution_count": 133,
     "metadata": {},
     "output_type": "execute_result"
    }
   ],
   "source": [
    "stacked = df2.stack()\n",
    "stacked"
   ]
  }
 ],
 "metadata": {
  "kernelspec": {
   "display_name": "Python 3",
   "language": "python",
   "name": "python3"
  },
  "language_info": {
   "codemirror_mode": {
    "name": "ipython",
    "version": 3
   },
   "file_extension": ".py",
   "mimetype": "text/x-python",
   "name": "python",
   "nbconvert_exporter": "python",
   "pygments_lexer": "ipython3",
   "version": "3.7.3"
  },
  "toc": {
   "base_numbering": 1,
   "nav_menu": {},
   "number_sections": true,
   "sideBar": true,
   "skip_h1_title": false,
   "title_cell": "Table of Contents",
   "title_sidebar": "Contents",
   "toc_cell": false,
   "toc_position": {},
   "toc_section_display": true,
   "toc_window_display": false
  },
  "varInspector": {
   "cols": {
    "lenName": 16,
    "lenType": 16,
    "lenVar": 40
   },
   "kernels_config": {
    "python": {
     "delete_cmd_postfix": "",
     "delete_cmd_prefix": "del ",
     "library": "var_list.py",
     "varRefreshCmd": "print(var_dic_list())"
    },
    "r": {
     "delete_cmd_postfix": ") ",
     "delete_cmd_prefix": "rm(",
     "library": "var_list.r",
     "varRefreshCmd": "cat(var_dic_list()) "
    }
   },
   "types_to_exclude": [
    "module",
    "function",
    "builtin_function_or_method",
    "instance",
    "_Feature"
   ],
   "window_display": false
  }
 },
 "nbformat": 4,
 "nbformat_minor": 2
}
