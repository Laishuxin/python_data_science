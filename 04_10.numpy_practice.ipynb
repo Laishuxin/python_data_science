{
 "cells": [
  {
   "cell_type": "markdown",
   "metadata": {},
   "source": [
    "## 随机漫步"
   ]
  },
  {
   "cell_type": "code",
   "execution_count": 5,
   "metadata": {
    "ExecuteTime": {
     "end_time": "2019-10-21T09:30:36.865421Z",
     "start_time": "2019-10-21T09:30:36.569377Z"
    }
   },
   "outputs": [
    {
     "data": {
      "image/png": "[encoded data removed]",
      "text/plain": [
       "<Figure size 432x288 with 1 Axes>"
      ]
     },
     "metadata": {
      "needs_background": "light"
     },
     "output_type": "display_data"
    }
   ],
   "source": [
    "# 完成1000步的随机漫步\n",
    "import random \n",
    "import matplotlib.pyplot as plt\n",
    "position = 0 \n",
    "walk = [position]\n",
    "steps = 1000\n",
    "for ai in range(steps):\n",
    "    step = 1 if random.randint(0, 1) else -1\n",
    "    position += step\n",
    "    walk.append(position)\n",
    "    \n",
    "plt.plot(walk)\n",
    "plt.show()"
   ]
  },
  {
   "cell_type": "code",
   "execution_count": 11,
   "metadata": {
    "ExecuteTime": {
     "end_time": "2019-10-21T09:34:36.668940Z",
     "start_time": "2019-10-21T09:34:36.655114Z"
    }
   },
   "outputs": [
    {
     "name": "stdout",
     "output_type": "stream",
     "text": [
      "-30\n",
      "23\n"
     ]
    }
   ],
   "source": [
    "# 用np.random模块一次性随机产生1000个“掷硬币”结果（即两个数中任选一个）\n",
    "# 将其分别设置为1或－1，然后计算累计和\n",
    "import numpy as np \n",
    "nsteps = 1000\n",
    "draws = np.random.randint(0, 2, size=nsteps)\n",
    "# print(draws)\n",
    "steps = np.where(draws>0,1, -1)\n",
    "# print(steps)\n",
    "walk = steps.cumsum()\n",
    "# print(walk)\n",
    "print(walk.min())  # 计算随机漫步距离最短的\n",
    "print(walk.max())"
   ]
  },
  {
   "cell_type": "markdown",
   "metadata": {},
   "source": [
    "## 一次模拟多个随机漫步\n"
   ]
  },
  {
   "cell_type": "code",
   "execution_count": 19,
   "metadata": {
    "ExecuteTime": {
     "end_time": "2019-10-21T10:34:50.923728Z",
     "start_time": "2019-10-21T10:34:50.737968Z"
    }
   },
   "outputs": [
    {
     "name": "stdout",
     "output_type": "stream",
     "text": [
      "[[  1   2   3 ...  -6  -7  -8]\n",
      " [  1   0   1 ... -48 -47 -46]\n",
      " [ -1  -2  -3 ...  22  23  22]\n",
      " ...\n",
      " [ -1   0   1 ...  34  33  32]\n",
      " [ -1   0  -1 ...  58  59  60]\n",
      " [ -1  -2  -3 ... -44 -45 -46]]\n",
      "127\n",
      "-111\n"
     ]
    }
   ],
   "source": [
    "nwalks = 5000\n",
    "nsteps = 1000\n",
    "draws = np.random.randint(0,2,size=(nwalks, nsteps))\n",
    "steps = np.where(draws>0, 1, -1)\n",
    "walks = steps.cumsum(axis=1)\n",
    "print(walks)\n",
    "print(walks.max())\n",
    "print(walks.min())"
   ]
  },
  {
   "cell_type": "code",
   "execution_count": 29,
   "metadata": {
    "ExecuteTime": {
     "end_time": "2019-10-21T10:39:02.863928Z",
     "start_time": "2019-10-21T10:39:02.775125Z"
    }
   },
   "outputs": [
    {
     "name": "stdout",
     "output_type": "stream",
     "text": [
      "[ True  True  True ...  True  True  True]\n",
      "3396\n",
      "[433   0 401 ... 341 441   0]\n",
      "257.3613074204947\n"
     ]
    }
   ],
   "source": [
    "hits30 = (np.abs(walks)>=30).any(axis=1)\n",
    "print(hits30)\n",
    "print(hits30.sum())\n",
    "\n",
    "crossing_times = np.abs(walks[hits30]>=30).argmax(axis=1)\n",
    "print(crossing_times)\n",
    "print(crossing_times.mean())\n"
   ]
  },
  {
   "cell_type": "code",
   "execution_count": null,
   "metadata": {},
   "outputs": [],
   "source": []
  }
 ],
 "metadata": {
  "kernelspec": {
   "display_name": "Python 3",
   "language": "python",
   "name": "python3"
  },
  "language_info": {
   "codemirror_mode": {
    "name": "ipython",
    "version": 3
   },
   "file_extension": ".py",
   "mimetype": "text/x-python",
   "name": "python",
   "nbconvert_exporter": "python",
   "pygments_lexer": "ipython3",
   "version": "3.7.3"
  },
  "toc": {
   "base_numbering": 1,
   "nav_menu": {},
   "number_sections": true,
   "sideBar": true,
   "skip_h1_title": false,
   "title_cell": "Table of Contents",
   "title_sidebar": "Contents",
   "toc_cell": false,
   "toc_position": {},
   "toc_section_display": true,
   "toc_window_display": false
  },
  "varInspector": {
   "cols": {
    "lenName": 16,
    "lenType": 16,
    "lenVar": 40
   },
   "kernels_config": {
    "python": {
     "delete_cmd_postfix": "",
     "delete_cmd_prefix": "del ",
     "library": "var_list.py",
     "varRefreshCmd": "print(var_dic_list())"
    },
    "r": {
     "delete_cmd_postfix": ") ",
     "delete_cmd_prefix": "rm(",
     "library": "var_list.r",
     "varRefreshCmd": "cat(var_dic_list()) "
    }
   },
   "types_to_exclude": [
    "module",
    "function",
    "builtin_function_or_method",
    "instance",
    "_Feature"
   ],
   "window_display": false
  }
 },
 "nbformat": 4,
 "nbformat_minor": 2
}
