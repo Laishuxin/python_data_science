{
 "cells": [
  {
   "cell_type": "code",
   "execution_count": 1,
   "metadata": {
    "ExecuteTime": {
     "end_time": "2019-11-03T23:59:10.821773Z",
     "start_time": "2019-11-03T23:59:05.869460Z"
    }
   },
   "outputs": [],
   "source": [
    "import numpy as np\n",
    "import pandas as pd"
   ]
  },
  {
   "cell_type": "markdown",
   "metadata": {},
   "source": [
    "## A Multiply indexed Series"
   ]
  },
  {
   "cell_type": "markdown",
   "metadata": {},
   "source": [
    "### The bad way\n",
    "(use python dictionary which keys are tuple as index)"
   ]
  },
  {
   "cell_type": "code",
   "execution_count": 2,
   "metadata": {
    "ExecuteTime": {
     "end_time": "2019-10-27T04:48:30.352208Z",
     "start_time": "2019-10-27T04:48:30.312313Z"
    }
   },
   "outputs": [
    {
     "data": {
      "text/plain": [
       "(California, 2000)    33871648\n",
       "(California, 2010)    37253956\n",
       "(New York, 2000)      18976457\n",
       "(New York, 2010)      19378102\n",
       "(Texas, 2000)         20851820\n",
       "(Texas, 2010)         25145561\n",
       "dtype: int64"
      ]
     },
     "execution_count": 2,
     "metadata": {},
     "output_type": "execute_result"
    }
   ],
   "source": [
    "index = [('California', 2000), ('California', 2010),\n",
    "         ('New York', 2000), ('New York', 2010),\n",
    "         ('Texas', 2000), ('Texas', 2010)]\n",
    "populations = [33871648, 37253956,\n",
    "               18976457, 19378102,\n",
    "               20851820, 25145561]\n",
    "pop = pd.Series(populations, index=index)\n",
    "pop"
   ]
  },
  {
   "cell_type": "code",
   "execution_count": 3,
   "metadata": {
    "ExecuteTime": {
     "end_time": "2019-10-27T04:48:30.374150Z",
     "start_time": "2019-10-27T04:48:30.357253Z"
    }
   },
   "outputs": [
    {
     "data": {
      "text/plain": [
       "(New York, 2000)    18976457\n",
       "(New York, 2010)    19378102\n",
       "(Texas, 2000)       20851820\n",
       "dtype: int64"
      ]
     },
     "execution_count": 3,
     "metadata": {},
     "output_type": "execute_result"
    }
   ],
   "source": [
    "pop[('New York',2000):('Texas', 2000)]"
   ]
  },
  {
   "cell_type": "markdown",
   "metadata": {},
   "source": [
    "If we need to select all values from 2010, we have to access the tuple index first, and then access data from 2010.  \n",
    "This is very inflexible"
   ]
  },
  {
   "cell_type": "code",
   "execution_count": 4,
   "metadata": {
    "ExecuteTime": {
     "end_time": "2019-10-27T04:48:30.397722Z",
     "start_time": "2019-10-27T04:48:30.380133Z"
    }
   },
   "outputs": [
    {
     "data": {
      "text/plain": [
       "(California, 2010)    37253956\n",
       "(New York, 2010)      19378102\n",
       "(Texas, 2010)         25145561\n",
       "dtype: int64"
      ]
     },
     "execution_count": 4,
     "metadata": {},
     "output_type": "execute_result"
    }
   ],
   "source": [
    "pop[[i for i in pop.index if i[1] == 2010]]"
   ]
  },
  {
   "cell_type": "markdown",
   "metadata": {},
   "source": [
    "### The better way: Pandas MultiIndex"
   ]
  },
  {
   "cell_type": "code",
   "execution_count": 5,
   "metadata": {
    "ExecuteTime": {
     "end_time": "2019-10-27T04:48:30.410596Z",
     "start_time": "2019-10-27T04:48:30.402612Z"
    }
   },
   "outputs": [],
   "source": [
    "# we can create a multi-index from the tuples as follows"
   ]
  },
  {
   "cell_type": "code",
   "execution_count": 6,
   "metadata": {
    "ExecuteTime": {
     "end_time": "2019-10-27T04:48:30.437919Z",
     "start_time": "2019-10-27T04:48:30.419547Z"
    }
   },
   "outputs": [
    {
     "name": "stdout",
     "output_type": "stream",
     "text": [
      "index1 : [('California', 2000), ('California', 2010), ('New York', 2000), ('New York', 2010), ('Texas', 2000), ('Texas', 2010)]\n",
      "index2 : MultiIndex(levels=[['California', 'New York', 'Texas'], [2000, 2010]],\n",
      "           codes=[[0, 0, 1, 1, 2, 2], [0, 1, 0, 1, 0, 1]])\n"
     ]
    }
   ],
   "source": [
    "print('index1 :', index)\n",
    "index = pd.MultiIndex.from_tuples(index)\n",
    "print('index2 :', index)"
   ]
  },
  {
   "cell_type": "code",
   "execution_count": 7,
   "metadata": {
    "ExecuteTime": {
     "end_time": "2019-10-27T04:48:30.457446Z",
     "start_time": "2019-10-27T04:48:30.441488Z"
    }
   },
   "outputs": [
    {
     "data": {
      "text/plain": [
       "California  2000    33871648\n",
       "            2010    37253956\n",
       "New York    2000    18976457\n",
       "            2010    19378102\n",
       "Texas       2000    20851820\n",
       "            2010    25145561\n",
       "dtype: int64"
      ]
     },
     "execution_count": 7,
     "metadata": {},
     "output_type": "execute_result"
    }
   ],
   "source": [
    "# re-index our series\n",
    "pop = pop.reindex(index)\n",
    "pop"
   ]
  },
  {
   "cell_type": "code",
   "execution_count": 8,
   "metadata": {
    "ExecuteTime": {
     "end_time": "2019-10-27T04:48:30.475398Z",
     "start_time": "2019-10-27T04:48:30.462495Z"
    }
   },
   "outputs": [
    {
     "data": {
      "text/plain": [
       "37253956"
      ]
     },
     "execution_count": 8,
     "metadata": {},
     "output_type": "execute_result"
    }
   ],
   "source": [
    "pop[1]"
   ]
  },
  {
   "cell_type": "markdown",
   "metadata": {},
   "source": [
    "Some entries are missing in the first column: in this multi-index representation, any blank entry indicates the same value as the line above it "
   ]
  },
  {
   "cell_type": "code",
   "execution_count": 9,
   "metadata": {
    "ExecuteTime": {
     "end_time": "2019-10-27T04:48:30.492450Z",
     "start_time": "2019-10-27T04:48:30.479387Z"
    }
   },
   "outputs": [
    {
     "data": {
      "text/plain": [
       "California    37253956\n",
       "New York      19378102\n",
       "Texas         25145561\n",
       "dtype: int64"
      ]
     },
     "execution_count": 9,
     "metadata": {},
     "output_type": "execute_result"
    }
   ],
   "source": [
    "pop[:,2010]\n"
   ]
  },
  {
   "cell_type": "code",
   "execution_count": 10,
   "metadata": {
    "ExecuteTime": {
     "end_time": "2019-10-27T04:48:30.508656Z",
     "start_time": "2019-10-27T04:48:30.496950Z"
    }
   },
   "outputs": [
    {
     "data": {
      "text/plain": [
       "2000    33871648\n",
       "2010    37253956\n",
       "dtype: int64"
      ]
     },
     "execution_count": 10,
     "metadata": {},
     "output_type": "execute_result"
    }
   ],
   "source": [
    "pop['California']"
   ]
  },
  {
   "cell_type": "markdown",
   "metadata": {},
   "source": [
    "### MultiIndex as extra dimension"
   ]
  },
  {
   "cell_type": "markdown",
   "metadata": {},
   "source": [
    "The `unstack()` method will quickly convert a multiply indexed `Series` into a conventionally indexed `DataFrame`"
   ]
  },
  {
   "cell_type": "code",
   "execution_count": 11,
   "metadata": {
    "ExecuteTime": {
     "end_time": "2019-10-27T04:48:30.570243Z",
     "start_time": "2019-10-27T04:48:30.519378Z"
    }
   },
   "outputs": [
    {
     "data": {
      "text/html": [
       "<div>\n",
       "<style scoped>\n",
       "    .dataframe tbody tr th:only-of-type {\n",
       "        vertical-align: middle;\n",
       "    }\n",
       "\n",
       "    .dataframe tbody tr th {\n",
       "        vertical-align: top;\n",
       "    }\n",
       "\n",
       "    .dataframe thead th {\n",
       "        text-align: right;\n",
       "    }\n",
       "</style>\n",
       "<table border=\"1\" class=\"dataframe\">\n",
       "  <thead>\n",
       "    <tr style=\"text-align: right;\">\n",
       "      <th></th>\n",
       "      <th>2000</th>\n",
       "      <th>2010</th>\n",
       "    </tr>\n",
       "  </thead>\n",
       "  <tbody>\n",
       "    <tr>\n",
       "      <th>California</th>\n",
       "      <td>33871648</td>\n",
       "      <td>37253956</td>\n",
       "    </tr>\n",
       "    <tr>\n",
       "      <th>New York</th>\n",
       "      <td>18976457</td>\n",
       "      <td>19378102</td>\n",
       "    </tr>\n",
       "    <tr>\n",
       "      <th>Texas</th>\n",
       "      <td>20851820</td>\n",
       "      <td>25145561</td>\n",
       "    </tr>\n",
       "  </tbody>\n",
       "</table>\n",
       "</div>"
      ],
      "text/plain": [
       "                2000      2010\n",
       "California  33871648  37253956\n",
       "New York    18976457  19378102\n",
       "Texas       20851820  25145561"
      ]
     },
     "execution_count": 11,
     "metadata": {},
     "output_type": "execute_result"
    }
   ],
   "source": [
    "pop_df = pop.unstack()\n",
    "pop_df"
   ]
  },
  {
   "cell_type": "markdown",
   "metadata": {},
   "source": [
    "Naturally, the `stack()` method provides the opposite operation"
   ]
  },
  {
   "cell_type": "code",
   "execution_count": 12,
   "metadata": {
    "ExecuteTime": {
     "end_time": "2019-10-27T04:48:30.591661Z",
     "start_time": "2019-10-27T04:48:30.576268Z"
    }
   },
   "outputs": [
    {
     "data": {
      "text/plain": [
       "California  2000    33871648\n",
       "            2010    37253956\n",
       "New York    2000    18976457\n",
       "            2010    19378102\n",
       "Texas       2000    20851820\n",
       "            2010    25145561\n",
       "dtype: int64"
      ]
     },
     "execution_count": 12,
     "metadata": {},
     "output_type": "execute_result"
    }
   ],
   "source": [
    "pop_df.stack()"
   ]
  },
  {
   "cell_type": "markdown",
   "metadata": {},
   "source": [
    "Using multi-index we will have much more flexiblity in the types of data we can represent.  \n",
    "As multi-index can be used to represent two-dimensional data within a one-dimensional `Series`, we can use it to represent data of three or more dimensions in a `Series` or `DataFrame`"
   ]
  },
  {
   "cell_type": "code",
   "execution_count": 13,
   "metadata": {
    "ExecuteTime": {
     "end_time": "2019-10-27T04:48:30.621580Z",
     "start_time": "2019-10-27T04:48:30.595651Z"
    }
   },
   "outputs": [
    {
     "data": {
      "text/html": [
       "<div>\n",
       "<style scoped>\n",
       "    .dataframe tbody tr th:only-of-type {\n",
       "        vertical-align: middle;\n",
       "    }\n",
       "\n",
       "    .dataframe tbody tr th {\n",
       "        vertical-align: top;\n",
       "    }\n",
       "\n",
       "    .dataframe thead th {\n",
       "        text-align: right;\n",
       "    }\n",
       "</style>\n",
       "<table border=\"1\" class=\"dataframe\">\n",
       "  <thead>\n",
       "    <tr style=\"text-align: right;\">\n",
       "      <th></th>\n",
       "      <th></th>\n",
       "      <th>total</th>\n",
       "      <th>under18</th>\n",
       "    </tr>\n",
       "  </thead>\n",
       "  <tbody>\n",
       "    <tr>\n",
       "      <th rowspan=\"2\" valign=\"top\">California</th>\n",
       "      <th>2000</th>\n",
       "      <td>33871648</td>\n",
       "      <td>9267089</td>\n",
       "    </tr>\n",
       "    <tr>\n",
       "      <th>2010</th>\n",
       "      <td>37253956</td>\n",
       "      <td>9284094</td>\n",
       "    </tr>\n",
       "    <tr>\n",
       "      <th rowspan=\"2\" valign=\"top\">New York</th>\n",
       "      <th>2000</th>\n",
       "      <td>18976457</td>\n",
       "      <td>4687374</td>\n",
       "    </tr>\n",
       "    <tr>\n",
       "      <th>2010</th>\n",
       "      <td>19378102</td>\n",
       "      <td>4318033</td>\n",
       "    </tr>\n",
       "    <tr>\n",
       "      <th rowspan=\"2\" valign=\"top\">Texas</th>\n",
       "      <th>2000</th>\n",
       "      <td>20851820</td>\n",
       "      <td>5906301</td>\n",
       "    </tr>\n",
       "    <tr>\n",
       "      <th>2010</th>\n",
       "      <td>25145561</td>\n",
       "      <td>6879014</td>\n",
       "    </tr>\n",
       "  </tbody>\n",
       "</table>\n",
       "</div>"
      ],
      "text/plain": [
       "                    total  under18\n",
       "California 2000  33871648  9267089\n",
       "           2010  37253956  9284094\n",
       "New York   2000  18976457  4687374\n",
       "           2010  19378102  4318033\n",
       "Texas      2000  20851820  5906301\n",
       "           2010  25145561  6879014"
      ]
     },
     "execution_count": 13,
     "metadata": {},
     "output_type": "execute_result"
    }
   ],
   "source": [
    "pop_df = pd.DataFrame({'total':pop,\n",
    "                       'under18': [9267089, 9284094,\n",
    "                                   4687374, 4318033,\n",
    "                                   5906301, 6879014]})\n",
    "pop_df     "
   ]
  },
  {
   "cell_type": "markdown",
   "metadata": {},
   "source": [
    "The ufuncs and other functionality also work with hierachical index"
   ]
  },
  {
   "cell_type": "code",
   "execution_count": 14,
   "metadata": {
    "ExecuteTime": {
     "end_time": "2019-10-27T04:48:30.669453Z",
     "start_time": "2019-10-27T04:48:30.626567Z"
    }
   },
   "outputs": [
    {
     "data": {
      "text/html": [
       "<div>\n",
       "<style scoped>\n",
       "    .dataframe tbody tr th:only-of-type {\n",
       "        vertical-align: middle;\n",
       "    }\n",
       "\n",
       "    .dataframe tbody tr th {\n",
       "        vertical-align: top;\n",
       "    }\n",
       "\n",
       "    .dataframe thead th {\n",
       "        text-align: right;\n",
       "    }\n",
       "</style>\n",
       "<table border=\"1\" class=\"dataframe\">\n",
       "  <thead>\n",
       "    <tr style=\"text-align: right;\">\n",
       "      <th></th>\n",
       "      <th>2000</th>\n",
       "      <th>2010</th>\n",
       "    </tr>\n",
       "  </thead>\n",
       "  <tbody>\n",
       "    <tr>\n",
       "      <th>California</th>\n",
       "      <td>0.273594</td>\n",
       "      <td>0.249211</td>\n",
       "    </tr>\n",
       "    <tr>\n",
       "      <th>New York</th>\n",
       "      <td>0.247010</td>\n",
       "      <td>0.222831</td>\n",
       "    </tr>\n",
       "    <tr>\n",
       "      <th>Texas</th>\n",
       "      <td>0.283251</td>\n",
       "      <td>0.273568</td>\n",
       "    </tr>\n",
       "  </tbody>\n",
       "</table>\n",
       "</div>"
      ],
      "text/plain": [
       "                2000      2010\n",
       "California  0.273594  0.249211\n",
       "New York    0.247010  0.222831\n",
       "Texas       0.283251  0.273568"
      ]
     },
     "execution_count": 14,
     "metadata": {},
     "output_type": "execute_result"
    }
   ],
   "source": [
    "f_u18 = pop_df['under18'] / pop_df['total']\n",
    "f_u18.unstack()"
   ]
  },
  {
   "cell_type": "markdown",
   "metadata": {},
   "source": [
    "## Creating MultiIndex"
   ]
  },
  {
   "cell_type": "markdown",
   "metadata": {},
   "source": [
    "The more straightforward way to construct a multiply indexed `Series` or `DataFrame` is to simply pass a list of index arrays"
   ]
  },
  {
   "cell_type": "code",
   "execution_count": 15,
   "metadata": {
    "ExecuteTime": {
     "end_time": "2019-10-27T04:48:30.704213Z",
     "start_time": "2019-10-27T04:48:30.672445Z"
    }
   },
   "outputs": [
    {
     "data": {
      "text/html": [
       "<div>\n",
       "<style scoped>\n",
       "    .dataframe tbody tr th:only-of-type {\n",
       "        vertical-align: middle;\n",
       "    }\n",
       "\n",
       "    .dataframe tbody tr th {\n",
       "        vertical-align: top;\n",
       "    }\n",
       "\n",
       "    .dataframe thead th {\n",
       "        text-align: right;\n",
       "    }\n",
       "</style>\n",
       "<table border=\"1\" class=\"dataframe\">\n",
       "  <thead>\n",
       "    <tr style=\"text-align: right;\">\n",
       "      <th></th>\n",
       "      <th></th>\n",
       "      <th>data1</th>\n",
       "      <th>data2</th>\n",
       "    </tr>\n",
       "  </thead>\n",
       "  <tbody>\n",
       "    <tr>\n",
       "      <th rowspan=\"2\" valign=\"top\">a</th>\n",
       "      <th>0</th>\n",
       "      <td>0.219944</td>\n",
       "      <td>0.230192</td>\n",
       "    </tr>\n",
       "    <tr>\n",
       "      <th>1</th>\n",
       "      <td>0.363897</td>\n",
       "      <td>0.251871</td>\n",
       "    </tr>\n",
       "    <tr>\n",
       "      <th rowspan=\"2\" valign=\"top\">b</th>\n",
       "      <th>0</th>\n",
       "      <td>0.070257</td>\n",
       "      <td>0.222828</td>\n",
       "    </tr>\n",
       "    <tr>\n",
       "      <th>1</th>\n",
       "      <td>0.448896</td>\n",
       "      <td>0.833094</td>\n",
       "    </tr>\n",
       "  </tbody>\n",
       "</table>\n",
       "</div>"
      ],
      "text/plain": [
       "        data1     data2\n",
       "a 0  0.219944  0.230192\n",
       "  1  0.363897  0.251871\n",
       "b 0  0.070257  0.222828\n",
       "  1  0.448896  0.833094"
      ]
     },
     "execution_count": 15,
     "metadata": {},
     "output_type": "execute_result"
    }
   ],
   "source": [
    "df = pd.DataFrame(\n",
    "    np.random.rand(4, 2),\n",
    "    index=[['a', 'a', 'b', 'b'], ['0', '1', '0', '1']],\n",
    "    columns=['data1', 'data2'])\n",
    "df"
   ]
  },
  {
   "cell_type": "markdown",
   "metadata": {},
   "source": [
    "We can also pass a dictionary with appropriate tuples as kes, Pandas will automatically recognize this and use a `MultiIndex` by default"
   ]
  },
  {
   "cell_type": "code",
   "execution_count": 16,
   "metadata": {
    "ExecuteTime": {
     "end_time": "2019-10-27T04:48:30.731343Z",
     "start_time": "2019-10-27T04:48:30.707351Z"
    }
   },
   "outputs": [
    {
     "data": {
      "text/plain": [
       "California  2000    33871648\n",
       "            2010    37253956\n",
       "Texas       2000    20851820\n",
       "            2010    25145561\n",
       "New York    2000    18976457\n",
       "            2010    19378102\n",
       "dtype: int64"
      ]
     },
     "execution_count": 16,
     "metadata": {},
     "output_type": "execute_result"
    }
   ],
   "source": [
    "data = {\n",
    "    ('California', 2000): 33871648,\n",
    "        ('California', 2010): 37253956,\n",
    "        ('Texas', 2000): 20851820,\n",
    "        ('Texas', 2010): 25145561,\n",
    "        ('New York', 2000): 18976457,\n",
    "        ('New York', 2010): 19378102\n",
    "}\n",
    "pd.Series(data)"
   ]
  },
  {
   "cell_type": "markdown",
   "metadata": {},
   "source": [
    "### Explicit MultiIndex constructors"
   ]
  },
  {
   "cell_type": "code",
   "execution_count": 17,
   "metadata": {
    "ExecuteTime": {
     "end_time": "2019-10-27T04:48:30.750495Z",
     "start_time": "2019-10-27T04:48:30.736627Z"
    }
   },
   "outputs": [
    {
     "data": {
      "text/plain": [
       "MultiIndex(levels=[['a', 'b'], ['0', '1']],\n",
       "           codes=[[0, 0, 1, 1], [0, 1, 0, 1]])"
      ]
     },
     "execution_count": 17,
     "metadata": {},
     "output_type": "execute_result"
    }
   ],
   "source": [
    "# from a list of arrays\n",
    "pd.MultiIndex.from_arrays([['a','a','b','b'], ['0','1','0','1']])\n"
   ]
  },
  {
   "cell_type": "code",
   "execution_count": 18,
   "metadata": {
    "ExecuteTime": {
     "end_time": "2019-10-27T04:48:30.772523Z",
     "start_time": "2019-10-27T04:48:30.755223Z"
    }
   },
   "outputs": [
    {
     "data": {
      "text/plain": [
       "MultiIndex(levels=[['a', 'b'], [0, 1]],\n",
       "           codes=[[0, 0, 1, 1], [0, 1, 0, 1]])"
      ]
     },
     "execution_count": 18,
     "metadata": {},
     "output_type": "execute_result"
    }
   ],
   "source": [
    "# from a list tuple\n",
    "pd.MultiIndex.from_tuples([('a',0),('a',1),('b',0),('b',1)])"
   ]
  },
  {
   "cell_type": "code",
   "execution_count": 19,
   "metadata": {
    "ExecuteTime": {
     "end_time": "2019-10-27T04:48:30.795661Z",
     "start_time": "2019-10-27T04:48:30.776198Z"
    }
   },
   "outputs": [
    {
     "data": {
      "text/plain": [
       "MultiIndex(levels=[['a', 'b'], [0, 1]],\n",
       "           codes=[[0, 0, 1, 1], [0, 1, 0, 1]])"
      ]
     },
     "execution_count": 19,
     "metadata": {},
     "output_type": "execute_result"
    }
   ],
   "source": [
    "# from a Cartesian product of single indices\n",
    "pd.MultiIndex.from_product([['a','b'],[0,1]])"
   ]
  },
  {
   "cell_type": "code",
   "execution_count": 20,
   "metadata": {
    "ExecuteTime": {
     "end_time": "2019-10-27T04:48:30.816613Z",
     "start_time": "2019-10-27T04:48:30.801646Z"
    }
   },
   "outputs": [
    {
     "data": {
      "text/plain": [
       "MultiIndex(levels=[['a', 'b'], [1, 2]],\n",
       "           codes=[[0, 0, 1, 1], [0, 1, 0, 1]])"
      ]
     },
     "execution_count": 20,
     "metadata": {},
     "output_type": "execute_result"
    }
   ],
   "source": [
    "pd.MultiIndex(levels=[['a', 'b'], [1, 2]],\n",
    "              codes=[[0, 0, 1, 1], [0, 1, 0, 1]])"
   ]
  },
  {
   "cell_type": "markdown",
   "metadata": {},
   "source": [
    "### MultiIndex level names"
   ]
  },
  {
   "cell_type": "code",
   "execution_count": 21,
   "metadata": {
    "ExecuteTime": {
     "end_time": "2019-10-27T04:48:30.830568Z",
     "start_time": "2019-10-27T04:48:30.820595Z"
    }
   },
   "outputs": [
    {
     "data": {
      "text/plain": [
       "state       year\n",
       "California  2000    33871648\n",
       "            2010    37253956\n",
       "New York    2000    18976457\n",
       "            2010    19378102\n",
       "Texas       2000    20851820\n",
       "            2010    25145561\n",
       "dtype: int64"
      ]
     },
     "execution_count": 21,
     "metadata": {},
     "output_type": "execute_result"
    }
   ],
   "source": [
    "pop.index.names = ['state', 'year']\n",
    "pop"
   ]
  },
  {
   "cell_type": "markdown",
   "metadata": {
    "ExecuteTime": {
     "end_time": "2019-10-27T00:38:35.643174Z",
     "start_time": "2019-10-27T00:38:35.635665Z"
    }
   },
   "source": [
    "### MultiIndex for columns"
   ]
  },
  {
   "cell_type": "markdown",
   "metadata": {},
   "source": [
    "Rows and columns are complete symmetric, so the columns can have multiple levels as well"
   ]
  },
  {
   "cell_type": "code",
   "execution_count": 22,
   "metadata": {
    "ExecuteTime": {
     "end_time": "2019-10-27T04:48:30.864733Z",
     "start_time": "2019-10-27T04:48:30.836620Z"
    }
   },
   "outputs": [
    {
     "data": {
      "text/plain": [
       "array([[49. , 37. , 37. , 37.5, 32. , 37.5],\n",
       "       [32. , 39. , 42. , 36.2, 36. , 37. ],\n",
       "       [30. , 38.3, 33. , 37.2, 26. , 35.8],\n",
       "       [43. , 36.3, 33. , 36.1, 31. , 37.4]])"
      ]
     },
     "execution_count": 22,
     "metadata": {},
     "output_type": "execute_result"
    }
   ],
   "source": [
    "# Hierachical indices and columns\n",
    "index = pd.MultiIndex.from_product([[2013, 2014], [1, 2]],\n",
    "                                   names=['year', 'visit'])\n",
    "columns = pd.MultiIndex.from_product([['Bob', 'Guido', 'Sue'], ['HR', 'Temp']],\n",
    "                                     names=['subject', 'type'])\n",
    "\n",
    "data = np.round(np.random.randn(4, 6), 1)\n",
    "data[:, ::2] *= 10\n",
    "data += 37\n",
    "data"
   ]
  },
  {
   "cell_type": "code",
   "execution_count": 23,
   "metadata": {
    "ExecuteTime": {
     "end_time": "2019-10-27T04:48:30.897798Z",
     "start_time": "2019-10-27T04:48:30.869467Z"
    }
   },
   "outputs": [
    {
     "data": {
      "text/html": [
       "<div>\n",
       "<style scoped>\n",
       "    .dataframe tbody tr th:only-of-type {\n",
       "        vertical-align: middle;\n",
       "    }\n",
       "\n",
       "    .dataframe tbody tr th {\n",
       "        vertical-align: top;\n",
       "    }\n",
       "\n",
       "    .dataframe thead tr th {\n",
       "        text-align: left;\n",
       "    }\n",
       "\n",
       "    .dataframe thead tr:last-of-type th {\n",
       "        text-align: right;\n",
       "    }\n",
       "</style>\n",
       "<table border=\"1\" class=\"dataframe\">\n",
       "  <thead>\n",
       "    <tr>\n",
       "      <th></th>\n",
       "      <th>subject</th>\n",
       "      <th colspan=\"2\" halign=\"left\">Bob</th>\n",
       "      <th colspan=\"2\" halign=\"left\">Guido</th>\n",
       "      <th colspan=\"2\" halign=\"left\">Sue</th>\n",
       "    </tr>\n",
       "    <tr>\n",
       "      <th></th>\n",
       "      <th>type</th>\n",
       "      <th>HR</th>\n",
       "      <th>Temp</th>\n",
       "      <th>HR</th>\n",
       "      <th>Temp</th>\n",
       "      <th>HR</th>\n",
       "      <th>Temp</th>\n",
       "    </tr>\n",
       "    <tr>\n",
       "      <th>year</th>\n",
       "      <th>visit</th>\n",
       "      <th></th>\n",
       "      <th></th>\n",
       "      <th></th>\n",
       "      <th></th>\n",
       "      <th></th>\n",
       "      <th></th>\n",
       "    </tr>\n",
       "  </thead>\n",
       "  <tbody>\n",
       "    <tr>\n",
       "      <th rowspan=\"2\" valign=\"top\">2013</th>\n",
       "      <th>1</th>\n",
       "      <td>49.0</td>\n",
       "      <td>37.0</td>\n",
       "      <td>37.0</td>\n",
       "      <td>37.5</td>\n",
       "      <td>32.0</td>\n",
       "      <td>37.5</td>\n",
       "    </tr>\n",
       "    <tr>\n",
       "      <th>2</th>\n",
       "      <td>32.0</td>\n",
       "      <td>39.0</td>\n",
       "      <td>42.0</td>\n",
       "      <td>36.2</td>\n",
       "      <td>36.0</td>\n",
       "      <td>37.0</td>\n",
       "    </tr>\n",
       "    <tr>\n",
       "      <th rowspan=\"2\" valign=\"top\">2014</th>\n",
       "      <th>1</th>\n",
       "      <td>30.0</td>\n",
       "      <td>38.3</td>\n",
       "      <td>33.0</td>\n",
       "      <td>37.2</td>\n",
       "      <td>26.0</td>\n",
       "      <td>35.8</td>\n",
       "    </tr>\n",
       "    <tr>\n",
       "      <th>2</th>\n",
       "      <td>43.0</td>\n",
       "      <td>36.3</td>\n",
       "      <td>33.0</td>\n",
       "      <td>36.1</td>\n",
       "      <td>31.0</td>\n",
       "      <td>37.4</td>\n",
       "    </tr>\n",
       "  </tbody>\n",
       "</table>\n",
       "</div>"
      ],
      "text/plain": [
       "subject      Bob       Guido         Sue      \n",
       "type          HR  Temp    HR  Temp    HR  Temp\n",
       "year visit                                    \n",
       "2013 1      49.0  37.0  37.0  37.5  32.0  37.5\n",
       "     2      32.0  39.0  42.0  36.2  36.0  37.0\n",
       "2014 1      30.0  38.3  33.0  37.2  26.0  35.8\n",
       "     2      43.0  36.3  33.0  36.1  31.0  37.4"
      ]
     },
     "execution_count": 23,
     "metadata": {},
     "output_type": "execute_result"
    }
   ],
   "source": [
    "# create the DataFrame\n",
    "health_data = pd.DataFrame(data, index=index,\n",
    "                           columns=columns)\n",
    "health_data"
   ]
  },
  {
   "cell_type": "code",
   "execution_count": 24,
   "metadata": {
    "ExecuteTime": {
     "end_time": "2019-10-27T04:48:30.924719Z",
     "start_time": "2019-10-27T04:48:30.901780Z"
    }
   },
   "outputs": [
    {
     "data": {
      "text/html": [
       "<div>\n",
       "<style scoped>\n",
       "    .dataframe tbody tr th:only-of-type {\n",
       "        vertical-align: middle;\n",
       "    }\n",
       "\n",
       "    .dataframe tbody tr th {\n",
       "        vertical-align: top;\n",
       "    }\n",
       "\n",
       "    .dataframe thead tr th {\n",
       "        text-align: left;\n",
       "    }\n",
       "\n",
       "    .dataframe thead tr:last-of-type th {\n",
       "        text-align: right;\n",
       "    }\n",
       "</style>\n",
       "<table border=\"1\" class=\"dataframe\">\n",
       "  <thead>\n",
       "    <tr>\n",
       "      <th></th>\n",
       "      <th>subject</th>\n",
       "      <th colspan=\"2\" halign=\"left\">Guido</th>\n",
       "      <th colspan=\"2\" halign=\"left\">Sue</th>\n",
       "    </tr>\n",
       "    <tr>\n",
       "      <th></th>\n",
       "      <th>type</th>\n",
       "      <th>HR</th>\n",
       "      <th>Temp</th>\n",
       "      <th>HR</th>\n",
       "      <th>Temp</th>\n",
       "    </tr>\n",
       "    <tr>\n",
       "      <th>year</th>\n",
       "      <th>visit</th>\n",
       "      <th></th>\n",
       "      <th></th>\n",
       "      <th></th>\n",
       "      <th></th>\n",
       "    </tr>\n",
       "  </thead>\n",
       "  <tbody>\n",
       "    <tr>\n",
       "      <th>2013</th>\n",
       "      <th>1</th>\n",
       "      <td>37.0</td>\n",
       "      <td>37.5</td>\n",
       "      <td>32.0</td>\n",
       "      <td>37.5</td>\n",
       "    </tr>\n",
       "    <tr>\n",
       "      <th>2014</th>\n",
       "      <th>1</th>\n",
       "      <td>33.0</td>\n",
       "      <td>37.2</td>\n",
       "      <td>26.0</td>\n",
       "      <td>35.8</td>\n",
       "    </tr>\n",
       "  </tbody>\n",
       "</table>\n",
       "</div>"
      ],
      "text/plain": [
       "subject    Guido         Sue      \n",
       "type          HR  Temp    HR  Temp\n",
       "year visit                        \n",
       "2013 1      37.0  37.5  32.0  37.5\n",
       "2014 1      33.0  37.2  26.0  35.8"
      ]
     },
     "execution_count": 24,
     "metadata": {},
     "output_type": "execute_result"
    }
   ],
   "source": [
    "health_data.loc[::2,'Guido':'Sue']"
   ]
  },
  {
   "cell_type": "markdown",
   "metadata": {
    "ExecuteTime": {
     "end_time": "2019-10-27T00:51:32.711089Z",
     "start_time": "2019-10-27T00:51:32.616844Z"
    }
   },
   "source": [
    "## Indexing and Slicing a MultiIndex\n"
   ]
  },
  {
   "cell_type": "markdown",
   "metadata": {},
   "source": [
    "### Multiply indexed Series"
   ]
  },
  {
   "cell_type": "code",
   "execution_count": 25,
   "metadata": {
    "ExecuteTime": {
     "end_time": "2019-10-27T04:48:30.939678Z",
     "start_time": "2019-10-27T04:48:30.929021Z"
    }
   },
   "outputs": [
    {
     "data": {
      "text/plain": [
       "state       year\n",
       "California  2000    33871648\n",
       "            2010    37253956\n",
       "New York    2000    18976457\n",
       "            2010    19378102\n",
       "Texas       2000    20851820\n",
       "            2010    25145561\n",
       "dtype: int64"
      ]
     },
     "execution_count": 25,
     "metadata": {},
     "output_type": "execute_result"
    }
   ],
   "source": [
    "pop"
   ]
  },
  {
   "cell_type": "code",
   "execution_count": 26,
   "metadata": {
    "ExecuteTime": {
     "end_time": "2019-10-27T04:48:30.952644Z",
     "start_time": "2019-10-27T04:48:30.943668Z"
    }
   },
   "outputs": [
    {
     "data": {
      "text/plain": [
       "37253956"
      ]
     },
     "execution_count": 26,
     "metadata": {},
     "output_type": "execute_result"
    }
   ],
   "source": [
    "# We can access single elements by indexing with multiple terms\n",
    "pop['California',2010]"
   ]
  },
  {
   "cell_type": "code",
   "execution_count": 27,
   "metadata": {
    "ExecuteTime": {
     "end_time": "2019-10-27T04:48:30.967604Z",
     "start_time": "2019-10-27T04:48:30.956633Z"
    },
    "scrolled": true
   },
   "outputs": [
    {
     "data": {
      "text/plain": [
       "year\n",
       "2000    33871648\n",
       "2010    37253956\n",
       "dtype: int64"
      ]
     },
     "execution_count": 27,
     "metadata": {},
     "output_type": "execute_result"
    }
   ],
   "source": [
    "# Partial indexing\n",
    "# The result is another `Series`, with the lower-level indices maintained\n",
    "pop['California']"
   ]
  },
  {
   "cell_type": "code",
   "execution_count": 28,
   "metadata": {
    "ExecuteTime": {
     "end_time": "2019-10-27T04:48:30.985021Z",
     "start_time": "2019-10-27T04:48:30.970596Z"
    }
   },
   "outputs": [
    {
     "data": {
      "text/plain": [
       "state       year\n",
       "California  2000    33871648\n",
       "New York    2000    18976457\n",
       "dtype: int64"
      ]
     },
     "execution_count": 28,
     "metadata": {},
     "output_type": "execute_result"
    }
   ],
   "source": [
    "pop.loc['California':'New York', 2000]"
   ]
  },
  {
   "cell_type": "code",
   "execution_count": 29,
   "metadata": {
    "ExecuteTime": {
     "end_time": "2019-10-27T04:48:31.001972Z",
     "start_time": "2019-10-27T04:48:30.989007Z"
    }
   },
   "outputs": [
    {
     "data": {
      "text/plain": [
       "state       year\n",
       "California  2000    33871648\n",
       "            2010    37253956\n",
       "dtype: int64"
      ]
     },
     "execution_count": 29,
     "metadata": {},
     "output_type": "execute_result"
    }
   ],
   "source": [
    "pop.iloc[0:2]"
   ]
  },
  {
   "cell_type": "code",
   "execution_count": 30,
   "metadata": {
    "ExecuteTime": {
     "end_time": "2019-10-27T04:48:31.018927Z",
     "start_time": "2019-10-27T04:48:31.004965Z"
    }
   },
   "outputs": [
    {
     "data": {
      "text/plain": [
       "state\n",
       "California    37253956\n",
       "New York      19378102\n",
       "Texas         25145561\n",
       "dtype: int64"
      ]
     },
     "execution_count": 30,
     "metadata": {},
     "output_type": "execute_result"
    }
   ],
   "source": [
    "pop[:,2010]"
   ]
  },
  {
   "cell_type": "code",
   "execution_count": 31,
   "metadata": {
    "ExecuteTime": {
     "end_time": "2019-10-27T04:48:31.039895Z",
     "start_time": "2019-10-27T04:48:31.023011Z"
    }
   },
   "outputs": [
    {
     "data": {
      "text/plain": [
       "state       year\n",
       "California  2000    33871648\n",
       "            2010    37253956\n",
       "Texas       2010    25145561\n",
       "dtype: int64"
      ]
     },
     "execution_count": 31,
     "metadata": {},
     "output_type": "execute_result"
    }
   ],
   "source": [
    "pop[pop>22000000]"
   ]
  },
  {
   "cell_type": "code",
   "execution_count": 32,
   "metadata": {
    "ExecuteTime": {
     "end_time": "2019-10-27T04:48:31.060844Z",
     "start_time": "2019-10-27T04:48:31.043875Z"
    }
   },
   "outputs": [
    {
     "data": {
      "text/plain": [
       "state       year\n",
       "California  2000    33871648\n",
       "            2010    37253956\n",
       "Texas       2000    20851820\n",
       "            2010    25145561\n",
       "dtype: int64"
      ]
     },
     "execution_count": 32,
     "metadata": {},
     "output_type": "execute_result"
    }
   ],
   "source": [
    "pop[['California', 'Texas']]"
   ]
  },
  {
   "cell_type": "markdown",
   "metadata": {},
   "source": [
    "### Multiply indexed DataFrames"
   ]
  },
  {
   "cell_type": "code",
   "execution_count": 33,
   "metadata": {
    "ExecuteTime": {
     "end_time": "2019-10-27T04:48:31.095723Z",
     "start_time": "2019-10-27T04:48:31.064773Z"
    }
   },
   "outputs": [
    {
     "data": {
      "text/html": [
       "<div>\n",
       "<style scoped>\n",
       "    .dataframe tbody tr th:only-of-type {\n",
       "        vertical-align: middle;\n",
       "    }\n",
       "\n",
       "    .dataframe tbody tr th {\n",
       "        vertical-align: top;\n",
       "    }\n",
       "\n",
       "    .dataframe thead tr th {\n",
       "        text-align: left;\n",
       "    }\n",
       "\n",
       "    .dataframe thead tr:last-of-type th {\n",
       "        text-align: right;\n",
       "    }\n",
       "</style>\n",
       "<table border=\"1\" class=\"dataframe\">\n",
       "  <thead>\n",
       "    <tr>\n",
       "      <th></th>\n",
       "      <th>subject</th>\n",
       "      <th colspan=\"2\" halign=\"left\">Bob</th>\n",
       "      <th colspan=\"2\" halign=\"left\">Guido</th>\n",
       "      <th colspan=\"2\" halign=\"left\">Sue</th>\n",
       "    </tr>\n",
       "    <tr>\n",
       "      <th></th>\n",
       "      <th>type</th>\n",
       "      <th>HR</th>\n",
       "      <th>Temp</th>\n",
       "      <th>HR</th>\n",
       "      <th>Temp</th>\n",
       "      <th>HR</th>\n",
       "      <th>Temp</th>\n",
       "    </tr>\n",
       "    <tr>\n",
       "      <th>year</th>\n",
       "      <th>visit</th>\n",
       "      <th></th>\n",
       "      <th></th>\n",
       "      <th></th>\n",
       "      <th></th>\n",
       "      <th></th>\n",
       "      <th></th>\n",
       "    </tr>\n",
       "  </thead>\n",
       "  <tbody>\n",
       "    <tr>\n",
       "      <th rowspan=\"2\" valign=\"top\">2013</th>\n",
       "      <th>1</th>\n",
       "      <td>49.0</td>\n",
       "      <td>37.0</td>\n",
       "      <td>37.0</td>\n",
       "      <td>37.5</td>\n",
       "      <td>32.0</td>\n",
       "      <td>37.5</td>\n",
       "    </tr>\n",
       "    <tr>\n",
       "      <th>2</th>\n",
       "      <td>32.0</td>\n",
       "      <td>39.0</td>\n",
       "      <td>42.0</td>\n",
       "      <td>36.2</td>\n",
       "      <td>36.0</td>\n",
       "      <td>37.0</td>\n",
       "    </tr>\n",
       "    <tr>\n",
       "      <th rowspan=\"2\" valign=\"top\">2014</th>\n",
       "      <th>1</th>\n",
       "      <td>30.0</td>\n",
       "      <td>38.3</td>\n",
       "      <td>33.0</td>\n",
       "      <td>37.2</td>\n",
       "      <td>26.0</td>\n",
       "      <td>35.8</td>\n",
       "    </tr>\n",
       "    <tr>\n",
       "      <th>2</th>\n",
       "      <td>43.0</td>\n",
       "      <td>36.3</td>\n",
       "      <td>33.0</td>\n",
       "      <td>36.1</td>\n",
       "      <td>31.0</td>\n",
       "      <td>37.4</td>\n",
       "    </tr>\n",
       "  </tbody>\n",
       "</table>\n",
       "</div>"
      ],
      "text/plain": [
       "subject      Bob       Guido         Sue      \n",
       "type          HR  Temp    HR  Temp    HR  Temp\n",
       "year visit                                    \n",
       "2013 1      49.0  37.0  37.0  37.5  32.0  37.5\n",
       "     2      32.0  39.0  42.0  36.2  36.0  37.0\n",
       "2014 1      30.0  38.3  33.0  37.2  26.0  35.8\n",
       "     2      43.0  36.3  33.0  36.1  31.0  37.4"
      ]
     },
     "execution_count": 33,
     "metadata": {},
     "output_type": "execute_result"
    }
   ],
   "source": [
    "health_data"
   ]
  },
  {
   "cell_type": "markdown",
   "metadata": {},
   "source": [
    "Remember that columns are **primary** in a `DataFrame`, and the syntax used for multiply indexed `Series` applies to the columns"
   ]
  },
  {
   "cell_type": "code",
   "execution_count": 34,
   "metadata": {
    "ExecuteTime": {
     "end_time": "2019-10-27T04:48:31.114080Z",
     "start_time": "2019-10-27T04:48:31.100710Z"
    }
   },
   "outputs": [
    {
     "data": {
      "text/plain": [
       "year  visit\n",
       "2013  1        37.0\n",
       "      2        42.0\n",
       "2014  1        33.0\n",
       "      2        33.0\n",
       "Name: (Guido, HR), dtype: float64"
      ]
     },
     "execution_count": 34,
     "metadata": {},
     "output_type": "execute_result"
    }
   ],
   "source": [
    "health_data['Guido', 'HR']"
   ]
  },
  {
   "cell_type": "code",
   "execution_count": 35,
   "metadata": {
    "ExecuteTime": {
     "end_time": "2019-10-27T04:48:31.148581Z",
     "start_time": "2019-10-27T04:48:31.121899Z"
    }
   },
   "outputs": [
    {
     "data": {
      "text/html": [
       "<div>\n",
       "<style scoped>\n",
       "    .dataframe tbody tr th:only-of-type {\n",
       "        vertical-align: middle;\n",
       "    }\n",
       "\n",
       "    .dataframe tbody tr th {\n",
       "        vertical-align: top;\n",
       "    }\n",
       "\n",
       "    .dataframe thead tr th {\n",
       "        text-align: left;\n",
       "    }\n",
       "\n",
       "    .dataframe thead tr:last-of-type th {\n",
       "        text-align: right;\n",
       "    }\n",
       "</style>\n",
       "<table border=\"1\" class=\"dataframe\">\n",
       "  <thead>\n",
       "    <tr>\n",
       "      <th></th>\n",
       "      <th>subject</th>\n",
       "      <th colspan=\"2\" halign=\"left\">Bob</th>\n",
       "      <th>Guido</th>\n",
       "    </tr>\n",
       "    <tr>\n",
       "      <th></th>\n",
       "      <th>type</th>\n",
       "      <th>HR</th>\n",
       "      <th>Temp</th>\n",
       "      <th>HR</th>\n",
       "    </tr>\n",
       "    <tr>\n",
       "      <th>year</th>\n",
       "      <th>visit</th>\n",
       "      <th></th>\n",
       "      <th></th>\n",
       "      <th></th>\n",
       "    </tr>\n",
       "  </thead>\n",
       "  <tbody>\n",
       "    <tr>\n",
       "      <th rowspan=\"2\" valign=\"top\">2013</th>\n",
       "      <th>1</th>\n",
       "      <td>49.0</td>\n",
       "      <td>37.0</td>\n",
       "      <td>37.0</td>\n",
       "    </tr>\n",
       "    <tr>\n",
       "      <th>2</th>\n",
       "      <td>32.0</td>\n",
       "      <td>39.0</td>\n",
       "      <td>42.0</td>\n",
       "    </tr>\n",
       "  </tbody>\n",
       "</table>\n",
       "</div>"
      ],
      "text/plain": [
       "subject      Bob       Guido\n",
       "type          HR  Temp    HR\n",
       "year visit                  \n",
       "2013 1      49.0  37.0  37.0\n",
       "     2      32.0  39.0  42.0"
      ]
     },
     "execution_count": 35,
     "metadata": {},
     "output_type": "execute_result"
    }
   ],
   "source": [
    "# xxx.iloc[rows, columns]\n",
    "health_data.iloc[:2, :3]"
   ]
  },
  {
   "cell_type": "markdown",
   "metadata": {},
   "source": [
    "These indexers provide an array-like view of the underlying two-dimensional data,but each individual index in `loc` or `iloc` can be passed a tuple of multiple indices"
   ]
  },
  {
   "cell_type": "code",
   "execution_count": 36,
   "metadata": {
    "ExecuteTime": {
     "end_time": "2019-10-27T04:48:31.170553Z",
     "start_time": "2019-10-27T04:48:31.151853Z"
    }
   },
   "outputs": [
    {
     "data": {
      "text/plain": [
       "year  visit\n",
       "2013  1        37.0\n",
       "      2        42.0\n",
       "2014  1        33.0\n",
       "      2        33.0\n",
       "Name: (Guido, HR), dtype: float64"
      ]
     },
     "execution_count": 36,
     "metadata": {},
     "output_type": "execute_result"
    }
   ],
   "source": [
    "health_data.loc[:,('Guido', 'HR')]"
   ]
  },
  {
   "cell_type": "code",
   "execution_count": 37,
   "metadata": {
    "ExecuteTime": {
     "end_time": "2019-10-27T04:48:31.191949Z",
     "start_time": "2019-10-27T04:48:31.175847Z"
    }
   },
   "outputs": [
    {
     "data": {
      "text/plain": [
       "37.0"
      ]
     },
     "execution_count": 37,
     "metadata": {},
     "output_type": "execute_result"
    }
   ],
   "source": [
    "health_data.loc[(2013, 1),('Guido', 'HR')]"
   ]
  },
  {
   "cell_type": "code",
   "execution_count": 38,
   "metadata": {
    "ExecuteTime": {
     "end_time": "2019-10-27T04:48:31.239772Z",
     "start_time": "2019-10-27T04:48:31.208855Z"
    }
   },
   "outputs": [
    {
     "data": {
      "text/html": [
       "<div>\n",
       "<style scoped>\n",
       "    .dataframe tbody tr th:only-of-type {\n",
       "        vertical-align: middle;\n",
       "    }\n",
       "\n",
       "    .dataframe tbody tr th {\n",
       "        vertical-align: top;\n",
       "    }\n",
       "\n",
       "    .dataframe thead tr th {\n",
       "        text-align: left;\n",
       "    }\n",
       "\n",
       "    .dataframe thead tr:last-of-type th {\n",
       "        text-align: right;\n",
       "    }\n",
       "</style>\n",
       "<table border=\"1\" class=\"dataframe\">\n",
       "  <thead>\n",
       "    <tr>\n",
       "      <th></th>\n",
       "      <th>subject</th>\n",
       "      <th>Bob</th>\n",
       "      <th>Guido</th>\n",
       "    </tr>\n",
       "    <tr>\n",
       "      <th></th>\n",
       "      <th>type</th>\n",
       "      <th>HR</th>\n",
       "      <th>HR</th>\n",
       "    </tr>\n",
       "    <tr>\n",
       "      <th>year</th>\n",
       "      <th>visit</th>\n",
       "      <th></th>\n",
       "      <th></th>\n",
       "    </tr>\n",
       "  </thead>\n",
       "  <tbody>\n",
       "    <tr>\n",
       "      <th rowspan=\"2\" valign=\"top\">2013</th>\n",
       "      <th>1</th>\n",
       "      <td>49.0</td>\n",
       "      <td>37.0</td>\n",
       "    </tr>\n",
       "    <tr>\n",
       "      <th>2</th>\n",
       "      <td>32.0</td>\n",
       "      <td>42.0</td>\n",
       "    </tr>\n",
       "    <tr>\n",
       "      <th rowspan=\"2\" valign=\"top\">2014</th>\n",
       "      <th>1</th>\n",
       "      <td>30.0</td>\n",
       "      <td>33.0</td>\n",
       "    </tr>\n",
       "    <tr>\n",
       "      <th>2</th>\n",
       "      <td>43.0</td>\n",
       "      <td>33.0</td>\n",
       "    </tr>\n",
       "  </tbody>\n",
       "</table>\n",
       "</div>"
      ],
      "text/plain": [
       "subject      Bob Guido\n",
       "type          HR    HR\n",
       "year visit            \n",
       "2013 1      49.0  37.0\n",
       "     2      32.0  42.0\n",
       "2014 1      30.0  33.0\n",
       "     2      43.0  33.0"
      ]
     },
     "execution_count": 38,
     "metadata": {},
     "output_type": "execute_result"
    }
   ],
   "source": [
    "health_data.loc[2013:,(['Guido','Bob'], 'HR')]"
   ]
  },
  {
   "cell_type": "markdown",
   "metadata": {},
   "source": [
    "Working with slices within these index tuples is not especially convenient; trying to create a slice within a tuple will lead to a syntax error"
   ]
  },
  {
   "cell_type": "code",
   "execution_count": 39,
   "metadata": {
    "ExecuteTime": {
     "end_time": "2019-10-27T04:48:31.261713Z",
     "start_time": "2019-10-27T04:48:31.252737Z"
    }
   },
   "outputs": [
    {
     "ename": "SyntaxError",
     "evalue": "invalid syntax (<ipython-input-39-186aa6537cbc>, line 1)",
     "output_type": "error",
     "traceback": [
      "\u001b[1;36m  File \u001b[1;32m\"<ipython-input-39-186aa6537cbc>\"\u001b[1;36m, line \u001b[1;32m1\u001b[0m\n\u001b[1;33m    health_data.loc[(:,1),(:, 'HR')]\u001b[0m\n\u001b[1;37m                     ^\u001b[0m\n\u001b[1;31mSyntaxError\u001b[0m\u001b[1;31m:\u001b[0m invalid syntax\n"
     ]
    }
   ],
   "source": [
    "health_data.loc[(:,1),(:, 'HR')]"
   ]
  },
  {
   "cell_type": "markdown",
   "metadata": {},
   "source": [
    "Getting around this problem by using Pandas's `IndexSlice` object"
   ]
  },
  {
   "cell_type": "code",
   "execution_count": 42,
   "metadata": {
    "ExecuteTime": {
     "end_time": "2019-10-27T04:49:14.637883Z",
     "start_time": "2019-10-27T04:49:14.607963Z"
    }
   },
   "outputs": [
    {
     "data": {
      "text/html": [
       "<div>\n",
       "<style scoped>\n",
       "    .dataframe tbody tr th:only-of-type {\n",
       "        vertical-align: middle;\n",
       "    }\n",
       "\n",
       "    .dataframe tbody tr th {\n",
       "        vertical-align: top;\n",
       "    }\n",
       "\n",
       "    .dataframe thead tr th {\n",
       "        text-align: left;\n",
       "    }\n",
       "\n",
       "    .dataframe thead tr:last-of-type th {\n",
       "        text-align: right;\n",
       "    }\n",
       "</style>\n",
       "<table border=\"1\" class=\"dataframe\">\n",
       "  <thead>\n",
       "    <tr>\n",
       "      <th></th>\n",
       "      <th>subject</th>\n",
       "      <th>Bob</th>\n",
       "      <th>Guido</th>\n",
       "      <th>Sue</th>\n",
       "    </tr>\n",
       "    <tr>\n",
       "      <th></th>\n",
       "      <th>type</th>\n",
       "      <th>HR</th>\n",
       "      <th>HR</th>\n",
       "      <th>HR</th>\n",
       "    </tr>\n",
       "    <tr>\n",
       "      <th>year</th>\n",
       "      <th>visit</th>\n",
       "      <th></th>\n",
       "      <th></th>\n",
       "      <th></th>\n",
       "    </tr>\n",
       "  </thead>\n",
       "  <tbody>\n",
       "    <tr>\n",
       "      <th>2013</th>\n",
       "      <th>1</th>\n",
       "      <td>49.0</td>\n",
       "      <td>37.0</td>\n",
       "      <td>32.0</td>\n",
       "    </tr>\n",
       "    <tr>\n",
       "      <th>2014</th>\n",
       "      <th>1</th>\n",
       "      <td>30.0</td>\n",
       "      <td>33.0</td>\n",
       "      <td>26.0</td>\n",
       "    </tr>\n",
       "  </tbody>\n",
       "</table>\n",
       "</div>"
      ],
      "text/plain": [
       "subject      Bob Guido   Sue\n",
       "type          HR    HR    HR\n",
       "year visit                  \n",
       "2013 1      49.0  37.0  32.0\n",
       "2014 1      30.0  33.0  26.0"
      ]
     },
     "execution_count": 42,
     "metadata": {},
     "output_type": "execute_result"
    }
   ],
   "source": [
    "idx = pd.IndexSlice\n",
    "health_data.loc[idx[:,::2], idx[:, 'HR']]"
   ]
  },
  {
   "cell_type": "markdown",
   "metadata": {},
   "source": [
    "## Rearranging Multi-Indices"
   ]
  },
  {
   "cell_type": "markdown",
   "metadata": {},
   "source": [
    "### Sorted and unsorted indices"
   ]
  },
  {
   "cell_type": "markdown",
   "metadata": {},
   "source": [
    "Many of the `MultiIndex` slicing operations will `fail` if the index is not sorted"
   ]
  },
  {
   "cell_type": "markdown",
   "metadata": {},
   "source": [
    "Let's start by creating some simple multiply indexed data where the indices are **not lexographically** sorted"
   ]
  },
  {
   "cell_type": "markdown",
   "metadata": {},
   "source": [
    "If we try to take a partial slice of this index, it will result in an `error`"
   ]
  },
  {
   "cell_type": "code",
   "execution_count": 43,
   "metadata": {
    "ExecuteTime": {
     "end_time": "2019-10-27T04:49:16.274204Z",
     "start_time": "2019-10-27T04:49:16.253956Z"
    }
   },
   "outputs": [
    {
     "data": {
      "text/plain": [
       "char  int\n",
       "a     1      0.309068\n",
       "      2      0.389323\n",
       "c     1      0.362703\n",
       "      2      0.521367\n",
       "b     1      0.528231\n",
       "      2      0.649981\n",
       "dtype: float64"
      ]
     },
     "execution_count": 43,
     "metadata": {},
     "output_type": "execute_result"
    }
   ],
   "source": [
    "# we can see the index has not benn sorted\n",
    "index = pd.MultiIndex.from_product([['a','c','b'],[1,2]])\n",
    "data = pd.Series(np.random.rand(6), index=index)\n",
    "data.index.names=['char', 'int']\n",
    "data"
   ]
  },
  {
   "cell_type": "code",
   "execution_count": 45,
   "metadata": {
    "ExecuteTime": {
     "end_time": "2019-10-27T04:50:25.811490Z",
     "start_time": "2019-10-27T04:50:25.802078Z"
    }
   },
   "outputs": [
    {
     "name": "stdout",
     "output_type": "stream",
     "text": [
      "<class 'pandas.errors.UnsortedIndexError'>\n",
      "'Key length (1) was greater than MultiIndex lexsort depth (0)'\n"
     ]
    }
   ],
   "source": [
    "try:\n",
    "    data['a':'b']\n",
    "except KeyError as e:\n",
    "    print(type(e))\n",
    "    print(e)\n"
   ]
  },
  {
   "cell_type": "markdown",
   "metadata": {},
   "source": [
    "For various reasons, partial slicess and other similar operations require the leveks in the `MultiIndex` to be **in sorted order**  \n",
    "Pandas provides a number of convenience routines to perform this type of sorting.  \n",
    "e.g.:  \n",
    "`sort_index()` and `sortlevel()` methods of the `DataFrame`."
   ]
  },
  {
   "cell_type": "code",
   "execution_count": 47,
   "metadata": {
    "ExecuteTime": {
     "end_time": "2019-10-27T04:50:45.133280Z",
     "start_time": "2019-10-27T04:50:45.117834Z"
    }
   },
   "outputs": [
    {
     "data": {
      "text/plain": [
       "char  int\n",
       "a     1      0.309068\n",
       "      2      0.389323\n",
       "b     1      0.528231\n",
       "      2      0.649981\n",
       "c     1      0.362703\n",
       "      2      0.521367\n",
       "dtype: float64"
      ]
     },
     "execution_count": 47,
     "metadata": {},
     "output_type": "execute_result"
    }
   ],
   "source": [
    "data = data.sort_index()\n",
    "data"
   ]
  },
  {
   "cell_type": "code",
   "execution_count": 48,
   "metadata": {
    "ExecuteTime": {
     "end_time": "2019-10-27T04:50:45.945444Z",
     "start_time": "2019-10-27T04:50:45.932079Z"
    }
   },
   "outputs": [
    {
     "data": {
      "text/plain": [
       "char  int\n",
       "a     1      0.309068\n",
       "      2      0.389323\n",
       "b     1      0.528231\n",
       "      2      0.649981\n",
       "dtype: float64"
      ]
     },
     "execution_count": 48,
     "metadata": {},
     "output_type": "execute_result"
    }
   ],
   "source": [
    "data['a':'b']"
   ]
  },
  {
   "cell_type": "markdown",
   "metadata": {},
   "source": [
    "### Stacking and unstacking indices"
   ]
  },
  {
   "cell_type": "code",
   "execution_count": 50,
   "metadata": {
    "ExecuteTime": {
     "end_time": "2019-10-27T04:50:53.231228Z",
     "start_time": "2019-10-27T04:50:53.219642Z"
    }
   },
   "outputs": [
    {
     "data": {
      "text/plain": [
       "state       year\n",
       "California  2000    33871648\n",
       "            2010    37253956\n",
       "New York    2000    18976457\n",
       "            2010    19378102\n",
       "Texas       2000    20851820\n",
       "            2010    25145561\n",
       "dtype: int64"
      ]
     },
     "execution_count": 50,
     "metadata": {},
     "output_type": "execute_result"
    }
   ],
   "source": [
    "pop"
   ]
  },
  {
   "cell_type": "markdown",
   "metadata": {},
   "source": [
    "There are some options specifying the level.\n"
   ]
  },
  {
   "cell_type": "code",
   "execution_count": 52,
   "metadata": {
    "ExecuteTime": {
     "end_time": "2019-10-27T04:51:09.210120Z",
     "start_time": "2019-10-27T04:51:09.193545Z"
    }
   },
   "outputs": [
    {
     "data": {
      "text/html": [
       "<div>\n",
       "<style scoped>\n",
       "    .dataframe tbody tr th:only-of-type {\n",
       "        vertical-align: middle;\n",
       "    }\n",
       "\n",
       "    .dataframe tbody tr th {\n",
       "        vertical-align: top;\n",
       "    }\n",
       "\n",
       "    .dataframe thead th {\n",
       "        text-align: right;\n",
       "    }\n",
       "</style>\n",
       "<table border=\"1\" class=\"dataframe\">\n",
       "  <thead>\n",
       "    <tr style=\"text-align: right;\">\n",
       "      <th>state</th>\n",
       "      <th>California</th>\n",
       "      <th>New York</th>\n",
       "      <th>Texas</th>\n",
       "    </tr>\n",
       "    <tr>\n",
       "      <th>year</th>\n",
       "      <th></th>\n",
       "      <th></th>\n",
       "      <th></th>\n",
       "    </tr>\n",
       "  </thead>\n",
       "  <tbody>\n",
       "    <tr>\n",
       "      <th>2000</th>\n",
       "      <td>33871648</td>\n",
       "      <td>18976457</td>\n",
       "      <td>20851820</td>\n",
       "    </tr>\n",
       "    <tr>\n",
       "      <th>2010</th>\n",
       "      <td>37253956</td>\n",
       "      <td>19378102</td>\n",
       "      <td>25145561</td>\n",
       "    </tr>\n",
       "  </tbody>\n",
       "</table>\n",
       "</div>"
      ],
      "text/plain": [
       "state  California  New York     Texas\n",
       "year                                 \n",
       "2000     33871648  18976457  20851820\n",
       "2010     37253956  19378102  25145561"
      ]
     },
     "execution_count": 52,
     "metadata": {},
     "output_type": "execute_result"
    }
   ],
   "source": [
    "pop.unstack(level=0)"
   ]
  },
  {
   "cell_type": "code",
   "execution_count": 53,
   "metadata": {
    "ExecuteTime": {
     "end_time": "2019-10-27T04:51:09.860973Z",
     "start_time": "2019-10-27T04:51:09.844838Z"
    }
   },
   "outputs": [
    {
     "data": {
      "text/html": [
       "<div>\n",
       "<style scoped>\n",
       "    .dataframe tbody tr th:only-of-type {\n",
       "        vertical-align: middle;\n",
       "    }\n",
       "\n",
       "    .dataframe tbody tr th {\n",
       "        vertical-align: top;\n",
       "    }\n",
       "\n",
       "    .dataframe thead th {\n",
       "        text-align: right;\n",
       "    }\n",
       "</style>\n",
       "<table border=\"1\" class=\"dataframe\">\n",
       "  <thead>\n",
       "    <tr style=\"text-align: right;\">\n",
       "      <th>year</th>\n",
       "      <th>2000</th>\n",
       "      <th>2010</th>\n",
       "    </tr>\n",
       "    <tr>\n",
       "      <th>state</th>\n",
       "      <th></th>\n",
       "      <th></th>\n",
       "    </tr>\n",
       "  </thead>\n",
       "  <tbody>\n",
       "    <tr>\n",
       "      <th>California</th>\n",
       "      <td>33871648</td>\n",
       "      <td>37253956</td>\n",
       "    </tr>\n",
       "    <tr>\n",
       "      <th>New York</th>\n",
       "      <td>18976457</td>\n",
       "      <td>19378102</td>\n",
       "    </tr>\n",
       "    <tr>\n",
       "      <th>Texas</th>\n",
       "      <td>20851820</td>\n",
       "      <td>25145561</td>\n",
       "    </tr>\n",
       "  </tbody>\n",
       "</table>\n",
       "</div>"
      ],
      "text/plain": [
       "year            2000      2010\n",
       "state                         \n",
       "California  33871648  37253956\n",
       "New York    18976457  19378102\n",
       "Texas       20851820  25145561"
      ]
     },
     "execution_count": 53,
     "metadata": {},
     "output_type": "execute_result"
    }
   ],
   "source": [
    "pop.unstack(level=1)"
   ]
  },
  {
   "cell_type": "markdown",
   "metadata": {},
   "source": [
    "### Index setting and resetting"
   ]
  },
  {
   "cell_type": "code",
   "execution_count": 55,
   "metadata": {
    "ExecuteTime": {
     "end_time": "2019-10-27T04:51:38.158676Z",
     "start_time": "2019-10-27T04:51:38.146285Z"
    }
   },
   "outputs": [
    {
     "data": {
      "text/plain": [
       "state       year\n",
       "California  2000    33871648\n",
       "            2010    37253956\n",
       "New York    2000    18976457\n",
       "            2010    19378102\n",
       "Texas       2000    20851820\n",
       "            2010    25145561\n",
       "dtype: int64"
      ]
     },
     "execution_count": 55,
     "metadata": {},
     "output_type": "execute_result"
    }
   ],
   "source": [
    "pop"
   ]
  },
  {
   "cell_type": "code",
   "execution_count": 58,
   "metadata": {
    "ExecuteTime": {
     "end_time": "2019-10-27T04:52:09.752357Z",
     "start_time": "2019-10-27T04:52:09.732404Z"
    }
   },
   "outputs": [
    {
     "data": {
      "text/html": [
       "<div>\n",
       "<style scoped>\n",
       "    .dataframe tbody tr th:only-of-type {\n",
       "        vertical-align: middle;\n",
       "    }\n",
       "\n",
       "    .dataframe tbody tr th {\n",
       "        vertical-align: top;\n",
       "    }\n",
       "\n",
       "    .dataframe thead th {\n",
       "        text-align: right;\n",
       "    }\n",
       "</style>\n",
       "<table border=\"1\" class=\"dataframe\">\n",
       "  <thead>\n",
       "    <tr style=\"text-align: right;\">\n",
       "      <th></th>\n",
       "      <th>state</th>\n",
       "      <th>year</th>\n",
       "      <th>population</th>\n",
       "    </tr>\n",
       "  </thead>\n",
       "  <tbody>\n",
       "    <tr>\n",
       "      <th>0</th>\n",
       "      <td>California</td>\n",
       "      <td>2000</td>\n",
       "      <td>33871648</td>\n",
       "    </tr>\n",
       "    <tr>\n",
       "      <th>1</th>\n",
       "      <td>California</td>\n",
       "      <td>2010</td>\n",
       "      <td>37253956</td>\n",
       "    </tr>\n",
       "    <tr>\n",
       "      <th>2</th>\n",
       "      <td>New York</td>\n",
       "      <td>2000</td>\n",
       "      <td>18976457</td>\n",
       "    </tr>\n",
       "    <tr>\n",
       "      <th>3</th>\n",
       "      <td>New York</td>\n",
       "      <td>2010</td>\n",
       "      <td>19378102</td>\n",
       "    </tr>\n",
       "    <tr>\n",
       "      <th>4</th>\n",
       "      <td>Texas</td>\n",
       "      <td>2000</td>\n",
       "      <td>20851820</td>\n",
       "    </tr>\n",
       "    <tr>\n",
       "      <th>5</th>\n",
       "      <td>Texas</td>\n",
       "      <td>2010</td>\n",
       "      <td>25145561</td>\n",
       "    </tr>\n",
       "  </tbody>\n",
       "</table>\n",
       "</div>"
      ],
      "text/plain": [
       "        state  year  population\n",
       "0  California  2000    33871648\n",
       "1  California  2010    37253956\n",
       "2    New York  2000    18976457\n",
       "3    New York  2010    19378102\n",
       "4       Texas  2000    20851820\n",
       "5       Texas  2010    25145561"
      ]
     },
     "execution_count": 58,
     "metadata": {},
     "output_type": "execute_result"
    }
   ],
   "source": [
    "pop_flat = pop.reset_index(name='population')\n",
    "pop_flat"
   ]
  },
  {
   "cell_type": "code",
   "execution_count": 59,
   "metadata": {
    "ExecuteTime": {
     "end_time": "2019-10-27T04:52:16.734478Z",
     "start_time": "2019-10-27T04:52:16.711808Z"
    }
   },
   "outputs": [
    {
     "data": {
      "text/html": [
       "<div>\n",
       "<style scoped>\n",
       "    .dataframe tbody tr th:only-of-type {\n",
       "        vertical-align: middle;\n",
       "    }\n",
       "\n",
       "    .dataframe tbody tr th {\n",
       "        vertical-align: top;\n",
       "    }\n",
       "\n",
       "    .dataframe thead th {\n",
       "        text-align: right;\n",
       "    }\n",
       "</style>\n",
       "<table border=\"1\" class=\"dataframe\">\n",
       "  <thead>\n",
       "    <tr style=\"text-align: right;\">\n",
       "      <th></th>\n",
       "      <th></th>\n",
       "      <th>population</th>\n",
       "    </tr>\n",
       "    <tr>\n",
       "      <th>state</th>\n",
       "      <th>year</th>\n",
       "      <th></th>\n",
       "    </tr>\n",
       "  </thead>\n",
       "  <tbody>\n",
       "    <tr>\n",
       "      <th rowspan=\"2\" valign=\"top\">California</th>\n",
       "      <th>2000</th>\n",
       "      <td>33871648</td>\n",
       "    </tr>\n",
       "    <tr>\n",
       "      <th>2010</th>\n",
       "      <td>37253956</td>\n",
       "    </tr>\n",
       "    <tr>\n",
       "      <th rowspan=\"2\" valign=\"top\">New York</th>\n",
       "      <th>2000</th>\n",
       "      <td>18976457</td>\n",
       "    </tr>\n",
       "    <tr>\n",
       "      <th>2010</th>\n",
       "      <td>19378102</td>\n",
       "    </tr>\n",
       "    <tr>\n",
       "      <th rowspan=\"2\" valign=\"top\">Texas</th>\n",
       "      <th>2000</th>\n",
       "      <td>20851820</td>\n",
       "    </tr>\n",
       "    <tr>\n",
       "      <th>2010</th>\n",
       "      <td>25145561</td>\n",
       "    </tr>\n",
       "  </tbody>\n",
       "</table>\n",
       "</div>"
      ],
      "text/plain": [
       "                 population\n",
       "state      year            \n",
       "California 2000    33871648\n",
       "           2010    37253956\n",
       "New York   2000    18976457\n",
       "           2010    19378102\n",
       "Texas      2000    20851820\n",
       "           2010    25145561"
      ]
     },
     "execution_count": 59,
     "metadata": {},
     "output_type": "execute_result"
    }
   ],
   "source": [
    "pop_flat.set_index(['state', 'year'])"
   ]
  },
  {
   "cell_type": "markdown",
   "metadata": {},
   "source": [
    "## Data Aggregations on Multi-Indices"
   ]
  },
  {
   "cell_type": "markdown",
   "metadata": {},
   "source": [
    "We've previously seen that Pandas has built-in data aggregation methods, such as ``mean()``, ``sum()``, and ``max()``.\n",
    "For hierarchically indexed data, these can be passed a ``level`` parameter that controls which subset of the data the aggregate is computed on.\n",
    "\n",
    "For example, let's return to our health data:"
   ]
  },
  {
   "cell_type": "code",
   "execution_count": 60,
   "metadata": {
    "ExecuteTime": {
     "end_time": "2019-10-27T04:52:31.707590Z",
     "start_time": "2019-10-27T04:52:31.679495Z"
    }
   },
   "outputs": [
    {
     "data": {
      "text/html": [
       "<div>\n",
       "<style scoped>\n",
       "    .dataframe tbody tr th:only-of-type {\n",
       "        vertical-align: middle;\n",
       "    }\n",
       "\n",
       "    .dataframe tbody tr th {\n",
       "        vertical-align: top;\n",
       "    }\n",
       "\n",
       "    .dataframe thead tr th {\n",
       "        text-align: left;\n",
       "    }\n",
       "\n",
       "    .dataframe thead tr:last-of-type th {\n",
       "        text-align: right;\n",
       "    }\n",
       "</style>\n",
       "<table border=\"1\" class=\"dataframe\">\n",
       "  <thead>\n",
       "    <tr>\n",
       "      <th></th>\n",
       "      <th>subject</th>\n",
       "      <th colspan=\"2\" halign=\"left\">Bob</th>\n",
       "      <th colspan=\"2\" halign=\"left\">Guido</th>\n",
       "      <th colspan=\"2\" halign=\"left\">Sue</th>\n",
       "    </tr>\n",
       "    <tr>\n",
       "      <th></th>\n",
       "      <th>type</th>\n",
       "      <th>HR</th>\n",
       "      <th>Temp</th>\n",
       "      <th>HR</th>\n",
       "      <th>Temp</th>\n",
       "      <th>HR</th>\n",
       "      <th>Temp</th>\n",
       "    </tr>\n",
       "    <tr>\n",
       "      <th>year</th>\n",
       "      <th>visit</th>\n",
       "      <th></th>\n",
       "      <th></th>\n",
       "      <th></th>\n",
       "      <th></th>\n",
       "      <th></th>\n",
       "      <th></th>\n",
       "    </tr>\n",
       "  </thead>\n",
       "  <tbody>\n",
       "    <tr>\n",
       "      <th rowspan=\"2\" valign=\"top\">2013</th>\n",
       "      <th>1</th>\n",
       "      <td>49.0</td>\n",
       "      <td>37.0</td>\n",
       "      <td>37.0</td>\n",
       "      <td>37.5</td>\n",
       "      <td>32.0</td>\n",
       "      <td>37.5</td>\n",
       "    </tr>\n",
       "    <tr>\n",
       "      <th>2</th>\n",
       "      <td>32.0</td>\n",
       "      <td>39.0</td>\n",
       "      <td>42.0</td>\n",
       "      <td>36.2</td>\n",
       "      <td>36.0</td>\n",
       "      <td>37.0</td>\n",
       "    </tr>\n",
       "    <tr>\n",
       "      <th rowspan=\"2\" valign=\"top\">2014</th>\n",
       "      <th>1</th>\n",
       "      <td>30.0</td>\n",
       "      <td>38.3</td>\n",
       "      <td>33.0</td>\n",
       "      <td>37.2</td>\n",
       "      <td>26.0</td>\n",
       "      <td>35.8</td>\n",
       "    </tr>\n",
       "    <tr>\n",
       "      <th>2</th>\n",
       "      <td>43.0</td>\n",
       "      <td>36.3</td>\n",
       "      <td>33.0</td>\n",
       "      <td>36.1</td>\n",
       "      <td>31.0</td>\n",
       "      <td>37.4</td>\n",
       "    </tr>\n",
       "  </tbody>\n",
       "</table>\n",
       "</div>"
      ],
      "text/plain": [
       "subject      Bob       Guido         Sue      \n",
       "type          HR  Temp    HR  Temp    HR  Temp\n",
       "year visit                                    \n",
       "2013 1      49.0  37.0  37.0  37.5  32.0  37.5\n",
       "     2      32.0  39.0  42.0  36.2  36.0  37.0\n",
       "2014 1      30.0  38.3  33.0  37.2  26.0  35.8\n",
       "     2      43.0  36.3  33.0  36.1  31.0  37.4"
      ]
     },
     "execution_count": 60,
     "metadata": {},
     "output_type": "execute_result"
    }
   ],
   "source": [
    "health_data"
   ]
  },
  {
   "cell_type": "markdown",
   "metadata": {},
   "source": [
    "If we'd like to average-out the measurements in the two visit each year. We can do this by **naming the index level**"
   ]
  },
  {
   "cell_type": "code",
   "execution_count": 61,
   "metadata": {
    "ExecuteTime": {
     "end_time": "2019-10-27T04:52:36.745200Z",
     "start_time": "2019-10-27T04:52:36.654274Z"
    }
   },
   "outputs": [
    {
     "data": {
      "text/html": [
       "<div>\n",
       "<style scoped>\n",
       "    .dataframe tbody tr th:only-of-type {\n",
       "        vertical-align: middle;\n",
       "    }\n",
       "\n",
       "    .dataframe tbody tr th {\n",
       "        vertical-align: top;\n",
       "    }\n",
       "\n",
       "    .dataframe thead tr th {\n",
       "        text-align: left;\n",
       "    }\n",
       "\n",
       "    .dataframe thead tr:last-of-type th {\n",
       "        text-align: right;\n",
       "    }\n",
       "</style>\n",
       "<table border=\"1\" class=\"dataframe\">\n",
       "  <thead>\n",
       "    <tr>\n",
       "      <th>subject</th>\n",
       "      <th colspan=\"2\" halign=\"left\">Bob</th>\n",
       "      <th colspan=\"2\" halign=\"left\">Guido</th>\n",
       "      <th colspan=\"2\" halign=\"left\">Sue</th>\n",
       "    </tr>\n",
       "    <tr>\n",
       "      <th>type</th>\n",
       "      <th>HR</th>\n",
       "      <th>Temp</th>\n",
       "      <th>HR</th>\n",
       "      <th>Temp</th>\n",
       "      <th>HR</th>\n",
       "      <th>Temp</th>\n",
       "    </tr>\n",
       "    <tr>\n",
       "      <th>year</th>\n",
       "      <th></th>\n",
       "      <th></th>\n",
       "      <th></th>\n",
       "      <th></th>\n",
       "      <th></th>\n",
       "      <th></th>\n",
       "    </tr>\n",
       "  </thead>\n",
       "  <tbody>\n",
       "    <tr>\n",
       "      <th>2013</th>\n",
       "      <td>40.5</td>\n",
       "      <td>38.0</td>\n",
       "      <td>39.5</td>\n",
       "      <td>36.85</td>\n",
       "      <td>34.0</td>\n",
       "      <td>37.25</td>\n",
       "    </tr>\n",
       "    <tr>\n",
       "      <th>2014</th>\n",
       "      <td>36.5</td>\n",
       "      <td>37.3</td>\n",
       "      <td>33.0</td>\n",
       "      <td>36.65</td>\n",
       "      <td>28.5</td>\n",
       "      <td>36.60</td>\n",
       "    </tr>\n",
       "  </tbody>\n",
       "</table>\n",
       "</div>"
      ],
      "text/plain": [
       "subject   Bob       Guido          Sue       \n",
       "type       HR  Temp    HR   Temp    HR   Temp\n",
       "year                                         \n",
       "2013     40.5  38.0  39.5  36.85  34.0  37.25\n",
       "2014     36.5  37.3  33.0  36.65  28.5  36.60"
      ]
     },
     "execution_count": 61,
     "metadata": {},
     "output_type": "execute_result"
    }
   ],
   "source": [
    "data_mean = health_data.mean(level='year')\n",
    "data_mean"
   ]
  },
  {
   "cell_type": "code",
   "execution_count": null,
   "metadata": {
    "ExecuteTime": {
     "end_time": "2019-10-27T04:48:31.309121Z",
     "start_time": "2019-10-27T04:48:25.694Z"
    }
   },
   "outputs": [],
   "source": [
    "health_data.mean(level='visit')"
   ]
  },
  {
   "cell_type": "markdown",
   "metadata": {},
   "source": [
    "By further making use of the `aixs` keyword, we can take the mean among levels on the columns as well"
   ]
  },
  {
   "cell_type": "code",
   "execution_count": null,
   "metadata": {
    "ExecuteTime": {
     "end_time": "2019-10-27T04:48:31.311579Z",
     "start_time": "2019-10-27T04:48:25.703Z"
    }
   },
   "outputs": [],
   "source": [
    "health_data.sum(axis=1, level='type')"
   ]
  },
  {
   "cell_type": "code",
   "execution_count": null,
   "metadata": {
    "ExecuteTime": {
     "end_time": "2019-10-27T04:48:31.314572Z",
     "start_time": "2019-10-27T04:48:25.710Z"
    }
   },
   "outputs": [],
   "source": [
    "health_data.sum(axis=1, level='subject')"
   ]
  },
  {
   "cell_type": "markdown",
   "metadata": {},
   "source": [
    "## 补充"
   ]
  },
  {
   "cell_type": "markdown",
   "metadata": {},
   "source": [
    "### 创建多级索引"
   ]
  },
  {
   "cell_type": "code",
   "execution_count": 105,
   "metadata": {
    "ExecuteTime": {
     "end_time": "2019-11-04T00:41:31.834686Z",
     "start_time": "2019-11-04T00:41:31.819362Z"
    }
   },
   "outputs": [],
   "source": [
    "# 创建两层索引\n",
    "index = pd.MultiIndex.from_product([\n",
    "    ['小明', '小华', '小刚','里斯'],\n",
    "    ['一月', '二月', '三月', '四月']],\n",
    "    names=['name', 'month'])\n",
    "\n",
    "columns = pd.MultiIndex.from_product([\n",
    "    ['python', 'math', 'english'],\n",
    "    ['期中考', '期末考']],\n",
    "    names=['subject', '考试'])"
   ]
  },
  {
   "cell_type": "code",
   "execution_count": 106,
   "metadata": {
    "ExecuteTime": {
     "end_time": "2019-11-04T00:41:32.351908Z",
     "start_time": "2019-11-04T00:41:32.326664Z"
    }
   },
   "outputs": [
    {
     "data": {
      "text/html": [
       "<div>\n",
       "<style scoped>\n",
       "    .dataframe tbody tr th:only-of-type {\n",
       "        vertical-align: middle;\n",
       "    }\n",
       "\n",
       "    .dataframe tbody tr th {\n",
       "        vertical-align: top;\n",
       "    }\n",
       "\n",
       "    .dataframe thead tr th {\n",
       "        text-align: left;\n",
       "    }\n",
       "\n",
       "    .dataframe thead tr:last-of-type th {\n",
       "        text-align: right;\n",
       "    }\n",
       "</style>\n",
       "<table border=\"1\" class=\"dataframe\">\n",
       "  <thead>\n",
       "    <tr>\n",
       "      <th></th>\n",
       "      <th>subject</th>\n",
       "      <th colspan=\"2\" halign=\"left\">python</th>\n",
       "      <th colspan=\"2\" halign=\"left\">math</th>\n",
       "      <th colspan=\"2\" halign=\"left\">english</th>\n",
       "    </tr>\n",
       "    <tr>\n",
       "      <th></th>\n",
       "      <th>考试</th>\n",
       "      <th>期中考</th>\n",
       "      <th>期末考</th>\n",
       "      <th>期中考</th>\n",
       "      <th>期末考</th>\n",
       "      <th>期中考</th>\n",
       "      <th>期末考</th>\n",
       "    </tr>\n",
       "    <tr>\n",
       "      <th>name</th>\n",
       "      <th>month</th>\n",
       "      <th></th>\n",
       "      <th></th>\n",
       "      <th></th>\n",
       "      <th></th>\n",
       "      <th></th>\n",
       "      <th></th>\n",
       "    </tr>\n",
       "  </thead>\n",
       "  <tbody>\n",
       "    <tr>\n",
       "      <th rowspan=\"4\" valign=\"top\">小明</th>\n",
       "      <th>一月</th>\n",
       "      <td>66</td>\n",
       "      <td>84</td>\n",
       "      <td>39</td>\n",
       "      <td>15</td>\n",
       "      <td>62</td>\n",
       "      <td>131</td>\n",
       "    </tr>\n",
       "    <tr>\n",
       "      <th>二月</th>\n",
       "      <td>19</td>\n",
       "      <td>148</td>\n",
       "      <td>36</td>\n",
       "      <td>127</td>\n",
       "      <td>85</td>\n",
       "      <td>93</td>\n",
       "    </tr>\n",
       "    <tr>\n",
       "      <th>三月</th>\n",
       "      <td>126</td>\n",
       "      <td>45</td>\n",
       "      <td>95</td>\n",
       "      <td>119</td>\n",
       "      <td>11</td>\n",
       "      <td>40</td>\n",
       "    </tr>\n",
       "    <tr>\n",
       "      <th>四月</th>\n",
       "      <td>121</td>\n",
       "      <td>74</td>\n",
       "      <td>120</td>\n",
       "      <td>38</td>\n",
       "      <td>86</td>\n",
       "      <td>114</td>\n",
       "    </tr>\n",
       "    <tr>\n",
       "      <th rowspan=\"4\" valign=\"top\">小华</th>\n",
       "      <th>一月</th>\n",
       "      <td>40</td>\n",
       "      <td>9</td>\n",
       "      <td>51</td>\n",
       "      <td>66</td>\n",
       "      <td>88</td>\n",
       "      <td>52</td>\n",
       "    </tr>\n",
       "    <tr>\n",
       "      <th>二月</th>\n",
       "      <td>82</td>\n",
       "      <td>54</td>\n",
       "      <td>136</td>\n",
       "      <td>125</td>\n",
       "      <td>18</td>\n",
       "      <td>119</td>\n",
       "    </tr>\n",
       "    <tr>\n",
       "      <th>三月</th>\n",
       "      <td>131</td>\n",
       "      <td>51</td>\n",
       "      <td>45</td>\n",
       "      <td>61</td>\n",
       "      <td>22</td>\n",
       "      <td>106</td>\n",
       "    </tr>\n",
       "    <tr>\n",
       "      <th>四月</th>\n",
       "      <td>58</td>\n",
       "      <td>7</td>\n",
       "      <td>130</td>\n",
       "      <td>132</td>\n",
       "      <td>128</td>\n",
       "      <td>5</td>\n",
       "    </tr>\n",
       "    <tr>\n",
       "      <th rowspan=\"4\" valign=\"top\">小刚</th>\n",
       "      <th>一月</th>\n",
       "      <td>69</td>\n",
       "      <td>9</td>\n",
       "      <td>35</td>\n",
       "      <td>112</td>\n",
       "      <td>71</td>\n",
       "      <td>61</td>\n",
       "    </tr>\n",
       "    <tr>\n",
       "      <th>二月</th>\n",
       "      <td>93</td>\n",
       "      <td>20</td>\n",
       "      <td>149</td>\n",
       "      <td>34</td>\n",
       "      <td>68</td>\n",
       "      <td>63</td>\n",
       "    </tr>\n",
       "    <tr>\n",
       "      <th>三月</th>\n",
       "      <td>34</td>\n",
       "      <td>17</td>\n",
       "      <td>64</td>\n",
       "      <td>33</td>\n",
       "      <td>42</td>\n",
       "      <td>16</td>\n",
       "    </tr>\n",
       "    <tr>\n",
       "      <th>四月</th>\n",
       "      <td>131</td>\n",
       "      <td>54</td>\n",
       "      <td>82</td>\n",
       "      <td>33</td>\n",
       "      <td>65</td>\n",
       "      <td>84</td>\n",
       "    </tr>\n",
       "    <tr>\n",
       "      <th rowspan=\"4\" valign=\"top\">里斯</th>\n",
       "      <th>一月</th>\n",
       "      <td>144</td>\n",
       "      <td>25</td>\n",
       "      <td>35</td>\n",
       "      <td>36</td>\n",
       "      <td>50</td>\n",
       "      <td>85</td>\n",
       "    </tr>\n",
       "    <tr>\n",
       "      <th>二月</th>\n",
       "      <td>23</td>\n",
       "      <td>124</td>\n",
       "      <td>105</td>\n",
       "      <td>142</td>\n",
       "      <td>88</td>\n",
       "      <td>121</td>\n",
       "    </tr>\n",
       "    <tr>\n",
       "      <th>三月</th>\n",
       "      <td>14</td>\n",
       "      <td>89</td>\n",
       "      <td>78</td>\n",
       "      <td>15</td>\n",
       "      <td>39</td>\n",
       "      <td>123</td>\n",
       "    </tr>\n",
       "    <tr>\n",
       "      <th>四月</th>\n",
       "      <td>37</td>\n",
       "      <td>80</td>\n",
       "      <td>90</td>\n",
       "      <td>47</td>\n",
       "      <td>105</td>\n",
       "      <td>12</td>\n",
       "    </tr>\n",
       "  </tbody>\n",
       "</table>\n",
       "</div>"
      ],
      "text/plain": [
       "subject    python      math      english     \n",
       "考试            期中考  期末考  期中考  期末考     期中考  期末考\n",
       "name month                                   \n",
       "小明   一月        66   84   39   15      62  131\n",
       "     二月        19  148   36  127      85   93\n",
       "     三月       126   45   95  119      11   40\n",
       "     四月       121   74  120   38      86  114\n",
       "小华   一月        40    9   51   66      88   52\n",
       "     二月        82   54  136  125      18  119\n",
       "     三月       131   51   45   61      22  106\n",
       "     四月        58    7  130  132     128    5\n",
       "小刚   一月        69    9   35  112      71   61\n",
       "     二月        93   20  149   34      68   63\n",
       "     三月        34   17   64   33      42   16\n",
       "     四月       131   54   82   33      65   84\n",
       "里斯   一月       144   25   35   36      50   85\n",
       "     二月        23  124  105  142      88  121\n",
       "     三月        14   89   78   15      39  123\n",
       "     四月        37   80   90   47     105   12"
      ]
     },
     "execution_count": 106,
     "metadata": {},
     "output_type": "execute_result"
    }
   ],
   "source": [
    "df = pd.DataFrame(np.random.randint(0,151,(16, 6)),\n",
    "                 index=index, columns=columns)\n",
    "df"
   ]
  },
  {
   "cell_type": "code",
   "execution_count": 12,
   "metadata": {
    "ExecuteTime": {
     "end_time": "2019-11-04T00:15:12.367815Z",
     "start_time": "2019-11-04T00:15:12.310831Z"
    }
   },
   "outputs": [
    {
     "data": {
      "text/html": [
       "<div>\n",
       "<style scoped>\n",
       "    .dataframe tbody tr th:only-of-type {\n",
       "        vertical-align: middle;\n",
       "    }\n",
       "\n",
       "    .dataframe tbody tr th {\n",
       "        vertical-align: top;\n",
       "    }\n",
       "\n",
       "    .dataframe thead tr th {\n",
       "        text-align: left;\n",
       "    }\n",
       "\n",
       "    .dataframe thead tr:last-of-type th {\n",
       "        text-align: right;\n",
       "    }\n",
       "</style>\n",
       "<table border=\"1\" class=\"dataframe\">\n",
       "  <thead>\n",
       "    <tr>\n",
       "      <th></th>\n",
       "      <th>subject</th>\n",
       "      <th colspan=\"4\" halign=\"left\">python</th>\n",
       "      <th colspan=\"4\" halign=\"left\">math</th>\n",
       "      <th colspan=\"4\" halign=\"left\">english</th>\n",
       "    </tr>\n",
       "    <tr>\n",
       "      <th></th>\n",
       "      <th>address</th>\n",
       "      <th colspan=\"2\" halign=\"left\">广东</th>\n",
       "      <th colspan=\"2\" halign=\"left\">上海</th>\n",
       "      <th colspan=\"2\" halign=\"left\">广东</th>\n",
       "      <th colspan=\"2\" halign=\"left\">上海</th>\n",
       "      <th colspan=\"2\" halign=\"left\">广东</th>\n",
       "      <th colspan=\"2\" halign=\"left\">上海</th>\n",
       "    </tr>\n",
       "    <tr>\n",
       "      <th></th>\n",
       "      <th>考试</th>\n",
       "      <th>期中考</th>\n",
       "      <th>期末考</th>\n",
       "      <th>期中考</th>\n",
       "      <th>期末考</th>\n",
       "      <th>期中考</th>\n",
       "      <th>期末考</th>\n",
       "      <th>期中考</th>\n",
       "      <th>期末考</th>\n",
       "      <th>期中考</th>\n",
       "      <th>期末考</th>\n",
       "      <th>期中考</th>\n",
       "      <th>期末考</th>\n",
       "    </tr>\n",
       "    <tr>\n",
       "      <th>name</th>\n",
       "      <th>month</th>\n",
       "      <th></th>\n",
       "      <th></th>\n",
       "      <th></th>\n",
       "      <th></th>\n",
       "      <th></th>\n",
       "      <th></th>\n",
       "      <th></th>\n",
       "      <th></th>\n",
       "      <th></th>\n",
       "      <th></th>\n",
       "      <th></th>\n",
       "      <th></th>\n",
       "    </tr>\n",
       "  </thead>\n",
       "  <tbody>\n",
       "    <tr>\n",
       "      <th rowspan=\"4\" valign=\"top\">小明</th>\n",
       "      <th>一月</th>\n",
       "      <td>99</td>\n",
       "      <td>4</td>\n",
       "      <td>52</td>\n",
       "      <td>139</td>\n",
       "      <td>111</td>\n",
       "      <td>10</td>\n",
       "      <td>28</td>\n",
       "      <td>60</td>\n",
       "      <td>5</td>\n",
       "      <td>18</td>\n",
       "      <td>79</td>\n",
       "      <td>114</td>\n",
       "    </tr>\n",
       "    <tr>\n",
       "      <th>二月</th>\n",
       "      <td>109</td>\n",
       "      <td>65</td>\n",
       "      <td>6</td>\n",
       "      <td>99</td>\n",
       "      <td>132</td>\n",
       "      <td>0</td>\n",
       "      <td>39</td>\n",
       "      <td>43</td>\n",
       "      <td>26</td>\n",
       "      <td>72</td>\n",
       "      <td>47</td>\n",
       "      <td>56</td>\n",
       "    </tr>\n",
       "    <tr>\n",
       "      <th>三月</th>\n",
       "      <td>29</td>\n",
       "      <td>28</td>\n",
       "      <td>144</td>\n",
       "      <td>100</td>\n",
       "      <td>150</td>\n",
       "      <td>94</td>\n",
       "      <td>113</td>\n",
       "      <td>1</td>\n",
       "      <td>16</td>\n",
       "      <td>0</td>\n",
       "      <td>7</td>\n",
       "      <td>89</td>\n",
       "    </tr>\n",
       "    <tr>\n",
       "      <th>四月</th>\n",
       "      <td>8</td>\n",
       "      <td>42</td>\n",
       "      <td>73</td>\n",
       "      <td>100</td>\n",
       "      <td>12</td>\n",
       "      <td>75</td>\n",
       "      <td>68</td>\n",
       "      <td>85</td>\n",
       "      <td>56</td>\n",
       "      <td>108</td>\n",
       "      <td>1</td>\n",
       "      <td>15</td>\n",
       "    </tr>\n",
       "    <tr>\n",
       "      <th rowspan=\"4\" valign=\"top\">小华</th>\n",
       "      <th>一月</th>\n",
       "      <td>81</td>\n",
       "      <td>7</td>\n",
       "      <td>118</td>\n",
       "      <td>125</td>\n",
       "      <td>84</td>\n",
       "      <td>145</td>\n",
       "      <td>78</td>\n",
       "      <td>8</td>\n",
       "      <td>128</td>\n",
       "      <td>29</td>\n",
       "      <td>4</td>\n",
       "      <td>94</td>\n",
       "    </tr>\n",
       "    <tr>\n",
       "      <th>二月</th>\n",
       "      <td>29</td>\n",
       "      <td>1</td>\n",
       "      <td>112</td>\n",
       "      <td>4</td>\n",
       "      <td>11</td>\n",
       "      <td>21</td>\n",
       "      <td>81</td>\n",
       "      <td>32</td>\n",
       "      <td>61</td>\n",
       "      <td>42</td>\n",
       "      <td>106</td>\n",
       "      <td>98</td>\n",
       "    </tr>\n",
       "    <tr>\n",
       "      <th>三月</th>\n",
       "      <td>101</td>\n",
       "      <td>90</td>\n",
       "      <td>45</td>\n",
       "      <td>12</td>\n",
       "      <td>77</td>\n",
       "      <td>46</td>\n",
       "      <td>69</td>\n",
       "      <td>71</td>\n",
       "      <td>121</td>\n",
       "      <td>23</td>\n",
       "      <td>119</td>\n",
       "      <td>117</td>\n",
       "    </tr>\n",
       "    <tr>\n",
       "      <th>四月</th>\n",
       "      <td>146</td>\n",
       "      <td>135</td>\n",
       "      <td>125</td>\n",
       "      <td>18</td>\n",
       "      <td>31</td>\n",
       "      <td>84</td>\n",
       "      <td>49</td>\n",
       "      <td>64</td>\n",
       "      <td>21</td>\n",
       "      <td>74</td>\n",
       "      <td>30</td>\n",
       "      <td>17</td>\n",
       "    </tr>\n",
       "    <tr>\n",
       "      <th rowspan=\"4\" valign=\"top\">小刚</th>\n",
       "      <th>一月</th>\n",
       "      <td>28</td>\n",
       "      <td>53</td>\n",
       "      <td>102</td>\n",
       "      <td>5</td>\n",
       "      <td>0</td>\n",
       "      <td>23</td>\n",
       "      <td>14</td>\n",
       "      <td>116</td>\n",
       "      <td>21</td>\n",
       "      <td>73</td>\n",
       "      <td>64</td>\n",
       "      <td>96</td>\n",
       "    </tr>\n",
       "    <tr>\n",
       "      <th>二月</th>\n",
       "      <td>94</td>\n",
       "      <td>49</td>\n",
       "      <td>36</td>\n",
       "      <td>11</td>\n",
       "      <td>20</td>\n",
       "      <td>49</td>\n",
       "      <td>76</td>\n",
       "      <td>147</td>\n",
       "      <td>65</td>\n",
       "      <td>114</td>\n",
       "      <td>97</td>\n",
       "      <td>111</td>\n",
       "    </tr>\n",
       "    <tr>\n",
       "      <th>三月</th>\n",
       "      <td>98</td>\n",
       "      <td>147</td>\n",
       "      <td>100</td>\n",
       "      <td>50</td>\n",
       "      <td>100</td>\n",
       "      <td>141</td>\n",
       "      <td>55</td>\n",
       "      <td>102</td>\n",
       "      <td>86</td>\n",
       "      <td>73</td>\n",
       "      <td>146</td>\n",
       "      <td>78</td>\n",
       "    </tr>\n",
       "    <tr>\n",
       "      <th>四月</th>\n",
       "      <td>43</td>\n",
       "      <td>43</td>\n",
       "      <td>41</td>\n",
       "      <td>113</td>\n",
       "      <td>133</td>\n",
       "      <td>53</td>\n",
       "      <td>125</td>\n",
       "      <td>47</td>\n",
       "      <td>11</td>\n",
       "      <td>23</td>\n",
       "      <td>138</td>\n",
       "      <td>107</td>\n",
       "    </tr>\n",
       "    <tr>\n",
       "      <th rowspan=\"4\" valign=\"top\">里斯</th>\n",
       "      <th>一月</th>\n",
       "      <td>90</td>\n",
       "      <td>8</td>\n",
       "      <td>63</td>\n",
       "      <td>39</td>\n",
       "      <td>108</td>\n",
       "      <td>0</td>\n",
       "      <td>113</td>\n",
       "      <td>89</td>\n",
       "      <td>18</td>\n",
       "      <td>97</td>\n",
       "      <td>97</td>\n",
       "      <td>59</td>\n",
       "    </tr>\n",
       "    <tr>\n",
       "      <th>二月</th>\n",
       "      <td>36</td>\n",
       "      <td>85</td>\n",
       "      <td>9</td>\n",
       "      <td>82</td>\n",
       "      <td>74</td>\n",
       "      <td>72</td>\n",
       "      <td>2</td>\n",
       "      <td>40</td>\n",
       "      <td>146</td>\n",
       "      <td>130</td>\n",
       "      <td>73</td>\n",
       "      <td>112</td>\n",
       "    </tr>\n",
       "    <tr>\n",
       "      <th>三月</th>\n",
       "      <td>87</td>\n",
       "      <td>77</td>\n",
       "      <td>133</td>\n",
       "      <td>104</td>\n",
       "      <td>137</td>\n",
       "      <td>138</td>\n",
       "      <td>121</td>\n",
       "      <td>149</td>\n",
       "      <td>131</td>\n",
       "      <td>136</td>\n",
       "      <td>32</td>\n",
       "      <td>150</td>\n",
       "    </tr>\n",
       "    <tr>\n",
       "      <th>四月</th>\n",
       "      <td>89</td>\n",
       "      <td>127</td>\n",
       "      <td>29</td>\n",
       "      <td>49</td>\n",
       "      <td>105</td>\n",
       "      <td>92</td>\n",
       "      <td>61</td>\n",
       "      <td>79</td>\n",
       "      <td>74</td>\n",
       "      <td>82</td>\n",
       "      <td>91</td>\n",
       "      <td>102</td>\n",
       "    </tr>\n",
       "  </tbody>\n",
       "</table>\n",
       "</div>"
      ],
      "text/plain": [
       "subject    python                math                english               \n",
       "address        广东        上海        广东        上海           广东        上海     \n",
       "考试            期中考  期末考  期中考  期末考  期中考  期末考  期中考  期末考     期中考  期末考  期中考  期末考\n",
       "name month                                                                 \n",
       "小明   一月        99    4   52  139  111   10   28   60       5   18   79  114\n",
       "     二月       109   65    6   99  132    0   39   43      26   72   47   56\n",
       "     三月        29   28  144  100  150   94  113    1      16    0    7   89\n",
       "     四月         8   42   73  100   12   75   68   85      56  108    1   15\n",
       "小华   一月        81    7  118  125   84  145   78    8     128   29    4   94\n",
       "     二月        29    1  112    4   11   21   81   32      61   42  106   98\n",
       "     三月       101   90   45   12   77   46   69   71     121   23  119  117\n",
       "     四月       146  135  125   18   31   84   49   64      21   74   30   17\n",
       "小刚   一月        28   53  102    5    0   23   14  116      21   73   64   96\n",
       "     二月        94   49   36   11   20   49   76  147      65  114   97  111\n",
       "     三月        98  147  100   50  100  141   55  102      86   73  146   78\n",
       "     四月        43   43   41  113  133   53  125   47      11   23  138  107\n",
       "里斯   一月        90    8   63   39  108    0  113   89      18   97   97   59\n",
       "     二月        36   85    9   82   74   72    2   40     146  130   73  112\n",
       "     三月        87   77  133  104  137  138  121  149     131  136   32  150\n",
       "     四月        89  127   29   49  105   92   61   79      74   82   91  102"
      ]
     },
     "execution_count": 12,
     "metadata": {},
     "output_type": "execute_result"
    }
   ],
   "source": [
    "# 创建三层索引\n",
    "columns = pd.MultiIndex.from_product([\n",
    "    ['python', 'math', 'english'],\n",
    "    ['广东', '上海'],\n",
    "    ['期中考', '期末考']],\n",
    "    names=['subject', 'address', '考试'])\n",
    "df2 = pd.DataFrame(np.random.randint(0,151, (16, 12)),\n",
    "                  index=index,columns=columns)\n",
    "df2"
   ]
  },
  {
   "cell_type": "markdown",
   "metadata": {},
   "source": [
    "### 索引与切片\n"
   ]
  },
  {
   "cell_type": "code",
   "execution_count": 27,
   "metadata": {
    "ExecuteTime": {
     "end_time": "2019-11-04T00:19:29.436240Z",
     "start_time": "2019-11-04T00:19:29.390360Z"
    }
   },
   "outputs": [
    {
     "data": {
      "text/html": [
       "<div>\n",
       "<style scoped>\n",
       "    .dataframe tbody tr th:only-of-type {\n",
       "        vertical-align: middle;\n",
       "    }\n",
       "\n",
       "    .dataframe tbody tr th {\n",
       "        vertical-align: top;\n",
       "    }\n",
       "\n",
       "    .dataframe thead tr th {\n",
       "        text-align: left;\n",
       "    }\n",
       "\n",
       "    .dataframe thead tr:last-of-type th {\n",
       "        text-align: right;\n",
       "    }\n",
       "</style>\n",
       "<table border=\"1\" class=\"dataframe\">\n",
       "  <thead>\n",
       "    <tr>\n",
       "      <th></th>\n",
       "      <th>subject</th>\n",
       "      <th colspan=\"4\" halign=\"left\">python</th>\n",
       "      <th colspan=\"4\" halign=\"left\">math</th>\n",
       "      <th colspan=\"4\" halign=\"left\">english</th>\n",
       "    </tr>\n",
       "    <tr>\n",
       "      <th></th>\n",
       "      <th>address</th>\n",
       "      <th colspan=\"2\" halign=\"left\">广东</th>\n",
       "      <th colspan=\"2\" halign=\"left\">上海</th>\n",
       "      <th colspan=\"2\" halign=\"left\">广东</th>\n",
       "      <th colspan=\"2\" halign=\"left\">上海</th>\n",
       "      <th colspan=\"2\" halign=\"left\">广东</th>\n",
       "      <th colspan=\"2\" halign=\"left\">上海</th>\n",
       "    </tr>\n",
       "    <tr>\n",
       "      <th></th>\n",
       "      <th>考试</th>\n",
       "      <th>期中考</th>\n",
       "      <th>期末考</th>\n",
       "      <th>期中考</th>\n",
       "      <th>期末考</th>\n",
       "      <th>期中考</th>\n",
       "      <th>期末考</th>\n",
       "      <th>期中考</th>\n",
       "      <th>期末考</th>\n",
       "      <th>期中考</th>\n",
       "      <th>期末考</th>\n",
       "      <th>期中考</th>\n",
       "      <th>期末考</th>\n",
       "    </tr>\n",
       "    <tr>\n",
       "      <th>name</th>\n",
       "      <th>month</th>\n",
       "      <th></th>\n",
       "      <th></th>\n",
       "      <th></th>\n",
       "      <th></th>\n",
       "      <th></th>\n",
       "      <th></th>\n",
       "      <th></th>\n",
       "      <th></th>\n",
       "      <th></th>\n",
       "      <th></th>\n",
       "      <th></th>\n",
       "      <th></th>\n",
       "    </tr>\n",
       "  </thead>\n",
       "  <tbody>\n",
       "    <tr>\n",
       "      <th rowspan=\"4\" valign=\"top\">小刚</th>\n",
       "      <th>一月</th>\n",
       "      <td>28</td>\n",
       "      <td>53</td>\n",
       "      <td>102</td>\n",
       "      <td>5</td>\n",
       "      <td>0</td>\n",
       "      <td>23</td>\n",
       "      <td>14</td>\n",
       "      <td>116</td>\n",
       "      <td>21</td>\n",
       "      <td>73</td>\n",
       "      <td>64</td>\n",
       "      <td>96</td>\n",
       "    </tr>\n",
       "    <tr>\n",
       "      <th>三月</th>\n",
       "      <td>98</td>\n",
       "      <td>147</td>\n",
       "      <td>100</td>\n",
       "      <td>50</td>\n",
       "      <td>100</td>\n",
       "      <td>141</td>\n",
       "      <td>55</td>\n",
       "      <td>102</td>\n",
       "      <td>86</td>\n",
       "      <td>73</td>\n",
       "      <td>146</td>\n",
       "      <td>78</td>\n",
       "    </tr>\n",
       "    <tr>\n",
       "      <th>二月</th>\n",
       "      <td>94</td>\n",
       "      <td>49</td>\n",
       "      <td>36</td>\n",
       "      <td>11</td>\n",
       "      <td>20</td>\n",
       "      <td>49</td>\n",
       "      <td>76</td>\n",
       "      <td>147</td>\n",
       "      <td>65</td>\n",
       "      <td>114</td>\n",
       "      <td>97</td>\n",
       "      <td>111</td>\n",
       "    </tr>\n",
       "    <tr>\n",
       "      <th>四月</th>\n",
       "      <td>43</td>\n",
       "      <td>43</td>\n",
       "      <td>41</td>\n",
       "      <td>113</td>\n",
       "      <td>133</td>\n",
       "      <td>53</td>\n",
       "      <td>125</td>\n",
       "      <td>47</td>\n",
       "      <td>11</td>\n",
       "      <td>23</td>\n",
       "      <td>138</td>\n",
       "      <td>107</td>\n",
       "    </tr>\n",
       "    <tr>\n",
       "      <th rowspan=\"4\" valign=\"top\">小华</th>\n",
       "      <th>一月</th>\n",
       "      <td>81</td>\n",
       "      <td>7</td>\n",
       "      <td>118</td>\n",
       "      <td>125</td>\n",
       "      <td>84</td>\n",
       "      <td>145</td>\n",
       "      <td>78</td>\n",
       "      <td>8</td>\n",
       "      <td>128</td>\n",
       "      <td>29</td>\n",
       "      <td>4</td>\n",
       "      <td>94</td>\n",
       "    </tr>\n",
       "    <tr>\n",
       "      <th>三月</th>\n",
       "      <td>101</td>\n",
       "      <td>90</td>\n",
       "      <td>45</td>\n",
       "      <td>12</td>\n",
       "      <td>77</td>\n",
       "      <td>46</td>\n",
       "      <td>69</td>\n",
       "      <td>71</td>\n",
       "      <td>121</td>\n",
       "      <td>23</td>\n",
       "      <td>119</td>\n",
       "      <td>117</td>\n",
       "    </tr>\n",
       "    <tr>\n",
       "      <th>二月</th>\n",
       "      <td>29</td>\n",
       "      <td>1</td>\n",
       "      <td>112</td>\n",
       "      <td>4</td>\n",
       "      <td>11</td>\n",
       "      <td>21</td>\n",
       "      <td>81</td>\n",
       "      <td>32</td>\n",
       "      <td>61</td>\n",
       "      <td>42</td>\n",
       "      <td>106</td>\n",
       "      <td>98</td>\n",
       "    </tr>\n",
       "    <tr>\n",
       "      <th>四月</th>\n",
       "      <td>146</td>\n",
       "      <td>135</td>\n",
       "      <td>125</td>\n",
       "      <td>18</td>\n",
       "      <td>31</td>\n",
       "      <td>84</td>\n",
       "      <td>49</td>\n",
       "      <td>64</td>\n",
       "      <td>21</td>\n",
       "      <td>74</td>\n",
       "      <td>30</td>\n",
       "      <td>17</td>\n",
       "    </tr>\n",
       "    <tr>\n",
       "      <th rowspan=\"4\" valign=\"top\">小明</th>\n",
       "      <th>一月</th>\n",
       "      <td>99</td>\n",
       "      <td>4</td>\n",
       "      <td>52</td>\n",
       "      <td>139</td>\n",
       "      <td>111</td>\n",
       "      <td>10</td>\n",
       "      <td>28</td>\n",
       "      <td>60</td>\n",
       "      <td>5</td>\n",
       "      <td>18</td>\n",
       "      <td>79</td>\n",
       "      <td>114</td>\n",
       "    </tr>\n",
       "    <tr>\n",
       "      <th>三月</th>\n",
       "      <td>29</td>\n",
       "      <td>28</td>\n",
       "      <td>144</td>\n",
       "      <td>100</td>\n",
       "      <td>150</td>\n",
       "      <td>94</td>\n",
       "      <td>113</td>\n",
       "      <td>1</td>\n",
       "      <td>16</td>\n",
       "      <td>0</td>\n",
       "      <td>7</td>\n",
       "      <td>89</td>\n",
       "    </tr>\n",
       "    <tr>\n",
       "      <th>二月</th>\n",
       "      <td>109</td>\n",
       "      <td>65</td>\n",
       "      <td>6</td>\n",
       "      <td>99</td>\n",
       "      <td>132</td>\n",
       "      <td>0</td>\n",
       "      <td>39</td>\n",
       "      <td>43</td>\n",
       "      <td>26</td>\n",
       "      <td>72</td>\n",
       "      <td>47</td>\n",
       "      <td>56</td>\n",
       "    </tr>\n",
       "    <tr>\n",
       "      <th>四月</th>\n",
       "      <td>8</td>\n",
       "      <td>42</td>\n",
       "      <td>73</td>\n",
       "      <td>100</td>\n",
       "      <td>12</td>\n",
       "      <td>75</td>\n",
       "      <td>68</td>\n",
       "      <td>85</td>\n",
       "      <td>56</td>\n",
       "      <td>108</td>\n",
       "      <td>1</td>\n",
       "      <td>15</td>\n",
       "    </tr>\n",
       "    <tr>\n",
       "      <th rowspan=\"4\" valign=\"top\">里斯</th>\n",
       "      <th>一月</th>\n",
       "      <td>90</td>\n",
       "      <td>8</td>\n",
       "      <td>63</td>\n",
       "      <td>39</td>\n",
       "      <td>108</td>\n",
       "      <td>0</td>\n",
       "      <td>113</td>\n",
       "      <td>89</td>\n",
       "      <td>18</td>\n",
       "      <td>97</td>\n",
       "      <td>97</td>\n",
       "      <td>59</td>\n",
       "    </tr>\n",
       "    <tr>\n",
       "      <th>三月</th>\n",
       "      <td>87</td>\n",
       "      <td>77</td>\n",
       "      <td>133</td>\n",
       "      <td>104</td>\n",
       "      <td>137</td>\n",
       "      <td>138</td>\n",
       "      <td>121</td>\n",
       "      <td>149</td>\n",
       "      <td>131</td>\n",
       "      <td>136</td>\n",
       "      <td>32</td>\n",
       "      <td>150</td>\n",
       "    </tr>\n",
       "    <tr>\n",
       "      <th>二月</th>\n",
       "      <td>36</td>\n",
       "      <td>85</td>\n",
       "      <td>9</td>\n",
       "      <td>82</td>\n",
       "      <td>74</td>\n",
       "      <td>72</td>\n",
       "      <td>2</td>\n",
       "      <td>40</td>\n",
       "      <td>146</td>\n",
       "      <td>130</td>\n",
       "      <td>73</td>\n",
       "      <td>112</td>\n",
       "    </tr>\n",
       "    <tr>\n",
       "      <th>四月</th>\n",
       "      <td>89</td>\n",
       "      <td>127</td>\n",
       "      <td>29</td>\n",
       "      <td>49</td>\n",
       "      <td>105</td>\n",
       "      <td>92</td>\n",
       "      <td>61</td>\n",
       "      <td>79</td>\n",
       "      <td>74</td>\n",
       "      <td>82</td>\n",
       "      <td>91</td>\n",
       "      <td>102</td>\n",
       "    </tr>\n",
       "  </tbody>\n",
       "</table>\n",
       "</div>"
      ],
      "text/plain": [
       "subject    python                math                english               \n",
       "address        广东        上海        广东        上海           广东        上海     \n",
       "考试            期中考  期末考  期中考  期末考  期中考  期末考  期中考  期末考     期中考  期末考  期中考  期末考\n",
       "name month                                                                 \n",
       "小刚   一月        28   53  102    5    0   23   14  116      21   73   64   96\n",
       "     三月        98  147  100   50  100  141   55  102      86   73  146   78\n",
       "     二月        94   49   36   11   20   49   76  147      65  114   97  111\n",
       "     四月        43   43   41  113  133   53  125   47      11   23  138  107\n",
       "小华   一月        81    7  118  125   84  145   78    8     128   29    4   94\n",
       "     三月       101   90   45   12   77   46   69   71     121   23  119  117\n",
       "     二月        29    1  112    4   11   21   81   32      61   42  106   98\n",
       "     四月       146  135  125   18   31   84   49   64      21   74   30   17\n",
       "小明   一月        99    4   52  139  111   10   28   60       5   18   79  114\n",
       "     三月        29   28  144  100  150   94  113    1      16    0    7   89\n",
       "     二月       109   65    6   99  132    0   39   43      26   72   47   56\n",
       "     四月         8   42   73  100   12   75   68   85      56  108    1   15\n",
       "里斯   一月        90    8   63   39  108    0  113   89      18   97   97   59\n",
       "     三月        87   77  133  104  137  138  121  149     131  136   32  150\n",
       "     二月        36   85    9   82   74   72    2   40     146  130   73  112\n",
       "     四月        89  127   29   49  105   92   61   79      74   82   91  102"
      ]
     },
     "execution_count": 27,
     "metadata": {},
     "output_type": "execute_result"
    }
   ],
   "source": [
    "df3 = df2.sort_index()\n",
    "df3"
   ]
  },
  {
   "cell_type": "code",
   "execution_count": 32,
   "metadata": {
    "ExecuteTime": {
     "end_time": "2019-11-04T00:20:30.787403Z",
     "start_time": "2019-11-04T00:20:30.759480Z"
    }
   },
   "outputs": [
    {
     "data": {
      "text/html": [
       "<div>\n",
       "<style scoped>\n",
       "    .dataframe tbody tr th:only-of-type {\n",
       "        vertical-align: middle;\n",
       "    }\n",
       "\n",
       "    .dataframe tbody tr th {\n",
       "        vertical-align: top;\n",
       "    }\n",
       "\n",
       "    .dataframe thead tr th {\n",
       "        text-align: left;\n",
       "    }\n",
       "\n",
       "    .dataframe thead tr:last-of-type th {\n",
       "        text-align: right;\n",
       "    }\n",
       "</style>\n",
       "<table border=\"1\" class=\"dataframe\">\n",
       "  <thead>\n",
       "    <tr>\n",
       "      <th></th>\n",
       "      <th>address</th>\n",
       "      <th colspan=\"2\" halign=\"left\">广东</th>\n",
       "      <th colspan=\"2\" halign=\"left\">上海</th>\n",
       "    </tr>\n",
       "    <tr>\n",
       "      <th></th>\n",
       "      <th>考试</th>\n",
       "      <th>期中考</th>\n",
       "      <th>期末考</th>\n",
       "      <th>期中考</th>\n",
       "      <th>期末考</th>\n",
       "    </tr>\n",
       "    <tr>\n",
       "      <th>name</th>\n",
       "      <th>month</th>\n",
       "      <th></th>\n",
       "      <th></th>\n",
       "      <th></th>\n",
       "      <th></th>\n",
       "    </tr>\n",
       "  </thead>\n",
       "  <tbody>\n",
       "    <tr>\n",
       "      <th rowspan=\"4\" valign=\"top\">小刚</th>\n",
       "      <th>一月</th>\n",
       "      <td>28</td>\n",
       "      <td>53</td>\n",
       "      <td>102</td>\n",
       "      <td>5</td>\n",
       "    </tr>\n",
       "    <tr>\n",
       "      <th>三月</th>\n",
       "      <td>98</td>\n",
       "      <td>147</td>\n",
       "      <td>100</td>\n",
       "      <td>50</td>\n",
       "    </tr>\n",
       "    <tr>\n",
       "      <th>二月</th>\n",
       "      <td>94</td>\n",
       "      <td>49</td>\n",
       "      <td>36</td>\n",
       "      <td>11</td>\n",
       "    </tr>\n",
       "    <tr>\n",
       "      <th>四月</th>\n",
       "      <td>43</td>\n",
       "      <td>43</td>\n",
       "      <td>41</td>\n",
       "      <td>113</td>\n",
       "    </tr>\n",
       "    <tr>\n",
       "      <th rowspan=\"4\" valign=\"top\">小华</th>\n",
       "      <th>一月</th>\n",
       "      <td>81</td>\n",
       "      <td>7</td>\n",
       "      <td>118</td>\n",
       "      <td>125</td>\n",
       "    </tr>\n",
       "    <tr>\n",
       "      <th>三月</th>\n",
       "      <td>101</td>\n",
       "      <td>90</td>\n",
       "      <td>45</td>\n",
       "      <td>12</td>\n",
       "    </tr>\n",
       "    <tr>\n",
       "      <th>二月</th>\n",
       "      <td>29</td>\n",
       "      <td>1</td>\n",
       "      <td>112</td>\n",
       "      <td>4</td>\n",
       "    </tr>\n",
       "    <tr>\n",
       "      <th>四月</th>\n",
       "      <td>146</td>\n",
       "      <td>135</td>\n",
       "      <td>125</td>\n",
       "      <td>18</td>\n",
       "    </tr>\n",
       "    <tr>\n",
       "      <th rowspan=\"4\" valign=\"top\">小明</th>\n",
       "      <th>一月</th>\n",
       "      <td>99</td>\n",
       "      <td>4</td>\n",
       "      <td>52</td>\n",
       "      <td>139</td>\n",
       "    </tr>\n",
       "    <tr>\n",
       "      <th>三月</th>\n",
       "      <td>29</td>\n",
       "      <td>28</td>\n",
       "      <td>144</td>\n",
       "      <td>100</td>\n",
       "    </tr>\n",
       "    <tr>\n",
       "      <th>二月</th>\n",
       "      <td>109</td>\n",
       "      <td>65</td>\n",
       "      <td>6</td>\n",
       "      <td>99</td>\n",
       "    </tr>\n",
       "    <tr>\n",
       "      <th>四月</th>\n",
       "      <td>8</td>\n",
       "      <td>42</td>\n",
       "      <td>73</td>\n",
       "      <td>100</td>\n",
       "    </tr>\n",
       "  </tbody>\n",
       "</table>\n",
       "</div>"
      ],
      "text/plain": [
       "address      广东        上海     \n",
       "考试          期中考  期末考  期中考  期末考\n",
       "name month                    \n",
       "小刚   一月      28   53  102    5\n",
       "     三月      98  147  100   50\n",
       "     二月      94   49   36   11\n",
       "     四月      43   43   41  113\n",
       "小华   一月      81    7  118  125\n",
       "     三月     101   90   45   12\n",
       "     二月      29    1  112    4\n",
       "     四月     146  135  125   18\n",
       "小明   一月      99    4   52  139\n",
       "     三月      29   28  144  100\n",
       "     二月     109   65    6   99\n",
       "     四月       8   42   73  100"
      ]
     },
     "execution_count": 32,
     "metadata": {},
     "output_type": "execute_result"
    }
   ],
   "source": [
    "df3.loc['小刚':'小明','python']"
   ]
  },
  {
   "cell_type": "code",
   "execution_count": 44,
   "metadata": {
    "ExecuteTime": {
     "end_time": "2019-11-04T00:22:41.556880Z",
     "start_time": "2019-11-04T00:22:41.534109Z"
    }
   },
   "outputs": [
    {
     "data": {
      "text/html": [
       "<div>\n",
       "<style scoped>\n",
       "    .dataframe tbody tr th:only-of-type {\n",
       "        vertical-align: middle;\n",
       "    }\n",
       "\n",
       "    .dataframe tbody tr th {\n",
       "        vertical-align: top;\n",
       "    }\n",
       "\n",
       "    .dataframe thead tr th {\n",
       "        text-align: left;\n",
       "    }\n",
       "\n",
       "    .dataframe thead tr:last-of-type th {\n",
       "        text-align: right;\n",
       "    }\n",
       "</style>\n",
       "<table border=\"1\" class=\"dataframe\">\n",
       "  <thead>\n",
       "    <tr>\n",
       "      <th></th>\n",
       "      <th>subject</th>\n",
       "      <th>python</th>\n",
       "    </tr>\n",
       "    <tr>\n",
       "      <th></th>\n",
       "      <th>address</th>\n",
       "      <th>广东</th>\n",
       "    </tr>\n",
       "    <tr>\n",
       "      <th></th>\n",
       "      <th>考试</th>\n",
       "      <th>期中考</th>\n",
       "    </tr>\n",
       "    <tr>\n",
       "      <th>name</th>\n",
       "      <th>month</th>\n",
       "      <th></th>\n",
       "    </tr>\n",
       "  </thead>\n",
       "  <tbody>\n",
       "    <tr>\n",
       "      <th rowspan=\"4\" valign=\"top\">小刚</th>\n",
       "      <th>一月</th>\n",
       "      <td>28</td>\n",
       "    </tr>\n",
       "    <tr>\n",
       "      <th>三月</th>\n",
       "      <td>98</td>\n",
       "    </tr>\n",
       "    <tr>\n",
       "      <th>二月</th>\n",
       "      <td>94</td>\n",
       "    </tr>\n",
       "    <tr>\n",
       "      <th>四月</th>\n",
       "      <td>43</td>\n",
       "    </tr>\n",
       "    <tr>\n",
       "      <th>小华</th>\n",
       "      <th>一月</th>\n",
       "      <td>81</td>\n",
       "    </tr>\n",
       "  </tbody>\n",
       "</table>\n",
       "</div>"
      ],
      "text/plain": [
       "subject    python\n",
       "address        广东\n",
       "考试            期中考\n",
       "name month       \n",
       "小刚   一月        28\n",
       "     三月        98\n",
       "     二月        94\n",
       "     四月        43\n",
       "小华   一月        81"
      ]
     },
     "execution_count": 44,
     "metadata": {},
     "output_type": "execute_result"
    }
   ],
   "source": [
    "df3.iloc[0:5, 0:1]"
   ]
  },
  {
   "cell_type": "code",
   "execution_count": 70,
   "metadata": {
    "ExecuteTime": {
     "end_time": "2019-11-04T00:29:53.698547Z",
     "start_time": "2019-11-04T00:29:53.649679Z"
    }
   },
   "outputs": [
    {
     "data": {
      "text/html": [
       "<div>\n",
       "<style scoped>\n",
       "    .dataframe tbody tr th:only-of-type {\n",
       "        vertical-align: middle;\n",
       "    }\n",
       "\n",
       "    .dataframe tbody tr th {\n",
       "        vertical-align: top;\n",
       "    }\n",
       "\n",
       "    .dataframe thead tr th {\n",
       "        text-align: left;\n",
       "    }\n",
       "\n",
       "    .dataframe thead tr:last-of-type th {\n",
       "        text-align: right;\n",
       "    }\n",
       "</style>\n",
       "<table border=\"1\" class=\"dataframe\">\n",
       "  <thead>\n",
       "    <tr>\n",
       "      <th></th>\n",
       "      <th>subject</th>\n",
       "      <th colspan=\"4\" halign=\"left\">english</th>\n",
       "      <th colspan=\"4\" halign=\"left\">math</th>\n",
       "      <th colspan=\"4\" halign=\"left\">python</th>\n",
       "    </tr>\n",
       "    <tr>\n",
       "      <th></th>\n",
       "      <th>address</th>\n",
       "      <th colspan=\"2\" halign=\"left\">上海</th>\n",
       "      <th colspan=\"2\" halign=\"left\">广东</th>\n",
       "      <th colspan=\"2\" halign=\"left\">上海</th>\n",
       "      <th colspan=\"2\" halign=\"left\">广东</th>\n",
       "      <th colspan=\"2\" halign=\"left\">上海</th>\n",
       "      <th colspan=\"2\" halign=\"left\">广东</th>\n",
       "    </tr>\n",
       "    <tr>\n",
       "      <th></th>\n",
       "      <th>考试</th>\n",
       "      <th>期中考</th>\n",
       "      <th>期末考</th>\n",
       "      <th>期中考</th>\n",
       "      <th>期末考</th>\n",
       "      <th>期中考</th>\n",
       "      <th>期末考</th>\n",
       "      <th>期中考</th>\n",
       "      <th>期末考</th>\n",
       "      <th>期中考</th>\n",
       "      <th>期末考</th>\n",
       "      <th>期中考</th>\n",
       "      <th>期末考</th>\n",
       "    </tr>\n",
       "    <tr>\n",
       "      <th>name</th>\n",
       "      <th>month</th>\n",
       "      <th></th>\n",
       "      <th></th>\n",
       "      <th></th>\n",
       "      <th></th>\n",
       "      <th></th>\n",
       "      <th></th>\n",
       "      <th></th>\n",
       "      <th></th>\n",
       "      <th></th>\n",
       "      <th></th>\n",
       "      <th></th>\n",
       "      <th></th>\n",
       "    </tr>\n",
       "  </thead>\n",
       "  <tbody>\n",
       "    <tr>\n",
       "      <th rowspan=\"4\" valign=\"top\">小刚</th>\n",
       "      <th>一月</th>\n",
       "      <td>64</td>\n",
       "      <td>96</td>\n",
       "      <td>21</td>\n",
       "      <td>73</td>\n",
       "      <td>14</td>\n",
       "      <td>116</td>\n",
       "      <td>0</td>\n",
       "      <td>23</td>\n",
       "      <td>102</td>\n",
       "      <td>5</td>\n",
       "      <td>28</td>\n",
       "      <td>53</td>\n",
       "    </tr>\n",
       "    <tr>\n",
       "      <th>三月</th>\n",
       "      <td>146</td>\n",
       "      <td>78</td>\n",
       "      <td>86</td>\n",
       "      <td>73</td>\n",
       "      <td>55</td>\n",
       "      <td>102</td>\n",
       "      <td>100</td>\n",
       "      <td>141</td>\n",
       "      <td>100</td>\n",
       "      <td>50</td>\n",
       "      <td>98</td>\n",
       "      <td>147</td>\n",
       "    </tr>\n",
       "    <tr>\n",
       "      <th>二月</th>\n",
       "      <td>97</td>\n",
       "      <td>111</td>\n",
       "      <td>65</td>\n",
       "      <td>114</td>\n",
       "      <td>76</td>\n",
       "      <td>147</td>\n",
       "      <td>20</td>\n",
       "      <td>49</td>\n",
       "      <td>36</td>\n",
       "      <td>11</td>\n",
       "      <td>94</td>\n",
       "      <td>49</td>\n",
       "    </tr>\n",
       "    <tr>\n",
       "      <th>四月</th>\n",
       "      <td>138</td>\n",
       "      <td>107</td>\n",
       "      <td>11</td>\n",
       "      <td>23</td>\n",
       "      <td>125</td>\n",
       "      <td>47</td>\n",
       "      <td>133</td>\n",
       "      <td>53</td>\n",
       "      <td>41</td>\n",
       "      <td>113</td>\n",
       "      <td>43</td>\n",
       "      <td>43</td>\n",
       "    </tr>\n",
       "    <tr>\n",
       "      <th>小华</th>\n",
       "      <th>一月</th>\n",
       "      <td>4</td>\n",
       "      <td>94</td>\n",
       "      <td>128</td>\n",
       "      <td>29</td>\n",
       "      <td>78</td>\n",
       "      <td>8</td>\n",
       "      <td>84</td>\n",
       "      <td>145</td>\n",
       "      <td>118</td>\n",
       "      <td>125</td>\n",
       "      <td>81</td>\n",
       "      <td>7</td>\n",
       "    </tr>\n",
       "  </tbody>\n",
       "</table>\n",
       "</div>"
      ],
      "text/plain": [
       "subject    english                math                python              \n",
       "address         上海        广东        上海        广东          上海       广东     \n",
       "考试             期中考  期末考  期中考  期末考  期中考  期末考  期中考  期末考    期中考  期末考 期中考  期末考\n",
       "name month                                                                \n",
       "小刚   一月         64   96   21   73   14  116    0   23    102    5  28   53\n",
       "     三月        146   78   86   73   55  102  100  141    100   50  98  147\n",
       "     二月         97  111   65  114   76  147   20   49     36   11  94   49\n",
       "     四月        138  107   11   23  125   47  133   53     41  113  43   43\n",
       "小华   一月          4   94  128   29   78    8   84  145    118  125  81    7"
      ]
     },
     "execution_count": 70,
     "metadata": {},
     "output_type": "execute_result"
    }
   ],
   "source": [
    "df3.sort_index(axis=0, level=[0,1], inplace=True)\n",
    "df3.sort_index(axis=1, level=[0,1,2], inplace=True)\n",
    "df3.head(5)"
   ]
  },
  {
   "cell_type": "code",
   "execution_count": 75,
   "metadata": {
    "ExecuteTime": {
     "end_time": "2019-11-04T00:31:27.722938Z",
     "start_time": "2019-11-04T00:31:27.689306Z"
    }
   },
   "outputs": [
    {
     "data": {
      "text/html": [
       "<div>\n",
       "<style scoped>\n",
       "    .dataframe tbody tr th:only-of-type {\n",
       "        vertical-align: middle;\n",
       "    }\n",
       "\n",
       "    .dataframe tbody tr th {\n",
       "        vertical-align: top;\n",
       "    }\n",
       "\n",
       "    .dataframe thead tr th {\n",
       "        text-align: left;\n",
       "    }\n",
       "\n",
       "    .dataframe thead tr:last-of-type th {\n",
       "        text-align: right;\n",
       "    }\n",
       "</style>\n",
       "<table border=\"1\" class=\"dataframe\">\n",
       "  <thead>\n",
       "    <tr>\n",
       "      <th></th>\n",
       "      <th>subject</th>\n",
       "      <th>english</th>\n",
       "      <th>math</th>\n",
       "    </tr>\n",
       "    <tr>\n",
       "      <th></th>\n",
       "      <th>address</th>\n",
       "      <th>广东</th>\n",
       "      <th>广东</th>\n",
       "    </tr>\n",
       "    <tr>\n",
       "      <th></th>\n",
       "      <th>考试</th>\n",
       "      <th>期中考</th>\n",
       "      <th>期中考</th>\n",
       "    </tr>\n",
       "    <tr>\n",
       "      <th>name</th>\n",
       "      <th>month</th>\n",
       "      <th></th>\n",
       "      <th></th>\n",
       "    </tr>\n",
       "  </thead>\n",
       "  <tbody>\n",
       "    <tr>\n",
       "      <th rowspan=\"2\" valign=\"top\">小华</th>\n",
       "      <th>一月</th>\n",
       "      <td>128</td>\n",
       "      <td>84</td>\n",
       "    </tr>\n",
       "    <tr>\n",
       "      <th>三月</th>\n",
       "      <td>121</td>\n",
       "      <td>77</td>\n",
       "    </tr>\n",
       "    <tr>\n",
       "      <th rowspan=\"2\" valign=\"top\">小明</th>\n",
       "      <th>一月</th>\n",
       "      <td>5</td>\n",
       "      <td>111</td>\n",
       "    </tr>\n",
       "    <tr>\n",
       "      <th>三月</th>\n",
       "      <td>16</td>\n",
       "      <td>150</td>\n",
       "    </tr>\n",
       "  </tbody>\n",
       "</table>\n",
       "</div>"
      ],
      "text/plain": [
       "subject    english math\n",
       "address         广东   广东\n",
       "考试             期中考  期中考\n",
       "name month             \n",
       "小华   一月        128   84\n",
       "     三月        121   77\n",
       "小明   一月          5  111\n",
       "     三月         16  150"
      ]
     },
     "execution_count": 75,
     "metadata": {},
     "output_type": "execute_result"
    }
   ],
   "source": [
    "idx = pd.IndexSlice\n",
    "df3.loc[idx['小华':'小明', '一月':'三月'],\n",
    "        idx['english':'math','广东','期中考']]"
   ]
  },
  {
   "cell_type": "markdown",
   "metadata": {
    "ExecuteTime": {
     "end_time": "2019-11-04T00:33:00.297462Z",
     "start_time": "2019-11-04T00:33:00.275666Z"
    }
   },
   "source": [
    "### 聚合操作\n",
    "`axis`：指定要操作的轴  \n",
    "`level`：指定要操作的层级，指定哪一个保留哪一个"
   ]
  },
  {
   "cell_type": "code",
   "execution_count": 77,
   "metadata": {
    "ExecuteTime": {
     "end_time": "2019-11-04T00:33:21.678623Z",
     "start_time": "2019-11-04T00:33:21.634525Z"
    }
   },
   "outputs": [
    {
     "data": {
      "text/html": [
       "<div>\n",
       "<style scoped>\n",
       "    .dataframe tbody tr th:only-of-type {\n",
       "        vertical-align: middle;\n",
       "    }\n",
       "\n",
       "    .dataframe tbody tr th {\n",
       "        vertical-align: top;\n",
       "    }\n",
       "\n",
       "    .dataframe thead tr th {\n",
       "        text-align: left;\n",
       "    }\n",
       "\n",
       "    .dataframe thead tr:last-of-type th {\n",
       "        text-align: right;\n",
       "    }\n",
       "</style>\n",
       "<table border=\"1\" class=\"dataframe\">\n",
       "  <thead>\n",
       "    <tr>\n",
       "      <th></th>\n",
       "      <th>subject</th>\n",
       "      <th colspan=\"4\" halign=\"left\">english</th>\n",
       "      <th colspan=\"4\" halign=\"left\">math</th>\n",
       "      <th colspan=\"4\" halign=\"left\">python</th>\n",
       "    </tr>\n",
       "    <tr>\n",
       "      <th></th>\n",
       "      <th>address</th>\n",
       "      <th colspan=\"2\" halign=\"left\">上海</th>\n",
       "      <th colspan=\"2\" halign=\"left\">广东</th>\n",
       "      <th colspan=\"2\" halign=\"left\">上海</th>\n",
       "      <th colspan=\"2\" halign=\"left\">广东</th>\n",
       "      <th colspan=\"2\" halign=\"left\">上海</th>\n",
       "      <th colspan=\"2\" halign=\"left\">广东</th>\n",
       "    </tr>\n",
       "    <tr>\n",
       "      <th></th>\n",
       "      <th>考试</th>\n",
       "      <th>期中考</th>\n",
       "      <th>期末考</th>\n",
       "      <th>期中考</th>\n",
       "      <th>期末考</th>\n",
       "      <th>期中考</th>\n",
       "      <th>期末考</th>\n",
       "      <th>期中考</th>\n",
       "      <th>期末考</th>\n",
       "      <th>期中考</th>\n",
       "      <th>期末考</th>\n",
       "      <th>期中考</th>\n",
       "      <th>期末考</th>\n",
       "    </tr>\n",
       "    <tr>\n",
       "      <th>name</th>\n",
       "      <th>month</th>\n",
       "      <th></th>\n",
       "      <th></th>\n",
       "      <th></th>\n",
       "      <th></th>\n",
       "      <th></th>\n",
       "      <th></th>\n",
       "      <th></th>\n",
       "      <th></th>\n",
       "      <th></th>\n",
       "      <th></th>\n",
       "      <th></th>\n",
       "      <th></th>\n",
       "    </tr>\n",
       "  </thead>\n",
       "  <tbody>\n",
       "    <tr>\n",
       "      <th rowspan=\"4\" valign=\"top\">小刚</th>\n",
       "      <th>一月</th>\n",
       "      <td>64</td>\n",
       "      <td>96</td>\n",
       "      <td>21</td>\n",
       "      <td>73</td>\n",
       "      <td>14</td>\n",
       "      <td>116</td>\n",
       "      <td>0</td>\n",
       "      <td>23</td>\n",
       "      <td>102</td>\n",
       "      <td>5</td>\n",
       "      <td>28</td>\n",
       "      <td>53</td>\n",
       "    </tr>\n",
       "    <tr>\n",
       "      <th>三月</th>\n",
       "      <td>146</td>\n",
       "      <td>78</td>\n",
       "      <td>86</td>\n",
       "      <td>73</td>\n",
       "      <td>55</td>\n",
       "      <td>102</td>\n",
       "      <td>100</td>\n",
       "      <td>141</td>\n",
       "      <td>100</td>\n",
       "      <td>50</td>\n",
       "      <td>98</td>\n",
       "      <td>147</td>\n",
       "    </tr>\n",
       "    <tr>\n",
       "      <th>二月</th>\n",
       "      <td>97</td>\n",
       "      <td>111</td>\n",
       "      <td>65</td>\n",
       "      <td>114</td>\n",
       "      <td>76</td>\n",
       "      <td>147</td>\n",
       "      <td>20</td>\n",
       "      <td>49</td>\n",
       "      <td>36</td>\n",
       "      <td>11</td>\n",
       "      <td>94</td>\n",
       "      <td>49</td>\n",
       "    </tr>\n",
       "    <tr>\n",
       "      <th>四月</th>\n",
       "      <td>138</td>\n",
       "      <td>107</td>\n",
       "      <td>11</td>\n",
       "      <td>23</td>\n",
       "      <td>125</td>\n",
       "      <td>47</td>\n",
       "      <td>133</td>\n",
       "      <td>53</td>\n",
       "      <td>41</td>\n",
       "      <td>113</td>\n",
       "      <td>43</td>\n",
       "      <td>43</td>\n",
       "    </tr>\n",
       "    <tr>\n",
       "      <th rowspan=\"4\" valign=\"top\">小华</th>\n",
       "      <th>一月</th>\n",
       "      <td>4</td>\n",
       "      <td>94</td>\n",
       "      <td>128</td>\n",
       "      <td>29</td>\n",
       "      <td>78</td>\n",
       "      <td>8</td>\n",
       "      <td>84</td>\n",
       "      <td>145</td>\n",
       "      <td>118</td>\n",
       "      <td>125</td>\n",
       "      <td>81</td>\n",
       "      <td>7</td>\n",
       "    </tr>\n",
       "    <tr>\n",
       "      <th>三月</th>\n",
       "      <td>119</td>\n",
       "      <td>117</td>\n",
       "      <td>121</td>\n",
       "      <td>23</td>\n",
       "      <td>69</td>\n",
       "      <td>71</td>\n",
       "      <td>77</td>\n",
       "      <td>46</td>\n",
       "      <td>45</td>\n",
       "      <td>12</td>\n",
       "      <td>101</td>\n",
       "      <td>90</td>\n",
       "    </tr>\n",
       "    <tr>\n",
       "      <th>二月</th>\n",
       "      <td>106</td>\n",
       "      <td>98</td>\n",
       "      <td>61</td>\n",
       "      <td>42</td>\n",
       "      <td>81</td>\n",
       "      <td>32</td>\n",
       "      <td>11</td>\n",
       "      <td>21</td>\n",
       "      <td>112</td>\n",
       "      <td>4</td>\n",
       "      <td>29</td>\n",
       "      <td>1</td>\n",
       "    </tr>\n",
       "    <tr>\n",
       "      <th>四月</th>\n",
       "      <td>30</td>\n",
       "      <td>17</td>\n",
       "      <td>21</td>\n",
       "      <td>74</td>\n",
       "      <td>49</td>\n",
       "      <td>64</td>\n",
       "      <td>31</td>\n",
       "      <td>84</td>\n",
       "      <td>125</td>\n",
       "      <td>18</td>\n",
       "      <td>146</td>\n",
       "      <td>135</td>\n",
       "    </tr>\n",
       "    <tr>\n",
       "      <th rowspan=\"4\" valign=\"top\">小明</th>\n",
       "      <th>一月</th>\n",
       "      <td>79</td>\n",
       "      <td>114</td>\n",
       "      <td>5</td>\n",
       "      <td>18</td>\n",
       "      <td>28</td>\n",
       "      <td>60</td>\n",
       "      <td>111</td>\n",
       "      <td>10</td>\n",
       "      <td>52</td>\n",
       "      <td>139</td>\n",
       "      <td>99</td>\n",
       "      <td>4</td>\n",
       "    </tr>\n",
       "    <tr>\n",
       "      <th>三月</th>\n",
       "      <td>7</td>\n",
       "      <td>89</td>\n",
       "      <td>16</td>\n",
       "      <td>0</td>\n",
       "      <td>113</td>\n",
       "      <td>1</td>\n",
       "      <td>150</td>\n",
       "      <td>94</td>\n",
       "      <td>144</td>\n",
       "      <td>100</td>\n",
       "      <td>29</td>\n",
       "      <td>28</td>\n",
       "    </tr>\n",
       "    <tr>\n",
       "      <th>二月</th>\n",
       "      <td>47</td>\n",
       "      <td>56</td>\n",
       "      <td>26</td>\n",
       "      <td>72</td>\n",
       "      <td>39</td>\n",
       "      <td>43</td>\n",
       "      <td>132</td>\n",
       "      <td>0</td>\n",
       "      <td>6</td>\n",
       "      <td>99</td>\n",
       "      <td>109</td>\n",
       "      <td>65</td>\n",
       "    </tr>\n",
       "    <tr>\n",
       "      <th>四月</th>\n",
       "      <td>1</td>\n",
       "      <td>15</td>\n",
       "      <td>56</td>\n",
       "      <td>108</td>\n",
       "      <td>68</td>\n",
       "      <td>85</td>\n",
       "      <td>12</td>\n",
       "      <td>75</td>\n",
       "      <td>73</td>\n",
       "      <td>100</td>\n",
       "      <td>8</td>\n",
       "      <td>42</td>\n",
       "    </tr>\n",
       "    <tr>\n",
       "      <th rowspan=\"4\" valign=\"top\">里斯</th>\n",
       "      <th>一月</th>\n",
       "      <td>97</td>\n",
       "      <td>59</td>\n",
       "      <td>18</td>\n",
       "      <td>97</td>\n",
       "      <td>113</td>\n",
       "      <td>89</td>\n",
       "      <td>108</td>\n",
       "      <td>0</td>\n",
       "      <td>63</td>\n",
       "      <td>39</td>\n",
       "      <td>90</td>\n",
       "      <td>8</td>\n",
       "    </tr>\n",
       "    <tr>\n",
       "      <th>三月</th>\n",
       "      <td>32</td>\n",
       "      <td>150</td>\n",
       "      <td>131</td>\n",
       "      <td>136</td>\n",
       "      <td>121</td>\n",
       "      <td>149</td>\n",
       "      <td>137</td>\n",
       "      <td>138</td>\n",
       "      <td>133</td>\n",
       "      <td>104</td>\n",
       "      <td>87</td>\n",
       "      <td>77</td>\n",
       "    </tr>\n",
       "    <tr>\n",
       "      <th>二月</th>\n",
       "      <td>73</td>\n",
       "      <td>112</td>\n",
       "      <td>146</td>\n",
       "      <td>130</td>\n",
       "      <td>2</td>\n",
       "      <td>40</td>\n",
       "      <td>74</td>\n",
       "      <td>72</td>\n",
       "      <td>9</td>\n",
       "      <td>82</td>\n",
       "      <td>36</td>\n",
       "      <td>85</td>\n",
       "    </tr>\n",
       "    <tr>\n",
       "      <th>四月</th>\n",
       "      <td>91</td>\n",
       "      <td>102</td>\n",
       "      <td>74</td>\n",
       "      <td>82</td>\n",
       "      <td>61</td>\n",
       "      <td>79</td>\n",
       "      <td>105</td>\n",
       "      <td>92</td>\n",
       "      <td>29</td>\n",
       "      <td>49</td>\n",
       "      <td>89</td>\n",
       "      <td>127</td>\n",
       "    </tr>\n",
       "  </tbody>\n",
       "</table>\n",
       "</div>"
      ],
      "text/plain": [
       "subject    english                math                python               \n",
       "address         上海        广东        上海        广东          上海        广东     \n",
       "考试             期中考  期末考  期中考  期末考  期中考  期末考  期中考  期末考    期中考  期末考  期中考  期末考\n",
       "name month                                                                 \n",
       "小刚   一月         64   96   21   73   14  116    0   23    102    5   28   53\n",
       "     三月        146   78   86   73   55  102  100  141    100   50   98  147\n",
       "     二月         97  111   65  114   76  147   20   49     36   11   94   49\n",
       "     四月        138  107   11   23  125   47  133   53     41  113   43   43\n",
       "小华   一月          4   94  128   29   78    8   84  145    118  125   81    7\n",
       "     三月        119  117  121   23   69   71   77   46     45   12  101   90\n",
       "     二月        106   98   61   42   81   32   11   21    112    4   29    1\n",
       "     四月         30   17   21   74   49   64   31   84    125   18  146  135\n",
       "小明   一月         79  114    5   18   28   60  111   10     52  139   99    4\n",
       "     三月          7   89   16    0  113    1  150   94    144  100   29   28\n",
       "     二月         47   56   26   72   39   43  132    0      6   99  109   65\n",
       "     四月          1   15   56  108   68   85   12   75     73  100    8   42\n",
       "里斯   一月         97   59   18   97  113   89  108    0     63   39   90    8\n",
       "     三月         32  150  131  136  121  149  137  138    133  104   87   77\n",
       "     二月         73  112  146  130    2   40   74   72      9   82   36   85\n",
       "     四月         91  102   74   82   61   79  105   92     29   49   89  127"
      ]
     },
     "execution_count": 77,
     "metadata": {},
     "output_type": "execute_result"
    }
   ],
   "source": [
    "df3"
   ]
  },
  {
   "cell_type": "code",
   "execution_count": 81,
   "metadata": {
    "ExecuteTime": {
     "end_time": "2019-11-04T00:34:21.077085Z",
     "start_time": "2019-11-04T00:34:21.063126Z"
    }
   },
   "outputs": [
    {
     "data": {
      "text/plain": [
       "subject  address  考试 \n",
       "english  上海       期中考    70.6875\n",
       "                  期末考    88.4375\n",
       "         广东       期中考    61.6250\n",
       "                  期末考    68.3750\n",
       "math     上海       期中考    68.2500\n",
       "                  期末考    70.8125\n",
       "         广东       期中考    80.3125\n",
       "                  期末考    65.1875\n",
       "python   上海       期中考    74.2500\n",
       "                  期末考    65.6250\n",
       "         广东       期中考    72.9375\n",
       "                  期末考    60.0625\n",
       "dtype: float64"
      ]
     },
     "execution_count": 81,
     "metadata": {},
     "output_type": "execute_result"
    }
   ],
   "source": [
    "df3.mean(axis=0)"
   ]
  },
  {
   "cell_type": "code",
   "execution_count": 85,
   "metadata": {
    "ExecuteTime": {
     "end_time": "2019-11-04T00:35:54.793667Z",
     "start_time": "2019-11-04T00:35:54.741242Z"
    }
   },
   "outputs": [
    {
     "data": {
      "text/html": [
       "<div>\n",
       "<style scoped>\n",
       "    .dataframe tbody tr th:only-of-type {\n",
       "        vertical-align: middle;\n",
       "    }\n",
       "\n",
       "    .dataframe tbody tr th {\n",
       "        vertical-align: top;\n",
       "    }\n",
       "\n",
       "    .dataframe thead tr th {\n",
       "        text-align: left;\n",
       "    }\n",
       "\n",
       "    .dataframe thead tr:last-of-type th {\n",
       "        text-align: right;\n",
       "    }\n",
       "</style>\n",
       "<table border=\"1\" class=\"dataframe\">\n",
       "  <thead>\n",
       "    <tr>\n",
       "      <th>subject</th>\n",
       "      <th colspan=\"4\" halign=\"left\">english</th>\n",
       "      <th colspan=\"4\" halign=\"left\">math</th>\n",
       "      <th colspan=\"4\" halign=\"left\">python</th>\n",
       "    </tr>\n",
       "    <tr>\n",
       "      <th>address</th>\n",
       "      <th colspan=\"2\" halign=\"left\">上海</th>\n",
       "      <th colspan=\"2\" halign=\"left\">广东</th>\n",
       "      <th colspan=\"2\" halign=\"left\">上海</th>\n",
       "      <th colspan=\"2\" halign=\"left\">广东</th>\n",
       "      <th colspan=\"2\" halign=\"left\">上海</th>\n",
       "      <th colspan=\"2\" halign=\"left\">广东</th>\n",
       "    </tr>\n",
       "    <tr>\n",
       "      <th>考试</th>\n",
       "      <th>期中考</th>\n",
       "      <th>期末考</th>\n",
       "      <th>期中考</th>\n",
       "      <th>期末考</th>\n",
       "      <th>期中考</th>\n",
       "      <th>期末考</th>\n",
       "      <th>期中考</th>\n",
       "      <th>期末考</th>\n",
       "      <th>期中考</th>\n",
       "      <th>期末考</th>\n",
       "      <th>期中考</th>\n",
       "      <th>期末考</th>\n",
       "    </tr>\n",
       "    <tr>\n",
       "      <th>name</th>\n",
       "      <th></th>\n",
       "      <th></th>\n",
       "      <th></th>\n",
       "      <th></th>\n",
       "      <th></th>\n",
       "      <th></th>\n",
       "      <th></th>\n",
       "      <th></th>\n",
       "      <th></th>\n",
       "      <th></th>\n",
       "      <th></th>\n",
       "      <th></th>\n",
       "    </tr>\n",
       "  </thead>\n",
       "  <tbody>\n",
       "    <tr>\n",
       "      <th>小刚</th>\n",
       "      <td>111.25</td>\n",
       "      <td>98.00</td>\n",
       "      <td>45.75</td>\n",
       "      <td>70.75</td>\n",
       "      <td>67.50</td>\n",
       "      <td>103.00</td>\n",
       "      <td>63.25</td>\n",
       "      <td>66.50</td>\n",
       "      <td>69.75</td>\n",
       "      <td>44.75</td>\n",
       "      <td>65.75</td>\n",
       "      <td>73.00</td>\n",
       "    </tr>\n",
       "    <tr>\n",
       "      <th>小华</th>\n",
       "      <td>64.75</td>\n",
       "      <td>81.50</td>\n",
       "      <td>82.75</td>\n",
       "      <td>42.00</td>\n",
       "      <td>69.25</td>\n",
       "      <td>43.75</td>\n",
       "      <td>50.75</td>\n",
       "      <td>74.00</td>\n",
       "      <td>100.00</td>\n",
       "      <td>39.75</td>\n",
       "      <td>89.25</td>\n",
       "      <td>58.25</td>\n",
       "    </tr>\n",
       "    <tr>\n",
       "      <th>小明</th>\n",
       "      <td>33.50</td>\n",
       "      <td>68.50</td>\n",
       "      <td>25.75</td>\n",
       "      <td>49.50</td>\n",
       "      <td>62.00</td>\n",
       "      <td>47.25</td>\n",
       "      <td>101.25</td>\n",
       "      <td>44.75</td>\n",
       "      <td>68.75</td>\n",
       "      <td>109.50</td>\n",
       "      <td>61.25</td>\n",
       "      <td>34.75</td>\n",
       "    </tr>\n",
       "    <tr>\n",
       "      <th>里斯</th>\n",
       "      <td>73.25</td>\n",
       "      <td>105.75</td>\n",
       "      <td>92.25</td>\n",
       "      <td>111.25</td>\n",
       "      <td>74.25</td>\n",
       "      <td>89.25</td>\n",
       "      <td>106.00</td>\n",
       "      <td>75.50</td>\n",
       "      <td>58.50</td>\n",
       "      <td>68.50</td>\n",
       "      <td>75.50</td>\n",
       "      <td>74.25</td>\n",
       "    </tr>\n",
       "  </tbody>\n",
       "</table>\n",
       "</div>"
      ],
      "text/plain": [
       "subject english                          math                         python  \\\n",
       "address      上海             广东             上海              广东             上海   \n",
       "考试          期中考     期末考    期中考     期末考    期中考     期末考     期中考    期末考     期中考   \n",
       "name                                                                           \n",
       "小刚       111.25   98.00  45.75   70.75  67.50  103.00   63.25  66.50   69.75   \n",
       "小华        64.75   81.50  82.75   42.00  69.25   43.75   50.75  74.00  100.00   \n",
       "小明        33.50   68.50  25.75   49.50  62.00   47.25  101.25  44.75   68.75   \n",
       "里斯        73.25  105.75  92.25  111.25  74.25   89.25  106.00  75.50   58.50   \n",
       "\n",
       "subject                        \n",
       "address             广东         \n",
       "考试          期末考    期中考    期末考  \n",
       "name                           \n",
       "小刚        44.75  65.75  73.00  \n",
       "小华        39.75  89.25  58.25  \n",
       "小明       109.50  61.25  34.75  \n",
       "里斯        68.50  75.50  74.25  "
      ]
     },
     "execution_count": 85,
     "metadata": {},
     "output_type": "execute_result"
    }
   ],
   "source": [
    "df3.mean(axis=0, level=0)"
   ]
  },
  {
   "cell_type": "code",
   "execution_count": 89,
   "metadata": {
    "ExecuteTime": {
     "end_time": "2019-11-04T00:36:34.350030Z",
     "start_time": "2019-11-04T00:36:34.322104Z"
    }
   },
   "outputs": [
    {
     "data": {
      "text/html": [
       "<div>\n",
       "<style scoped>\n",
       "    .dataframe tbody tr th:only-of-type {\n",
       "        vertical-align: middle;\n",
       "    }\n",
       "\n",
       "    .dataframe tbody tr th {\n",
       "        vertical-align: top;\n",
       "    }\n",
       "\n",
       "    .dataframe thead th {\n",
       "        text-align: right;\n",
       "    }\n",
       "</style>\n",
       "<table border=\"1\" class=\"dataframe\">\n",
       "  <thead>\n",
       "    <tr style=\"text-align: right;\">\n",
       "      <th></th>\n",
       "      <th>address</th>\n",
       "      <th>上海</th>\n",
       "      <th>广东</th>\n",
       "    </tr>\n",
       "    <tr>\n",
       "      <th>name</th>\n",
       "      <th>month</th>\n",
       "      <th></th>\n",
       "      <th></th>\n",
       "    </tr>\n",
       "  </thead>\n",
       "  <tbody>\n",
       "    <tr>\n",
       "      <th rowspan=\"4\" valign=\"top\">小刚</th>\n",
       "      <th>一月</th>\n",
       "      <td>66.166667</td>\n",
       "      <td>33.000000</td>\n",
       "    </tr>\n",
       "    <tr>\n",
       "      <th>三月</th>\n",
       "      <td>88.500000</td>\n",
       "      <td>107.500000</td>\n",
       "    </tr>\n",
       "    <tr>\n",
       "      <th>二月</th>\n",
       "      <td>79.666667</td>\n",
       "      <td>65.166667</td>\n",
       "    </tr>\n",
       "    <tr>\n",
       "      <th>四月</th>\n",
       "      <td>95.166667</td>\n",
       "      <td>51.000000</td>\n",
       "    </tr>\n",
       "    <tr>\n",
       "      <th rowspan=\"4\" valign=\"top\">小华</th>\n",
       "      <th>一月</th>\n",
       "      <td>71.166667</td>\n",
       "      <td>79.000000</td>\n",
       "    </tr>\n",
       "    <tr>\n",
       "      <th>三月</th>\n",
       "      <td>72.166667</td>\n",
       "      <td>76.333333</td>\n",
       "    </tr>\n",
       "    <tr>\n",
       "      <th>二月</th>\n",
       "      <td>72.166667</td>\n",
       "      <td>27.500000</td>\n",
       "    </tr>\n",
       "    <tr>\n",
       "      <th>四月</th>\n",
       "      <td>50.500000</td>\n",
       "      <td>81.833333</td>\n",
       "    </tr>\n",
       "    <tr>\n",
       "      <th rowspan=\"4\" valign=\"top\">小明</th>\n",
       "      <th>一月</th>\n",
       "      <td>78.666667</td>\n",
       "      <td>41.166667</td>\n",
       "    </tr>\n",
       "    <tr>\n",
       "      <th>三月</th>\n",
       "      <td>75.666667</td>\n",
       "      <td>52.833333</td>\n",
       "    </tr>\n",
       "    <tr>\n",
       "      <th>二月</th>\n",
       "      <td>48.333333</td>\n",
       "      <td>67.333333</td>\n",
       "    </tr>\n",
       "    <tr>\n",
       "      <th>四月</th>\n",
       "      <td>57.000000</td>\n",
       "      <td>50.166667</td>\n",
       "    </tr>\n",
       "    <tr>\n",
       "      <th rowspan=\"4\" valign=\"top\">里斯</th>\n",
       "      <th>一月</th>\n",
       "      <td>76.666667</td>\n",
       "      <td>53.500000</td>\n",
       "    </tr>\n",
       "    <tr>\n",
       "      <th>三月</th>\n",
       "      <td>114.833333</td>\n",
       "      <td>117.666667</td>\n",
       "    </tr>\n",
       "    <tr>\n",
       "      <th>二月</th>\n",
       "      <td>53.000000</td>\n",
       "      <td>90.500000</td>\n",
       "    </tr>\n",
       "    <tr>\n",
       "      <th>四月</th>\n",
       "      <td>68.500000</td>\n",
       "      <td>94.833333</td>\n",
       "    </tr>\n",
       "  </tbody>\n",
       "</table>\n",
       "</div>"
      ],
      "text/plain": [
       "address             上海          广东\n",
       "name month                        \n",
       "小刚   一月      66.166667   33.000000\n",
       "     三月      88.500000  107.500000\n",
       "     二月      79.666667   65.166667\n",
       "     四月      95.166667   51.000000\n",
       "小华   一月      71.166667   79.000000\n",
       "     三月      72.166667   76.333333\n",
       "     二月      72.166667   27.500000\n",
       "     四月      50.500000   81.833333\n",
       "小明   一月      78.666667   41.166667\n",
       "     三月      75.666667   52.833333\n",
       "     二月      48.333333   67.333333\n",
       "     四月      57.000000   50.166667\n",
       "里斯   一月      76.666667   53.500000\n",
       "     三月     114.833333  117.666667\n",
       "     二月      53.000000   90.500000\n",
       "     四月      68.500000   94.833333"
      ]
     },
     "execution_count": 89,
     "metadata": {},
     "output_type": "execute_result"
    }
   ],
   "source": [
    "df3.mean(axis=1,level=1)"
   ]
  },
  {
   "cell_type": "markdown",
   "metadata": {},
   "source": [
    "### 堆\n",
    "+ `stack()`: 列变行\n",
    "+ `unstack()`: 行变列"
   ]
  },
  {
   "cell_type": "code",
   "execution_count": 107,
   "metadata": {
    "ExecuteTime": {
     "end_time": "2019-11-04T00:41:38.953540Z",
     "start_time": "2019-11-04T00:41:38.921626Z"
    }
   },
   "outputs": [
    {
     "data": {
      "text/html": [
       "<div>\n",
       "<style scoped>\n",
       "    .dataframe tbody tr th:only-of-type {\n",
       "        vertical-align: middle;\n",
       "    }\n",
       "\n",
       "    .dataframe tbody tr th {\n",
       "        vertical-align: top;\n",
       "    }\n",
       "\n",
       "    .dataframe thead tr th {\n",
       "        text-align: left;\n",
       "    }\n",
       "\n",
       "    .dataframe thead tr:last-of-type th {\n",
       "        text-align: right;\n",
       "    }\n",
       "</style>\n",
       "<table border=\"1\" class=\"dataframe\">\n",
       "  <thead>\n",
       "    <tr>\n",
       "      <th></th>\n",
       "      <th>subject</th>\n",
       "      <th colspan=\"2\" halign=\"left\">python</th>\n",
       "      <th colspan=\"2\" halign=\"left\">math</th>\n",
       "      <th colspan=\"2\" halign=\"left\">english</th>\n",
       "    </tr>\n",
       "    <tr>\n",
       "      <th></th>\n",
       "      <th>考试</th>\n",
       "      <th>期中考</th>\n",
       "      <th>期末考</th>\n",
       "      <th>期中考</th>\n",
       "      <th>期末考</th>\n",
       "      <th>期中考</th>\n",
       "      <th>期末考</th>\n",
       "    </tr>\n",
       "    <tr>\n",
       "      <th>name</th>\n",
       "      <th>month</th>\n",
       "      <th></th>\n",
       "      <th></th>\n",
       "      <th></th>\n",
       "      <th></th>\n",
       "      <th></th>\n",
       "      <th></th>\n",
       "    </tr>\n",
       "  </thead>\n",
       "  <tbody>\n",
       "    <tr>\n",
       "      <th rowspan=\"4\" valign=\"top\">小明</th>\n",
       "      <th>一月</th>\n",
       "      <td>66</td>\n",
       "      <td>84</td>\n",
       "      <td>39</td>\n",
       "      <td>15</td>\n",
       "      <td>62</td>\n",
       "      <td>131</td>\n",
       "    </tr>\n",
       "    <tr>\n",
       "      <th>二月</th>\n",
       "      <td>19</td>\n",
       "      <td>148</td>\n",
       "      <td>36</td>\n",
       "      <td>127</td>\n",
       "      <td>85</td>\n",
       "      <td>93</td>\n",
       "    </tr>\n",
       "    <tr>\n",
       "      <th>三月</th>\n",
       "      <td>126</td>\n",
       "      <td>45</td>\n",
       "      <td>95</td>\n",
       "      <td>119</td>\n",
       "      <td>11</td>\n",
       "      <td>40</td>\n",
       "    </tr>\n",
       "    <tr>\n",
       "      <th>四月</th>\n",
       "      <td>121</td>\n",
       "      <td>74</td>\n",
       "      <td>120</td>\n",
       "      <td>38</td>\n",
       "      <td>86</td>\n",
       "      <td>114</td>\n",
       "    </tr>\n",
       "    <tr>\n",
       "      <th rowspan=\"4\" valign=\"top\">小华</th>\n",
       "      <th>一月</th>\n",
       "      <td>40</td>\n",
       "      <td>9</td>\n",
       "      <td>51</td>\n",
       "      <td>66</td>\n",
       "      <td>88</td>\n",
       "      <td>52</td>\n",
       "    </tr>\n",
       "    <tr>\n",
       "      <th>二月</th>\n",
       "      <td>82</td>\n",
       "      <td>54</td>\n",
       "      <td>136</td>\n",
       "      <td>125</td>\n",
       "      <td>18</td>\n",
       "      <td>119</td>\n",
       "    </tr>\n",
       "    <tr>\n",
       "      <th>三月</th>\n",
       "      <td>131</td>\n",
       "      <td>51</td>\n",
       "      <td>45</td>\n",
       "      <td>61</td>\n",
       "      <td>22</td>\n",
       "      <td>106</td>\n",
       "    </tr>\n",
       "    <tr>\n",
       "      <th>四月</th>\n",
       "      <td>58</td>\n",
       "      <td>7</td>\n",
       "      <td>130</td>\n",
       "      <td>132</td>\n",
       "      <td>128</td>\n",
       "      <td>5</td>\n",
       "    </tr>\n",
       "    <tr>\n",
       "      <th rowspan=\"4\" valign=\"top\">小刚</th>\n",
       "      <th>一月</th>\n",
       "      <td>69</td>\n",
       "      <td>9</td>\n",
       "      <td>35</td>\n",
       "      <td>112</td>\n",
       "      <td>71</td>\n",
       "      <td>61</td>\n",
       "    </tr>\n",
       "    <tr>\n",
       "      <th>二月</th>\n",
       "      <td>93</td>\n",
       "      <td>20</td>\n",
       "      <td>149</td>\n",
       "      <td>34</td>\n",
       "      <td>68</td>\n",
       "      <td>63</td>\n",
       "    </tr>\n",
       "    <tr>\n",
       "      <th>三月</th>\n",
       "      <td>34</td>\n",
       "      <td>17</td>\n",
       "      <td>64</td>\n",
       "      <td>33</td>\n",
       "      <td>42</td>\n",
       "      <td>16</td>\n",
       "    </tr>\n",
       "    <tr>\n",
       "      <th>四月</th>\n",
       "      <td>131</td>\n",
       "      <td>54</td>\n",
       "      <td>82</td>\n",
       "      <td>33</td>\n",
       "      <td>65</td>\n",
       "      <td>84</td>\n",
       "    </tr>\n",
       "    <tr>\n",
       "      <th rowspan=\"4\" valign=\"top\">里斯</th>\n",
       "      <th>一月</th>\n",
       "      <td>144</td>\n",
       "      <td>25</td>\n",
       "      <td>35</td>\n",
       "      <td>36</td>\n",
       "      <td>50</td>\n",
       "      <td>85</td>\n",
       "    </tr>\n",
       "    <tr>\n",
       "      <th>二月</th>\n",
       "      <td>23</td>\n",
       "      <td>124</td>\n",
       "      <td>105</td>\n",
       "      <td>142</td>\n",
       "      <td>88</td>\n",
       "      <td>121</td>\n",
       "    </tr>\n",
       "    <tr>\n",
       "      <th>三月</th>\n",
       "      <td>14</td>\n",
       "      <td>89</td>\n",
       "      <td>78</td>\n",
       "      <td>15</td>\n",
       "      <td>39</td>\n",
       "      <td>123</td>\n",
       "    </tr>\n",
       "    <tr>\n",
       "      <th>四月</th>\n",
       "      <td>37</td>\n",
       "      <td>80</td>\n",
       "      <td>90</td>\n",
       "      <td>47</td>\n",
       "      <td>105</td>\n",
       "      <td>12</td>\n",
       "    </tr>\n",
       "  </tbody>\n",
       "</table>\n",
       "</div>"
      ],
      "text/plain": [
       "subject    python      math      english     \n",
       "考试            期中考  期末考  期中考  期末考     期中考  期末考\n",
       "name month                                   \n",
       "小明   一月        66   84   39   15      62  131\n",
       "     二月        19  148   36  127      85   93\n",
       "     三月       126   45   95  119      11   40\n",
       "     四月       121   74  120   38      86  114\n",
       "小华   一月        40    9   51   66      88   52\n",
       "     二月        82   54  136  125      18  119\n",
       "     三月       131   51   45   61      22  106\n",
       "     四月        58    7  130  132     128    5\n",
       "小刚   一月        69    9   35  112      71   61\n",
       "     二月        93   20  149   34      68   63\n",
       "     三月        34   17   64   33      42   16\n",
       "     四月       131   54   82   33      65   84\n",
       "里斯   一月       144   25   35   36      50   85\n",
       "     二月        23  124  105  142      88  121\n",
       "     三月        14   89   78   15      39  123\n",
       "     四月        37   80   90   47     105   12"
      ]
     },
     "execution_count": 107,
     "metadata": {},
     "output_type": "execute_result"
    }
   ],
   "source": [
    "df"
   ]
  },
  {
   "cell_type": "code",
   "execution_count": 108,
   "metadata": {
    "ExecuteTime": {
     "end_time": "2019-11-04T00:41:44.183116Z",
     "start_time": "2019-11-04T00:41:44.157785Z"
    }
   },
   "outputs": [
    {
     "data": {
      "text/html": [
       "<div>\n",
       "<style scoped>\n",
       "    .dataframe tbody tr th:only-of-type {\n",
       "        vertical-align: middle;\n",
       "    }\n",
       "\n",
       "    .dataframe tbody tr th {\n",
       "        vertical-align: top;\n",
       "    }\n",
       "\n",
       "    .dataframe thead tr th {\n",
       "        text-align: left;\n",
       "    }\n",
       "\n",
       "    .dataframe thead tr:last-of-type th {\n",
       "        text-align: right;\n",
       "    }\n",
       "</style>\n",
       "<table border=\"1\" class=\"dataframe\">\n",
       "  <thead>\n",
       "    <tr>\n",
       "      <th></th>\n",
       "      <th>subject</th>\n",
       "      <th colspan=\"2\" halign=\"left\">python</th>\n",
       "      <th colspan=\"2\" halign=\"left\">math</th>\n",
       "      <th colspan=\"2\" halign=\"left\">english</th>\n",
       "    </tr>\n",
       "    <tr>\n",
       "      <th></th>\n",
       "      <th>考试</th>\n",
       "      <th>期中考</th>\n",
       "      <th>期末考</th>\n",
       "      <th>期中考</th>\n",
       "      <th>期末考</th>\n",
       "      <th>期中考</th>\n",
       "      <th>期末考</th>\n",
       "    </tr>\n",
       "    <tr>\n",
       "      <th>name</th>\n",
       "      <th>month</th>\n",
       "      <th></th>\n",
       "      <th></th>\n",
       "      <th></th>\n",
       "      <th></th>\n",
       "      <th></th>\n",
       "      <th></th>\n",
       "    </tr>\n",
       "  </thead>\n",
       "  <tbody>\n",
       "    <tr>\n",
       "      <th rowspan=\"4\" valign=\"top\">小明</th>\n",
       "      <th>一月</th>\n",
       "      <td>66</td>\n",
       "      <td>84</td>\n",
       "      <td>39</td>\n",
       "      <td>15</td>\n",
       "      <td>62</td>\n",
       "      <td>131</td>\n",
       "    </tr>\n",
       "    <tr>\n",
       "      <th>二月</th>\n",
       "      <td>19</td>\n",
       "      <td>148</td>\n",
       "      <td>36</td>\n",
       "      <td>127</td>\n",
       "      <td>85</td>\n",
       "      <td>93</td>\n",
       "    </tr>\n",
       "    <tr>\n",
       "      <th>三月</th>\n",
       "      <td>126</td>\n",
       "      <td>45</td>\n",
       "      <td>95</td>\n",
       "      <td>119</td>\n",
       "      <td>11</td>\n",
       "      <td>40</td>\n",
       "    </tr>\n",
       "    <tr>\n",
       "      <th>四月</th>\n",
       "      <td>121</td>\n",
       "      <td>74</td>\n",
       "      <td>120</td>\n",
       "      <td>38</td>\n",
       "      <td>86</td>\n",
       "      <td>114</td>\n",
       "    </tr>\n",
       "    <tr>\n",
       "      <th rowspan=\"4\" valign=\"top\">小华</th>\n",
       "      <th>一月</th>\n",
       "      <td>40</td>\n",
       "      <td>9</td>\n",
       "      <td>51</td>\n",
       "      <td>66</td>\n",
       "      <td>88</td>\n",
       "      <td>52</td>\n",
       "    </tr>\n",
       "    <tr>\n",
       "      <th>二月</th>\n",
       "      <td>82</td>\n",
       "      <td>54</td>\n",
       "      <td>136</td>\n",
       "      <td>125</td>\n",
       "      <td>18</td>\n",
       "      <td>119</td>\n",
       "    </tr>\n",
       "    <tr>\n",
       "      <th>三月</th>\n",
       "      <td>131</td>\n",
       "      <td>51</td>\n",
       "      <td>45</td>\n",
       "      <td>61</td>\n",
       "      <td>22</td>\n",
       "      <td>106</td>\n",
       "    </tr>\n",
       "    <tr>\n",
       "      <th>四月</th>\n",
       "      <td>58</td>\n",
       "      <td>7</td>\n",
       "      <td>130</td>\n",
       "      <td>132</td>\n",
       "      <td>128</td>\n",
       "      <td>5</td>\n",
       "    </tr>\n",
       "  </tbody>\n",
       "</table>\n",
       "</div>"
      ],
      "text/plain": [
       "subject    python      math      english     \n",
       "考试            期中考  期末考  期中考  期末考     期中考  期末考\n",
       "name month                                   \n",
       "小明   一月        66   84   39   15      62  131\n",
       "     二月        19  148   36  127      85   93\n",
       "     三月       126   45   95  119      11   40\n",
       "     四月       121   74  120   38      86  114\n",
       "小华   一月        40    9   51   66      88   52\n",
       "     二月        82   54  136  125      18  119\n",
       "     三月       131   51   45   61      22  106\n",
       "     四月        58    7  130  132     128    5"
      ]
     },
     "execution_count": 108,
     "metadata": {},
     "output_type": "execute_result"
    }
   ],
   "source": [
    "df4 = df.iloc[0:8]\n",
    "df4"
   ]
  },
  {
   "cell_type": "code",
   "execution_count": 109,
   "metadata": {
    "ExecuteTime": {
     "end_time": "2019-11-04T00:41:49.389917Z",
     "start_time": "2019-11-04T00:41:49.319428Z"
    }
   },
   "outputs": [
    {
     "data": {
      "text/html": [
       "<div>\n",
       "<style scoped>\n",
       "    .dataframe tbody tr th:only-of-type {\n",
       "        vertical-align: middle;\n",
       "    }\n",
       "\n",
       "    .dataframe tbody tr th {\n",
       "        vertical-align: top;\n",
       "    }\n",
       "\n",
       "    .dataframe thead tr th {\n",
       "        text-align: left;\n",
       "    }\n",
       "\n",
       "    .dataframe thead tr:last-of-type th {\n",
       "        text-align: right;\n",
       "    }\n",
       "</style>\n",
       "<table border=\"1\" class=\"dataframe\">\n",
       "  <thead>\n",
       "    <tr>\n",
       "      <th>subject</th>\n",
       "      <th colspan=\"8\" halign=\"left\">python</th>\n",
       "      <th colspan=\"5\" halign=\"left\">math</th>\n",
       "      <th colspan=\"8\" halign=\"left\">english</th>\n",
       "    </tr>\n",
       "    <tr>\n",
       "      <th>考试</th>\n",
       "      <th colspan=\"4\" halign=\"left\">期中考</th>\n",
       "      <th colspan=\"4\" halign=\"left\">期末考</th>\n",
       "      <th colspan=\"2\" halign=\"left\">期中考</th>\n",
       "      <th>...</th>\n",
       "      <th colspan=\"2\" halign=\"left\">期末考</th>\n",
       "      <th colspan=\"4\" halign=\"left\">期中考</th>\n",
       "      <th colspan=\"4\" halign=\"left\">期末考</th>\n",
       "    </tr>\n",
       "    <tr>\n",
       "      <th>month</th>\n",
       "      <th>一月</th>\n",
       "      <th>三月</th>\n",
       "      <th>二月</th>\n",
       "      <th>四月</th>\n",
       "      <th>一月</th>\n",
       "      <th>三月</th>\n",
       "      <th>二月</th>\n",
       "      <th>四月</th>\n",
       "      <th>一月</th>\n",
       "      <th>三月</th>\n",
       "      <th>...</th>\n",
       "      <th>二月</th>\n",
       "      <th>四月</th>\n",
       "      <th>一月</th>\n",
       "      <th>三月</th>\n",
       "      <th>二月</th>\n",
       "      <th>四月</th>\n",
       "      <th>一月</th>\n",
       "      <th>三月</th>\n",
       "      <th>二月</th>\n",
       "      <th>四月</th>\n",
       "    </tr>\n",
       "    <tr>\n",
       "      <th>name</th>\n",
       "      <th></th>\n",
       "      <th></th>\n",
       "      <th></th>\n",
       "      <th></th>\n",
       "      <th></th>\n",
       "      <th></th>\n",
       "      <th></th>\n",
       "      <th></th>\n",
       "      <th></th>\n",
       "      <th></th>\n",
       "      <th></th>\n",
       "      <th></th>\n",
       "      <th></th>\n",
       "      <th></th>\n",
       "      <th></th>\n",
       "      <th></th>\n",
       "      <th></th>\n",
       "      <th></th>\n",
       "      <th></th>\n",
       "      <th></th>\n",
       "      <th></th>\n",
       "    </tr>\n",
       "  </thead>\n",
       "  <tbody>\n",
       "    <tr>\n",
       "      <th>小明</th>\n",
       "      <td>66</td>\n",
       "      <td>126</td>\n",
       "      <td>19</td>\n",
       "      <td>121</td>\n",
       "      <td>84</td>\n",
       "      <td>45</td>\n",
       "      <td>148</td>\n",
       "      <td>74</td>\n",
       "      <td>39</td>\n",
       "      <td>95</td>\n",
       "      <td>...</td>\n",
       "      <td>127</td>\n",
       "      <td>38</td>\n",
       "      <td>62</td>\n",
       "      <td>11</td>\n",
       "      <td>85</td>\n",
       "      <td>86</td>\n",
       "      <td>131</td>\n",
       "      <td>40</td>\n",
       "      <td>93</td>\n",
       "      <td>114</td>\n",
       "    </tr>\n",
       "    <tr>\n",
       "      <th>小华</th>\n",
       "      <td>40</td>\n",
       "      <td>131</td>\n",
       "      <td>82</td>\n",
       "      <td>58</td>\n",
       "      <td>9</td>\n",
       "      <td>51</td>\n",
       "      <td>54</td>\n",
       "      <td>7</td>\n",
       "      <td>51</td>\n",
       "      <td>45</td>\n",
       "      <td>...</td>\n",
       "      <td>125</td>\n",
       "      <td>132</td>\n",
       "      <td>88</td>\n",
       "      <td>22</td>\n",
       "      <td>18</td>\n",
       "      <td>128</td>\n",
       "      <td>52</td>\n",
       "      <td>106</td>\n",
       "      <td>119</td>\n",
       "      <td>5</td>\n",
       "    </tr>\n",
       "  </tbody>\n",
       "</table>\n",
       "<p>2 rows × 24 columns</p>\n",
       "</div>"
      ],
      "text/plain": [
       "subject python                                math      ...           english  \\\n",
       "考试         期中考               期末考               期中考      ...  期末考          期中考   \n",
       "month       一月   三月  二月   四月  一月  三月   二月  四月   一月  三月  ...   二月   四月      一月   \n",
       "name                                                    ...                     \n",
       "小明          66  126  19  121  84  45  148  74   39  95  ...  127   38      62   \n",
       "小华          40  131  82   58   9  51   54   7   51  45  ...  125  132      88   \n",
       "\n",
       "subject                                   \n",
       "考试                    期末考                 \n",
       "month    三月  二月   四月   一月   三月   二月   四月  \n",
       "name                                      \n",
       "小明       11  85   86  131   40   93  114  \n",
       "小华       22  18  128   52  106  119    5  \n",
       "\n",
       "[2 rows x 24 columns]"
      ]
     },
     "execution_count": 109,
     "metadata": {},
     "output_type": "execute_result"
    }
   ],
   "source": [
    "df4.unstack()"
   ]
  },
  {
   "cell_type": "code",
   "execution_count": 116,
   "metadata": {
    "ExecuteTime": {
     "end_time": "2019-11-04T00:43:16.814667Z",
     "start_time": "2019-11-04T00:43:16.753889Z"
    }
   },
   "outputs": [
    {
     "data": {
      "text/html": [
       "<div>\n",
       "<style scoped>\n",
       "    .dataframe tbody tr th:only-of-type {\n",
       "        vertical-align: middle;\n",
       "    }\n",
       "\n",
       "    .dataframe tbody tr th {\n",
       "        vertical-align: top;\n",
       "    }\n",
       "\n",
       "    .dataframe thead tr th {\n",
       "        text-align: left;\n",
       "    }\n",
       "\n",
       "    .dataframe thead tr:last-of-type th {\n",
       "        text-align: right;\n",
       "    }\n",
       "</style>\n",
       "<table border=\"1\" class=\"dataframe\">\n",
       "  <thead>\n",
       "    <tr>\n",
       "      <th>subject</th>\n",
       "      <th colspan=\"4\" halign=\"left\">python</th>\n",
       "      <th colspan=\"4\" halign=\"left\">math</th>\n",
       "      <th colspan=\"4\" halign=\"left\">english</th>\n",
       "    </tr>\n",
       "    <tr>\n",
       "      <th>考试</th>\n",
       "      <th colspan=\"2\" halign=\"left\">期中考</th>\n",
       "      <th colspan=\"2\" halign=\"left\">期末考</th>\n",
       "      <th colspan=\"2\" halign=\"left\">期中考</th>\n",
       "      <th colspan=\"2\" halign=\"left\">期末考</th>\n",
       "      <th colspan=\"2\" halign=\"left\">期中考</th>\n",
       "      <th colspan=\"2\" halign=\"left\">期末考</th>\n",
       "    </tr>\n",
       "    <tr>\n",
       "      <th>name</th>\n",
       "      <th>小明</th>\n",
       "      <th>小华</th>\n",
       "      <th>小明</th>\n",
       "      <th>小华</th>\n",
       "      <th>小明</th>\n",
       "      <th>小华</th>\n",
       "      <th>小明</th>\n",
       "      <th>小华</th>\n",
       "      <th>小明</th>\n",
       "      <th>小华</th>\n",
       "      <th>小明</th>\n",
       "      <th>小华</th>\n",
       "    </tr>\n",
       "    <tr>\n",
       "      <th>month</th>\n",
       "      <th></th>\n",
       "      <th></th>\n",
       "      <th></th>\n",
       "      <th></th>\n",
       "      <th></th>\n",
       "      <th></th>\n",
       "      <th></th>\n",
       "      <th></th>\n",
       "      <th></th>\n",
       "      <th></th>\n",
       "      <th></th>\n",
       "      <th></th>\n",
       "    </tr>\n",
       "  </thead>\n",
       "  <tbody>\n",
       "    <tr>\n",
       "      <th>一月</th>\n",
       "      <td>66</td>\n",
       "      <td>40</td>\n",
       "      <td>84</td>\n",
       "      <td>9</td>\n",
       "      <td>39</td>\n",
       "      <td>51</td>\n",
       "      <td>15</td>\n",
       "      <td>66</td>\n",
       "      <td>62</td>\n",
       "      <td>88</td>\n",
       "      <td>131</td>\n",
       "      <td>52</td>\n",
       "    </tr>\n",
       "    <tr>\n",
       "      <th>三月</th>\n",
       "      <td>126</td>\n",
       "      <td>131</td>\n",
       "      <td>45</td>\n",
       "      <td>51</td>\n",
       "      <td>95</td>\n",
       "      <td>45</td>\n",
       "      <td>119</td>\n",
       "      <td>61</td>\n",
       "      <td>11</td>\n",
       "      <td>22</td>\n",
       "      <td>40</td>\n",
       "      <td>106</td>\n",
       "    </tr>\n",
       "    <tr>\n",
       "      <th>二月</th>\n",
       "      <td>19</td>\n",
       "      <td>82</td>\n",
       "      <td>148</td>\n",
       "      <td>54</td>\n",
       "      <td>36</td>\n",
       "      <td>136</td>\n",
       "      <td>127</td>\n",
       "      <td>125</td>\n",
       "      <td>85</td>\n",
       "      <td>18</td>\n",
       "      <td>93</td>\n",
       "      <td>119</td>\n",
       "    </tr>\n",
       "    <tr>\n",
       "      <th>四月</th>\n",
       "      <td>121</td>\n",
       "      <td>58</td>\n",
       "      <td>74</td>\n",
       "      <td>7</td>\n",
       "      <td>120</td>\n",
       "      <td>130</td>\n",
       "      <td>38</td>\n",
       "      <td>132</td>\n",
       "      <td>86</td>\n",
       "      <td>128</td>\n",
       "      <td>114</td>\n",
       "      <td>5</td>\n",
       "    </tr>\n",
       "  </tbody>\n",
       "</table>\n",
       "</div>"
      ],
      "text/plain": [
       "subject python               math                english               \n",
       "考试         期中考       期末考      期中考       期末考          期中考       期末考     \n",
       "name        小明   小华   小明  小华   小明   小华   小明   小华      小明   小华   小明   小华\n",
       "month                                                                  \n",
       "一月          66   40   84   9   39   51   15   66      62   88  131   52\n",
       "三月         126  131   45  51   95   45  119   61      11   22   40  106\n",
       "二月          19   82  148  54   36  136  127  125      85   18   93  119\n",
       "四月         121   58   74   7  120  130   38  132      86  128  114    5"
      ]
     },
     "execution_count": 116,
     "metadata": {},
     "output_type": "execute_result"
    }
   ],
   "source": [
    "df4.unstack(level=0)\n"
   ]
  },
  {
   "cell_type": "code",
   "execution_count": 119,
   "metadata": {
    "ExecuteTime": {
     "end_time": "2019-11-04T00:45:08.210200Z",
     "start_time": "2019-11-04T00:45:08.182945Z"
    }
   },
   "outputs": [
    {
     "data": {
      "text/html": [
       "<div>\n",
       "<style scoped>\n",
       "    .dataframe tbody tr th:only-of-type {\n",
       "        vertical-align: middle;\n",
       "    }\n",
       "\n",
       "    .dataframe tbody tr th {\n",
       "        vertical-align: top;\n",
       "    }\n",
       "\n",
       "    .dataframe thead th {\n",
       "        text-align: right;\n",
       "    }\n",
       "</style>\n",
       "<table border=\"1\" class=\"dataframe\">\n",
       "  <thead>\n",
       "    <tr style=\"text-align: right;\">\n",
       "      <th></th>\n",
       "      <th></th>\n",
       "      <th>python</th>\n",
       "      <th>math</th>\n",
       "    </tr>\n",
       "    <tr>\n",
       "      <th>name</th>\n",
       "      <th>month</th>\n",
       "      <th></th>\n",
       "      <th></th>\n",
       "    </tr>\n",
       "  </thead>\n",
       "  <tbody>\n",
       "    <tr>\n",
       "      <th rowspan=\"4\" valign=\"top\">小明</th>\n",
       "      <th>一月</th>\n",
       "      <td>46</td>\n",
       "      <td>104</td>\n",
       "    </tr>\n",
       "    <tr>\n",
       "      <th>二月</th>\n",
       "      <td>123</td>\n",
       "      <td>0</td>\n",
       "    </tr>\n",
       "    <tr>\n",
       "      <th>三月</th>\n",
       "      <td>99</td>\n",
       "      <td>9</td>\n",
       "    </tr>\n",
       "    <tr>\n",
       "      <th>四月</th>\n",
       "      <td>112</td>\n",
       "      <td>127</td>\n",
       "    </tr>\n",
       "    <tr>\n",
       "      <th rowspan=\"4\" valign=\"top\">小华</th>\n",
       "      <th>一月</th>\n",
       "      <td>82</td>\n",
       "      <td>130</td>\n",
       "    </tr>\n",
       "    <tr>\n",
       "      <th>二月</th>\n",
       "      <td>133</td>\n",
       "      <td>76</td>\n",
       "    </tr>\n",
       "    <tr>\n",
       "      <th>三月</th>\n",
       "      <td>63</td>\n",
       "      <td>134</td>\n",
       "    </tr>\n",
       "    <tr>\n",
       "      <th>四月</th>\n",
       "      <td>9</td>\n",
       "      <td>21</td>\n",
       "    </tr>\n",
       "    <tr>\n",
       "      <th rowspan=\"4\" valign=\"top\">小刚</th>\n",
       "      <th>一月</th>\n",
       "      <td>42</td>\n",
       "      <td>95</td>\n",
       "    </tr>\n",
       "    <tr>\n",
       "      <th>二月</th>\n",
       "      <td>3</td>\n",
       "      <td>43</td>\n",
       "    </tr>\n",
       "    <tr>\n",
       "      <th>三月</th>\n",
       "      <td>47</td>\n",
       "      <td>83</td>\n",
       "    </tr>\n",
       "    <tr>\n",
       "      <th>四月</th>\n",
       "      <td>29</td>\n",
       "      <td>66</td>\n",
       "    </tr>\n",
       "    <tr>\n",
       "      <th rowspan=\"4\" valign=\"top\">里斯</th>\n",
       "      <th>一月</th>\n",
       "      <td>125</td>\n",
       "      <td>32</td>\n",
       "    </tr>\n",
       "    <tr>\n",
       "      <th>二月</th>\n",
       "      <td>91</td>\n",
       "      <td>8</td>\n",
       "    </tr>\n",
       "    <tr>\n",
       "      <th>三月</th>\n",
       "      <td>66</td>\n",
       "      <td>70</td>\n",
       "    </tr>\n",
       "    <tr>\n",
       "      <th>四月</th>\n",
       "      <td>17</td>\n",
       "      <td>82</td>\n",
       "    </tr>\n",
       "  </tbody>\n",
       "</table>\n",
       "</div>"
      ],
      "text/plain": [
       "            python  math\n",
       "name month              \n",
       "小明   一月         46   104\n",
       "     二月        123     0\n",
       "     三月         99     9\n",
       "     四月        112   127\n",
       "小华   一月         82   130\n",
       "     二月        133    76\n",
       "     三月         63   134\n",
       "     四月          9    21\n",
       "小刚   一月         42    95\n",
       "     二月          3    43\n",
       "     三月         47    83\n",
       "     四月         29    66\n",
       "里斯   一月        125    32\n",
       "     二月         91     8\n",
       "     三月         66    70\n",
       "     四月         17    82"
      ]
     },
     "execution_count": 119,
     "metadata": {},
     "output_type": "execute_result"
    }
   ],
   "source": [
    "df5 = pd.DataFrame(np.random.randint(0, 151, (16,2)),\n",
    "                   index=index,columns=['python','math'])\n",
    "df5"
   ]
  },
  {
   "cell_type": "code",
   "execution_count": 130,
   "metadata": {
    "ExecuteTime": {
     "end_time": "2019-11-04T00:47:29.185214Z",
     "start_time": "2019-11-04T00:47:29.171930Z"
    }
   },
   "outputs": [
    {
     "data": {
      "text/plain": [
       "name  month        \n",
       "小明    一月     python     46\n",
       "             math      104\n",
       "      二月     python    123\n",
       "             math        0\n",
       "      三月     python     99\n",
       "             math        9\n",
       "      四月     python    112\n",
       "             math      127\n",
       "小华    一月     python     82\n",
       "             math      130\n",
       "      二月     python    133\n",
       "             math       76\n",
       "      三月     python     63\n",
       "             math      134\n",
       "      四月     python      9\n",
       "             math       21\n",
       "小刚    一月     python     42\n",
       "             math       95\n",
       "      二月     python      3\n",
       "             math       43\n",
       "      三月     python     47\n",
       "             math       83\n",
       "      四月     python     29\n",
       "             math       66\n",
       "里斯    一月     python    125\n",
       "             math       32\n",
       "      二月     python     91\n",
       "             math        8\n",
       "      三月     python     66\n",
       "             math       70\n",
       "      四月     python     17\n",
       "             math       82\n",
       "dtype: int32"
      ]
     },
     "execution_count": 130,
     "metadata": {},
     "output_type": "execute_result"
    }
   ],
   "source": [
    "df6 = df5.stack()\n",
    "df6"
   ]
  },
  {
   "cell_type": "code",
   "execution_count": 132,
   "metadata": {
    "ExecuteTime": {
     "end_time": "2019-11-04T00:47:36.879777Z",
     "start_time": "2019-11-04T00:47:36.860423Z"
    }
   },
   "outputs": [
    {
     "data": {
      "text/html": [
       "<div>\n",
       "<style scoped>\n",
       "    .dataframe tbody tr th:only-of-type {\n",
       "        vertical-align: middle;\n",
       "    }\n",
       "\n",
       "    .dataframe tbody tr th {\n",
       "        vertical-align: top;\n",
       "    }\n",
       "\n",
       "    .dataframe thead th {\n",
       "        text-align: right;\n",
       "    }\n",
       "</style>\n",
       "<table border=\"1\" class=\"dataframe\">\n",
       "  <thead>\n",
       "    <tr style=\"text-align: right;\">\n",
       "      <th></th>\n",
       "      <th></th>\n",
       "      <th>python</th>\n",
       "      <th>math</th>\n",
       "    </tr>\n",
       "    <tr>\n",
       "      <th>name</th>\n",
       "      <th>month</th>\n",
       "      <th></th>\n",
       "      <th></th>\n",
       "    </tr>\n",
       "  </thead>\n",
       "  <tbody>\n",
       "    <tr>\n",
       "      <th rowspan=\"4\" valign=\"top\">小刚</th>\n",
       "      <th>一月</th>\n",
       "      <td>42</td>\n",
       "      <td>95</td>\n",
       "    </tr>\n",
       "    <tr>\n",
       "      <th>三月</th>\n",
       "      <td>47</td>\n",
       "      <td>83</td>\n",
       "    </tr>\n",
       "    <tr>\n",
       "      <th>二月</th>\n",
       "      <td>3</td>\n",
       "      <td>43</td>\n",
       "    </tr>\n",
       "    <tr>\n",
       "      <th>四月</th>\n",
       "      <td>29</td>\n",
       "      <td>66</td>\n",
       "    </tr>\n",
       "    <tr>\n",
       "      <th rowspan=\"4\" valign=\"top\">小华</th>\n",
       "      <th>一月</th>\n",
       "      <td>82</td>\n",
       "      <td>130</td>\n",
       "    </tr>\n",
       "    <tr>\n",
       "      <th>三月</th>\n",
       "      <td>63</td>\n",
       "      <td>134</td>\n",
       "    </tr>\n",
       "    <tr>\n",
       "      <th>二月</th>\n",
       "      <td>133</td>\n",
       "      <td>76</td>\n",
       "    </tr>\n",
       "    <tr>\n",
       "      <th>四月</th>\n",
       "      <td>9</td>\n",
       "      <td>21</td>\n",
       "    </tr>\n",
       "    <tr>\n",
       "      <th rowspan=\"4\" valign=\"top\">小明</th>\n",
       "      <th>一月</th>\n",
       "      <td>46</td>\n",
       "      <td>104</td>\n",
       "    </tr>\n",
       "    <tr>\n",
       "      <th>三月</th>\n",
       "      <td>99</td>\n",
       "      <td>9</td>\n",
       "    </tr>\n",
       "    <tr>\n",
       "      <th>二月</th>\n",
       "      <td>123</td>\n",
       "      <td>0</td>\n",
       "    </tr>\n",
       "    <tr>\n",
       "      <th>四月</th>\n",
       "      <td>112</td>\n",
       "      <td>127</td>\n",
       "    </tr>\n",
       "    <tr>\n",
       "      <th rowspan=\"4\" valign=\"top\">里斯</th>\n",
       "      <th>一月</th>\n",
       "      <td>125</td>\n",
       "      <td>32</td>\n",
       "    </tr>\n",
       "    <tr>\n",
       "      <th>三月</th>\n",
       "      <td>66</td>\n",
       "      <td>70</td>\n",
       "    </tr>\n",
       "    <tr>\n",
       "      <th>二月</th>\n",
       "      <td>91</td>\n",
       "      <td>8</td>\n",
       "    </tr>\n",
       "    <tr>\n",
       "      <th>四月</th>\n",
       "      <td>17</td>\n",
       "      <td>82</td>\n",
       "    </tr>\n",
       "  </tbody>\n",
       "</table>\n",
       "</div>"
      ],
      "text/plain": [
       "            python  math\n",
       "name month              \n",
       "小刚   一月         42    95\n",
       "     三月         47    83\n",
       "     二月          3    43\n",
       "     四月         29    66\n",
       "小华   一月         82   130\n",
       "     三月         63   134\n",
       "     二月        133    76\n",
       "     四月          9    21\n",
       "小明   一月         46   104\n",
       "     三月         99     9\n",
       "     二月        123     0\n",
       "     四月        112   127\n",
       "里斯   一月        125    32\n",
       "     三月         66    70\n",
       "     二月         91     8\n",
       "     四月         17    82"
      ]
     },
     "execution_count": 132,
     "metadata": {},
     "output_type": "execute_result"
    }
   ],
   "source": [
    "df6.unstack()"
   ]
  },
  {
   "cell_type": "code",
   "execution_count": 134,
   "metadata": {
    "ExecuteTime": {
     "end_time": "2019-11-04T00:47:48.048643Z",
     "start_time": "2019-11-04T00:47:48.027248Z"
    }
   },
   "outputs": [
    {
     "data": {
      "text/html": [
       "<div>\n",
       "<style scoped>\n",
       "    .dataframe tbody tr th:only-of-type {\n",
       "        vertical-align: middle;\n",
       "    }\n",
       "\n",
       "    .dataframe tbody tr th {\n",
       "        vertical-align: top;\n",
       "    }\n",
       "\n",
       "    .dataframe thead th {\n",
       "        text-align: right;\n",
       "    }\n",
       "</style>\n",
       "<table border=\"1\" class=\"dataframe\">\n",
       "  <thead>\n",
       "    <tr style=\"text-align: right;\">\n",
       "      <th></th>\n",
       "      <th>month</th>\n",
       "      <th>一月</th>\n",
       "      <th>三月</th>\n",
       "      <th>二月</th>\n",
       "      <th>四月</th>\n",
       "    </tr>\n",
       "    <tr>\n",
       "      <th>name</th>\n",
       "      <th></th>\n",
       "      <th></th>\n",
       "      <th></th>\n",
       "      <th></th>\n",
       "      <th></th>\n",
       "    </tr>\n",
       "  </thead>\n",
       "  <tbody>\n",
       "    <tr>\n",
       "      <th rowspan=\"2\" valign=\"top\">小刚</th>\n",
       "      <th>python</th>\n",
       "      <td>42</td>\n",
       "      <td>47</td>\n",
       "      <td>3</td>\n",
       "      <td>29</td>\n",
       "    </tr>\n",
       "    <tr>\n",
       "      <th>math</th>\n",
       "      <td>95</td>\n",
       "      <td>83</td>\n",
       "      <td>43</td>\n",
       "      <td>66</td>\n",
       "    </tr>\n",
       "    <tr>\n",
       "      <th rowspan=\"2\" valign=\"top\">小华</th>\n",
       "      <th>python</th>\n",
       "      <td>82</td>\n",
       "      <td>63</td>\n",
       "      <td>133</td>\n",
       "      <td>9</td>\n",
       "    </tr>\n",
       "    <tr>\n",
       "      <th>math</th>\n",
       "      <td>130</td>\n",
       "      <td>134</td>\n",
       "      <td>76</td>\n",
       "      <td>21</td>\n",
       "    </tr>\n",
       "    <tr>\n",
       "      <th rowspan=\"2\" valign=\"top\">小明</th>\n",
       "      <th>python</th>\n",
       "      <td>46</td>\n",
       "      <td>99</td>\n",
       "      <td>123</td>\n",
       "      <td>112</td>\n",
       "    </tr>\n",
       "    <tr>\n",
       "      <th>math</th>\n",
       "      <td>104</td>\n",
       "      <td>9</td>\n",
       "      <td>0</td>\n",
       "      <td>127</td>\n",
       "    </tr>\n",
       "    <tr>\n",
       "      <th rowspan=\"2\" valign=\"top\">里斯</th>\n",
       "      <th>python</th>\n",
       "      <td>125</td>\n",
       "      <td>66</td>\n",
       "      <td>91</td>\n",
       "      <td>17</td>\n",
       "    </tr>\n",
       "    <tr>\n",
       "      <th>math</th>\n",
       "      <td>32</td>\n",
       "      <td>70</td>\n",
       "      <td>8</td>\n",
       "      <td>82</td>\n",
       "    </tr>\n",
       "  </tbody>\n",
       "</table>\n",
       "</div>"
      ],
      "text/plain": [
       "month         一月   三月   二月   四月\n",
       "name                           \n",
       "小刚   python   42   47    3   29\n",
       "     math     95   83   43   66\n",
       "小华   python   82   63  133    9\n",
       "     math    130  134   76   21\n",
       "小明   python   46   99  123  112\n",
       "     math    104    9    0  127\n",
       "里斯   python  125   66   91   17\n",
       "     math     32   70    8   82"
      ]
     },
     "execution_count": 134,
     "metadata": {},
     "output_type": "execute_result"
    }
   ],
   "source": [
    "df6.unstack(level=1)"
   ]
  },
  {
   "cell_type": "code",
   "execution_count": null,
   "metadata": {},
   "outputs": [],
   "source": []
  }
 ],
 "metadata": {
  "kernelspec": {
   "display_name": "Python 3",
   "language": "python",
   "name": "python3"
  },
  "language_info": {
   "codemirror_mode": {
    "name": "ipython",
    "version": 3
   },
   "file_extension": ".py",
   "mimetype": "text/x-python",
   "name": "python",
   "nbconvert_exporter": "python",
   "pygments_lexer": "ipython3",
   "version": "3.7.3"
  },
  "toc": {
   "base_numbering": 1,
   "nav_menu": {},
   "number_sections": true,
   "sideBar": true,
   "skip_h1_title": false,
   "title_cell": "Table of Contents",
   "title_sidebar": "Contents",
   "toc_cell": false,
   "toc_position": {},
   "toc_section_display": true,
   "toc_window_display": true
  },
  "varInspector": {
   "cols": {
    "lenName": 16,
    "lenType": 16,
    "lenVar": 40
   },
   "kernels_config": {
    "python": {
     "delete_cmd_postfix": "",
     "delete_cmd_prefix": "del ",
     "library": "var_list.py",
     "varRefreshCmd": "print(var_dic_list())"
    },
    "r": {
     "delete_cmd_postfix": ") ",
     "delete_cmd_prefix": "rm(",
     "library": "var_list.r",
     "varRefreshCmd": "cat(var_dic_list()) "
    }
   },
   "types_to_exclude": [
    "module",
    "function",
    "builtin_function_or_method",
    "instance",
    "_Feature"
   ],
   "window_display": false
  }
 },
 "nbformat": 4,
 "nbformat_minor": 2
}
