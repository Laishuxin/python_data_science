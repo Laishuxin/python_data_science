{
 "cells": [
  {
   "cell_type": "code",
   "execution_count": 2,
   "metadata": {
    "ExecuteTime": {
     "end_time": "2019-10-15T04:33:45.277364Z",
     "start_time": "2019-10-15T04:33:45.264556Z"
    }
   },
   "outputs": [
    {
     "data": {
      "text/plain": [
       "'1.16.4'"
      ]
     },
     "execution_count": 2,
     "metadata": {},
     "output_type": "execute_result"
    }
   ],
   "source": [
    "import numpy as np\n",
    "\n",
    "np.__version__"
   ]
  },
  {
   "cell_type": "markdown",
   "metadata": {},
   "source": [
    "## python 列表不只是列表\n",
    "### python列表与c语言相比\n",
    "+ c语言之存放一种数据\n",
    "+ python列表保存数据之外，还携带了对象头（pyobject_HEAD），序列，引用"
   ]
  },
  {
   "cell_type": "markdown",
   "metadata": {},
   "source": [
    "### numpy array之存储了数据，对象头，维度，提高数据访问速度\n",
    "**numpy arrary 要求数据类型要一致**"
   ]
  },
  {
   "cell_type": "markdown",
   "metadata": {},
   "source": [
    "### 从python列表创建数组"
   ]
  },
  {
   "cell_type": "code",
   "execution_count": 3,
   "metadata": {
    "ExecuteTime": {
     "end_time": "2019-10-15T04:43:50.557060Z",
     "start_time": "2019-10-15T04:43:50.549451Z"
    }
   },
   "outputs": [
    {
     "data": {
      "text/plain": [
       "array([1, 2, 3, 5, 4])"
      ]
     },
     "execution_count": 3,
     "metadata": {},
     "output_type": "execute_result"
    }
   ],
   "source": [
    "# 整型数组\n",
    "np.array([1,2,3,5,4])"
   ]
  },
  {
   "cell_type": "markdown",
   "metadata": {},
   "source": [
    "**如果数组的数据类型不同，numpy会自动向上转换(如果可以话)，否则报错**"
   ]
  },
  {
   "cell_type": "code",
   "execution_count": 4,
   "metadata": {
    "ExecuteTime": {
     "end_time": "2019-10-15T04:46:00.565094Z",
     "start_time": "2019-10-15T04:46:00.551048Z"
    }
   },
   "outputs": [
    {
     "name": "stdout",
     "output_type": "stream",
     "text": [
      "[ 3.13 23.    5.    4.    5.  ]\n",
      "float64\n"
     ]
    }
   ],
   "source": [
    "arr = np.array([3.13,23,5,4,5])\n",
    "print(arr)\n",
    "print(arr.dtype)"
   ]
  },
  {
   "cell_type": "markdown",
   "metadata": {},
   "source": [
    "#### 指定数据类型"
   ]
  },
  {
   "cell_type": "code",
   "execution_count": 7,
   "metadata": {
    "ExecuteTime": {
     "end_time": "2019-10-15T04:47:19.103338Z",
     "start_time": "2019-10-15T04:47:19.092704Z"
    }
   },
   "outputs": [
    {
     "name": "stdout",
     "output_type": "stream",
     "text": [
      "[1. 2. 3. 4. 2. 4. 3.]\n",
      "float32\n"
     ]
    }
   ],
   "source": [
    "arr = np.array([1,2,3,4,2,4,3], dtype='float32')\n",
    "print(arr)\n",
    "print(arr.dtype)"
   ]
  },
  {
   "cell_type": "markdown",
   "metadata": {
    "ExecuteTime": {
     "end_time": "2019-10-15T04:47:44.427441Z",
     "start_time": "2019-10-15T04:47:44.420882Z"
    }
   },
   "source": [
    "#### 多维数组创建"
   ]
  },
  {
   "cell_type": "code",
   "execution_count": 10,
   "metadata": {
    "ExecuteTime": {
     "end_time": "2019-10-15T04:48:35.299521Z",
     "start_time": "2019-10-15T04:48:35.290955Z"
    }
   },
   "outputs": [
    {
     "name": "stdout",
     "output_type": "stream",
     "text": [
      "[[2 3 4]\n",
      " [4 5 6]\n",
      " [6 7 8]]\n",
      "(3, 3)\n"
     ]
    }
   ],
   "source": [
    "arr = np.array([range(i, i+3) for i in [2,4,6]])\n",
    "print(arr)\n",
    "print(arr.shape)"
   ]
  },
  {
   "cell_type": "markdown",
   "metadata": {},
   "source": [
    "#### 从头开始创建数组"
   ]
  },
  {
   "cell_type": "code",
   "execution_count": 11,
   "metadata": {
    "ExecuteTime": {
     "end_time": "2019-10-15T04:49:46.540444Z",
     "start_time": "2019-10-15T04:49:46.533113Z"
    }
   },
   "outputs": [
    {
     "name": "stdout",
     "output_type": "stream",
     "text": [
      "[0 0 0 0 0 0 0 0 0 0]\n"
     ]
    }
   ],
   "source": [
    "# 创建一个长度为10的数组，数组的值都是0\n",
    "arr = np.zeros(10, dtype=int)\n",
    "print(arr)"
   ]
  },
  {
   "cell_type": "code",
   "execution_count": 17,
   "metadata": {
    "ExecuteTime": {
     "end_time": "2019-10-15T04:53:08.978372Z",
     "start_time": "2019-10-15T04:53:08.970364Z"
    }
   },
   "outputs": [
    {
     "name": "stdout",
     "output_type": "stream",
     "text": [
      "[[1. 1. 1. 1. 1.]\n",
      " [1. 1. 1. 1. 1.]\n",
      " [1. 1. 1. 1. 1.]]\n"
     ]
    }
   ],
   "source": [
    "# np.ones((shape), dtype)\n",
    "# 创建一个3x5的浮点型数组，数值都是1\n",
    "arr = np.ones((3,5), dtype=float)\n",
    "print(arr)"
   ]
  },
  {
   "cell_type": "code",
   "execution_count": 18,
   "metadata": {
    "ExecuteTime": {
     "end_time": "2019-10-15T04:54:26.579190Z",
     "start_time": "2019-10-15T04:54:26.572417Z"
    }
   },
   "outputs": [
    {
     "name": "stdout",
     "output_type": "stream",
     "text": [
      "[[3.1 3.1 3.1 3.1 3.1]\n",
      " [3.1 3.1 3.1 3.1 3.1]\n",
      " [3.1 3.1 3.1 3.1 3.1]]\n"
     ]
    }
   ],
   "source": [
    "# 创建一个3x5的整型数组，数组的值都是3.1\n",
    "arr = np.full((3,5), 3.1)\n",
    "print(arr)"
   ]
  },
  {
   "cell_type": "code",
   "execution_count": 20,
   "metadata": {
    "ExecuteTime": {
     "end_time": "2019-10-15T04:55:36.317891Z",
     "start_time": "2019-10-15T04:55:36.311097Z"
    }
   },
   "outputs": [
    {
     "name": "stdout",
     "output_type": "stream",
     "text": [
      "[ 0  2  4  6  8 10 12 14 16 18]\n",
      "(10,)\n"
     ]
    }
   ],
   "source": [
    "# np.range(start, stop, step)\n",
    "arr = np.arange(0, 20, 2)  \n",
    "print(arr)\n",
    "print(arr.shape)"
   ]
  },
  {
   "cell_type": "code",
   "execution_count": 22,
   "metadata": {
    "ExecuteTime": {
     "end_time": "2019-10-15T04:58:21.365956Z",
     "start_time": "2019-10-15T04:58:21.360305Z"
    }
   },
   "outputs": [
    {
     "name": "stdout",
     "output_type": "stream",
     "text": [
      "[0.   0.25 0.5  0.75 1.  ]\n"
     ]
    }
   ],
   "source": [
    "# np.linspace(start, stop, num)\n",
    "# 创建一个5个元素的数组，将5个数均匀地分配到0-1\n",
    "arr = np.linspace(0,1,5)\n",
    "print(arr)"
   ]
  },
  {
   "cell_type": "code",
   "execution_count": 25,
   "metadata": {
    "ExecuteTime": {
     "end_time": "2019-10-15T04:59:34.381673Z",
     "start_time": "2019-10-15T04:59:34.372790Z"
    }
   },
   "outputs": [
    {
     "name": "stdout",
     "output_type": "stream",
     "text": [
      "[0.  0.5 1.  1.5 2.  2.5 3.  3.5 4.  4.5 5. ]\n",
      "(11,)\n"
     ]
    }
   ],
   "source": [
    "arr = np.linspace(0,5, 11)\n",
    "print(arr)\n",
    "print(arr.shape)"
   ]
  },
  {
   "cell_type": "code",
   "execution_count": 26,
   "metadata": {
    "ExecuteTime": {
     "end_time": "2019-10-15T05:00:38.899256Z",
     "start_time": "2019-10-15T05:00:38.890879Z"
    }
   },
   "outputs": [
    {
     "data": {
      "text/plain": [
       "array([[0.98726921, 0.90911432, 0.82352156],\n",
       "       [0.17690527, 0.53896543, 0.18262422],\n",
       "       [0.07211053, 0.70647022, 0.93766855]])"
      ]
     },
     "execution_count": 26,
     "metadata": {},
     "output_type": "execute_result"
    }
   ],
   "source": [
    "# 创建一个3x3的、在0-1分布的随机数组成的数组\n",
    "np.random.random((3, 3))"
   ]
  },
  {
   "cell_type": "code",
   "execution_count": null,
   "metadata": {},
   "outputs": [],
   "source": []
  },
  {
   "cell_type": "code",
   "execution_count": 28,
   "metadata": {
    "ExecuteTime": {
     "end_time": "2019-10-15T05:04:42.590560Z",
     "start_time": "2019-10-15T05:04:42.581618Z"
    }
   },
   "outputs": [
    {
     "name": "stdout",
     "output_type": "stream",
     "text": [
      "[[-0.61622142 -0.43910492  1.94543509]\n",
      " [-1.91292688 -0.46696946 -0.81436161]\n",
      " [ 0.30100004 -0.29203155  0.55897945]]\n",
      "[[-0.27195684 -1.14913495 -1.21282477]\n",
      " [ 6.67506066 30.16302688  1.51925576]\n",
      " [-8.0760176  13.52430205 14.14992214]]\n"
     ]
    }
   ],
   "source": [
    "# np.random.normal(mean, var, (shape)) \n",
    "# 创建一个正态分布，均值mean，方差ar，维度shape\n",
    "# 创建一个3x3的均值为0，方差为1的正态分布随即数组\n",
    "arr = np.random.normal(0,1,(3, 3))\n",
    "print(arr)\n",
    "\n",
    "arr2 = np.random.normal(5, 10, (3, 3))\n",
    "print(arr2)"
   ]
  },
  {
   "cell_type": "code",
   "execution_count": 29,
   "metadata": {
    "ExecuteTime": {
     "end_time": "2019-10-15T05:05:49.159403Z",
     "start_time": "2019-10-15T05:05:49.153170Z"
    }
   },
   "outputs": [
    {
     "name": "stdout",
     "output_type": "stream",
     "text": [
      "[[9 3 8]\n",
      " [2 7 6]\n",
      " [2 7 4]]\n"
     ]
    }
   ],
   "source": [
    "# 创建一个3✖3的【0， 10】区间的随即证书类型数据\n",
    "arr = np.random.randint(0, 10, (3, 3))\n",
    "print(arr)"
   ]
  },
  {
   "cell_type": "code",
   "execution_count": 31,
   "metadata": {
    "ExecuteTime": {
     "end_time": "2019-10-15T05:06:38.387472Z",
     "start_time": "2019-10-15T05:06:38.377994Z"
    }
   },
   "outputs": [
    {
     "name": "stdout",
     "output_type": "stream",
     "text": [
      "[[1. 0. 0.]\n",
      " [0. 1. 0.]\n",
      " [0. 0. 1.]]\n"
     ]
    }
   ],
   "source": [
    "# 创建3✖3的单位矩阵\n",
    "arr = np.eye(3)\n",
    "print(arr)"
   ]
  },
  {
   "cell_type": "code",
   "execution_count": 33,
   "metadata": {
    "ExecuteTime": {
     "end_time": "2019-10-15T05:07:43.341693Z",
     "start_time": "2019-10-15T05:07:43.337222Z"
    }
   },
   "outputs": [
    {
     "name": "stdout",
     "output_type": "stream",
     "text": [
      "[[1. 0. 0.]\n",
      " [0. 1. 0.]\n",
      " [0. 0. 1.]]\n"
     ]
    }
   ],
   "source": [
    "# 创建一个3✖3的空数组，数组里面的数据为垃圾数据\n",
    "arr = np.empty((3,3))\n",
    "print(arr)"
   ]
  },
  {
   "cell_type": "markdown",
   "metadata": {},
   "source": [
    "### numpy标准数据类型"
   ]
  },
  {
   "cell_type": "markdown",
   "metadata": {},
   "source": [
    "## numpy数组基础"
   ]
  },
  {
   "cell_type": "markdown",
   "metadata": {},
   "source": [
    "### numpy数组的属性\n"
   ]
  },
  {
   "cell_type": "code",
   "execution_count": 43,
   "metadata": {
    "ExecuteTime": {
     "end_time": "2019-10-15T06:07:37.658612Z",
     "start_time": "2019-10-15T06:07:37.651483Z"
    }
   },
   "outputs": [
    {
     "name": "stdout",
     "output_type": "stream",
     "text": [
      "[[[8 1 5 9 8]\n",
      "  [9 4 3 0 3]\n",
      "  [5 0 2 3 8]\n",
      "  [1 3 3 3 7]]\n",
      "\n",
      " [[0 1 9 9 0]\n",
      "  [4 7 3 2 7]\n",
      "  [2 0 0 4 5]\n",
      "  [5 6 8 4 1]]\n",
      "\n",
      " [[4 9 8 1 1]\n",
      "  [7 9 9 3 6]\n",
      "  [7 2 0 3 5]\n",
      "  [9 4 4 6 4]]\n",
      "\n",
      " [[4 3 4 4 8]\n",
      "  [4 3 7 5 5]\n",
      "  [0 1 5 9 3]\n",
      "  [0 5 0 1 2]]]\n"
     ]
    }
   ],
   "source": [
    "import numpy as np\n",
    "np.random.seed(0)\n",
    "\n",
    "# np.random.randint(start, stop, size=(dim, shape))\n",
    "x1 = np.random.randint(10, size=6) # 一维数组\n",
    "x2 = np.random.randint(10, size=(3,4)) # 二维\n",
    "x3 = np.random.randint(10, size=(3, 4, 5))  # 三维\n",
    "# print(x1, end=\"\\n\")\n",
    "# print(x2, end=\"\\n\")\n",
    "print(x3)"
   ]
  },
  {
   "cell_type": "code",
   "execution_count": null,
   "metadata": {},
   "outputs": [],
   "source": []
  },
  {
   "cell_type": "markdown",
   "metadata": {},
   "source": [
    "#### 属性\n",
    "+ x.ndim(数组维度)\n",
    "+ x.shape(数组维度的大小)\n",
    "+ size(数组总大小)\n",
    "+ dtype(类型)"
   ]
  },
  {
   "cell_type": "code",
   "execution_count": 47,
   "metadata": {
    "ExecuteTime": {
     "end_time": "2019-10-15T06:12:25.465707Z",
     "start_time": "2019-10-15T06:12:25.457140Z"
    }
   },
   "outputs": [
    {
     "name": "stdout",
     "output_type": "stream",
     "text": [
      "x3 ndim:  3\n",
      "x3 shape:  (4, 4, 5)\n",
      "x3 size:  80\n",
      "x3 dtype:  int64\n"
     ]
    }
   ],
   "source": [
    "print(\"x3 ndim: \", x3.ndim)\n",
    "print(\"x3 shape: \", x3.shape)\n",
    "print(\"x3 size: \", x3.size)\n",
    "print(\"x3 dtype: \", x3.dtype)"
   ]
  },
  {
   "cell_type": "markdown",
   "metadata": {},
   "source": [
    "### 数组索引：获取单个元素"
   ]
  },
  {
   "cell_type": "markdown",
   "metadata": {
    "ExecuteTime": {
     "end_time": "2019-10-15T06:12:04.376323Z",
     "start_time": "2019-10-15T06:12:04.372044Z"
    }
   },
   "source": [
    "#### 一维：和python列表类似"
   ]
  },
  {
   "cell_type": "markdown",
   "metadata": {},
   "source": [
    "#### 多维：用逗号分割的索引元组获取元素"
   ]
  },
  {
   "cell_type": "code",
   "execution_count": 55,
   "metadata": {
    "ExecuteTime": {
     "end_time": "2019-10-15T06:17:28.863723Z",
     "start_time": "2019-10-15T06:17:28.853057Z"
    }
   },
   "outputs": [
    {
     "name": "stdout",
     "output_type": "stream",
     "text": [
      "[[5 3 1 8]\n",
      " [0 4 9 6]\n",
      " [5 7 8 8]\n",
      " [9 2 8 6]]\n",
      "5\n",
      "8\n",
      "[[     5      3      1 100000]\n",
      " [     0      4      9      6]\n",
      " [     5      7      8      8]\n",
      " [     9      2      8      6]]\n"
     ]
    }
   ],
   "source": [
    "print(x2)\n",
    "print(x2[0, 0])\n",
    "print(x2[0, -1])\n",
    "\n",
    "# 修改元素值\n",
    "x2[0,-1] = 100000\n",
    "print(x2)"
   ]
  },
  {
   "cell_type": "code",
   "execution_count": 57,
   "metadata": {
    "ExecuteTime": {
     "end_time": "2019-10-15T06:18:50.676378Z",
     "start_time": "2019-10-15T06:18:50.668677Z"
    }
   },
   "outputs": [
    {
     "name": "stdout",
     "output_type": "stream",
     "text": [
      "[3 1 2 3 4 5 6 7 8 9]\n"
     ]
    }
   ],
   "source": [
    "# 若插入的类型不一样，数据会被修改\n",
    "x1 = np.arange(0, 10)\n",
    "x1[0] = 3.33333333333\n",
    "print(x1)"
   ]
  },
  {
   "cell_type": "code",
   "execution_count": null,
   "metadata": {},
   "outputs": [],
   "source": []
  },
  {
   "cell_type": "markdown",
   "metadata": {},
   "source": [
    "### 数组切片：获取子数组\n",
    "x[start: stop: step, start:stop:step,....]"
   ]
  },
  {
   "cell_type": "markdown",
   "metadata": {},
   "source": [
    "#### 一维子数组"
   ]
  },
  {
   "cell_type": "code",
   "execution_count": 59,
   "metadata": {
    "ExecuteTime": {
     "end_time": "2019-10-15T06:23:12.691485Z",
     "start_time": "2019-10-15T06:23:12.683927Z"
    }
   },
   "outputs": [
    {
     "name": "stdout",
     "output_type": "stream",
     "text": [
      "[0 1 2 3 4]\n",
      "[6 7 8 9]\n",
      "[1 2]\n",
      "[0 2 4 6 8]\n"
     ]
    }
   ],
   "source": [
    "x = np.arange(10)\n",
    "print(x[ :5])  # 前5个元素\n",
    "\n",
    "print(x[6:])  # 后5个元素\n",
    "\n",
    "print(x[1:3])  # 中间元素\n",
    "\n",
    "print(x[::2])  # 每隔一个元素\n",
    "\n"
   ]
  },
  {
   "cell_type": "markdown",
   "metadata": {},
   "source": [
    "\n",
    "#### 多维子数组\n",
    "x[start: stop: step, start:stop:step,....]  \n",
    "x[行， 列]"
   ]
  },
  {
   "cell_type": "code",
   "execution_count": 62,
   "metadata": {
    "ExecuteTime": {
     "end_time": "2019-10-15T06:25:42.667160Z",
     "start_time": "2019-10-15T06:25:42.661662Z"
    }
   },
   "outputs": [
    {
     "data": {
      "text/plain": [
       "array([[5, 3, 4, 5],\n",
       "       [3, 3, 7, 9],\n",
       "       [9, 9, 7, 3]])"
      ]
     },
     "execution_count": 62,
     "metadata": {},
     "output_type": "execute_result"
    }
   ],
   "source": [
    "x2 = np.random.randint(10, size=(3,4))\n",
    "x2"
   ]
  },
  {
   "cell_type": "raw",
   "metadata": {
    "ExecuteTime": {
     "end_time": "2019-10-15T06:26:11.299004Z",
     "start_time": "2019-10-15T06:26:11.294730Z"
    }
   },
   "source": [
    "print(x2[:2, :3]) # 前两行，前两列"
   ]
  },
  {
   "cell_type": "code",
   "execution_count": 64,
   "metadata": {
    "ExecuteTime": {
     "end_time": "2019-10-15T06:27:03.477030Z",
     "start_time": "2019-10-15T06:27:03.465503Z"
    }
   },
   "outputs": [
    {
     "data": {
      "text/plain": [
       "array([[[2, 3, 9, 7, 7],\n",
       "        [5, 1, 2, 2, 8],\n",
       "        [1, 5, 8, 4, 0],\n",
       "        [2, 5, 5, 0, 8]],\n",
       "\n",
       "       [[1, 1, 0, 3, 8],\n",
       "        [8, 4, 4, 0, 9],\n",
       "        [3, 7, 3, 2, 1],\n",
       "        [1, 2, 1, 4, 2]],\n",
       "\n",
       "       [[5, 5, 5, 2, 5],\n",
       "        [7, 7, 6, 1, 6],\n",
       "        [7, 2, 3, 1, 9],\n",
       "        [5, 9, 9, 2, 0]],\n",
       "\n",
       "       [[9, 1, 9, 0, 6],\n",
       "        [0, 4, 8, 4, 3],\n",
       "        [3, 8, 8, 7, 0],\n",
       "        [3, 8, 7, 7, 1]]])"
      ]
     },
     "execution_count": 64,
     "metadata": {},
     "output_type": "execute_result"
    }
   ],
   "source": [
    "x3 = np.random.randint(10, size=(4,4,5))\n",
    "x3"
   ]
  },
  {
   "cell_type": "code",
   "execution_count": 67,
   "metadata": {
    "ExecuteTime": {
     "end_time": "2019-10-15T06:28:33.134509Z",
     "start_time": "2019-10-15T06:28:33.128610Z"
    }
   },
   "outputs": [
    {
     "data": {
      "text/plain": [
       "array([[[1, 7, 7, 8, 3],\n",
       "        [0, 7, 8, 8, 3],\n",
       "        [3, 4, 8, 4, 0],\n",
       "        [6, 0, 9, 1, 9]],\n",
       "\n",
       "       [[0, 2, 9, 9, 5],\n",
       "        [9, 1, 3, 2, 7],\n",
       "        [6, 1, 6, 7, 7],\n",
       "        [5, 2, 5, 5, 5]],\n",
       "\n",
       "       [[2, 4, 1, 2, 1],\n",
       "        [1, 2, 3, 7, 3],\n",
       "        [9, 0, 4, 4, 8],\n",
       "        [8, 3, 0, 1, 1]],\n",
       "\n",
       "       [[8, 0, 5, 5, 2],\n",
       "        [0, 4, 8, 5, 1],\n",
       "        [8, 2, 2, 1, 5],\n",
       "        [7, 7, 9, 3, 2]]])"
      ]
     },
     "execution_count": 67,
     "metadata": {},
     "output_type": "execute_result"
    }
   ],
   "source": [
    "x3[:3, :2, :3]\n",
    "x3[::-1, ::-1, ::-1]"
   ]
  },
  {
   "cell_type": "markdown",
   "metadata": {},
   "source": [
    "#### 获取数组的某一行，某一列"
   ]
  },
  {
   "cell_type": "code",
   "execution_count": 69,
   "metadata": {
    "ExecuteTime": {
     "end_time": "2019-10-15T06:30:52.320844Z",
     "start_time": "2019-10-15T06:30:52.316538Z"
    }
   },
   "outputs": [
    {
     "data": {
      "text/plain": [
       "array([[5, 3, 4, 5],\n",
       "       [3, 3, 7, 9],\n",
       "       [9, 9, 7, 3]])"
      ]
     },
     "execution_count": 69,
     "metadata": {},
     "output_type": "execute_result"
    }
   ],
   "source": [
    "x2"
   ]
  },
  {
   "cell_type": "code",
   "execution_count": 71,
   "metadata": {
    "ExecuteTime": {
     "end_time": "2019-10-15T06:31:38.143718Z",
     "start_time": "2019-10-15T06:31:38.135406Z"
    }
   },
   "outputs": [
    {
     "name": "stdout",
     "output_type": "stream",
     "text": [
      "[5 3 9]\n",
      "[3 3 7 9]\n",
      "[3 3 7 9]\n"
     ]
    }
   ],
   "source": [
    "print(x2[:, 0])  # 第一列\n",
    "\n",
    "print(x2[1, :])  # 第二行 \n",
    "print(x2[1])  # 作用同上"
   ]
  },
  {
   "cell_type": "markdown",
   "metadata": {},
   "source": [
    "#### 修改数组原来的数组也会改变\n"
   ]
  },
  {
   "cell_type": "code",
   "execution_count": 72,
   "metadata": {
    "ExecuteTime": {
     "end_time": "2019-10-15T06:32:41.408086Z",
     "start_time": "2019-10-15T06:32:41.403494Z"
    }
   },
   "outputs": [
    {
     "name": "stdout",
     "output_type": "stream",
     "text": [
      "[[5 3]\n",
      " [3 3]]\n"
     ]
    }
   ],
   "source": [
    "x2_sub = x2[:2, :2]\n",
    "print(x2_sub)"
   ]
  },
  {
   "cell_type": "code",
   "execution_count": 74,
   "metadata": {
    "ExecuteTime": {
     "end_time": "2019-10-15T06:33:12.187472Z",
     "start_time": "2019-10-15T06:33:12.183493Z"
    }
   },
   "outputs": [
    {
     "name": "stdout",
     "output_type": "stream",
     "text": [
      "[[999   3]\n",
      " [  3   3]]\n"
     ]
    }
   ],
   "source": [
    "x2_sub[0, 0] = 999\n",
    "print(x2_sub)"
   ]
  },
  {
   "cell_type": "code",
   "execution_count": 77,
   "metadata": {
    "ExecuteTime": {
     "end_time": "2019-10-15T06:36:19.634663Z",
     "start_time": "2019-10-15T06:36:19.628296Z"
    }
   },
   "outputs": [
    {
     "name": "stdout",
     "output_type": "stream",
     "text": [
      "[[3 3]\n",
      " [3 3]]\n",
      "[[999   3]\n",
      " [  3   3]]\n"
     ]
    }
   ],
   "source": [
    "#### 创建副本\n",
    "x2_sub_copy = x2[:2, :2].copy()\n",
    "x2_sub_copy[0,0] = 3\n",
    "print(x2_sub_copy)\n",
    "\n",
    "print(x2_sub)"
   ]
  },
  {
   "cell_type": "markdown",
   "metadata": {},
   "source": [
    "#### 数组变形\n",
    "+ arr.reshape((shape))  # size == shape\n",
    "  \n",
    "  the size of the initial array must match the size of the reshaped array"
   ]
  },
  {
   "cell_type": "code",
   "execution_count": 86,
   "metadata": {
    "ExecuteTime": {
     "end_time": "2019-10-15T06:44:33.919182Z",
     "start_time": "2019-10-15T06:44:33.911530Z"
    }
   },
   "outputs": [
    {
     "name": "stdout",
     "output_type": "stream",
     "text": [
      "[[1 2 3]\n",
      " [4 5 6]\n",
      " [7 8 9]]\n"
     ]
    }
   ],
   "source": [
    "re_arr = np.arange(1, 10).reshape((3,3))\n",
    "print(re_arr)"
   ]
  },
  {
   "cell_type": "code",
   "execution_count": 88,
   "metadata": {
    "ExecuteTime": {
     "end_time": "2019-10-15T06:48:52.654755Z",
     "start_time": "2019-10-15T06:48:52.650139Z"
    }
   },
   "outputs": [
    {
     "name": "stdout",
     "output_type": "stream",
     "text": [
      "[[[ 0  1  2  3  4]\n",
      "  [ 5  6  7  8  9]\n",
      "  [10 11 12 13 14]\n",
      "  [15 16 17 18 19]]\n",
      "\n",
      " [[20 21 22 23 24]\n",
      "  [25 26 27 28 29]\n",
      "  [30 31 32 33 34]\n",
      "  [35 36 37 38 39]]\n",
      "\n",
      " [[40 41 42 43 44]\n",
      "  [45 46 47 48 49]\n",
      "  [50 51 52 53 54]\n",
      "  [55 56 57 58 59]]]\n"
     ]
    }
   ],
   "source": [
    "re_arr = np.arange(60).reshape(3,4,5)\n",
    "print(re_arr)"
   ]
  },
  {
   "cell_type": "markdown",
   "metadata": {},
   "source": [
    "+ 通过切片实现"
   ]
  },
  {
   "cell_type": "code",
   "execution_count": 91,
   "metadata": {
    "ExecuteTime": {
     "end_time": "2019-10-15T06:51:54.483085Z",
     "start_time": "2019-10-15T06:51:54.476881Z"
    }
   },
   "outputs": [
    {
     "name": "stdout",
     "output_type": "stream",
     "text": [
      "[[1 2 3]]\n",
      "[[1]\n",
      " [2]\n",
      " [3]]\n"
     ]
    }
   ],
   "source": [
    "x = np.array([1,2,3])\n",
    "x2 = x[np.newaxis, :]  # 相当于 x.reshape((1,3))\n",
    "print(x2)\n",
    "\n",
    "x3 = x[:, np.newaxis]  # 相当于 x.reshape((3, 1))\n",
    "print(x3)"
   ]
  },
  {
   "cell_type": "code",
   "execution_count": 97,
   "metadata": {
    "ExecuteTime": {
     "end_time": "2019-10-15T06:54:31.269912Z",
     "start_time": "2019-10-15T06:54:31.262442Z"
    }
   },
   "outputs": [
    {
     "data": {
      "text/plain": [
       "array([[[ 0,  1,  2,  3,  4]],\n",
       "\n",
       "       [[ 5,  6,  7,  8,  9]],\n",
       "\n",
       "       [[10, 11, 12, 13, 14]],\n",
       "\n",
       "       [[15, 16, 17, 18, 19]],\n",
       "\n",
       "       [[20, 21, 22, 23, 24]]])"
      ]
     },
     "execution_count": 97,
     "metadata": {},
     "output_type": "execute_result"
    }
   ],
   "source": [
    "x = np.arange(25)\n",
    "x.reshape(5,1,5)"
   ]
  },
  {
   "cell_type": "markdown",
   "metadata": {},
   "source": [
    "#### 数组的拼接和分裂"
   ]
  },
  {
   "cell_type": "markdown",
   "metadata": {},
   "source": [
    "+ 拼接\n",
    "    + np.concatenate\n",
    "    + np.vstack\n",
    "    + np.hstack"
   ]
  },
  {
   "cell_type": "markdown",
   "metadata": {},
   "source": [
    "##### np.concatenate([])\n",
    "+ 一维数组"
   ]
  },
  {
   "cell_type": "code",
   "execution_count": 100,
   "metadata": {
    "ExecuteTime": {
     "end_time": "2019-10-15T06:57:09.524762Z",
     "start_time": "2019-10-15T06:57:09.517033Z"
    }
   },
   "outputs": [
    {
     "data": {
      "text/plain": [
       "array([1, 2, 3, 3, 2, 3])"
      ]
     },
     "execution_count": 100,
     "metadata": {},
     "output_type": "execute_result"
    }
   ],
   "source": [
    "x = np.array([1,2,3])\n",
    "y = np.array([3,2,3])\n",
    "np.concatenate([x, y])"
   ]
  },
  {
   "cell_type": "code",
   "execution_count": 102,
   "metadata": {
    "ExecuteTime": {
     "end_time": "2019-10-15T06:57:53.240373Z",
     "start_time": "2019-10-15T06:57:53.235549Z"
    }
   },
   "outputs": [
    {
     "data": {
      "text/plain": [
       "array([ 1,  2,  3,  3,  2,  3, 99,  9,  9,  9,  0])"
      ]
     },
     "execution_count": 102,
     "metadata": {},
     "output_type": "execute_result"
    }
   ],
   "source": [
    "z = [99,9,9,9,0]\n",
    "np.concatenate([x, y, z])"
   ]
  },
  {
   "cell_type": "markdown",
   "metadata": {},
   "source": [
    "+ 多维数组"
   ]
  },
  {
   "cell_type": "code",
   "execution_count": 120,
   "metadata": {
    "ExecuteTime": {
     "end_time": "2019-10-15T07:06:38.847506Z",
     "start_time": "2019-10-15T07:06:38.840327Z"
    }
   },
   "outputs": [
    {
     "name": "stdout",
     "output_type": "stream",
     "text": [
      "[[1 2 3]\n",
      " [4 5 6]\n",
      " [1 2 3]\n",
      " [4 5 6]]\n",
      "[[1 2 3 1 2 3]\n",
      " [4 5 6 4 5 6]]\n"
     ]
    }
   ],
   "source": [
    "grid = np.arange(1, 7).reshape((2,3))\n",
    "grid2 = np.concatenate([grid, grid])  # 沿第一个轴拼接，行拼接\n",
    "print(grid2)\n",
    "\n",
    "grid3 = np.concatenate([grid, grid],axis=1)  # 沿第二个轴拼接，列拼接\n",
    "print(grid3)"
   ]
  },
  {
   "cell_type": "code",
   "execution_count": 123,
   "metadata": {
    "ExecuteTime": {
     "end_time": "2019-10-15T07:06:58.617441Z",
     "start_time": "2019-10-15T07:06:58.605680Z"
    }
   },
   "outputs": [
    {
     "name": "stdout",
     "output_type": "stream",
     "text": [
      "[[[ 0  1  2]\n",
      "  [ 3  4  5]\n",
      "  [ 6  7  8]]\n",
      "\n",
      " [[ 9 10 11]\n",
      "  [12 13 14]\n",
      "  [15 16 17]]]\n",
      "--------------------------------------------------\n",
      "[[[ 0  1  2]\n",
      "  [ 3  4  5]\n",
      "  [ 6  7  8]]\n",
      "\n",
      " [[ 9 10 11]\n",
      "  [12 13 14]\n",
      "  [15 16 17]]\n",
      "\n",
      " [[ 0  1  2]\n",
      "  [ 3  4  5]\n",
      "  [ 6  7  8]]\n",
      "\n",
      " [[ 9 10 11]\n",
      "  [12 13 14]\n",
      "  [15 16 17]]]\n",
      "--------------------------------------------------\n",
      "[[[ 0  1  2]\n",
      "  [ 3  4  5]\n",
      "  [ 6  7  8]\n",
      "  [ 0  1  2]\n",
      "  [ 3  4  5]\n",
      "  [ 6  7  8]]\n",
      "\n",
      " [[ 9 10 11]\n",
      "  [12 13 14]\n",
      "  [15 16 17]\n",
      "  [ 9 10 11]\n",
      "  [12 13 14]\n",
      "  [15 16 17]]]\n",
      "--------------------------------------------------\n",
      "[[[ 0  1  2  0  1  2]\n",
      "  [ 3  4  5  3  4  5]\n",
      "  [ 6  7  8  6  7  8]]\n",
      "\n",
      " [[ 9 10 11  9 10 11]\n",
      "  [12 13 14 12 13 14]\n",
      "  [15 16 17 15 16 17]]]\n"
     ]
    }
   ],
   "source": [
    "grid = np.arange(18).reshape((2,3,3))\n",
    "print(grid)\n",
    "print(\"-\"*50)\n",
    "grid2 = np.concatenate([grid, grid], axis=0)\n",
    "print(grid2)\n",
    "\n",
    "print(\"-\"*50)\n",
    "grid2 = np.concatenate([grid, grid], axis=1)\n",
    "print(grid2)\n",
    "\n",
    "print(\"-\"*50)\n",
    "grid2 = np.concatenate([grid, grid], axis=2)\n",
    "print(grid2)"
   ]
  },
  {
   "cell_type": "markdown",
   "metadata": {},
   "source": [
    "+ 垂直栈，水平栈"
   ]
  },
  {
   "cell_type": "code",
   "execution_count": 126,
   "metadata": {
    "ExecuteTime": {
     "end_time": "2019-10-15T07:10:01.597869Z",
     "start_time": "2019-10-15T07:10:01.592214Z"
    }
   },
   "outputs": [
    {
     "name": "stdout",
     "output_type": "stream",
     "text": [
      "[[1 2 3]\n",
      " [7 8 9]\n",
      " [4 5 6]]\n"
     ]
    }
   ],
   "source": [
    "x1 = np.array([1,2,3])\n",
    "x2 = np.array([[7,8,9],\n",
    "               [4,5,6]])\n",
    "print(np.vstack([x1, x2]))"
   ]
  },
  {
   "cell_type": "code",
   "execution_count": 130,
   "metadata": {
    "ExecuteTime": {
     "end_time": "2019-10-15T07:11:19.838895Z",
     "start_time": "2019-10-15T07:11:19.834386Z"
    }
   },
   "outputs": [
    {
     "name": "stdout",
     "output_type": "stream",
     "text": [
      "[[  7   8   9  99 100]\n",
      " [  4   5   6  99 100]]\n"
     ]
    }
   ],
   "source": [
    "x3 = np.array([[99, 100], [99, 100]])\n",
    "print(np.hstack([x2, x3]))"
   ]
  },
  {
   "cell_type": "markdown",
   "metadata": {
    "ExecuteTime": {
     "end_time": "2019-10-15T07:11:39.689380Z",
     "start_time": "2019-10-15T07:11:39.687097Z"
    }
   },
   "source": [
    "##### 数组的分裂\n",
    "+ np.split(array, [分割点])\n",
    "+ np.hsplit\n",
    "+ np.vsplit"
   ]
  },
  {
   "cell_type": "code",
   "execution_count": 133,
   "metadata": {
    "ExecuteTime": {
     "end_time": "2019-10-15T10:38:51.923617Z",
     "start_time": "2019-10-15T10:38:51.910365Z"
    }
   },
   "outputs": [
    {
     "name": "stdout",
     "output_type": "stream",
     "text": [
      "[1 2 3] [99 99] [3 2 1]\n"
     ]
    }
   ],
   "source": [
    "x = [1, 2, 3, 99, 99,3, 2, 1]\n",
    "x1, x2, x3 = np.split(x, [3,5])\n",
    "print(x1, x2, x3)"
   ]
  }
 ],
 "metadata": {
  "kernelspec": {
   "display_name": "Python 3",
   "language": "python",
   "name": "python3"
  },
  "language_info": {
   "codemirror_mode": {
    "name": "ipython",
    "version": 3
   },
   "file_extension": ".py",
   "mimetype": "text/x-python",
   "name": "python",
   "nbconvert_exporter": "python",
   "pygments_lexer": "ipython3",
   "version": "3.7.3"
  },
  "toc": {
   "base_numbering": 1,
   "nav_menu": {},
   "number_sections": true,
   "sideBar": true,
   "skip_h1_title": false,
   "title_cell": "Table of Contents",
   "title_sidebar": "Contents",
   "toc_cell": false,
   "toc_position": {},
   "toc_section_display": true,
   "toc_window_display": false
  }
 },
 "nbformat": 4,
 "nbformat_minor": 2
}
