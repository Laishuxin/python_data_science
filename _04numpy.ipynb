{
 "cells": [
  {
   "cell_type": "code",
   "execution_count": 1,
   "metadata": {
    "ExecuteTime": {
     "end_time": "2019-10-15T04:33:45.277364Z",
     "start_time": "2019-10-15T04:33:45.264556Z"
    }
   },
   "outputs": [
    {
     "data": {
      "text/plain": [
       "'1.16.4'"
      ]
     },
     "execution_count": 1,
     "metadata": {},
     "output_type": "execute_result"
    }
   ],
   "source": [
    "import numpy as np\n",
    "\n",
    "np.__version__"
   ]
  },
  {
   "cell_type": "markdown",
   "metadata": {},
   "source": [
    "## python 列表不只是列表\n",
    "### python列表与c语言相比\n",
    "+ c语言之存放一种数据\n",
    "+ python列表保存数据之外，还携带了对象头（pyobject_HEAD），序列，引用"
   ]
  },
  {
   "cell_type": "markdown",
   "metadata": {},
   "source": [
    "### numpy array之存储了数据，对象头，维度，提高数据访问速度\n",
    "**numpy arrary 要求数据类型要一致**"
   ]
  },
  {
   "cell_type": "markdown",
   "metadata": {},
   "source": [
    "### 从python列表创建数组"
   ]
  },
  {
   "cell_type": "code",
   "execution_count": 2,
   "metadata": {
    "ExecuteTime": {
     "end_time": "2019-10-15T04:43:50.557060Z",
     "start_time": "2019-10-15T04:43:50.549451Z"
    }
   },
   "outputs": [
    {
     "data": {
      "text/plain": [
       "array([1, 2, 3, 5, 4])"
      ]
     },
     "execution_count": 2,
     "metadata": {},
     "output_type": "execute_result"
    }
   ],
   "source": [
    "# 整型数组\n",
    "np.array([1,2,3,5,4])"
   ]
  },
  {
   "cell_type": "markdown",
   "metadata": {},
   "source": [
    "**如果数组的数据类型不同，numpy会自动向上转换(如果可以话)，否则报错**"
   ]
  },
  {
   "cell_type": "code",
   "execution_count": 3,
   "metadata": {
    "ExecuteTime": {
     "end_time": "2019-10-15T04:46:00.565094Z",
     "start_time": "2019-10-15T04:46:00.551048Z"
    }
   },
   "outputs": [
    {
     "name": "stdout",
     "output_type": "stream",
     "text": [
      "[ 3.13 23.    5.    4.    5.  ]\n",
      "float64\n"
     ]
    }
   ],
   "source": [
    "arr = np.array([3.13,23,5,4,5])\n",
    "print(arr)\n",
    "print(arr.dtype)"
   ]
  },
  {
   "cell_type": "markdown",
   "metadata": {},
   "source": [
    "#### 指定数据类型"
   ]
  },
  {
   "cell_type": "code",
   "execution_count": 4,
   "metadata": {
    "ExecuteTime": {
     "end_time": "2019-10-15T04:47:19.103338Z",
     "start_time": "2019-10-15T04:47:19.092704Z"
    }
   },
   "outputs": [
    {
     "name": "stdout",
     "output_type": "stream",
     "text": [
      "[1. 2. 3. 4. 2. 4. 3.]\n",
      "float32\n"
     ]
    }
   ],
   "source": [
    "arr = np.array([1,2,3,4,2,4,3], dtype='float32')\n",
    "print(arr)\n",
    "print(arr.dtype)"
   ]
  },
  {
   "cell_type": "markdown",
   "metadata": {
    "ExecuteTime": {
     "end_time": "2019-10-15T04:47:44.427441Z",
     "start_time": "2019-10-15T04:47:44.420882Z"
    }
   },
   "source": [
    "#### 多维数组创建"
   ]
  },
  {
   "cell_type": "code",
   "execution_count": 5,
   "metadata": {
    "ExecuteTime": {
     "end_time": "2019-10-15T04:48:35.299521Z",
     "start_time": "2019-10-15T04:48:35.290955Z"
    }
   },
   "outputs": [
    {
     "name": "stdout",
     "output_type": "stream",
     "text": [
      "[[2 3 4]\n",
      " [4 5 6]\n",
      " [6 7 8]]\n",
      "(3, 3)\n"
     ]
    }
   ],
   "source": [
    "arr = np.array([range(i, i+3) for i in [2,4,6]])\n",
    "print(arr)\n",
    "print(arr.shape)"
   ]
  },
  {
   "cell_type": "markdown",
   "metadata": {},
   "source": [
    "#### 从头开始创建数组"
   ]
  },
  {
   "cell_type": "code",
   "execution_count": 6,
   "metadata": {
    "ExecuteTime": {
     "end_time": "2019-10-15T04:49:46.540444Z",
     "start_time": "2019-10-15T04:49:46.533113Z"
    }
   },
   "outputs": [
    {
     "name": "stdout",
     "output_type": "stream",
     "text": [
      "[0 0 0 0 0 0 0 0 0 0]\n"
     ]
    }
   ],
   "source": [
    "# 创建一个长度为10的数组，数组的值都是0\n",
    "arr = np.zeros(10, dtype=int)\n",
    "print(arr)"
   ]
  },
  {
   "cell_type": "code",
   "execution_count": 7,
   "metadata": {
    "ExecuteTime": {
     "end_time": "2019-10-15T04:53:08.978372Z",
     "start_time": "2019-10-15T04:53:08.970364Z"
    }
   },
   "outputs": [
    {
     "name": "stdout",
     "output_type": "stream",
     "text": [
      "[[1. 1. 1. 1. 1.]\n",
      " [1. 1. 1. 1. 1.]\n",
      " [1. 1. 1. 1. 1.]]\n"
     ]
    }
   ],
   "source": [
    "# np.ones((shape), dtype)\n",
    "# 创建一个3x5的浮点型数组，数值都是1\n",
    "arr = np.ones((3,5), dtype=float)\n",
    "print(arr)"
   ]
  },
  {
   "cell_type": "code",
   "execution_count": 8,
   "metadata": {
    "ExecuteTime": {
     "end_time": "2019-10-15T04:54:26.579190Z",
     "start_time": "2019-10-15T04:54:26.572417Z"
    }
   },
   "outputs": [
    {
     "name": "stdout",
     "output_type": "stream",
     "text": [
      "[[3.1 3.1 3.1 3.1 3.1]\n",
      " [3.1 3.1 3.1 3.1 3.1]\n",
      " [3.1 3.1 3.1 3.1 3.1]]\n"
     ]
    }
   ],
   "source": [
    "# 创建一个3x5的整型数组，数组的值都是3.1\n",
    "arr = np.full((3,5), 3.1)\n",
    "print(arr)"
   ]
  },
  {
   "cell_type": "code",
   "execution_count": 9,
   "metadata": {
    "ExecuteTime": {
     "end_time": "2019-10-15T04:55:36.317891Z",
     "start_time": "2019-10-15T04:55:36.311097Z"
    }
   },
   "outputs": [
    {
     "name": "stdout",
     "output_type": "stream",
     "text": [
      "[ 0  2  4  6  8 10 12 14 16 18]\n",
      "(10,)\n"
     ]
    }
   ],
   "source": [
    "# np.range(start, stop, step)\n",
    "arr = np.arange(0, 20, 2)  \n",
    "print(arr)\n",
    "print(arr.shape)"
   ]
  },
  {
   "cell_type": "code",
   "execution_count": 10,
   "metadata": {
    "ExecuteTime": {
     "end_time": "2019-10-15T04:58:21.365956Z",
     "start_time": "2019-10-15T04:58:21.360305Z"
    }
   },
   "outputs": [
    {
     "name": "stdout",
     "output_type": "stream",
     "text": [
      "[0.   0.25 0.5  0.75 1.  ]\n"
     ]
    }
   ],
   "source": [
    "# np.linspace(start, stop, num)\n",
    "# 创建一个5个元素的数组，将5个数均匀地分配到0-1\n",
    "arr = np.linspace(0,1,5)\n",
    "print(arr)"
   ]
  },
  {
   "cell_type": "code",
   "execution_count": 11,
   "metadata": {
    "ExecuteTime": {
     "end_time": "2019-10-15T04:59:34.381673Z",
     "start_time": "2019-10-15T04:59:34.372790Z"
    }
   },
   "outputs": [
    {
     "name": "stdout",
     "output_type": "stream",
     "text": [
      "[0.  0.5 1.  1.5 2.  2.5 3.  3.5 4.  4.5 5. ]\n",
      "(11,)\n"
     ]
    }
   ],
   "source": [
    "arr = np.linspace(0,5, 11)\n",
    "print(arr)\n",
    "print(arr.shape)"
   ]
  },
  {
   "cell_type": "code",
   "execution_count": 12,
   "metadata": {
    "ExecuteTime": {
     "end_time": "2019-10-15T05:00:38.899256Z",
     "start_time": "2019-10-15T05:00:38.890879Z"
    }
   },
   "outputs": [
    {
     "data": {
      "text/plain": [
       "array([[0.17153687, 0.76388066, 0.78641473],\n",
       "       [0.08986921, 0.87600181, 0.62366742],\n",
       "       [0.1816754 , 0.54447368, 0.22809101]])"
      ]
     },
     "execution_count": 12,
     "metadata": {},
     "output_type": "execute_result"
    }
   ],
   "source": [
    "# 创建一个3x3的、在0-1分布的随机数组成的数组\n",
    "np.random.random((3, 3))"
   ]
  },
  {
   "cell_type": "code",
   "execution_count": null,
   "metadata": {},
   "outputs": [],
   "source": []
  },
  {
   "cell_type": "code",
   "execution_count": 13,
   "metadata": {
    "ExecuteTime": {
     "end_time": "2019-10-15T05:04:42.590560Z",
     "start_time": "2019-10-15T05:04:42.581618Z"
    }
   },
   "outputs": [
    {
     "name": "stdout",
     "output_type": "stream",
     "text": [
      "[[-0.57397285 -0.94185349 -1.49485562]\n",
      " [-0.27853534  0.62028769 -1.47743202]\n",
      " [-0.97759032  1.79043629  0.44995927]]\n",
      "[[ 1.55057634  0.79296397  8.53298383]\n",
      " [ 6.35929619 -0.94344222  5.82306964]\n",
      " [13.83099125  7.09304246  4.30635134]]\n"
     ]
    }
   ],
   "source": [
    "# np.random.normal(mean, var, (shape)) \n",
    "# 创建一个正态分布，均值mean，方差ar，维度shape\n",
    "# 创建一个3x3的均值为0，方差为1的正态分布随即数组\n",
    "arr = np.random.normal(0,1,(3, 3))\n",
    "print(arr)\n",
    "\n",
    "arr2 = np.random.normal(5, 10, (3, 3))\n",
    "print(arr2)"
   ]
  },
  {
   "cell_type": "code",
   "execution_count": 14,
   "metadata": {
    "ExecuteTime": {
     "end_time": "2019-10-15T05:05:49.159403Z",
     "start_time": "2019-10-15T05:05:49.153170Z"
    }
   },
   "outputs": [
    {
     "name": "stdout",
     "output_type": "stream",
     "text": [
      "[[1 4 1]\n",
      " [7 0 2]\n",
      " [9 8 6]]\n"
     ]
    }
   ],
   "source": [
    "# 创建一个3✖3的【0， 10】区间的随即证书类型数据\n",
    "arr = np.random.randint(0, 10, (3, 3))\n",
    "print(arr)"
   ]
  },
  {
   "cell_type": "code",
   "execution_count": 15,
   "metadata": {
    "ExecuteTime": {
     "end_time": "2019-10-15T05:06:38.387472Z",
     "start_time": "2019-10-15T05:06:38.377994Z"
    }
   },
   "outputs": [
    {
     "name": "stdout",
     "output_type": "stream",
     "text": [
      "[[1. 0. 0.]\n",
      " [0. 1. 0.]\n",
      " [0. 0. 1.]]\n"
     ]
    }
   ],
   "source": [
    "# 创建3✖3的单位矩阵\n",
    "arr = np.eye(3)\n",
    "print(arr)"
   ]
  },
  {
   "cell_type": "code",
   "execution_count": 16,
   "metadata": {
    "ExecuteTime": {
     "end_time": "2019-10-15T05:07:43.341693Z",
     "start_time": "2019-10-15T05:07:43.337222Z"
    }
   },
   "outputs": [
    {
     "name": "stdout",
     "output_type": "stream",
     "text": [
      "[[1. 0. 0.]\n",
      " [0. 1. 0.]\n",
      " [0. 0. 1.]]\n"
     ]
    }
   ],
   "source": [
    "# 创建一个3✖3的空数组，数组里面的数据为垃圾数据\n",
    "arr = np.empty((3,3))\n",
    "print(arr)"
   ]
  },
  {
   "cell_type": "markdown",
   "metadata": {},
   "source": [
    "### numpy标准数据类型"
   ]
  },
  {
   "cell_type": "markdown",
   "metadata": {},
   "source": [
    "## numpy数组基础"
   ]
  },
  {
   "cell_type": "markdown",
   "metadata": {},
   "source": [
    "### numpy数组的属性\n"
   ]
  },
  {
   "cell_type": "code",
   "execution_count": 17,
   "metadata": {
    "ExecuteTime": {
     "end_time": "2019-10-15T06:07:37.658612Z",
     "start_time": "2019-10-15T06:07:37.651483Z"
    }
   },
   "outputs": [
    {
     "name": "stdout",
     "output_type": "stream",
     "text": [
      "[[[8 1 5 9 8]\n",
      "  [9 4 3 0 3]\n",
      "  [5 0 2 3 8]\n",
      "  [1 3 3 3 7]]\n",
      "\n",
      " [[0 1 9 9 0]\n",
      "  [4 7 3 2 7]\n",
      "  [2 0 0 4 5]\n",
      "  [5 6 8 4 1]]\n",
      "\n",
      " [[4 9 8 1 1]\n",
      "  [7 9 9 3 6]\n",
      "  [7 2 0 3 5]\n",
      "  [9 4 4 6 4]]]\n"
     ]
    }
   ],
   "source": [
    "import numpy as np\n",
    "np.random.seed(0)\n",
    "\n",
    "# np.random.randint(start, stop, size=(dim, shape))\n",
    "x1 = np.random.randint(10, size=6) # 一维数组\n",
    "x2 = np.random.randint(10, size=(3,4)) # 二维\n",
    "x3 = np.random.randint(10, size=(3, 4, 5))  # 三维\n",
    "# print(x1, end=\"\\n\")\n",
    "# print(x2, end=\"\\n\")\n",
    "print(x3)"
   ]
  },
  {
   "cell_type": "code",
   "execution_count": null,
   "metadata": {},
   "outputs": [],
   "source": []
  },
  {
   "cell_type": "markdown",
   "metadata": {},
   "source": [
    "#### 属性\n",
    "+ x.ndim(数组维度)\n",
    "+ x.shape(数组维度的大小)\n",
    "+ size(数组总大小)\n",
    "+ dtype(类型)"
   ]
  },
  {
   "cell_type": "code",
   "execution_count": 18,
   "metadata": {
    "ExecuteTime": {
     "end_time": "2019-10-15T06:12:25.465707Z",
     "start_time": "2019-10-15T06:12:25.457140Z"
    }
   },
   "outputs": [
    {
     "name": "stdout",
     "output_type": "stream",
     "text": [
      "x3 ndim:  3\n",
      "x3 shape:  (3, 4, 5)\n",
      "x3 size:  60\n",
      "x3 dtype:  int64\n"
     ]
    }
   ],
   "source": [
    "print(\"x3 ndim: \", x3.ndim)\n",
    "print(\"x3 shape: \", x3.shape)\n",
    "print(\"x3 size: \", x3.size)\n",
    "print(\"x3 dtype: \", x3.dtype)"
   ]
  },
  {
   "cell_type": "markdown",
   "metadata": {},
   "source": [
    "### 数组索引：获取单个元素"
   ]
  },
  {
   "cell_type": "markdown",
   "metadata": {
    "ExecuteTime": {
     "end_time": "2019-10-15T06:12:04.376323Z",
     "start_time": "2019-10-15T06:12:04.372044Z"
    }
   },
   "source": [
    "#### 一维：和python列表类似"
   ]
  },
  {
   "cell_type": "markdown",
   "metadata": {},
   "source": [
    "#### 多维：用逗号分割的索引元组获取元素"
   ]
  },
  {
   "cell_type": "code",
   "execution_count": 19,
   "metadata": {
    "ExecuteTime": {
     "end_time": "2019-10-15T06:17:28.863723Z",
     "start_time": "2019-10-15T06:17:28.853057Z"
    }
   },
   "outputs": [
    {
     "name": "stdout",
     "output_type": "stream",
     "text": [
      "[[3 5 2 4]\n",
      " [7 6 8 8]\n",
      " [1 6 7 7]]\n",
      "3\n",
      "4\n",
      "[[     3      5      2 100000]\n",
      " [     7      6      8      8]\n",
      " [     1      6      7      7]]\n"
     ]
    }
   ],
   "source": [
    "print(x2)\n",
    "print(x2[0, 0])\n",
    "print(x2[0, -1])\n",
    "\n",
    "# 修改元素值\n",
    "x2[0,-1] = 100000\n",
    "print(x2)"
   ]
  },
  {
   "cell_type": "code",
   "execution_count": 20,
   "metadata": {
    "ExecuteTime": {
     "end_time": "2019-10-15T06:18:50.676378Z",
     "start_time": "2019-10-15T06:18:50.668677Z"
    }
   },
   "outputs": [
    {
     "name": "stdout",
     "output_type": "stream",
     "text": [
      "[3 1 2 3 4 5 6 7 8 9]\n"
     ]
    }
   ],
   "source": [
    "# 若插入的类型不一样，数据会被修改\n",
    "x1 = np.arange(0, 10)\n",
    "x1[0] = 3.33333333333\n",
    "print(x1)"
   ]
  },
  {
   "cell_type": "code",
   "execution_count": null,
   "metadata": {},
   "outputs": [],
   "source": []
  },
  {
   "cell_type": "markdown",
   "metadata": {},
   "source": [
    "### 数组切片：获取子数组\n",
    "x[start: stop: step, start:stop:step,....]"
   ]
  },
  {
   "cell_type": "markdown",
   "metadata": {},
   "source": [
    "#### 一维子数组"
   ]
  },
  {
   "cell_type": "code",
   "execution_count": 21,
   "metadata": {
    "ExecuteTime": {
     "end_time": "2019-10-15T06:23:12.691485Z",
     "start_time": "2019-10-15T06:23:12.683927Z"
    }
   },
   "outputs": [
    {
     "name": "stdout",
     "output_type": "stream",
     "text": [
      "[0 1 2 3 4]\n",
      "[6 7 8 9]\n",
      "[1 2]\n",
      "[0 2 4 6 8]\n"
     ]
    }
   ],
   "source": [
    "x = np.arange(10)\n",
    "print(x[ :5])  # 前5个元素\n",
    "\n",
    "print(x[6:])  # 后5个元素\n",
    "\n",
    "print(x[1:3])  # 中间元素\n",
    "\n",
    "print(x[::2])  # 每隔一个元素\n",
    "\n"
   ]
  },
  {
   "cell_type": "markdown",
   "metadata": {},
   "source": [
    "\n",
    "#### 多维子数组\n",
    "x[start: stop: step, start:stop:step,....]  \n",
    "x[行， 列]"
   ]
  },
  {
   "cell_type": "code",
   "execution_count": 22,
   "metadata": {
    "ExecuteTime": {
     "end_time": "2019-10-15T06:25:42.667160Z",
     "start_time": "2019-10-15T06:25:42.661662Z"
    }
   },
   "outputs": [
    {
     "data": {
      "text/plain": [
       "array([[4, 3, 4, 4],\n",
       "       [8, 4, 3, 7],\n",
       "       [5, 5, 0, 1]])"
      ]
     },
     "execution_count": 22,
     "metadata": {},
     "output_type": "execute_result"
    }
   ],
   "source": [
    "x2 = np.random.randint(10, size=(3,4))\n",
    "x2"
   ]
  },
  {
   "cell_type": "raw",
   "metadata": {
    "ExecuteTime": {
     "end_time": "2019-10-15T06:26:11.299004Z",
     "start_time": "2019-10-15T06:26:11.294730Z"
    }
   },
   "source": [
    "print(x2[:2, :3]) # 前两行，前两列"
   ]
  },
  {
   "cell_type": "code",
   "execution_count": 23,
   "metadata": {
    "ExecuteTime": {
     "end_time": "2019-10-15T06:27:03.477030Z",
     "start_time": "2019-10-15T06:27:03.465503Z"
    }
   },
   "outputs": [
    {
     "data": {
      "text/plain": [
       "array([[[5, 9, 3, 0, 5],\n",
       "        [0, 1, 2, 4, 2],\n",
       "        [0, 3, 2, 0, 7],\n",
       "        [5, 9, 0, 2, 7]],\n",
       "\n",
       "       [[2, 9, 2, 3, 3],\n",
       "        [2, 3, 4, 1, 2],\n",
       "        [9, 1, 4, 6, 8],\n",
       "        [2, 3, 0, 0, 6]],\n",
       "\n",
       "       [[0, 6, 3, 3, 8],\n",
       "        [8, 8, 2, 3, 2],\n",
       "        [0, 8, 8, 3, 8],\n",
       "        [2, 8, 4, 3, 0]],\n",
       "\n",
       "       [[4, 3, 6, 9, 8],\n",
       "        [0, 8, 5, 9, 0],\n",
       "        [9, 6, 5, 3, 1],\n",
       "        [8, 0, 4, 9, 6]]])"
      ]
     },
     "execution_count": 23,
     "metadata": {},
     "output_type": "execute_result"
    }
   ],
   "source": [
    "x3 = np.random.randint(10, size=(4,4,5))\n",
    "x3"
   ]
  },
  {
   "cell_type": "code",
   "execution_count": 24,
   "metadata": {
    "ExecuteTime": {
     "end_time": "2019-10-15T06:28:33.134509Z",
     "start_time": "2019-10-15T06:28:33.128610Z"
    }
   },
   "outputs": [
    {
     "data": {
      "text/plain": [
       "array([[[6, 9, 4, 0, 8],\n",
       "        [1, 3, 5, 6, 9],\n",
       "        [0, 9, 5, 8, 0],\n",
       "        [8, 9, 6, 3, 4]],\n",
       "\n",
       "       [[0, 3, 4, 8, 2],\n",
       "        [8, 3, 8, 8, 0],\n",
       "        [2, 3, 2, 8, 8],\n",
       "        [8, 3, 3, 6, 0]],\n",
       "\n",
       "       [[6, 0, 0, 3, 2],\n",
       "        [8, 6, 4, 1, 9],\n",
       "        [2, 1, 4, 3, 2],\n",
       "        [3, 3, 2, 9, 2]],\n",
       "\n",
       "       [[7, 2, 0, 9, 5],\n",
       "        [7, 0, 2, 3, 0],\n",
       "        [2, 4, 2, 1, 0],\n",
       "        [5, 0, 3, 9, 5]]])"
      ]
     },
     "execution_count": 24,
     "metadata": {},
     "output_type": "execute_result"
    }
   ],
   "source": [
    "x3[:3, :2, :3]\n",
    "x3[::-1, ::-1, ::-1]"
   ]
  },
  {
   "cell_type": "markdown",
   "metadata": {},
   "source": [
    "#### 获取数组的某一行，某一列"
   ]
  },
  {
   "cell_type": "code",
   "execution_count": 25,
   "metadata": {
    "ExecuteTime": {
     "end_time": "2019-10-15T06:30:52.320844Z",
     "start_time": "2019-10-15T06:30:52.316538Z"
    }
   },
   "outputs": [
    {
     "data": {
      "text/plain": [
       "array([[4, 3, 4, 4],\n",
       "       [8, 4, 3, 7],\n",
       "       [5, 5, 0, 1]])"
      ]
     },
     "execution_count": 25,
     "metadata": {},
     "output_type": "execute_result"
    }
   ],
   "source": [
    "x2"
   ]
  },
  {
   "cell_type": "code",
   "execution_count": 26,
   "metadata": {
    "ExecuteTime": {
     "end_time": "2019-10-15T06:31:38.143718Z",
     "start_time": "2019-10-15T06:31:38.135406Z"
    }
   },
   "outputs": [
    {
     "name": "stdout",
     "output_type": "stream",
     "text": [
      "[4 8 5]\n",
      "[8 4 3 7]\n",
      "[8 4 3 7]\n"
     ]
    }
   ],
   "source": [
    "print(x2[:, 0])  # 第一列\n",
    "\n",
    "print(x2[1, :])  # 第二行 \n",
    "print(x2[1])  # 作用同上"
   ]
  },
  {
   "cell_type": "markdown",
   "metadata": {},
   "source": [
    "#### 修改数组原来的数组也会改变\n"
   ]
  },
  {
   "cell_type": "code",
   "execution_count": 27,
   "metadata": {
    "ExecuteTime": {
     "end_time": "2019-10-15T06:32:41.408086Z",
     "start_time": "2019-10-15T06:32:41.403494Z"
    }
   },
   "outputs": [
    {
     "name": "stdout",
     "output_type": "stream",
     "text": [
      "[[4 3]\n",
      " [8 4]]\n"
     ]
    }
   ],
   "source": [
    "x2_sub = x2[:2, :2]\n",
    "print(x2_sub)"
   ]
  },
  {
   "cell_type": "code",
   "execution_count": 28,
   "metadata": {
    "ExecuteTime": {
     "end_time": "2019-10-15T06:33:12.187472Z",
     "start_time": "2019-10-15T06:33:12.183493Z"
    }
   },
   "outputs": [
    {
     "name": "stdout",
     "output_type": "stream",
     "text": [
      "[[999   3]\n",
      " [  8   4]]\n"
     ]
    }
   ],
   "source": [
    "x2_sub[0, 0] = 999\n",
    "print(x2_sub)"
   ]
  },
  {
   "cell_type": "code",
   "execution_count": 29,
   "metadata": {
    "ExecuteTime": {
     "end_time": "2019-10-15T06:36:19.634663Z",
     "start_time": "2019-10-15T06:36:19.628296Z"
    }
   },
   "outputs": [
    {
     "name": "stdout",
     "output_type": "stream",
     "text": [
      "[[3 3]\n",
      " [8 4]]\n",
      "[[999   3]\n",
      " [  8   4]]\n"
     ]
    }
   ],
   "source": [
    "#### 创建副本\n",
    "x2_sub_copy = x2[:2, :2].copy()\n",
    "x2_sub_copy[0,0] = 3\n",
    "print(x2_sub_copy)\n",
    "\n",
    "print(x2_sub)"
   ]
  },
  {
   "cell_type": "markdown",
   "metadata": {},
   "source": [
    "#### 数组变形\n",
    "+ arr.reshape((shape))  # size == shape\n",
    "  \n",
    "  the size of the initial array must match the size of the reshaped array"
   ]
  },
  {
   "cell_type": "code",
   "execution_count": 30,
   "metadata": {
    "ExecuteTime": {
     "end_time": "2019-10-15T06:44:33.919182Z",
     "start_time": "2019-10-15T06:44:33.911530Z"
    }
   },
   "outputs": [
    {
     "name": "stdout",
     "output_type": "stream",
     "text": [
      "[[1 2 3]\n",
      " [4 5 6]\n",
      " [7 8 9]]\n"
     ]
    }
   ],
   "source": [
    "re_arr = np.arange(1, 10).reshape((3,3))\n",
    "print(re_arr)"
   ]
  },
  {
   "cell_type": "code",
   "execution_count": 31,
   "metadata": {
    "ExecuteTime": {
     "end_time": "2019-10-15T06:48:52.654755Z",
     "start_time": "2019-10-15T06:48:52.650139Z"
    }
   },
   "outputs": [
    {
     "name": "stdout",
     "output_type": "stream",
     "text": [
      "[[[ 0  1  2  3  4]\n",
      "  [ 5  6  7  8  9]\n",
      "  [10 11 12 13 14]\n",
      "  [15 16 17 18 19]]\n",
      "\n",
      " [[20 21 22 23 24]\n",
      "  [25 26 27 28 29]\n",
      "  [30 31 32 33 34]\n",
      "  [35 36 37 38 39]]\n",
      "\n",
      " [[40 41 42 43 44]\n",
      "  [45 46 47 48 49]\n",
      "  [50 51 52 53 54]\n",
      "  [55 56 57 58 59]]]\n"
     ]
    }
   ],
   "source": [
    "re_arr = np.arange(60).reshape(3,4,5)\n",
    "print(re_arr)"
   ]
  },
  {
   "cell_type": "markdown",
   "metadata": {},
   "source": [
    "+ 通过切片实现"
   ]
  },
  {
   "cell_type": "code",
   "execution_count": 32,
   "metadata": {
    "ExecuteTime": {
     "end_time": "2019-10-15T06:51:54.483085Z",
     "start_time": "2019-10-15T06:51:54.476881Z"
    }
   },
   "outputs": [
    {
     "name": "stdout",
     "output_type": "stream",
     "text": [
      "[[1 2 3]]\n",
      "[[1]\n",
      " [2]\n",
      " [3]]\n"
     ]
    }
   ],
   "source": [
    "x = np.array([1,2,3])\n",
    "x2 = x[np.newaxis, :]  # 相当于 x.reshape((1,3))\n",
    "print(x2)\n",
    "\n",
    "x3 = x[:, np.newaxis]  # 相当于 x.reshape((3, 1))\n",
    "print(x3)"
   ]
  },
  {
   "cell_type": "code",
   "execution_count": 33,
   "metadata": {
    "ExecuteTime": {
     "end_time": "2019-10-15T06:54:31.269912Z",
     "start_time": "2019-10-15T06:54:31.262442Z"
    }
   },
   "outputs": [
    {
     "data": {
      "text/plain": [
       "array([[[ 0,  1,  2,  3,  4]],\n",
       "\n",
       "       [[ 5,  6,  7,  8,  9]],\n",
       "\n",
       "       [[10, 11, 12, 13, 14]],\n",
       "\n",
       "       [[15, 16, 17, 18, 19]],\n",
       "\n",
       "       [[20, 21, 22, 23, 24]]])"
      ]
     },
     "execution_count": 33,
     "metadata": {},
     "output_type": "execute_result"
    }
   ],
   "source": [
    "x = np.arange(25)\n",
    "x.reshape(5,1,5)"
   ]
  },
  {
   "cell_type": "markdown",
   "metadata": {},
   "source": [
    "#### 数组的拼接和分裂"
   ]
  },
  {
   "cell_type": "markdown",
   "metadata": {},
   "source": [
    "+ 拼接\n",
    "    + np.concatenate\n",
    "    + np.vstack\n",
    "    + np.hstack"
   ]
  },
  {
   "cell_type": "markdown",
   "metadata": {},
   "source": [
    "##### np.concatenate([])\n",
    "+ 一维数组"
   ]
  },
  {
   "cell_type": "code",
   "execution_count": 34,
   "metadata": {
    "ExecuteTime": {
     "end_time": "2019-10-15T06:57:09.524762Z",
     "start_time": "2019-10-15T06:57:09.517033Z"
    }
   },
   "outputs": [
    {
     "data": {
      "text/plain": [
       "array([1, 2, 3, 3, 2, 3])"
      ]
     },
     "execution_count": 34,
     "metadata": {},
     "output_type": "execute_result"
    }
   ],
   "source": [
    "x = np.array([1,2,3])\n",
    "y = np.array([3,2,3])\n",
    "np.concatenate([x, y])"
   ]
  },
  {
   "cell_type": "code",
   "execution_count": 35,
   "metadata": {
    "ExecuteTime": {
     "end_time": "2019-10-15T06:57:53.240373Z",
     "start_time": "2019-10-15T06:57:53.235549Z"
    }
   },
   "outputs": [
    {
     "data": {
      "text/plain": [
       "array([ 1,  2,  3,  3,  2,  3, 99,  9,  9,  9,  0])"
      ]
     },
     "execution_count": 35,
     "metadata": {},
     "output_type": "execute_result"
    }
   ],
   "source": [
    "z = [99,9,9,9,0]\n",
    "np.concatenate([x, y, z])"
   ]
  },
  {
   "cell_type": "markdown",
   "metadata": {},
   "source": [
    "+ 多维数组"
   ]
  },
  {
   "cell_type": "code",
   "execution_count": 36,
   "metadata": {
    "ExecuteTime": {
     "end_time": "2019-10-15T07:06:38.847506Z",
     "start_time": "2019-10-15T07:06:38.840327Z"
    }
   },
   "outputs": [
    {
     "name": "stdout",
     "output_type": "stream",
     "text": [
      "[[1 2 3]\n",
      " [4 5 6]\n",
      " [1 2 3]\n",
      " [4 5 6]]\n",
      "[[1 2 3 1 2 3]\n",
      " [4 5 6 4 5 6]]\n"
     ]
    }
   ],
   "source": [
    "grid = np.arange(1, 7).reshape((2,3))\n",
    "grid2 = np.concatenate([grid, grid])  # 沿第一个轴拼接，行拼接\n",
    "print(grid2)\n",
    "\n",
    "grid3 = np.concatenate([grid, grid],axis=1)  # 沿第二个轴拼接，列拼接\n",
    "print(grid3)"
   ]
  },
  {
   "cell_type": "code",
   "execution_count": 37,
   "metadata": {
    "ExecuteTime": {
     "end_time": "2019-10-15T07:06:58.617441Z",
     "start_time": "2019-10-15T07:06:58.605680Z"
    }
   },
   "outputs": [
    {
     "name": "stdout",
     "output_type": "stream",
     "text": [
      "[[[ 0  1  2]\n",
      "  [ 3  4  5]\n",
      "  [ 6  7  8]]\n",
      "\n",
      " [[ 9 10 11]\n",
      "  [12 13 14]\n",
      "  [15 16 17]]]\n",
      "--------------------------------------------------\n",
      "[[[ 0  1  2]\n",
      "  [ 3  4  5]\n",
      "  [ 6  7  8]]\n",
      "\n",
      " [[ 9 10 11]\n",
      "  [12 13 14]\n",
      "  [15 16 17]]\n",
      "\n",
      " [[ 0  1  2]\n",
      "  [ 3  4  5]\n",
      "  [ 6  7  8]]\n",
      "\n",
      " [[ 9 10 11]\n",
      "  [12 13 14]\n",
      "  [15 16 17]]]\n",
      "--------------------------------------------------\n",
      "[[[ 0  1  2]\n",
      "  [ 3  4  5]\n",
      "  [ 6  7  8]\n",
      "  [ 0  1  2]\n",
      "  [ 3  4  5]\n",
      "  [ 6  7  8]]\n",
      "\n",
      " [[ 9 10 11]\n",
      "  [12 13 14]\n",
      "  [15 16 17]\n",
      "  [ 9 10 11]\n",
      "  [12 13 14]\n",
      "  [15 16 17]]]\n",
      "--------------------------------------------------\n",
      "[[[ 0  1  2  0  1  2]\n",
      "  [ 3  4  5  3  4  5]\n",
      "  [ 6  7  8  6  7  8]]\n",
      "\n",
      " [[ 9 10 11  9 10 11]\n",
      "  [12 13 14 12 13 14]\n",
      "  [15 16 17 15 16 17]]]\n"
     ]
    }
   ],
   "source": [
    "grid = np.arange(18).reshape((2,3,3))\n",
    "print(grid)\n",
    "print(\"-\"*50)\n",
    "grid2 = np.concatenate([grid, grid], axis=0)\n",
    "print(grid2)\n",
    "\n",
    "print(\"-\"*50)\n",
    "grid2 = np.concatenate([grid, grid], axis=1)\n",
    "print(grid2)\n",
    "\n",
    "print(\"-\"*50)\n",
    "grid2 = np.concatenate([grid, grid], axis=2)\n",
    "print(grid2)"
   ]
  },
  {
   "cell_type": "markdown",
   "metadata": {},
   "source": [
    "+ 垂直栈，水平栈"
   ]
  },
  {
   "cell_type": "code",
   "execution_count": 38,
   "metadata": {
    "ExecuteTime": {
     "end_time": "2019-10-15T07:10:01.597869Z",
     "start_time": "2019-10-15T07:10:01.592214Z"
    }
   },
   "outputs": [
    {
     "name": "stdout",
     "output_type": "stream",
     "text": [
      "[[1 2 3]\n",
      " [7 8 9]\n",
      " [4 5 6]]\n"
     ]
    }
   ],
   "source": [
    "x1 = np.array([1,2,3])\n",
    "x2 = np.array([[7,8,9],\n",
    "               [4,5,6]])\n",
    "print(np.vstack([x1, x2]))"
   ]
  },
  {
   "cell_type": "code",
   "execution_count": 39,
   "metadata": {
    "ExecuteTime": {
     "end_time": "2019-10-15T07:11:19.838895Z",
     "start_time": "2019-10-15T07:11:19.834386Z"
    }
   },
   "outputs": [
    {
     "name": "stdout",
     "output_type": "stream",
     "text": [
      "[[  7   8   9  99 100]\n",
      " [  4   5   6  99 100]]\n"
     ]
    }
   ],
   "source": [
    "x3 = np.array([[99, 100], [99, 100]])\n",
    "print(np.hstack([x2, x3]))"
   ]
  },
  {
   "cell_type": "markdown",
   "metadata": {
    "ExecuteTime": {
     "end_time": "2019-10-15T07:11:39.689380Z",
     "start_time": "2019-10-15T07:11:39.687097Z"
    }
   },
   "source": [
    "##### 数组的分裂\n",
    "+cnp.split(array, [分割点])  # N个分割点会得到n+1个子数组\n",
    "+ np.hsplit\n",
    "+ np.vsplit"
   ]
  },
  {
   "cell_type": "code",
   "execution_count": 40,
   "metadata": {
    "ExecuteTime": {
     "end_time": "2019-10-15T10:38:51.923617Z",
     "start_time": "2019-10-15T10:38:51.910365Z"
    }
   },
   "outputs": [
    {
     "name": "stdout",
     "output_type": "stream",
     "text": [
      "[1 2 3] [99 99] [3 2 1]\n"
     ]
    }
   ],
   "source": [
    "x = [1, 2, 3, 99, 99,3, 2, 1]\n",
    "x1, x2, x3 = np.split(x, [3,5])\n",
    "print(x1, x2, x3)"
   ]
  },
  {
   "cell_type": "code",
   "execution_count": 41,
   "metadata": {},
   "outputs": [
    {
     "data": {
      "text/plain": [
       "array([[ 0,  1,  2,  3],\n",
       "       [ 4,  5,  6,  7],\n",
       "       [ 8,  9, 10, 11],\n",
       "       [12, 13, 14, 15]])"
      ]
     },
     "execution_count": 41,
     "metadata": {},
     "output_type": "execute_result"
    }
   ],
   "source": [
    "grid = np.arange(16).reshape((4,4))\n",
    "grid"
   ]
  },
  {
   "cell_type": "code",
   "execution_count": 42,
   "metadata": {},
   "outputs": [
    {
     "name": "stdout",
     "output_type": "stream",
     "text": [
      "[[0 1 2 3]\n",
      " [4 5 6 7]]\n",
      "[[ 8  9 10 11]\n",
      " [12 13 14 15]]\n"
     ]
    }
   ],
   "source": [
    "upper, lower = np.vsplit(grid, [2])\n",
    "print(upper)\n",
    "print(lower)"
   ]
  },
  {
   "cell_type": "code",
   "execution_count": 43,
   "metadata": {},
   "outputs": [
    {
     "name": "stdout",
     "output_type": "stream",
     "text": [
      "[[ 0  1]\n",
      " [ 4  5]\n",
      " [ 8  9]\n",
      " [12 13]]\n",
      "[[ 2  3]\n",
      " [ 6  7]\n",
      " [10 11]\n",
      " [14 15]]\n"
     ]
    }
   ],
   "source": [
    "left, right = np.hsplit(grid, [2])\n",
    "print(left)\n",
    "print(right)"
   ]
  },
  {
   "cell_type": "code",
   "execution_count": 44,
   "metadata": {},
   "outputs": [
    {
     "name": "stdout",
     "output_type": "stream",
     "text": [
      "[[0 1 2 3]\n",
      " [4 5 6 7]]\n",
      "[[ 8  9 10 11]]\n",
      "[[12 13 14 15]]\n"
     ]
    }
   ],
   "source": [
    "upper, middler, lower = np.vsplit(grid, [2,3])\n",
    "print(upper)\n",
    "print(middler)\n",
    "print(lower)"
   ]
  },
  {
   "cell_type": "markdown",
   "metadata": {
    "scrolled": true
   },
   "source": [
    "### numpy数组的计算：通用函数\n"
   ]
  },
  {
   "cell_type": "markdown",
   "metadata": {},
   "source": [
    "### 缓慢的循环\n"
   ]
  },
  {
   "cell_type": "code",
   "execution_count": 45,
   "metadata": {},
   "outputs": [
    {
     "name": "stdout",
     "output_type": "stream",
     "text": [
      "[6 1 4 4 8]\n",
      "[0.16666667 1.         0.25       0.25       0.125     ]\n"
     ]
    }
   ],
   "source": [
    "import numpy as np\n",
    "np.random.seed(0)\n",
    "\n",
    "def compute_reciprocals(values):\n",
    "    output = np.empty(len(values))\n",
    "    for i in range(len(values)):\n",
    "        output[i] = 1.0/ values[i]\n",
    "    return output\n",
    "values = np.random.randint(1, 10, size=5)\n",
    "print(values)\n",
    "print(compute_reciprocals(values))"
   ]
  },
  {
   "cell_type": "code",
   "execution_count": 50,
   "metadata": {},
   "outputs": [
    {
     "name": "stdout",
     "output_type": "stream",
     "text": [
      "2.3 s ± 62.1 ms per loop (mean ± std. dev. of 7 runs, 1 loop each)\n"
     ]
    }
   ],
   "source": [
    "big_array = np.random.randint(1, 100, size=1000000)\n",
    "%timeit compute_reciprocals(big_array)"
   ]
  },
  {
   "cell_type": "markdown",
   "metadata": {},
   "source": [
    "### 通用函数介绍：\n"
   ]
  },
  {
   "cell_type": "code",
   "execution_count": 47,
   "metadata": {},
   "outputs": [
    {
     "name": "stdout",
     "output_type": "stream",
     "text": [
      "[0.16666667 1.         0.25       0.25       0.125     ]\n",
      "[0.16666667 1.         0.25       0.25       0.125     ]\n"
     ]
    }
   ],
   "source": [
    "print(compute_reciprocals(values))\n",
    "print(1.0/values)"
   ]
  },
  {
   "cell_type": "code",
   "execution_count": 48,
   "metadata": {},
   "outputs": [
    {
     "name": "stdout",
     "output_type": "stream",
     "text": [
      "CPU times: user 2.95 ms, sys: 0 ns, total: 2.95 ms\n",
      "Wall time: 3.1 ms\n"
     ]
    },
    {
     "data": {
      "text/plain": [
       "array([0.1       , 0.01190476, 0.04545455, ..., 0.01428571, 0.01098901,\n",
       "       0.01149425])"
      ]
     },
     "execution_count": 48,
     "metadata": {},
     "output_type": "execute_result"
    }
   ],
   "source": [
    "%time (1.0 / big_array)"
   ]
  },
  {
   "cell_type": "code",
   "execution_count": 52,
   "metadata": {},
   "outputs": [
    {
     "data": {
      "text/plain": [
       "array([0.        , 0.5       , 0.66666667, 0.75      , 0.8       ])"
      ]
     },
     "execution_count": 52,
     "metadata": {},
     "output_type": "execute_result"
    }
   ],
   "source": [
    "np.arange(5) / np.arange(1, 6)"
   ]
  },
  {
   "cell_type": "code",
   "execution_count": 54,
   "metadata": {},
   "outputs": [
    {
     "name": "stdout",
     "output_type": "stream",
     "text": [
      "[[  1   2   4]\n",
      " [  8  16  32]\n",
      " [ 64 128 256]]\n"
     ]
    }
   ],
   "source": [
    "x = np.arange(9).reshape((3,3))\n",
    "print(2**x)"
   ]
  },
  {
   "cell_type": "markdown",
   "metadata": {},
   "source": [
    "### 通用函数的形式\n",
    "+  一元通用函数：对单个输入操作\n",
    "+ 二元通用函数：对两个输入操作\n"
   ]
  },
  {
   "cell_type": "markdown",
   "metadata": {},
   "source": [
    "1. 数组的运算"
   ]
  },
  {
   "cell_type": "code",
   "execution_count": 58,
   "metadata": {},
   "outputs": [
    {
     "name": "stdout",
     "output_type": "stream",
     "text": [
      "x    = [0 1 2 3]\n",
      "x+5  = [5 6 7 8]\n",
      "x*5  = [ 0  5 10 15]\n",
      "x//2 = [0 0 1 1]\n"
     ]
    }
   ],
   "source": [
    "# 加减乘除\n",
    "\n",
    "x = np.arange(4)\n",
    "print(\"x    =\",x)\n",
    "print(\"x+5  =\", x+5)\n",
    "print('x*5  =', x*5)\n",
    "print(\"x//2 =\", x//2)\n"
   ]
  },
  {
   "attachments": {
    "%E5%9B%BE%E7%89%87.png": {
     "image/png": "[encoded data removed]"
    }
   },
   "cell_type": "markdown",
   "metadata": {},
   "source": [
    "numpy 实现的算数运算符\n",
    "![%E5%9B%BE%E7%89%87.png](attachment:%E5%9B%BE%E7%89%87.png)"
   ]
  },
  {
   "cell_type": "code",
   "execution_count": 61,
   "metadata": {},
   "outputs": [
    {
     "name": "stdout",
     "output_type": "stream",
     "text": [
      "[  2  31  43 231  32  31  31]\n",
      "[  2  31  43 231  32  31  31]\n",
      "[ 2.23606798  5.         21.          2.        ]\n"
     ]
    }
   ],
   "source": [
    "# 绝对值\n",
    "x = np.array([2,31,43,-231,-32,31,-31])\n",
    "print(abs(x))  # python自带的\n",
    "print(np.abs(x))  # numpy 的\n",
    "\n",
    "# 处理复数\n",
    "x = np.array([1+2j, 3-4j, 21, -2])\n",
    "print(np.abs(x))"
   ]
  },
  {
   "cell_type": "code",
   "execution_count": 71,
   "metadata": {},
   "outputs": [
    {
     "name": "stdout",
     "output_type": "stream",
     "text": [
      "theta       = [0.         1.57079633 3.14159265]\n",
      "sin(theta)  = 1.2246467991473532e-16\n",
      "cos(theta)  = [ 1.000000e+00  6.123234e-17 -1.000000e+00]\n",
      "tan(theta)  = [ 0.00000000e+00  1.63312394e+16 -1.22464680e-16]\n"
     ]
    }
   ],
   "source": [
    "# 三角函数\n",
    "theta = np.linspace(0, np.pi, 3)\n",
    "print('theta       =', theta)\n",
    "print('sin(theta)  =', np.sin(np.pi))\n",
    "print('cos(theta)  =', np.cos(theta))\n",
    "print('tan(theta)  =', np.tan(theta))\n",
    "\n",
    "# 由于是机器运算的，所有有些应该是0，但结果不是0"
   ]
  },
  {
   "cell_type": "code",
   "execution_count": 72,
   "metadata": {},
   "outputs": [
    {
     "name": "stdout",
     "output_type": "stream",
     "text": [
      "x      = [1, 2, 3]\n",
      "e^x    = [ 2.71828183  7.3890561  20.08553692]\n",
      "2^x    = [2. 4. 8.]\n",
      "3^x    = [ 3  9 27]\n"
     ]
    }
   ],
   "source": [
    "# 指数和对数\n",
    "\n",
    "x = [1, 2, 3]\n",
    "print('x      =', x)\n",
    "print('e^x    =', np.exp(x))\n",
    "print('2^x    =', np.exp2(x))\n",
    "print('3^x    =', np.power(3, x))\n"
   ]
  },
  {
   "cell_type": "code",
   "execution_count": 79,
   "metadata": {},
   "outputs": [
    {
     "name": "stdout",
     "output_type": "stream",
     "text": [
      "x       = [1, 2, 4, 10]\n",
      "ln(x)   = [0.         0.69314718 1.38629436 2.30258509]\n",
      "log2(x) = [0.         1.         2.         3.32192809]\n",
      "log10(x) = [0.         0.30103    0.60205999 1.        ]\n"
     ]
    }
   ],
   "source": [
    "x = [1, 2, 4 , 10]\n",
    "print('x       =', x)\n",
    "print(\"ln(x)   =\", np.log(x))\n",
    "print('log2(x) =',np.log2(x))\n",
    "print('log10(x) =',np.log10(x))\n",
    "np.log?"
   ]
  },
  {
   "cell_type": "markdown",
   "metadata": {},
   "source": [
    "\n",
    "### 高级的通用函数特性"
   ]
  },
  {
   "cell_type": "markdown",
   "metadata": {},
   "source": [
    "1. 指定输出（指定数组存放的位置）"
   ]
  },
  {
   "cell_type": "code",
   "execution_count": 84,
   "metadata": {},
   "outputs": [
    {
     "name": "stdout",
     "output_type": "stream",
     "text": [
      "[ 0. 10. 20. 30. 40.]\n"
     ]
    },
    {
     "data": {
      "text/plain": [
       "array([ 1.,  2.,  4.,  8., 16.])"
      ]
     },
     "execution_count": 84,
     "metadata": {},
     "output_type": "execute_result"
    }
   ],
   "source": [
    "x = np.arange(5)\n",
    "y = np.empty(5)\n",
    "np.multiply(x, 10, out=y)\n",
    "print(y)\n",
    "\n",
    "y2 = np.zeros(10)\n",
    "np.power(2, x, out=y2[::2])"
   ]
  },
  {
   "cell_type": "markdown",
   "metadata": {},
   "source": [
    "2. 聚合"
   ]
  },
  {
   "cell_type": "code",
   "execution_count": 85,
   "metadata": {},
   "outputs": [
    {
     "data": {
      "text/plain": [
       "15"
      ]
     },
     "execution_count": 85,
     "metadata": {},
     "output_type": "execute_result"
    }
   ],
   "source": [
    "x = np.arange(1, 6)\n",
    "np.add.reduce(x)"
   ]
  },
  {
   "cell_type": "code",
   "execution_count": 90,
   "metadata": {},
   "outputs": [
    {
     "data": {
      "text/plain": [
       "array([ 1,  3,  6, 10, 15])"
      ]
     },
     "execution_count": 90,
     "metadata": {},
     "output_type": "execute_result"
    }
   ],
   "source": [
    "# 输出中间结果\n",
    "np.add.accumulate(x)"
   ]
  },
  {
   "cell_type": "code",
   "execution_count": 100,
   "metadata": {},
   "outputs": [
    {
     "name": "stdout",
     "output_type": "stream",
     "text": [
      "[[ 1  2  3  4  5]\n",
      " [ 2  4  6  8 10]\n",
      " [ 3  6  9 12 15]\n",
      " [ 4  8 12 16 20]\n",
      " [ 5 10 15 20 25]]\n",
      "[[[2 3 4]\n",
      "  [2 3 4]]\n",
      "\n",
      " [[3 4 5]\n",
      "  [3 4 5]]\n",
      "\n",
      " [[4 5 6]\n",
      "  [4 5 6]]\n",
      "\n",
      " [[5 6 7]\n",
      "  [5 6 7]]\n",
      "\n",
      " [[6 7 8]\n",
      "  [6 7 8]]]\n",
      "(5, 2, 3)\n"
     ]
    }
   ],
   "source": [
    "# 外积\n",
    "x = np.arange(1, 6)\n",
    "y = np.arange(2, 7)\n",
    "print(np.multiply.outer(x, x))\n",
    "print(np.add.outer(x, [[1,2, 3],[1,2,3]]))\n",
    "print(np.add.outer(x, [[1,2, 3],[1,2,3]]).shape)\n",
    "\n"
   ]
  },
  {
   "cell_type": "markdown",
   "metadata": {},
   "source": [
    "## 聚合：最小值，最大值，和其他值"
   ]
  },
  {
   "cell_type": "markdown",
   "metadata": {},
   "source": [
    "### 数组值求和"
   ]
  },
  {
   "cell_type": "code",
   "execution_count": 101,
   "metadata": {},
   "outputs": [],
   "source": [
    "import numpy as np"
   ]
  },
  {
   "cell_type": "code",
   "execution_count": 108,
   "metadata": {},
   "outputs": [
    {
     "data": {
      "text/plain": [
       "4960.33811754377"
      ]
     },
     "execution_count": 108,
     "metadata": {},
     "output_type": "execute_result"
    }
   ],
   "source": [
    "L = np.random.random(10000)\n",
    "sum(L)\n"
   ]
  },
  {
   "cell_type": "code",
   "execution_count": 113,
   "metadata": {},
   "outputs": [
    {
     "name": "stdout",
     "output_type": "stream",
     "text": [
      "940 ms ± 43.4 ms per loop (mean ± std. dev. of 7 runs, 1 loop each)\n",
      "9.08 ms ± 131 µs per loop (mean ± std. dev. of 7 runs, 100 loops each)\n"
     ]
    }
   ],
   "source": [
    "big_array = np.random.rand(10000000)\n",
    "%timeit sum(big_array)\n",
    "%timeit np.sum(big_array)"
   ]
  },
  {
   "cell_type": "code",
   "execution_count": null,
   "metadata": {},
   "outputs": [],
   "source": [
    "bi_d"
   ]
  }
 ],
 "metadata": {
  "kernelspec": {
   "display_name": "Python 3",
   "language": "python",
   "name": "python3"
  },
  "language_info": {
   "codemirror_mode": {
    "name": "ipython",
    "version": 3
   },
   "file_extension": ".py",
   "mimetype": "text/x-python",
   "name": "python",
   "nbconvert_exporter": "python",
   "pygments_lexer": "ipython3",
   "version": "3.7.3"
  },
  "toc": {
   "base_numbering": 1,
   "nav_menu": {},
   "number_sections": true,
   "sideBar": true,
   "skip_h1_title": false,
   "title_cell": "Table of Contents",
   "title_sidebar": "Contents",
   "toc_cell": false,
   "toc_position": {},
   "toc_section_display": true,
   "toc_window_display": false
  }
 },
 "nbformat": 4,
 "nbformat_minor": 2
}
