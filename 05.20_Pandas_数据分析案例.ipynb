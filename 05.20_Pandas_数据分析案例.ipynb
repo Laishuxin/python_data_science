{
 "cells": [
  {
   "cell_type": "markdown",
   "metadata": {},
   "source": [
    "# 来自Bitly的USA.gov数据"
   ]
  },
  {
   "cell_type": "code",
   "execution_count": 99,
   "metadata": {
    "ExecuteTime": {
     "end_time": "2019-11-14T07:05:18.302882Z",
     "start_time": "2019-11-14T07:05:18.280331Z"
    }
   },
   "outputs": [],
   "source": [
    "import pandas  as pd\n",
    "import numpy as np\n",
    "import matplotlib.pyplot as plt\n",
    "import seaborn as sns\n",
    "sns.set(rc={'figure.dpi':200})"
   ]
  },
  {
   "cell_type": "code",
   "execution_count": 3,
   "metadata": {
    "ExecuteTime": {
     "end_time": "2019-11-14T06:17:41.707979Z",
     "start_time": "2019-11-14T06:17:41.696177Z"
    }
   },
   "outputs": [],
   "source": [
    "path = 'datasets/bitly_usagov/example.txt'"
   ]
  },
  {
   "cell_type": "code",
   "execution_count": 6,
   "metadata": {
    "ExecuteTime": {
     "end_time": "2019-11-14T06:18:46.477316Z",
     "start_time": "2019-11-14T06:18:46.462072Z"
    }
   },
   "outputs": [
    {
     "data": {
      "text/plain": [
       "'{ \"a\": \"Mozilla\\\\/5.0 (Windows NT 6.1; WOW64) AppleWebKit\\\\/535.11 (KHTML, like Gecko) Chrome\\\\/17.0.963.78 Safari\\\\/535.11\", \"c\": \"US\", \"nk\": 1, \"tz\": \"America\\\\/New_York\", \"gr\": \"MA\", \"g\": \"A6qOVH\", \"h\": \"wfLQtf\", \"l\": \"orofrog\", \"al\": \"en-US,en;q=0.8\", \"hh\": \"1.usa.gov\", \"r\": \"http:\\\\/\\\\/www.facebook.com\\\\/l\\\\/7AQEFzjSi\\\\/1.usa.gov\\\\/wfLQtf\", \"u\": \"http:\\\\/\\\\/www.ncbi.nlm.nih.gov\\\\/pubmed\\\\/22415991\", \"t\": 1331923247, \"hc\": 1331822918, \"cy\": \"Danvers\", \"ll\": [ 42.576698, -70.954903 ] }\\n'"
      ]
     },
     "execution_count": 6,
     "metadata": {},
     "output_type": "execute_result"
    }
   ],
   "source": [
    "# 这是一个以json格式存储的dataset\n",
    "open(path).readline()"
   ]
  },
  {
   "cell_type": "markdown",
   "metadata": {},
   "source": [
    "利用python第三方模块json解析datasets\n"
   ]
  },
  {
   "cell_type": "code",
   "execution_count": 15,
   "metadata": {
    "ExecuteTime": {
     "end_time": "2019-11-14T06:24:05.558593Z",
     "start_time": "2019-11-14T06:24:05.462795Z"
    }
   },
   "outputs": [],
   "source": [
    "import json\n",
    "records = []\n",
    "with open(path, 'r') as f:\n",
    "    for line in f.readlines():\n",
    "        records.append(json.loads(line))"
   ]
  },
  {
   "cell_type": "code",
   "execution_count": 18,
   "metadata": {
    "ExecuteTime": {
     "end_time": "2019-11-14T06:24:28.304759Z",
     "start_time": "2019-11-14T06:24:28.290739Z"
    }
   },
   "outputs": [
    {
     "data": {
      "text/plain": [
       "{'a': 'Mozilla/5.0 (Windows NT 6.1; WOW64) AppleWebKit/535.11 (KHTML, like Gecko) Chrome/17.0.963.78 Safari/535.11',\n",
       " 'c': 'US',\n",
       " 'nk': 1,\n",
       " 'tz': 'America/New_York',\n",
       " 'gr': 'MA',\n",
       " 'g': 'A6qOVH',\n",
       " 'h': 'wfLQtf',\n",
       " 'l': 'orofrog',\n",
       " 'al': 'en-US,en;q=0.8',\n",
       " 'hh': '1.usa.gov',\n",
       " 'r': 'http://www.facebook.com/l/7AQEFzjSi/1.usa.gov/wfLQtf',\n",
       " 'u': 'http://www.ncbi.nlm.nih.gov/pubmed/22415991',\n",
       " 't': 1331923247,\n",
       " 'hc': 1331822918,\n",
       " 'cy': 'Danvers',\n",
       " 'll': [42.576698, -70.954903]}"
      ]
     },
     "execution_count": 18,
     "metadata": {},
     "output_type": "execute_result"
    }
   ],
   "source": [
    "records[0]"
   ]
  },
  {
   "cell_type": "markdown",
   "metadata": {},
   "source": [
    "## 用纯python代码对时区进行计数"
   ]
  },
  {
   "cell_type": "markdown",
   "metadata": {},
   "source": [
    "获取时区,，由于里面存在一些数据没有时区，默认设置为None值"
   ]
  },
  {
   "cell_type": "code",
   "execution_count": 27,
   "metadata": {
    "ExecuteTime": {
     "end_time": "2019-11-14T06:28:06.277974Z",
     "start_time": "2019-11-14T06:28:06.249401Z"
    }
   },
   "outputs": [
    {
     "data": {
      "text/plain": [
       "['America/New_York',\n",
       " 'America/Denver',\n",
       " 'America/New_York',\n",
       " 'America/Sao_Paulo',\n",
       " 'America/New_York',\n",
       " 'America/New_York',\n",
       " 'Europe/Warsaw',\n",
       " '',\n",
       " '',\n",
       " '',\n",
       " 'America/Los_Angeles',\n",
       " 'America/New_York',\n",
       " 'America/New_York',\n",
       " None,\n",
       " 'America/New_York',\n",
       " 'Asia/Hong_Kong',\n",
       " 'Asia/Hong_Kong',\n",
       " 'America/New_York',\n",
       " 'America/Denver',\n",
       " 'Europe/Rome',\n",
       " 'Africa/Ceuta',\n",
       " 'America/New_York',\n",
       " 'America/New_York',\n",
       " 'America/New_York',\n",
       " 'Europe/Madrid',\n",
       " 'Asia/Kuala_Lumpur',\n",
       " 'Asia/Nicosia',\n",
       " 'America/Sao_Paulo',\n",
       " '',\n",
       " '',\n",
       " 'Europe/London',\n",
       " 'America/New_York',\n",
       " 'Pacific/Honolulu',\n",
       " 'America/Chicago',\n",
       " '',\n",
       " '',\n",
       " 'Pacific/Honolulu',\n",
       " '',\n",
       " 'America/New_York',\n",
       " 'America/New_York',\n",
       " 'America/New_York',\n",
       " 'America/Chicago',\n",
       " 'Europe/Rome',\n",
       " 'America/New_York',\n",
       " 'America/New_York',\n",
       " 'America/Los_Angeles',\n",
       " '',\n",
       " '',\n",
       " 'America/New_York',\n",
       " 'America/New_York',\n",
       " 'Europe/Malta',\n",
       " 'America/New_York',\n",
       " 'America/New_York',\n",
       " '',\n",
       " 'America/Los_Angeles',\n",
       " None,\n",
       " 'America/Sao_Paulo',\n",
       " '',\n",
       " 'Asia/Hong_Kong',\n",
       " 'Asia/Hong_Kong',\n",
       " 'Pacific/Honolulu',\n",
       " 'Pacific/Honolulu',\n",
       " 'Pacific/Honolulu',\n",
       " 'America/New_York',\n",
       " 'Europe/London',\n",
       " 'America/New_York',\n",
       " '',\n",
       " 'Europe/Lisbon',\n",
       " 'Europe/Paris',\n",
       " 'Europe/London',\n",
       " 'Europe/Copenhagen',\n",
       " '',\n",
       " 'Europe/Rome',\n",
       " 'America/New_York',\n",
       " 'America/New_York',\n",
       " '',\n",
       " 'Europe/London',\n",
       " 'Europe/Rome',\n",
       " 'America/New_York',\n",
       " 'America/Chicago',\n",
       " 'America/New_York',\n",
       " 'Europe/Paris',\n",
       " 'America/Denver',\n",
       " '',\n",
       " '',\n",
       " 'America/Los_Angeles',\n",
       " 'America/Mazatlan',\n",
       " '',\n",
       " 'Europe/Dublin',\n",
       " 'America/New_York',\n",
       " 'Asia/Hong_Kong',\n",
       " 'Asia/Hong_Kong',\n",
       " None,\n",
       " 'America/New_York',\n",
       " '',\n",
       " 'America/New_York',\n",
       " 'Europe/Brussels',\n",
       " 'America/Sao_Paulo',\n",
       " 'America/New_York',\n",
       " 'America/Vancouver',\n",
       " 'America/New_York',\n",
       " 'Europe/Amsterdam',\n",
       " 'Europe/Prague',\n",
       " 'America/New_York',\n",
       " 'America/Denver',\n",
       " '',\n",
       " 'America/New_York',\n",
       " 'America/New_York',\n",
       " 'Europe/Stockholm',\n",
       " 'America/New_York',\n",
       " 'America/Sao_Paulo',\n",
       " 'America/Anchorage',\n",
       " 'America/New_York',\n",
       " 'America/New_York',\n",
       " 'America/New_York',\n",
       " 'America/New_York',\n",
       " 'America/New_York',\n",
       " 'Asia/Kuala_Lumpur',\n",
       " '',\n",
       " '',\n",
       " 'America/Chicago',\n",
       " 'America/Chicago',\n",
       " 'America/New_York',\n",
       " 'Asia/Bangkok',\n",
       " 'Europe/Berlin',\n",
       " 'America/Los_Angeles',\n",
       " 'America/Denver',\n",
       " 'Europe/Rome',\n",
       " 'America/New_York',\n",
       " '',\n",
       " 'America/New_York',\n",
       " 'America/Rainy_River',\n",
       " 'America/New_York',\n",
       " 'America/Los_Angeles',\n",
       " 'America/New_York',\n",
       " None,\n",
       " 'America/Denver',\n",
       " 'America/New_York',\n",
       " 'America/New_York',\n",
       " 'Europe/Warsaw',\n",
       " 'America/New_York',\n",
       " 'America/New_York',\n",
       " 'America/New_York',\n",
       " 'America/New_York',\n",
       " 'Europe/Rome',\n",
       " 'America/Chicago',\n",
       " 'Europe/Warsaw',\n",
       " 'America/Denver',\n",
       " 'Europe/Warsaw',\n",
       " 'Europe/Rome',\n",
       " 'America/New_York',\n",
       " 'America/Los_Angeles',\n",
       " '',\n",
       " 'America/Los_Angeles',\n",
       " 'Pacific/Honolulu',\n",
       " 'America/New_York',\n",
       " 'America/Denver',\n",
       " 'Europe/Berlin',\n",
       " '',\n",
       " 'America/Chicago',\n",
       " 'America/Chicago',\n",
       " 'America/New_York',\n",
       " 'Europe/Prague',\n",
       " None,\n",
       " 'America/Denver',\n",
       " 'America/Chicago',\n",
       " 'Europe/Madrid',\n",
       " 'America/Sao_Paulo',\n",
       " 'America/New_York',\n",
       " '',\n",
       " '',\n",
       " 'Europe/Budapest',\n",
       " 'Asia/Bangkok',\n",
       " '',\n",
       " 'America/Los_Angeles',\n",
       " '',\n",
       " 'America/Anchorage',\n",
       " 'America/New_York',\n",
       " 'Europe/Warsaw',\n",
       " 'America/Chicago',\n",
       " 'America/New_York',\n",
       " '',\n",
       " '',\n",
       " 'Europe/Madrid',\n",
       " 'Asia/Tokyo',\n",
       " 'America/Denver',\n",
       " 'Europe/London',\n",
       " '',\n",
       " 'America/New_York',\n",
       " 'Pacific/Honolulu',\n",
       " 'America/Chicago',\n",
       " 'America/New_York',\n",
       " 'Europe/Vienna',\n",
       " None,\n",
       " 'America/New_York',\n",
       " 'America/New_York',\n",
       " 'America/Denver',\n",
       " 'America/Chicago',\n",
       " 'Pacific/Honolulu',\n",
       " 'America/New_York',\n",
       " 'America/Phoenix',\n",
       " 'America/New_York',\n",
       " '',\n",
       " 'America/Los_Angeles',\n",
       " 'Europe/Lisbon',\n",
       " 'America/Los_Angeles',\n",
       " 'America/New_York',\n",
       " 'Europe/Madrid',\n",
       " '',\n",
       " 'Pacific/Honolulu',\n",
       " 'Pacific/Honolulu',\n",
       " 'America/Denver',\n",
       " 'America/Chicago',\n",
       " 'America/Los_Angeles',\n",
       " 'America/Rainy_River',\n",
       " '',\n",
       " 'America/Chicago',\n",
       " 'Asia/Jerusalem',\n",
       " 'Europe/Dublin',\n",
       " 'America/New_York',\n",
       " 'Asia/Karachi',\n",
       " 'America/Los_Angeles',\n",
       " 'Pacific/Honolulu',\n",
       " 'Europe/Vienna',\n",
       " 'Pacific/Honolulu',\n",
       " 'America/Chicago',\n",
       " None,\n",
       " 'America/New_York',\n",
       " 'America/Chicago',\n",
       " 'Europe/Madrid',\n",
       " 'America/Denver',\n",
       " 'America/Bogota',\n",
       " 'America/Indianapolis',\n",
       " '',\n",
       " 'America/Rainy_River',\n",
       " 'America/New_York',\n",
       " 'America/Chicago',\n",
       " 'America/Montreal',\n",
       " 'Asia/Calcutta',\n",
       " 'America/New_York',\n",
       " 'Europe/Stockholm',\n",
       " 'Europe/Vienna',\n",
       " 'America/Denver',\n",
       " 'Europe/Lisbon',\n",
       " 'Europe/London',\n",
       " 'Europe/Vienna',\n",
       " 'Europe/Amsterdam',\n",
       " 'Europe/Skopje',\n",
       " 'America/Chicago',\n",
       " 'America/Chicago',\n",
       " '',\n",
       " 'America/Rainy_River',\n",
       " '',\n",
       " 'America/New_York',\n",
       " 'Europe/London',\n",
       " '',\n",
       " 'Europe/Prague',\n",
       " '',\n",
       " 'America/New_York',\n",
       " 'Europe/London',\n",
       " 'Europe/Berlin',\n",
       " None,\n",
       " 'America/New_York',\n",
       " 'America/New_York',\n",
       " '',\n",
       " 'America/Chicago',\n",
       " 'Europe/Madrid',\n",
       " 'America/Vancouver',\n",
       " 'Europe/Madrid',\n",
       " 'America/Indianapolis',\n",
       " 'America/Chicago',\n",
       " 'America/New_York',\n",
       " 'America/Rainy_River',\n",
       " 'Europe/Madrid',\n",
       " 'Asia/Beirut',\n",
       " 'America/New_York',\n",
       " 'Europe/Madrid',\n",
       " 'America/New_York',\n",
       " 'America/New_York',\n",
       " 'America/New_York',\n",
       " 'Europe/London',\n",
       " 'Europe/Berlin',\n",
       " 'America/New_York',\n",
       " 'Australia/NSW',\n",
       " 'America/Denver',\n",
       " 'America/Los_Angeles',\n",
       " 'America/Los_Angeles',\n",
       " 'America/New_York',\n",
       " 'America/New_York',\n",
       " 'America/New_York',\n",
       " 'America/New_York',\n",
       " 'America/Chicago',\n",
       " 'America/New_York',\n",
       " 'America/New_York',\n",
       " 'Europe/Rome',\n",
       " None,\n",
       " '',\n",
       " 'Europe/Budapest',\n",
       " 'America/New_York',\n",
       " 'America/New_York',\n",
       " 'America/New_York',\n",
       " 'Europe/Rome',\n",
       " 'America/New_York',\n",
       " 'America/Denver',\n",
       " '',\n",
       " 'Europe/London',\n",
       " 'America/New_York',\n",
       " 'America/Los_Angeles',\n",
       " 'America/Chicago',\n",
       " 'America/Vancouver',\n",
       " 'Europe/Berlin',\n",
       " 'America/New_York',\n",
       " 'America/Chicago',\n",
       " '',\n",
       " 'America/New_York',\n",
       " 'America/Los_Angeles',\n",
       " 'America/Los_Angeles',\n",
       " 'America/Los_Angeles',\n",
       " 'America/Chicago',\n",
       " 'America/New_York',\n",
       " 'America/New_York',\n",
       " 'Pacific/Honolulu',\n",
       " 'America/New_York',\n",
       " 'America/Los_Angeles',\n",
       " 'America/New_York',\n",
       " 'Pacific/Honolulu',\n",
       " '',\n",
       " None,\n",
       " 'Europe/Madrid',\n",
       " 'Europe/Paris',\n",
       " 'America/New_York',\n",
       " 'Asia/Karachi',\n",
       " '',\n",
       " 'America/New_York',\n",
       " 'America/New_York',\n",
       " 'America/New_York',\n",
       " 'America/Chicago',\n",
       " 'America/New_York',\n",
       " 'America/New_York',\n",
       " 'America/New_York',\n",
       " '',\n",
       " 'America/Los_Angeles',\n",
       " 'America/Chicago',\n",
       " 'Europe/Berlin',\n",
       " 'America/Los_Angeles',\n",
       " 'America/New_York',\n",
       " 'America/Los_Angeles',\n",
       " 'America/New_York',\n",
       " 'America/Los_Angeles',\n",
       " 'Chile/Continental',\n",
       " '',\n",
       " 'America/Denver',\n",
       " '',\n",
       " 'America/Los_Angeles',\n",
       " 'America/New_York',\n",
       " 'America/New_York',\n",
       " 'America/Chicago',\n",
       " None,\n",
       " '',\n",
       " '',\n",
       " 'America/Halifax',\n",
       " 'America/New_York',\n",
       " 'America/Denver',\n",
       " '',\n",
       " '',\n",
       " 'America/Chicago',\n",
       " 'America/Chicago',\n",
       " 'America/New_York',\n",
       " 'America/Chicago',\n",
       " 'America/Vancouver',\n",
       " '',\n",
       " '',\n",
       " '',\n",
       " 'America/Denver',\n",
       " '',\n",
       " 'America/Chicago',\n",
       " 'America/Los_Angeles',\n",
       " 'Europe/Madrid',\n",
       " '',\n",
       " 'Pacific/Honolulu',\n",
       " '',\n",
       " '',\n",
       " '',\n",
       " 'Pacific/Honolulu',\n",
       " 'America/Indianapolis',\n",
       " '',\n",
       " 'America/New_York',\n",
       " 'America/Chicago',\n",
       " '',\n",
       " 'America/New_York',\n",
       " 'Asia/Calcutta',\n",
       " 'Europe/Stockholm',\n",
       " None,\n",
       " '',\n",
       " 'America/Los_Angeles',\n",
       " 'America/New_York',\n",
       " 'America/Denver',\n",
       " 'America/New_York',\n",
       " 'America/Denver',\n",
       " 'America/New_York',\n",
       " 'Europe/Warsaw',\n",
       " 'America/Los_Angeles',\n",
       " 'America/Chicago',\n",
       " '',\n",
       " 'America/New_York',\n",
       " 'America/Denver',\n",
       " 'America/New_York',\n",
       " 'America/Chicago',\n",
       " '',\n",
       " 'Europe/Warsaw',\n",
       " 'America/Los_Angeles',\n",
       " 'Europe/Amsterdam',\n",
       " 'America/Chicago',\n",
       " 'America/New_York',\n",
       " 'America/New_York',\n",
       " 'America/New_York',\n",
       " 'Europe/Rome',\n",
       " 'America/Edmonton',\n",
       " 'America/New_York',\n",
       " None,\n",
       " 'America/Los_Angeles',\n",
       " 'America/Phoenix',\n",
       " 'America/Denver',\n",
       " 'America/Los_Angeles',\n",
       " 'America/Phoenix',\n",
       " 'America/Los_Angeles',\n",
       " '',\n",
       " 'America/New_York',\n",
       " 'America/Chicago',\n",
       " 'America/New_York',\n",
       " 'America/New_York',\n",
       " 'America/New_York',\n",
       " 'America/Los_Angeles',\n",
       " 'America/New_York',\n",
       " 'Asia/Tokyo',\n",
       " 'Pacific/Honolulu',\n",
       " 'America/Los_Angeles',\n",
       " 'America/Chicago',\n",
       " 'America/New_York',\n",
       " '',\n",
       " 'America/New_York',\n",
       " 'America/Chicago',\n",
       " 'America/New_York',\n",
       " 'America/Los_Angeles',\n",
       " 'America/New_York',\n",
       " 'America/Los_Angeles',\n",
       " 'America/New_York',\n",
       " 'Europe/Brussels',\n",
       " 'America/Denver',\n",
       " 'Europe/Bratislava',\n",
       " 'America/Los_Angeles',\n",
       " 'America/New_York',\n",
       " 'America/New_York',\n",
       " None,\n",
       " 'America/New_York',\n",
       " 'Europe/Madrid',\n",
       " 'America/New_York',\n",
       " 'America/New_York',\n",
       " 'America/New_York',\n",
       " 'America/New_York',\n",
       " 'America/New_York',\n",
       " 'America/Recife',\n",
       " '',\n",
       " 'America/New_York',\n",
       " 'America/New_York',\n",
       " 'America/New_York',\n",
       " 'America/Chicago',\n",
       " 'Africa/Cairo',\n",
       " 'America/New_York',\n",
       " 'Asia/Istanbul',\n",
       " 'America/New_York',\n",
       " '',\n",
       " 'America/New_York',\n",
       " 'Europe/London',\n",
       " '',\n",
       " '',\n",
       " 'America/Vancouver',\n",
       " 'America/Los_Angeles',\n",
       " '',\n",
       " 'America/Los_Angeles',\n",
       " 'America/New_York',\n",
       " 'America/New_York',\n",
       " 'America/Denver',\n",
       " 'Asia/Tokyo',\n",
       " 'America/Chicago',\n",
       " 'America/Chicago',\n",
       " '',\n",
       " 'America/New_York',\n",
       " 'America/New_York',\n",
       " 'Europe/London',\n",
       " 'Pacific/Honolulu',\n",
       " 'Europe/Berlin',\n",
       " 'America/Chicago',\n",
       " 'America/New_York',\n",
       " '',\n",
       " 'America/Los_Angeles',\n",
       " 'Asia/Istanbul',\n",
       " 'Europe/London',\n",
       " 'Asia/Novosibirsk',\n",
       " 'America/Los_Angeles',\n",
       " '',\n",
       " None,\n",
       " 'America/Chicago',\n",
       " 'America/Montreal',\n",
       " 'America/Denver',\n",
       " 'America/New_York',\n",
       " 'America/New_York',\n",
       " 'America/New_York',\n",
       " '',\n",
       " 'America/Los_Angeles',\n",
       " 'Pacific/Honolulu',\n",
       " 'Asia/Istanbul',\n",
       " 'America/New_York',\n",
       " 'Asia/Bangkok',\n",
       " 'America/New_York',\n",
       " 'America/Los_Angeles',\n",
       " '',\n",
       " 'America/New_York',\n",
       " 'America/New_York',\n",
       " 'Asia/Tokyo',\n",
       " '',\n",
       " '',\n",
       " 'America/New_York',\n",
       " 'America/New_York',\n",
       " '',\n",
       " 'America/Rainy_River',\n",
       " 'America/New_York',\n",
       " 'America/New_York',\n",
       " 'America/New_York',\n",
       " 'America/New_York',\n",
       " 'America/Chicago',\n",
       " 'America/New_York',\n",
       " '',\n",
       " '',\n",
       " None,\n",
       " 'America/Rainy_River',\n",
       " 'America/New_York',\n",
       " '',\n",
       " '',\n",
       " 'America/New_York',\n",
       " 'America/New_York',\n",
       " 'America/New_York',\n",
       " 'Asia/Tokyo',\n",
       " 'America/Los_Angeles',\n",
       " '',\n",
       " 'America/New_York',\n",
       " 'America/Sao_Paulo',\n",
       " 'America/New_York',\n",
       " 'America/New_York',\n",
       " 'America/New_York',\n",
       " 'America/New_York',\n",
       " 'America/New_York',\n",
       " 'America/New_York',\n",
       " '',\n",
       " '',\n",
       " 'Europe/Moscow',\n",
       " 'America/New_York',\n",
       " 'America/Denver',\n",
       " 'America/Vancouver',\n",
       " 'America/Sao_Paulo',\n",
       " 'America/Los_Angeles',\n",
       " 'America/Los_Angeles',\n",
       " 'America/Los_Angeles',\n",
       " 'America/Los_Angeles',\n",
       " 'America/Los_Angeles',\n",
       " 'America/New_York',\n",
       " 'America/New_York',\n",
       " 'America/Chicago',\n",
       " 'America/New_York',\n",
       " 'America/Vancouver',\n",
       " None,\n",
       " 'America/New_York',\n",
       " 'Asia/Tokyo',\n",
       " 'America/Denver',\n",
       " 'America/New_York',\n",
       " 'America/Los_Angeles',\n",
       " 'America/Chicago',\n",
       " 'America/Los_Angeles',\n",
       " 'America/Los_Angeles',\n",
       " 'America/New_York',\n",
       " 'America/Los_Angeles',\n",
       " '',\n",
       " 'America/New_York',\n",
       " 'America/New_York',\n",
       " 'America/New_York',\n",
       " 'America/Chicago',\n",
       " 'America/Los_Angeles',\n",
       " 'America/Chicago',\n",
       " 'America/Chicago',\n",
       " 'America/New_York',\n",
       " 'America/New_York',\n",
       " 'America/Los_Angeles',\n",
       " '',\n",
       " 'America/New_York',\n",
       " 'America/New_York',\n",
       " '',\n",
       " 'America/New_York',\n",
       " '',\n",
       " '',\n",
       " 'Europe/Sofia',\n",
       " '',\n",
       " 'America/New_York',\n",
       " 'Asia/Tokyo',\n",
       " '',\n",
       " 'Europe/Rome',\n",
       " 'America/New_York',\n",
       " 'America/Bogota',\n",
       " 'America/New_York',\n",
       " '',\n",
       " None,\n",
       " 'Africa/Cairo',\n",
       " 'America/New_York',\n",
       " 'America/Los_Angeles',\n",
       " 'America/New_York',\n",
       " 'America/Los_Angeles',\n",
       " 'America/Los_Angeles',\n",
       " 'America/New_York',\n",
       " '',\n",
       " '',\n",
       " 'Asia/Tokyo',\n",
       " 'America/Denver',\n",
       " '',\n",
       " 'America/New_York',\n",
       " 'America/New_York',\n",
       " '',\n",
       " 'America/New_York',\n",
       " 'America/Chicago',\n",
       " 'America/New_York',\n",
       " 'America/New_York',\n",
       " 'America/Phoenix',\n",
       " 'America/New_York',\n",
       " '',\n",
       " None,\n",
       " 'America/Denver',\n",
       " 'America/Los_Angeles',\n",
       " 'America/Sao_Paulo',\n",
       " 'America/Chicago',\n",
       " 'Europe/Berlin',\n",
       " 'America/New_York',\n",
       " 'Europe/Ljubljana',\n",
       " 'Asia/Tokyo',\n",
       " 'Europe/Copenhagen',\n",
       " 'America/New_York',\n",
       " 'America/New_York',\n",
       " '',\n",
       " '',\n",
       " '',\n",
       " 'America/Mexico_City',\n",
       " '',\n",
       " 'Europe/Helsinki',\n",
       " 'Europe/Bucharest',\n",
       " 'Asia/Tokyo',\n",
       " 'America/Chicago',\n",
       " 'America/New_York',\n",
       " 'America/New_York',\n",
       " 'America/Los_Angeles',\n",
       " 'America/Chicago',\n",
       " 'America/New_York',\n",
       " 'America/New_York',\n",
       " 'America/New_York',\n",
       " 'America/Chicago',\n",
       " None,\n",
       " 'America/New_York',\n",
       " '',\n",
       " 'America/New_York',\n",
       " 'America/Chicago',\n",
       " 'America/New_York',\n",
       " 'America/New_York',\n",
       " '',\n",
       " 'Europe/London',\n",
       " 'Asia/Tokyo',\n",
       " '',\n",
       " 'America/Denver',\n",
       " 'America/Denver',\n",
       " 'Europe/Zurich',\n",
       " 'America/New_York',\n",
       " 'America/New_York',\n",
       " 'America/Denver',\n",
       " 'America/New_York',\n",
       " 'America/New_York',\n",
       " 'America/Los_Angeles',\n",
       " 'America/New_York',\n",
       " 'America/New_York',\n",
       " 'America/New_York',\n",
       " 'America/New_York',\n",
       " 'America/New_York',\n",
       " 'America/Sao_Paulo',\n",
       " 'America/Chicago',\n",
       " 'Europe/Madrid',\n",
       " 'America/Los_Angeles',\n",
       " 'Asia/Istanbul',\n",
       " 'America/New_York',\n",
       " 'America/New_York',\n",
       " '',\n",
       " None,\n",
       " 'Asia/Tokyo',\n",
       " 'America/New_York',\n",
       " 'America/New_York',\n",
       " 'America/Denver',\n",
       " '',\n",
       " 'America/Chicago',\n",
       " 'America/New_York',\n",
       " 'America/Los_Angeles',\n",
       " 'America/New_York',\n",
       " '',\n",
       " 'America/Los_Angeles',\n",
       " 'Europe/London',\n",
       " 'America/Los_Angeles',\n",
       " 'America/Rainy_River',\n",
       " 'America/New_York',\n",
       " 'America/New_York',\n",
       " '',\n",
       " 'America/New_York',\n",
       " 'America/New_York',\n",
       " 'Asia/Tokyo',\n",
       " 'America/New_York',\n",
       " 'America/New_York',\n",
       " 'America/New_York',\n",
       " 'America/New_York',\n",
       " 'America/Los_Angeles',\n",
       " 'America/Mexico_City',\n",
       " 'America/New_York',\n",
       " 'America/New_York',\n",
       " '',\n",
       " 'Europe/Berlin',\n",
       " 'America/New_York',\n",
       " 'America/New_York',\n",
       " '',\n",
       " 'America/New_York',\n",
       " 'America/New_York',\n",
       " 'America/Denver',\n",
       " 'America/Puerto_Rico',\n",
       " 'America/Puerto_Rico',\n",
       " 'Asia/Tokyo',\n",
       " '',\n",
       " 'America/New_York',\n",
       " 'America/New_York',\n",
       " None,\n",
       " 'America/Chicago',\n",
       " 'America/New_York',\n",
       " '',\n",
       " 'America/Rainy_River',\n",
       " 'Asia/Tokyo',\n",
       " '',\n",
       " 'America/New_York',\n",
       " 'America/New_York',\n",
       " 'America/Denver',\n",
       " 'America/New_York',\n",
       " 'America/New_York',\n",
       " 'Europe/Rome',\n",
       " 'America/New_York',\n",
       " 'America/New_York',\n",
       " 'America/Denver',\n",
       " 'America/Chicago',\n",
       " 'America/New_York',\n",
       " 'America/New_York',\n",
       " None,\n",
       " 'America/Chicago',\n",
       " 'Asia/Tokyo',\n",
       " 'America/Los_Angeles',\n",
       " '',\n",
       " 'America/Denver',\n",
       " 'America/New_York',\n",
       " 'America/New_York',\n",
       " 'Europe/Moscow',\n",
       " '',\n",
       " 'America/Los_Angeles',\n",
       " 'America/Chicago',\n",
       " 'Europe/Madrid',\n",
       " '',\n",
       " 'America/Monterrey',\n",
       " 'America/Chicago',\n",
       " 'America/New_York',\n",
       " 'America/New_York',\n",
       " 'America/Chicago',\n",
       " '',\n",
       " 'Asia/Tokyo',\n",
       " 'Europe/Moscow',\n",
       " 'America/Mexico_City',\n",
       " 'America/Los_Angeles',\n",
       " '',\n",
       " None,\n",
       " 'Asia/Hong_Kong',\n",
       " '',\n",
       " 'America/New_York',\n",
       " 'America/New_York',\n",
       " 'America/Sao_Paulo',\n",
       " 'America/Los_Angeles',\n",
       " 'America/New_York',\n",
       " 'Asia/Hong_Kong',\n",
       " 'America/Los_Angeles',\n",
       " 'America/New_York',\n",
       " 'America/New_York',\n",
       " 'America/Los_Angeles',\n",
       " 'Europe/Athens',\n",
       " 'America/Los_Angeles',\n",
       " 'America/New_York',\n",
       " 'Europe/Prague',\n",
       " 'America/New_York',\n",
       " 'America/New_York',\n",
       " 'America/Los_Angeles',\n",
       " 'America/Los_Angeles',\n",
       " 'America/Los_Angeles',\n",
       " 'America/New_York',\n",
       " 'America/Los_Angeles',\n",
       " 'America/Los_Angeles',\n",
       " '',\n",
       " 'Asia/Tokyo',\n",
       " '',\n",
       " 'America/Los_Angeles',\n",
       " 'America/Los_Angeles',\n",
       " 'America/Los_Angeles',\n",
       " 'America/Los_Angeles',\n",
       " 'America/New_York',\n",
       " 'America/New_York',\n",
       " 'America/Denver',\n",
       " 'America/Denver',\n",
       " 'America/Chicago',\n",
       " '',\n",
       " 'America/New_York',\n",
       " 'America/New_York',\n",
       " 'America/New_York',\n",
       " 'America/Los_Angeles',\n",
       " 'America/New_York',\n",
       " 'America/New_York',\n",
       " 'America/New_York',\n",
       " '',\n",
       " 'America/Chicago',\n",
       " 'America/New_York',\n",
       " None,\n",
       " 'America/Chicago',\n",
       " 'America/Los_Angeles',\n",
       " 'America/Denver',\n",
       " 'America/New_York',\n",
       " 'America/New_York',\n",
       " 'America/Los_Angeles',\n",
       " 'America/Los_Angeles',\n",
       " 'America/Los_Angeles',\n",
       " 'America/Denver',\n",
       " 'America/New_York',\n",
       " 'Asia/Tokyo',\n",
       " 'America/New_York',\n",
       " 'America/Chicago',\n",
       " 'Europe/Lisbon',\n",
       " '',\n",
       " '',\n",
       " '',\n",
       " 'Europe/London',\n",
       " 'America/New_York',\n",
       " '',\n",
       " 'America/Los_Angeles',\n",
       " '',\n",
       " 'America/Chicago',\n",
       " 'America/New_York',\n",
       " '',\n",
       " '',\n",
       " 'America/Los_Angeles',\n",
       " '',\n",
       " 'America/New_York',\n",
       " 'America/Los_Angeles',\n",
       " 'America/Los_Angeles',\n",
       " 'America/Los_Angeles',\n",
       " 'America/New_York',\n",
       " 'America/Indianapolis',\n",
       " 'America/New_York',\n",
       " 'America/Los_Angeles',\n",
       " 'America/Los_Angeles',\n",
       " '',\n",
       " 'America/New_York',\n",
       " '',\n",
       " '',\n",
       " 'Asia/Hong_Kong',\n",
       " 'Asia/Hong_Kong',\n",
       " 'Asia/Tokyo',\n",
       " 'America/New_York',\n",
       " 'America/New_York',\n",
       " 'America/New_York',\n",
       " 'America/New_York',\n",
       " 'America/New_York',\n",
       " 'America/New_York',\n",
       " None,\n",
       " 'America/Chicago',\n",
       " 'America/Los_Angeles',\n",
       " 'America/New_York',\n",
       " 'America/Winnipeg',\n",
       " 'Europe/London',\n",
       " 'Europe/Riga',\n",
       " 'America/New_York',\n",
       " 'America/New_York',\n",
       " 'America/New_York',\n",
       " '',\n",
       " 'America/New_York',\n",
       " 'Pacific/Honolulu',\n",
       " '',\n",
       " 'Europe/Stockholm',\n",
       " '',\n",
       " 'Asia/Tokyo',\n",
       " '',\n",
       " 'America/Los_Angeles',\n",
       " 'America/Denver',\n",
       " '',\n",
       " 'America/New_York',\n",
       " 'America/New_York',\n",
       " 'America/New_York',\n",
       " 'America/New_York',\n",
       " 'America/Denver',\n",
       " 'America/New_York',\n",
       " 'America/New_York',\n",
       " 'America/Chicago',\n",
       " 'America/New_York',\n",
       " '',\n",
       " 'Europe/Bucharest',\n",
       " 'Europe/Rome',\n",
       " 'America/Chicago',\n",
       " 'Europe/Rome',\n",
       " 'America/Los_Angeles',\n",
       " '',\n",
       " '',\n",
       " 'America/Mexico_City',\n",
       " '',\n",
       " None,\n",
       " 'America/Los_Angeles',\n",
       " 'Asia/Tokyo',\n",
       " 'Asia/Tokyo',\n",
       " 'America/Chicago',\n",
       " 'America/Denver',\n",
       " 'America/New_York',\n",
       " 'Chile/Continental',\n",
       " 'Asia/Istanbul',\n",
       " 'Europe/London',\n",
       " 'America/New_York',\n",
       " '',\n",
       " 'Europe/London',\n",
       " 'America/Los_Angeles',\n",
       " 'America/Mexico_City',\n",
       " 'America/New_York',\n",
       " 'America/New_York',\n",
       " 'America/New_York',\n",
       " 'America/Los_Angeles',\n",
       " '',\n",
       " 'America/New_York',\n",
       " 'America/Sao_Paulo',\n",
       " 'Pacific/Honolulu',\n",
       " 'America/Los_Angeles',\n",
       " '',\n",
       " 'Asia/Tokyo',\n",
       " 'America/New_York',\n",
       " '',\n",
       " 'Europe/Paris',\n",
       " 'America/New_York',\n",
       " 'Pacific/Honolulu',\n",
       " 'America/Chicago',\n",
       " 'America/Denver',\n",
       " 'America/New_York',\n",
       " 'America/New_York',\n",
       " 'America/New_York',\n",
       " '',\n",
       " 'America/Chicago',\n",
       " None,\n",
       " '',\n",
       " '',\n",
       " 'America/Los_Angeles',\n",
       " 'America/Los_Angeles',\n",
       " 'America/New_York',\n",
       " '',\n",
       " 'America/New_York',\n",
       " '',\n",
       " 'America/New_York',\n",
       " 'America/New_York',\n",
       " 'America/New_York',\n",
       " 'Europe/Madrid',\n",
       " 'Europe/Warsaw',\n",
       " 'America/Los_Angeles',\n",
       " 'America/Chicago',\n",
       " 'America/Chicago',\n",
       " 'America/New_York',\n",
       " 'America/Los_Angeles',\n",
       " 'America/New_York',\n",
       " 'America/Los_Angeles',\n",
       " 'Europe/Berlin',\n",
       " 'America/New_York',\n",
       " 'Chile/Continental',\n",
       " 'America/Denver',\n",
       " 'America/Los_Angeles',\n",
       " 'America/New_York',\n",
       " 'America/New_York',\n",
       " 'America/New_York',\n",
       " 'America/Phoenix',\n",
       " 'America/New_York',\n",
       " 'America/Chicago',\n",
       " 'Europe/Madrid',\n",
       " 'America/New_York',\n",
       " 'America/Rainy_River',\n",
       " '',\n",
       " 'Chile/Continental',\n",
       " 'America/New_York',\n",
       " 'America/Chicago',\n",
       " None,\n",
       " 'Asia/Tokyo',\n",
       " 'America/Los_Angeles',\n",
       " ...]"
      ]
     },
     "execution_count": 27,
     "metadata": {},
     "output_type": "execute_result"
    }
   ],
   "source": [
    "time_zones = [rec.get('tz', None) for rec in records]\n",
    "time_zones"
   ]
  },
  {
   "cell_type": "markdown",
   "metadata": {},
   "source": [
    "### 使用纯python计算统计时区个数"
   ]
  },
  {
   "cell_type": "code",
   "execution_count": 40,
   "metadata": {
    "ExecuteTime": {
     "end_time": "2019-11-14T06:36:44.966790Z",
     "start_time": "2019-11-14T06:36:44.941546Z"
    }
   },
   "outputs": [],
   "source": [
    "def get_tz_counts(tzs):\n",
    "    \"\"\"\n",
    "    统计时区出现的次数\n",
    "    \"\"\"\n",
    "    # 创建一个空字典接受unique时区\n",
    "    tz_dict = dict()\n",
    "    # 遍历列表，如果tz已经在字典中出现过，则次数增加1，如果没有，则设置初始值1\n",
    "    for tz in tzs:\n",
    "        if tz in tz_dict:\n",
    "            tz_dict[tz] += 1\n",
    "        else:\n",
    "            tz_dict[tz] = 1\n",
    "    return tz_dict\n",
    "tz_dict = get_tz_counts(time_zones)"
   ]
  },
  {
   "cell_type": "markdown",
   "metadata": {},
   "source": [
    "### 使用python标准库统计"
   ]
  },
  {
   "cell_type": "code",
   "execution_count": 51,
   "metadata": {
    "ExecuteTime": {
     "end_time": "2019-11-14T06:41:48.503519Z",
     "start_time": "2019-11-14T06:41:48.489709Z"
    }
   },
   "outputs": [
    {
     "data": {
      "text/plain": [
       "521"
      ]
     },
     "execution_count": 51,
     "metadata": {},
     "output_type": "execute_result"
    }
   ],
   "source": [
    "from collections import defaultdict\n",
    "\n",
    "def get_counts2(sequence):\n",
    "    counts = defaultdict(int)  # 初始值为0\n",
    "    for x in sequence:\n",
    "        counts[x] += 1\n",
    "    return counts\n",
    "\n",
    "get_counts2(time_zones)['']"
   ]
  },
  {
   "cell_type": "markdown",
   "metadata": {},
   "source": [
    "获取前10位的时区及计数"
   ]
  },
  {
   "cell_type": "code",
   "execution_count": 57,
   "metadata": {
    "ExecuteTime": {
     "end_time": "2019-11-14T06:47:38.165441Z",
     "start_time": "2019-11-14T06:47:38.139514Z"
    }
   },
   "outputs": [
    {
     "data": {
      "text/plain": [
       "[(35, 'Europe/Madrid'),\n",
       " (36, 'Pacific/Honolulu'),\n",
       " (37, 'Asia/Tokyo'),\n",
       " (74, 'Europe/London'),\n",
       " (120, None),\n",
       " (191, 'America/Denver'),\n",
       " (382, 'America/Los_Angeles'),\n",
       " (400, 'America/Chicago'),\n",
       " (521, ''),\n",
       " (1251, 'America/New_York')]"
      ]
     },
     "execution_count": 57,
     "metadata": {},
     "output_type": "execute_result"
    }
   ],
   "source": [
    "def top_counts(count_dict, top=10):\n",
    "    value_key_pairs = [(count, tz) for (tz, count) in count_dict.items()]\n",
    "    value_key_pairs.sort()\n",
    "    return value_key_pairs[-10:]\n",
    "top_counts(get_counts2(time_zones))"
   ]
  },
  {
   "cell_type": "code",
   "execution_count": 58,
   "metadata": {
    "ExecuteTime": {
     "end_time": "2019-11-14T06:47:50.402852Z",
     "start_time": "2019-11-14T06:47:50.383770Z"
    }
   },
   "outputs": [
    {
     "data": {
      "text/plain": [
       "[('America/New_York', 1251),\n",
       " ('', 521),\n",
       " ('America/Chicago', 400),\n",
       " ('America/Los_Angeles', 382),\n",
       " ('America/Denver', 191),\n",
       " (None, 120),\n",
       " ('Europe/London', 74),\n",
       " ('Asia/Tokyo', 37),\n",
       " ('Pacific/Honolulu', 36),\n",
       " ('Europe/Madrid', 35)]"
      ]
     },
     "execution_count": 58,
     "metadata": {},
     "output_type": "execute_result"
    }
   ],
   "source": [
    "from collections import Counter\n",
    "Counter(time_zones).most_common()[:10]"
   ]
  },
  {
   "cell_type": "markdown",
   "metadata": {},
   "source": [
    "## 使用Pandas对时区进行计数"
   ]
  },
  {
   "cell_type": "code",
   "execution_count": 65,
   "metadata": {
    "ExecuteTime": {
     "end_time": "2019-11-14T06:53:11.112676Z",
     "start_time": "2019-11-14T06:53:10.968801Z"
    }
   },
   "outputs": [
    {
     "name": "stdout",
     "output_type": "stream",
     "text": [
      "<class 'pandas.core.frame.DataFrame'>\n",
      "RangeIndex: 3560 entries, 0 to 3559\n",
      "Data columns (total 17 columns):\n",
      "a     3440 non-null object\n",
      "al    3094 non-null object\n",
      "c     2919 non-null object\n",
      "cy    2919 non-null object\n",
      "g     3440 non-null object\n",
      "gr    2919 non-null object\n",
      "h     3440 non-null object\n",
      "hc    3440 non-null float64\n",
      "hh    3440 non-null object\n",
      "kw    93 non-null object\n",
      "l     3440 non-null object\n",
      "ll    2919 non-null object\n",
      "nk    3440 non-null float64\n",
      "r     3440 non-null object\n",
      "t     3440 non-null float64\n",
      "tz    3440 non-null object\n",
      "u     3440 non-null object\n",
      "dtypes: float64(3), object(14)\n",
      "memory usage: 472.9+ KB\n"
     ]
    }
   ],
   "source": [
    "df = pd.read_json(path, lines=True).drop('_heartbeat_', axis=1)\n",
    "df.info()"
   ]
  },
  {
   "cell_type": "markdown",
   "metadata": {},
   "source": [
    "这里frame的输出形式是摘要视图（summary view），主要用于较大的DataFrame对象。我们然后可以对Series使用value_counts方法："
   ]
  },
  {
   "cell_type": "code",
   "execution_count": 80,
   "metadata": {
    "ExecuteTime": {
     "end_time": "2019-11-14T06:57:08.757257Z",
     "start_time": "2019-11-14T06:57:08.744552Z"
    }
   },
   "outputs": [
    {
     "data": {
      "text/plain": [
       "America/New_York       1251\n",
       "                        521\n",
       "America/Chicago         400\n",
       "America/Los_Angeles     382\n",
       "America/Denver          191\n",
       "Europe/London            74\n",
       "Asia/Tokyo               37\n",
       "Pacific/Honolulu         36\n",
       "Europe/Madrid            35\n",
       "America/Sao_Paulo        33\n",
       "Name: tz, dtype: int64"
      ]
     },
     "execution_count": 80,
     "metadata": {},
     "output_type": "execute_result"
    }
   ],
   "source": [
    "tz_counts = df['tz'].value_counts()\n",
    "tz_counts.head(10)"
   ]
  },
  {
   "cell_type": "markdown",
   "metadata": {},
   "source": [
    "使用matplotlib可视化"
   ]
  },
  {
   "cell_type": "markdown",
   "metadata": {},
   "source": [
    "先填充缺失值，修改未知时区为‘Unknow"
   ]
  },
  {
   "cell_type": "code",
   "execution_count": 93,
   "metadata": {
    "ExecuteTime": {
     "end_time": "2019-11-14T07:03:03.604946Z",
     "start_time": "2019-11-14T07:03:03.566510Z"
    }
   },
   "outputs": [
    {
     "data": {
      "text/plain": [
       "America/New_York                  1251\n",
       "Unknow                             521\n",
       "America/Chicago                    400\n",
       "America/Los_Angeles                382\n",
       "America/Denver                     191\n",
       "Missing                            120\n",
       "Europe/London                       74\n",
       "Asia/Tokyo                          37\n",
       "Pacific/Honolulu                    36\n",
       "Europe/Madrid                       35\n",
       "America/Sao_Paulo                   33\n",
       "Europe/Berlin                       28\n",
       "Europe/Rome                         27\n",
       "America/Rainy_River                 25\n",
       "Europe/Amsterdam                    22\n",
       "America/Phoenix                     20\n",
       "America/Indianapolis                20\n",
       "Europe/Warsaw                       16\n",
       "America/Mexico_City                 15\n",
       "Europe/Paris                        14\n",
       "Europe/Stockholm                    14\n",
       "America/Vancouver                   12\n",
       "Pacific/Auckland                    11\n",
       "Asia/Hong_Kong                      10\n",
       "Europe/Moscow                       10\n",
       "Europe/Oslo                         10\n",
       "America/Puerto_Rico                 10\n",
       "Europe/Helsinki                     10\n",
       "Europe/Prague                       10\n",
       "America/Montreal                     9\n",
       "                                  ... \n",
       "America/Chihuahua                    2\n",
       "Asia/Kuching                         1\n",
       "America/St_Kitts                     1\n",
       "Europe/Sofia                         1\n",
       "Africa/Casablanca                    1\n",
       "Europe/Ljubljana                     1\n",
       "Asia/Nicosia                         1\n",
       "Europe/Volgograd                     1\n",
       "America/Monterrey                    1\n",
       "Africa/Johannesburg                  1\n",
       "Asia/Pontianak                       1\n",
       "America/Tegucigalpa                  1\n",
       "America/Santo_Domingo                1\n",
       "America/Costa_Rica                   1\n",
       "Africa/Lusaka                        1\n",
       "Australia/Queensland                 1\n",
       "Asia/Yekaterinburg                   1\n",
       "America/Argentina/Cordoba            1\n",
       "Europe/Skopje                        1\n",
       "America/Montevideo                   1\n",
       "Asia/Novosibirsk                     1\n",
       "Europe/Uzhgorod                      1\n",
       "America/La_Paz                       1\n",
       "America/Lima                         1\n",
       "America/Mazatlan                     1\n",
       "America/Caracas                      1\n",
       "Asia/Manila                          1\n",
       "Asia/Riyadh                          1\n",
       "America/Argentina/Mendoza            1\n",
       "America/Argentina/Buenos_Aires       1\n",
       "Name: tz, Length: 98, dtype: int64"
      ]
     },
     "execution_count": 93,
     "metadata": {},
     "output_type": "execute_result"
    }
   ],
   "source": [
    "clean_tz = df['tz'].fillna('Missing')\n",
    "clean_tz[clean_tz == ''] = 'Unknow'\n",
    "tz_counts = clean_tz.value_counts()\n",
    "tz_counts"
   ]
  },
  {
   "cell_type": "code",
   "execution_count": 101,
   "metadata": {
    "ExecuteTime": {
     "end_time": "2019-11-14T07:05:23.962870Z",
     "start_time": "2019-11-14T07:05:23.400732Z"
    }
   },
   "outputs": [
    {
     "data": {
      "text/plain": [
       "<matplotlib.axes._subplots.AxesSubplot at 0x16758c6aa20>"
      ]
     },
     "execution_count": 101,
     "metadata": {},
     "output_type": "execute_result"
    },
    {
     "data": {
      "image/png": "[encoded data removed]",
      "text/plain": [
       "<Figure size 1200x800 with 1 Axes>"
      ]
     },
     "metadata": {},
     "output_type": "display_data"
    }
   ],
   "source": [
    "sns.barplot(y=tz_counts[:10].index, x=tz_counts[:10].values)"
   ]
  },
  {
   "cell_type": "code",
   "execution_count": 103,
   "metadata": {
    "ExecuteTime": {
     "end_time": "2019-11-14T07:58:47.288596Z",
     "start_time": "2019-11-14T07:58:47.257803Z"
    }
   },
   "outputs": [
    {
     "data": {
      "text/html": [
       "<div>\n",
       "<style scoped>\n",
       "    .dataframe tbody tr th:only-of-type {\n",
       "        vertical-align: middle;\n",
       "    }\n",
       "\n",
       "    .dataframe tbody tr th {\n",
       "        vertical-align: top;\n",
       "    }\n",
       "\n",
       "    .dataframe thead th {\n",
       "        text-align: right;\n",
       "    }\n",
       "</style>\n",
       "<table border=\"1\" class=\"dataframe\">\n",
       "  <thead>\n",
       "    <tr style=\"text-align: right;\">\n",
       "      <th></th>\n",
       "      <th>a</th>\n",
       "      <th>al</th>\n",
       "      <th>c</th>\n",
       "      <th>cy</th>\n",
       "      <th>g</th>\n",
       "      <th>gr</th>\n",
       "      <th>h</th>\n",
       "      <th>hc</th>\n",
       "      <th>hh</th>\n",
       "      <th>kw</th>\n",
       "      <th>l</th>\n",
       "      <th>ll</th>\n",
       "      <th>nk</th>\n",
       "      <th>r</th>\n",
       "      <th>t</th>\n",
       "      <th>tz</th>\n",
       "      <th>u</th>\n",
       "    </tr>\n",
       "  </thead>\n",
       "  <tbody>\n",
       "    <tr>\n",
       "      <th>0</th>\n",
       "      <td>Mozilla/5.0 (Windows NT 6.1; WOW64) AppleWebKi...</td>\n",
       "      <td>en-US,en;q=0.8</td>\n",
       "      <td>US</td>\n",
       "      <td>Danvers</td>\n",
       "      <td>A6qOVH</td>\n",
       "      <td>MA</td>\n",
       "      <td>wfLQtf</td>\n",
       "      <td>1.331823e+09</td>\n",
       "      <td>1.usa.gov</td>\n",
       "      <td>NaN</td>\n",
       "      <td>orofrog</td>\n",
       "      <td>[42.576698, -70.954903]</td>\n",
       "      <td>1.0</td>\n",
       "      <td>http://www.facebook.com/l/7AQEFzjSi/1.usa.gov/...</td>\n",
       "      <td>1.331923e+09</td>\n",
       "      <td>America/New_York</td>\n",
       "      <td>http://www.ncbi.nlm.nih.gov/pubmed/22415991</td>\n",
       "    </tr>\n",
       "    <tr>\n",
       "      <th>1</th>\n",
       "      <td>GoogleMaps/RochesterNY</td>\n",
       "      <td>NaN</td>\n",
       "      <td>US</td>\n",
       "      <td>Provo</td>\n",
       "      <td>mwszkS</td>\n",
       "      <td>UT</td>\n",
       "      <td>mwszkS</td>\n",
       "      <td>1.308262e+09</td>\n",
       "      <td>j.mp</td>\n",
       "      <td>NaN</td>\n",
       "      <td>bitly</td>\n",
       "      <td>[40.218102, -111.613297]</td>\n",
       "      <td>0.0</td>\n",
       "      <td>http://www.AwareMap.com/</td>\n",
       "      <td>1.331923e+09</td>\n",
       "      <td>America/Denver</td>\n",
       "      <td>http://www.monroecounty.gov/etc/911/rss.php</td>\n",
       "    </tr>\n",
       "    <tr>\n",
       "      <th>2</th>\n",
       "      <td>Mozilla/4.0 (compatible; MSIE 8.0; Windows NT ...</td>\n",
       "      <td>en-US</td>\n",
       "      <td>US</td>\n",
       "      <td>Washington</td>\n",
       "      <td>xxr3Qb</td>\n",
       "      <td>DC</td>\n",
       "      <td>xxr3Qb</td>\n",
       "      <td>1.331920e+09</td>\n",
       "      <td>1.usa.gov</td>\n",
       "      <td>NaN</td>\n",
       "      <td>bitly</td>\n",
       "      <td>[38.9007, -77.043098]</td>\n",
       "      <td>1.0</td>\n",
       "      <td>http://t.co/03elZC4Q</td>\n",
       "      <td>1.331923e+09</td>\n",
       "      <td>America/New_York</td>\n",
       "      <td>http://boxer.senate.gov/en/press/releases/0316...</td>\n",
       "    </tr>\n",
       "    <tr>\n",
       "      <th>3</th>\n",
       "      <td>Mozilla/5.0 (Macintosh; Intel Mac OS X 10_6_8)...</td>\n",
       "      <td>pt-br</td>\n",
       "      <td>BR</td>\n",
       "      <td>Braz</td>\n",
       "      <td>zCaLwp</td>\n",
       "      <td>27</td>\n",
       "      <td>zUtuOu</td>\n",
       "      <td>1.331923e+09</td>\n",
       "      <td>1.usa.gov</td>\n",
       "      <td>NaN</td>\n",
       "      <td>alelex88</td>\n",
       "      <td>[-23.549999, -46.616699]</td>\n",
       "      <td>0.0</td>\n",
       "      <td>direct</td>\n",
       "      <td>1.331923e+09</td>\n",
       "      <td>America/Sao_Paulo</td>\n",
       "      <td>http://apod.nasa.gov/apod/ap120312.html</td>\n",
       "    </tr>\n",
       "    <tr>\n",
       "      <th>4</th>\n",
       "      <td>Mozilla/5.0 (Windows NT 6.1; WOW64) AppleWebKi...</td>\n",
       "      <td>en-US,en;q=0.8</td>\n",
       "      <td>US</td>\n",
       "      <td>Shrewsbury</td>\n",
       "      <td>9b6kNl</td>\n",
       "      <td>MA</td>\n",
       "      <td>9b6kNl</td>\n",
       "      <td>1.273672e+09</td>\n",
       "      <td>bit.ly</td>\n",
       "      <td>NaN</td>\n",
       "      <td>bitly</td>\n",
       "      <td>[42.286499, -71.714699]</td>\n",
       "      <td>0.0</td>\n",
       "      <td>http://www.shrewsbury-ma.gov/selco/</td>\n",
       "      <td>1.331923e+09</td>\n",
       "      <td>America/New_York</td>\n",
       "      <td>http://www.shrewsbury-ma.gov/egov/gallery/1341...</td>\n",
       "    </tr>\n",
       "  </tbody>\n",
       "</table>\n",
       "</div>"
      ],
      "text/plain": [
       "                                                   a              al   c  \\\n",
       "0  Mozilla/5.0 (Windows NT 6.1; WOW64) AppleWebKi...  en-US,en;q=0.8  US   \n",
       "1                             GoogleMaps/RochesterNY             NaN  US   \n",
       "2  Mozilla/4.0 (compatible; MSIE 8.0; Windows NT ...           en-US  US   \n",
       "3  Mozilla/5.0 (Macintosh; Intel Mac OS X 10_6_8)...           pt-br  BR   \n",
       "4  Mozilla/5.0 (Windows NT 6.1; WOW64) AppleWebKi...  en-US,en;q=0.8  US   \n",
       "\n",
       "           cy       g  gr       h            hc         hh   kw         l  \\\n",
       "0     Danvers  A6qOVH  MA  wfLQtf  1.331823e+09  1.usa.gov  NaN   orofrog   \n",
       "1       Provo  mwszkS  UT  mwszkS  1.308262e+09       j.mp  NaN     bitly   \n",
       "2  Washington  xxr3Qb  DC  xxr3Qb  1.331920e+09  1.usa.gov  NaN     bitly   \n",
       "3        Braz  zCaLwp  27  zUtuOu  1.331923e+09  1.usa.gov  NaN  alelex88   \n",
       "4  Shrewsbury  9b6kNl  MA  9b6kNl  1.273672e+09     bit.ly  NaN     bitly   \n",
       "\n",
       "                         ll   nk  \\\n",
       "0   [42.576698, -70.954903]  1.0   \n",
       "1  [40.218102, -111.613297]  0.0   \n",
       "2     [38.9007, -77.043098]  1.0   \n",
       "3  [-23.549999, -46.616699]  0.0   \n",
       "4   [42.286499, -71.714699]  0.0   \n",
       "\n",
       "                                                   r             t  \\\n",
       "0  http://www.facebook.com/l/7AQEFzjSi/1.usa.gov/...  1.331923e+09   \n",
       "1                           http://www.AwareMap.com/  1.331923e+09   \n",
       "2                               http://t.co/03elZC4Q  1.331923e+09   \n",
       "3                                             direct  1.331923e+09   \n",
       "4                http://www.shrewsbury-ma.gov/selco/  1.331923e+09   \n",
       "\n",
       "                  tz                                                  u  \n",
       "0   America/New_York        http://www.ncbi.nlm.nih.gov/pubmed/22415991  \n",
       "1     America/Denver        http://www.monroecounty.gov/etc/911/rss.php  \n",
       "2   America/New_York  http://boxer.senate.gov/en/press/releases/0316...  \n",
       "3  America/Sao_Paulo            http://apod.nasa.gov/apod/ap120312.html  \n",
       "4   America/New_York  http://www.shrewsbury-ma.gov/egov/gallery/1341...  "
      ]
     },
     "execution_count": 103,
     "metadata": {},
     "output_type": "execute_result"
    }
   ],
   "source": [
    "df.head()"
   ]
  },
  {
   "cell_type": "markdown",
   "metadata": {},
   "source": [
    "对ugent-agent进行分类"
   ]
  },
  {
   "cell_type": "code",
   "execution_count": 111,
   "metadata": {
    "ExecuteTime": {
     "end_time": "2019-11-14T08:00:47.847849Z",
     "start_time": "2019-11-14T08:00:47.822141Z"
    }
   },
   "outputs": [
    {
     "data": {
      "text/plain": [
       "0               Mozilla/5.0\n",
       "1    GoogleMaps/RochesterNY\n",
       "2               Mozilla/4.0\n",
       "3               Mozilla/5.0\n",
       "4               Mozilla/5.0\n",
       "dtype: object"
      ]
     },
     "execution_count": 111,
     "metadata": {},
     "output_type": "execute_result"
    }
   ],
   "source": [
    "results = pd.Series([x.split()[0] for x in df.a.dropna()])\n",
    "results.head()"
   ]
  },
  {
   "cell_type": "code",
   "execution_count": 114,
   "metadata": {
    "ExecuteTime": {
     "end_time": "2019-11-14T08:01:18.520814Z",
     "start_time": "2019-11-14T08:01:18.502550Z"
    }
   },
   "outputs": [
    {
     "data": {
      "text/plain": [
       "Mozilla/5.0                 2594\n",
       "Mozilla/4.0                  601\n",
       "GoogleMaps/RochesterNY       121\n",
       "Opera/9.80                    34\n",
       "TEST_INTERNET_AGENT           24\n",
       "GoogleProducer                21\n",
       "Mozilla/6.0                    5\n",
       "BlackBerry8520/5.0.0.681       4\n",
       "BlackBerry8520/5.0.0.592       3\n",
       "Dalvik/1.4.0                   3\n",
       "dtype: int64"
      ]
     },
     "execution_count": 114,
     "metadata": {},
     "output_type": "execute_result"
    }
   ],
   "source": [
    "results.value_counts()[:10]"
   ]
  },
  {
   "cell_type": "markdown",
   "metadata": {},
   "source": [
    "按windows用户与非windows用户划分"
   ]
  },
  {
   "cell_type": "code",
   "execution_count": 129,
   "metadata": {
    "ExecuteTime": {
     "end_time": "2019-11-14T08:08:14.271739Z",
     "start_time": "2019-11-14T08:08:13.635591Z"
    }
   },
   "outputs": [
    {
     "name": "stderr",
     "output_type": "stream",
     "text": [
      "D:\\anaconda\\lib\\site-packages\\ipykernel_launcher.py:3: SettingWithCopyWarning: \n",
      "A value is trying to be set on a copy of a slice from a DataFrame.\n",
      "Try using .loc[row_indexer,col_indexer] = value instead\n",
      "\n",
      "See the caveats in the documentation: http://pandas.pydata.org/pandas-docs/stable/indexing.html#indexing-view-versus-copy\n",
      "  This is separate from the ipykernel package so we can avoid doing imports until\n"
     ]
    }
   ],
   "source": [
    "cframe = df[df.a.notnull()]\n",
    "cframe['os'] = np.where(cframe['a'].str.contains('Windows'),\n",
    "                       'Windows', 'Not Windows')\n",
    "# cframe['os'][:5]"
   ]
  },
  {
   "cell_type": "markdown",
   "metadata": {
    "ExecuteTime": {
     "end_time": "2019-11-14T08:08:37.351197Z",
     "start_time": "2019-11-14T08:08:37.339976Z"
    }
   },
   "source": [
    "根据时区，和操作系统对cframe进行分类"
   ]
  },
  {
   "cell_type": "code",
   "execution_count": 133,
   "metadata": {
    "ExecuteTime": {
     "end_time": "2019-11-14T08:09:26.838348Z",
     "start_time": "2019-11-14T08:09:26.825855Z"
    }
   },
   "outputs": [],
   "source": [
    "by_tz_os = cframe.groupby(['tz', 'os'])"
   ]
  },
  {
   "cell_type": "code",
   "execution_count": 146,
   "metadata": {
    "ExecuteTime": {
     "end_time": "2019-11-14T08:13:54.754621Z",
     "start_time": "2019-11-14T08:13:54.729314Z"
    }
   },
   "outputs": [
    {
     "data": {
      "text/html": [
       "<div>\n",
       "<style scoped>\n",
       "    .dataframe tbody tr th:only-of-type {\n",
       "        vertical-align: middle;\n",
       "    }\n",
       "\n",
       "    .dataframe tbody tr th {\n",
       "        vertical-align: top;\n",
       "    }\n",
       "\n",
       "    .dataframe thead th {\n",
       "        text-align: right;\n",
       "    }\n",
       "</style>\n",
       "<table border=\"1\" class=\"dataframe\">\n",
       "  <thead>\n",
       "    <tr style=\"text-align: right;\">\n",
       "      <th>os</th>\n",
       "      <th>Not Windows</th>\n",
       "      <th>Windows</th>\n",
       "    </tr>\n",
       "    <tr>\n",
       "      <th>tz</th>\n",
       "      <th></th>\n",
       "      <th></th>\n",
       "    </tr>\n",
       "  </thead>\n",
       "  <tbody>\n",
       "    <tr>\n",
       "      <th></th>\n",
       "      <td>245.0</td>\n",
       "      <td>276.0</td>\n",
       "    </tr>\n",
       "    <tr>\n",
       "      <th>Africa/Cairo</th>\n",
       "      <td>0.0</td>\n",
       "      <td>3.0</td>\n",
       "    </tr>\n",
       "    <tr>\n",
       "      <th>Africa/Casablanca</th>\n",
       "      <td>0.0</td>\n",
       "      <td>1.0</td>\n",
       "    </tr>\n",
       "    <tr>\n",
       "      <th>Africa/Ceuta</th>\n",
       "      <td>0.0</td>\n",
       "      <td>2.0</td>\n",
       "    </tr>\n",
       "    <tr>\n",
       "      <th>Africa/Johannesburg</th>\n",
       "      <td>0.0</td>\n",
       "      <td>1.0</td>\n",
       "    </tr>\n",
       "  </tbody>\n",
       "</table>\n",
       "</div>"
      ],
      "text/plain": [
       "os                   Not Windows  Windows\n",
       "tz                                       \n",
       "                           245.0    276.0\n",
       "Africa/Cairo                 0.0      3.0\n",
       "Africa/Casablanca            0.0      1.0\n",
       "Africa/Ceuta                 0.0      2.0\n",
       "Africa/Johannesburg          0.0      1.0"
      ]
     },
     "execution_count": 146,
     "metadata": {},
     "output_type": "execute_result"
    }
   ],
   "source": [
    "agg_counts = by_tz_os.size().unstack().fillna(0)\n",
    "agg_counts.head()"
   ]
  },
  {
   "cell_type": "markdown",
   "metadata": {
    "ExecuteTime": {
     "end_time": "2019-11-14T08:33:36.642243Z",
     "start_time": "2019-11-14T08:33:36.625219Z"
    }
   },
   "source": [
    "我们来选取最常出现的时区"
   ]
  },
  {
   "cell_type": "code",
   "execution_count": 225,
   "metadata": {
    "ExecuteTime": {
     "end_time": "2019-11-14T08:43:11.508755Z",
     "start_time": "2019-11-14T08:43:11.500396Z"
    }
   },
   "outputs": [],
   "source": [
    "indexer = agg_counts.sum(axis=1).argsort()"
   ]
  },
  {
   "cell_type": "code",
   "execution_count": 226,
   "metadata": {
    "ExecuteTime": {
     "end_time": "2019-11-14T08:43:12.080340Z",
     "start_time": "2019-11-14T08:43:12.050681Z"
    }
   },
   "outputs": [
    {
     "data": {
      "text/html": [
       "<div>\n",
       "<style scoped>\n",
       "    .dataframe tbody tr th:only-of-type {\n",
       "        vertical-align: middle;\n",
       "    }\n",
       "\n",
       "    .dataframe tbody tr th {\n",
       "        vertical-align: top;\n",
       "    }\n",
       "\n",
       "    .dataframe thead th {\n",
       "        text-align: right;\n",
       "    }\n",
       "</style>\n",
       "<table border=\"1\" class=\"dataframe\">\n",
       "  <thead>\n",
       "    <tr style=\"text-align: right;\">\n",
       "      <th>os</th>\n",
       "      <th>Not Windows</th>\n",
       "      <th>Windows</th>\n",
       "    </tr>\n",
       "    <tr>\n",
       "      <th>tz</th>\n",
       "      <th></th>\n",
       "      <th></th>\n",
       "    </tr>\n",
       "  </thead>\n",
       "  <tbody>\n",
       "    <tr>\n",
       "      <th>America/Sao_Paulo</th>\n",
       "      <td>13.0</td>\n",
       "      <td>20.0</td>\n",
       "    </tr>\n",
       "    <tr>\n",
       "      <th>Europe/Madrid</th>\n",
       "      <td>16.0</td>\n",
       "      <td>19.0</td>\n",
       "    </tr>\n",
       "    <tr>\n",
       "      <th>Pacific/Honolulu</th>\n",
       "      <td>0.0</td>\n",
       "      <td>36.0</td>\n",
       "    </tr>\n",
       "    <tr>\n",
       "      <th>Asia/Tokyo</th>\n",
       "      <td>2.0</td>\n",
       "      <td>35.0</td>\n",
       "    </tr>\n",
       "    <tr>\n",
       "      <th>Europe/London</th>\n",
       "      <td>43.0</td>\n",
       "      <td>31.0</td>\n",
       "    </tr>\n",
       "    <tr>\n",
       "      <th>America/Denver</th>\n",
       "      <td>132.0</td>\n",
       "      <td>59.0</td>\n",
       "    </tr>\n",
       "    <tr>\n",
       "      <th>America/Los_Angeles</th>\n",
       "      <td>130.0</td>\n",
       "      <td>252.0</td>\n",
       "    </tr>\n",
       "    <tr>\n",
       "      <th>America/Chicago</th>\n",
       "      <td>115.0</td>\n",
       "      <td>285.0</td>\n",
       "    </tr>\n",
       "    <tr>\n",
       "      <th></th>\n",
       "      <td>245.0</td>\n",
       "      <td>276.0</td>\n",
       "    </tr>\n",
       "    <tr>\n",
       "      <th>America/New_York</th>\n",
       "      <td>339.0</td>\n",
       "      <td>912.0</td>\n",
       "    </tr>\n",
       "  </tbody>\n",
       "</table>\n",
       "</div>"
      ],
      "text/plain": [
       "os                   Not Windows  Windows\n",
       "tz                                       \n",
       "America/Sao_Paulo           13.0     20.0\n",
       "Europe/Madrid               16.0     19.0\n",
       "Pacific/Honolulu             0.0     36.0\n",
       "Asia/Tokyo                   2.0     35.0\n",
       "Europe/London               43.0     31.0\n",
       "America/Denver             132.0     59.0\n",
       "America/Los_Angeles        130.0    252.0\n",
       "America/Chicago            115.0    285.0\n",
       "                           245.0    276.0\n",
       "America/New_York           339.0    912.0"
      ]
     },
     "execution_count": 226,
     "metadata": {},
     "output_type": "execute_result"
    }
   ],
   "source": [
    "count_subset = agg_counts.take(indexer[-10:])\n",
    "count_subset"
   ]
  },
  {
   "cell_type": "markdown",
   "metadata": {},
   "source": [
    "方法二：\n"
   ]
  },
  {
   "cell_type": "code",
   "execution_count": 227,
   "metadata": {
    "ExecuteTime": {
     "end_time": "2019-11-14T08:43:13.516637Z",
     "start_time": "2019-11-14T08:43:13.489335Z"
    }
   },
   "outputs": [
    {
     "data": {
      "text/plain": [
       "tz\n",
       "America/New_York       1251.0\n",
       "                        521.0\n",
       "America/Chicago         400.0\n",
       "America/Los_Angeles     382.0\n",
       "America/Denver          191.0\n",
       "Europe/London            74.0\n",
       "Asia/Tokyo               37.0\n",
       "Pacific/Honolulu         36.0\n",
       "Europe/Madrid            35.0\n",
       "America/Sao_Paulo        33.0\n",
       "dtype: float64"
      ]
     },
     "execution_count": 227,
     "metadata": {},
     "output_type": "execute_result"
    }
   ],
   "source": [
    "agg_counts.sum(axis=1).nlargest(10)"
   ]
  },
  {
   "cell_type": "code",
   "execution_count": 228,
   "metadata": {
    "ExecuteTime": {
     "end_time": "2019-11-14T08:43:14.734567Z",
     "start_time": "2019-11-14T08:43:14.721297Z"
    }
   },
   "outputs": [],
   "source": [
    "count_subset = count_subset.stack()\n",
    "count_subset.name = 'total'"
   ]
  },
  {
   "cell_type": "code",
   "execution_count": 229,
   "metadata": {
    "ExecuteTime": {
     "end_time": "2019-11-14T08:43:15.905631Z",
     "start_time": "2019-11-14T08:43:15.877387Z"
    }
   },
   "outputs": [
    {
     "data": {
      "text/html": [
       "<div>\n",
       "<style scoped>\n",
       "    .dataframe tbody tr th:only-of-type {\n",
       "        vertical-align: middle;\n",
       "    }\n",
       "\n",
       "    .dataframe tbody tr th {\n",
       "        vertical-align: top;\n",
       "    }\n",
       "\n",
       "    .dataframe thead th {\n",
       "        text-align: right;\n",
       "    }\n",
       "</style>\n",
       "<table border=\"1\" class=\"dataframe\">\n",
       "  <thead>\n",
       "    <tr style=\"text-align: right;\">\n",
       "      <th></th>\n",
       "      <th>tz</th>\n",
       "      <th>os</th>\n",
       "      <th>total</th>\n",
       "    </tr>\n",
       "  </thead>\n",
       "  <tbody>\n",
       "    <tr>\n",
       "      <th>0</th>\n",
       "      <td>America/Sao_Paulo</td>\n",
       "      <td>Not Windows</td>\n",
       "      <td>13.0</td>\n",
       "    </tr>\n",
       "    <tr>\n",
       "      <th>1</th>\n",
       "      <td>America/Sao_Paulo</td>\n",
       "      <td>Windows</td>\n",
       "      <td>20.0</td>\n",
       "    </tr>\n",
       "    <tr>\n",
       "      <th>2</th>\n",
       "      <td>Europe/Madrid</td>\n",
       "      <td>Not Windows</td>\n",
       "      <td>16.0</td>\n",
       "    </tr>\n",
       "    <tr>\n",
       "      <th>3</th>\n",
       "      <td>Europe/Madrid</td>\n",
       "      <td>Windows</td>\n",
       "      <td>19.0</td>\n",
       "    </tr>\n",
       "    <tr>\n",
       "      <th>4</th>\n",
       "      <td>Pacific/Honolulu</td>\n",
       "      <td>Not Windows</td>\n",
       "      <td>0.0</td>\n",
       "    </tr>\n",
       "    <tr>\n",
       "      <th>5</th>\n",
       "      <td>Pacific/Honolulu</td>\n",
       "      <td>Windows</td>\n",
       "      <td>36.0</td>\n",
       "    </tr>\n",
       "    <tr>\n",
       "      <th>6</th>\n",
       "      <td>Asia/Tokyo</td>\n",
       "      <td>Not Windows</td>\n",
       "      <td>2.0</td>\n",
       "    </tr>\n",
       "    <tr>\n",
       "      <th>7</th>\n",
       "      <td>Asia/Tokyo</td>\n",
       "      <td>Windows</td>\n",
       "      <td>35.0</td>\n",
       "    </tr>\n",
       "    <tr>\n",
       "      <th>8</th>\n",
       "      <td>Europe/London</td>\n",
       "      <td>Not Windows</td>\n",
       "      <td>43.0</td>\n",
       "    </tr>\n",
       "    <tr>\n",
       "      <th>9</th>\n",
       "      <td>Europe/London</td>\n",
       "      <td>Windows</td>\n",
       "      <td>31.0</td>\n",
       "    </tr>\n",
       "  </tbody>\n",
       "</table>\n",
       "</div>"
      ],
      "text/plain": [
       "                  tz           os  total\n",
       "0  America/Sao_Paulo  Not Windows   13.0\n",
       "1  America/Sao_Paulo      Windows   20.0\n",
       "2      Europe/Madrid  Not Windows   16.0\n",
       "3      Europe/Madrid      Windows   19.0\n",
       "4   Pacific/Honolulu  Not Windows    0.0\n",
       "5   Pacific/Honolulu      Windows   36.0\n",
       "6         Asia/Tokyo  Not Windows    2.0\n",
       "7         Asia/Tokyo      Windows   35.0\n",
       "8      Europe/London  Not Windows   43.0\n",
       "9      Europe/London      Windows   31.0"
      ]
     },
     "execution_count": 229,
     "metadata": {},
     "output_type": "execute_result"
    }
   ],
   "source": [
    "count_subset = count_subset.reset_index()\n",
    "count_subset[:10]\n"
   ]
  },
  {
   "cell_type": "code",
   "execution_count": 232,
   "metadata": {
    "ExecuteTime": {
     "end_time": "2019-11-14T08:44:22.892850Z",
     "start_time": "2019-11-14T08:44:22.189939Z"
    }
   },
   "outputs": [
    {
     "data": {
      "text/plain": [
       "<matplotlib.axes._subplots.AxesSubplot at 0x167589b56d8>"
      ]
     },
     "execution_count": 232,
     "metadata": {},
     "output_type": "execute_result"
    },
    {
     "data": {
      "image/png": "[encoded data removed]",
      "text/plain": [
       "<Figure size 1200x800 with 1 Axes>"
      ]
     },
     "metadata": {},
     "output_type": "display_data"
    }
   ],
   "source": [
    "sns.barplot(y='tz', x='total', hue='os', data=count_subset)"
   ]
  },
  {
   "cell_type": "markdown",
   "metadata": {},
   "source": [
    "根据百分比画图\n"
   ]
  },
  {
   "cell_type": "code",
   "execution_count": 239,
   "metadata": {
    "ExecuteTime": {
     "end_time": "2019-11-14T08:47:37.041502Z",
     "start_time": "2019-11-14T08:47:36.972159Z"
    }
   },
   "outputs": [
    {
     "data": {
      "text/html": [
       "<div>\n",
       "<style scoped>\n",
       "    .dataframe tbody tr th:only-of-type {\n",
       "        vertical-align: middle;\n",
       "    }\n",
       "\n",
       "    .dataframe tbody tr th {\n",
       "        vertical-align: top;\n",
       "    }\n",
       "\n",
       "    .dataframe thead th {\n",
       "        text-align: right;\n",
       "    }\n",
       "</style>\n",
       "<table border=\"1\" class=\"dataframe\">\n",
       "  <thead>\n",
       "    <tr style=\"text-align: right;\">\n",
       "      <th></th>\n",
       "      <th>tz</th>\n",
       "      <th>os</th>\n",
       "      <th>total</th>\n",
       "      <th>normal_total</th>\n",
       "    </tr>\n",
       "  </thead>\n",
       "  <tbody>\n",
       "    <tr>\n",
       "      <th>0</th>\n",
       "      <td>America/Sao_Paulo</td>\n",
       "      <td>Not Windows</td>\n",
       "      <td>13.0</td>\n",
       "      <td>0.393939</td>\n",
       "    </tr>\n",
       "    <tr>\n",
       "      <th>1</th>\n",
       "      <td>America/Sao_Paulo</td>\n",
       "      <td>Windows</td>\n",
       "      <td>20.0</td>\n",
       "      <td>0.606061</td>\n",
       "    </tr>\n",
       "  </tbody>\n",
       "</table>\n",
       "</div>"
      ],
      "text/plain": [
       "                  tz           os  total  normal_total\n",
       "0  America/Sao_Paulo  Not Windows   13.0      0.393939\n",
       "1  America/Sao_Paulo      Windows   20.0      0.606061"
      ]
     },
     "execution_count": 239,
     "metadata": {},
     "output_type": "execute_result"
    }
   ],
   "source": [
    "def norm_total(group):\n",
    "    group['normal_total'] = group['total'] / group['total'].sum()\n",
    "    return group\n",
    "result = count_subset.groupby('tz').apply(norm_total)\n",
    "result.head(2)"
   ]
  },
  {
   "cell_type": "code",
   "execution_count": 246,
   "metadata": {
    "ExecuteTime": {
     "end_time": "2019-11-14T10:14:36.788629Z",
     "start_time": "2019-11-14T10:14:35.999822Z"
    }
   },
   "outputs": [
    {
     "data": {
      "text/plain": [
       "<matplotlib.axes._subplots.AxesSubplot at 0x1675da58710>"
      ]
     },
     "execution_count": 246,
     "metadata": {},
     "output_type": "execute_result"
    },
    {
     "data": {
      "image/png": "[encoded data removed]",
      "text/plain": [
       "<Figure size 1200x800 with 1 Axes>"
      ]
     },
     "metadata": {},
     "output_type": "display_data"
    }
   ],
   "source": [
    "sns.barplot(y='tz', x='normal_total', hue='os', data=result)"
   ]
  },
  {
   "cell_type": "markdown",
   "metadata": {},
   "source": [
    "## MovieLens 1M数据集"
   ]
  },
  {
   "cell_type": "markdown",
   "metadata": {},
   "source": [
    "MovieLens 1M数据集含有来自6000名用户对4000部电影的100万条评分数据。它分为三个表：评分、用户信息和电影信息"
   ]
  },
  {
   "cell_type": "code",
   "execution_count": 247,
   "metadata": {
    "ExecuteTime": {
     "end_time": "2019-11-14T10:18:11.549094Z",
     "start_time": "2019-11-14T10:18:11.528639Z"
    }
   },
   "outputs": [],
   "source": [
    "pd.options.display.max_rows = 10"
   ]
  },
  {
   "cell_type": "code",
   "execution_count": 251,
   "metadata": {
    "ExecuteTime": {
     "end_time": "2019-11-14T10:20:54.939142Z",
     "start_time": "2019-11-14T10:20:54.851926Z"
    }
   },
   "outputs": [],
   "source": [
    "unames = ['user_id', 'gender', 'age', 'occupation', 'zip']\n",
    "users = pd.read_csv('datasets/movielens/users.dat', sep='::',\n",
    "                   header=None, names=unames, engine='python')\n",
    "\n",
    "rname"
   ]
  },
  {
   "cell_type": "code",
   "execution_count": 253,
   "metadata": {
    "ExecuteTime": {
     "end_time": "2019-11-14T10:23:07.296686Z",
     "start_time": "2019-11-14T10:22:54.645782Z"
    }
   },
   "outputs": [
    {
     "name": "stderr",
     "output_type": "stream",
     "text": [
      "D:\\anaconda\\lib\\site-packages\\ipykernel_launcher.py:3: ParserWarning: Falling back to the 'python' engine because the 'c' engine does not support regex separators (separators > 1 char and different from '\\s+' are interpreted as regex); you can avoid this warning by specifying engine='python'.\n",
      "  This is separate from the ipykernel package so we can avoid doing imports until\n"
     ]
    }
   ],
   "source": [
    "rnames = ['user_id', 'movie_id', 'rating', 'timestamp']\n",
    "ratings = pd.read_csv('datasets/movielens/ratings.dat',sep='::',\n",
    "                     header=None, names=rnames)"
   ]
  },
  {
   "cell_type": "code",
   "execution_count": 257,
   "metadata": {
    "ExecuteTime": {
     "end_time": "2019-11-14T10:24:31.832766Z",
     "start_time": "2019-11-14T10:24:31.786050Z"
    }
   },
   "outputs": [],
   "source": [
    "mnames = ['movie_id', 'title', 'genres']\n",
    "movies = pd.read_csv('datasets/movielens/movies.dat', sep='::',\n",
    "                    header=None,names=mnames, engine='python')"
   ]
  },
  {
   "cell_type": "code",
   "execution_count": 259,
   "metadata": {
    "ExecuteTime": {
     "end_time": "2019-11-14T10:25:29.674414Z",
     "start_time": "2019-11-14T10:25:29.639327Z"
    }
   },
   "outputs": [
    {
     "data": {
      "text/html": [
       "<div>\n",
       "<style scoped>\n",
       "    .dataframe tbody tr th:only-of-type {\n",
       "        vertical-align: middle;\n",
       "    }\n",
       "\n",
       "    .dataframe tbody tr th {\n",
       "        vertical-align: top;\n",
       "    }\n",
       "\n",
       "    .dataframe thead th {\n",
       "        text-align: right;\n",
       "    }\n",
       "</style>\n",
       "<table border=\"1\" class=\"dataframe\">\n",
       "  <thead>\n",
       "    <tr style=\"text-align: right;\">\n",
       "      <th></th>\n",
       "      <th>user_id</th>\n",
       "      <th>gender</th>\n",
       "      <th>age</th>\n",
       "      <th>occupation</th>\n",
       "      <th>zip</th>\n",
       "    </tr>\n",
       "  </thead>\n",
       "  <tbody>\n",
       "    <tr>\n",
       "      <th>0</th>\n",
       "      <td>1</td>\n",
       "      <td>F</td>\n",
       "      <td>1</td>\n",
       "      <td>10</td>\n",
       "      <td>48067</td>\n",
       "    </tr>\n",
       "    <tr>\n",
       "      <th>1</th>\n",
       "      <td>2</td>\n",
       "      <td>M</td>\n",
       "      <td>56</td>\n",
       "      <td>16</td>\n",
       "      <td>70072</td>\n",
       "    </tr>\n",
       "    <tr>\n",
       "      <th>2</th>\n",
       "      <td>3</td>\n",
       "      <td>M</td>\n",
       "      <td>25</td>\n",
       "      <td>15</td>\n",
       "      <td>55117</td>\n",
       "    </tr>\n",
       "  </tbody>\n",
       "</table>\n",
       "</div>"
      ],
      "text/plain": [
       "   user_id gender  age  occupation    zip\n",
       "0        1      F    1          10  48067\n",
       "1        2      M   56          16  70072\n",
       "2        3      M   25          15  55117"
      ]
     },
     "metadata": {},
     "output_type": "display_data"
    },
    {
     "data": {
      "text/html": [
       "<div>\n",
       "<style scoped>\n",
       "    .dataframe tbody tr th:only-of-type {\n",
       "        vertical-align: middle;\n",
       "    }\n",
       "\n",
       "    .dataframe tbody tr th {\n",
       "        vertical-align: top;\n",
       "    }\n",
       "\n",
       "    .dataframe thead th {\n",
       "        text-align: right;\n",
       "    }\n",
       "</style>\n",
       "<table border=\"1\" class=\"dataframe\">\n",
       "  <thead>\n",
       "    <tr style=\"text-align: right;\">\n",
       "      <th></th>\n",
       "      <th>user_id</th>\n",
       "      <th>movie_id</th>\n",
       "      <th>rating</th>\n",
       "      <th>timestamp</th>\n",
       "    </tr>\n",
       "  </thead>\n",
       "  <tbody>\n",
       "    <tr>\n",
       "      <th>0</th>\n",
       "      <td>1</td>\n",
       "      <td>1193</td>\n",
       "      <td>5</td>\n",
       "      <td>978300760</td>\n",
       "    </tr>\n",
       "    <tr>\n",
       "      <th>1</th>\n",
       "      <td>1</td>\n",
       "      <td>661</td>\n",
       "      <td>3</td>\n",
       "      <td>978302109</td>\n",
       "    </tr>\n",
       "    <tr>\n",
       "      <th>2</th>\n",
       "      <td>1</td>\n",
       "      <td>914</td>\n",
       "      <td>3</td>\n",
       "      <td>978301968</td>\n",
       "    </tr>\n",
       "  </tbody>\n",
       "</table>\n",
       "</div>"
      ],
      "text/plain": [
       "   user_id  movie_id  rating  timestamp\n",
       "0        1      1193       5  978300760\n",
       "1        1       661       3  978302109\n",
       "2        1       914       3  978301968"
      ]
     },
     "metadata": {},
     "output_type": "display_data"
    },
    {
     "data": {
      "text/html": [
       "<div>\n",
       "<style scoped>\n",
       "    .dataframe tbody tr th:only-of-type {\n",
       "        vertical-align: middle;\n",
       "    }\n",
       "\n",
       "    .dataframe tbody tr th {\n",
       "        vertical-align: top;\n",
       "    }\n",
       "\n",
       "    .dataframe thead th {\n",
       "        text-align: right;\n",
       "    }\n",
       "</style>\n",
       "<table border=\"1\" class=\"dataframe\">\n",
       "  <thead>\n",
       "    <tr style=\"text-align: right;\">\n",
       "      <th></th>\n",
       "      <th>movie_id</th>\n",
       "      <th>title</th>\n",
       "      <th>genres</th>\n",
       "    </tr>\n",
       "  </thead>\n",
       "  <tbody>\n",
       "    <tr>\n",
       "      <th>0</th>\n",
       "      <td>1</td>\n",
       "      <td>Toy Story (1995)</td>\n",
       "      <td>Animation|Children's|Comedy</td>\n",
       "    </tr>\n",
       "    <tr>\n",
       "      <th>1</th>\n",
       "      <td>2</td>\n",
       "      <td>Jumanji (1995)</td>\n",
       "      <td>Adventure|Children's|Fantasy</td>\n",
       "    </tr>\n",
       "    <tr>\n",
       "      <th>2</th>\n",
       "      <td>3</td>\n",
       "      <td>Grumpier Old Men (1995)</td>\n",
       "      <td>Comedy|Romance</td>\n",
       "    </tr>\n",
       "  </tbody>\n",
       "</table>\n",
       "</div>"
      ],
      "text/plain": [
       "   movie_id                    title                        genres\n",
       "0         1         Toy Story (1995)   Animation|Children's|Comedy\n",
       "1         2           Jumanji (1995)  Adventure|Children's|Fantasy\n",
       "2         3  Grumpier Old Men (1995)                Comedy|Romance"
      ]
     },
     "metadata": {},
     "output_type": "display_data"
    }
   ],
   "source": [
    "display(users[:3], ratings[:3], movies[:3])"
   ]
  },
  {
   "cell_type": "markdown",
   "metadata": {},
   "source": [
    "示例1：合并三张表，"
   ]
  },
  {
   "cell_type": "code",
   "execution_count": 263,
   "metadata": {
    "ExecuteTime": {
     "end_time": "2019-11-14T10:29:15.582556Z",
     "start_time": "2019-11-14T10:29:14.642488Z"
    }
   },
   "outputs": [
    {
     "data": {
      "text/html": [
       "<div>\n",
       "<style scoped>\n",
       "    .dataframe tbody tr th:only-of-type {\n",
       "        vertical-align: middle;\n",
       "    }\n",
       "\n",
       "    .dataframe tbody tr th {\n",
       "        vertical-align: top;\n",
       "    }\n",
       "\n",
       "    .dataframe thead th {\n",
       "        text-align: right;\n",
       "    }\n",
       "</style>\n",
       "<table border=\"1\" class=\"dataframe\">\n",
       "  <thead>\n",
       "    <tr style=\"text-align: right;\">\n",
       "      <th></th>\n",
       "      <th>user_id</th>\n",
       "      <th>gender</th>\n",
       "      <th>age</th>\n",
       "      <th>occupation</th>\n",
       "      <th>zip</th>\n",
       "      <th>movie_id</th>\n",
       "      <th>rating</th>\n",
       "      <th>timestamp</th>\n",
       "      <th>title</th>\n",
       "      <th>genres</th>\n",
       "    </tr>\n",
       "  </thead>\n",
       "  <tbody>\n",
       "    <tr>\n",
       "      <th>0</th>\n",
       "      <td>1</td>\n",
       "      <td>F</td>\n",
       "      <td>1</td>\n",
       "      <td>10</td>\n",
       "      <td>48067</td>\n",
       "      <td>1193</td>\n",
       "      <td>5</td>\n",
       "      <td>978300760</td>\n",
       "      <td>One Flew Over the Cuckoo's Nest (1975)</td>\n",
       "      <td>Drama</td>\n",
       "    </tr>\n",
       "    <tr>\n",
       "      <th>1</th>\n",
       "      <td>2</td>\n",
       "      <td>M</td>\n",
       "      <td>56</td>\n",
       "      <td>16</td>\n",
       "      <td>70072</td>\n",
       "      <td>1193</td>\n",
       "      <td>5</td>\n",
       "      <td>978298413</td>\n",
       "      <td>One Flew Over the Cuckoo's Nest (1975)</td>\n",
       "      <td>Drama</td>\n",
       "    </tr>\n",
       "    <tr>\n",
       "      <th>2</th>\n",
       "      <td>12</td>\n",
       "      <td>M</td>\n",
       "      <td>25</td>\n",
       "      <td>12</td>\n",
       "      <td>32793</td>\n",
       "      <td>1193</td>\n",
       "      <td>4</td>\n",
       "      <td>978220179</td>\n",
       "      <td>One Flew Over the Cuckoo's Nest (1975)</td>\n",
       "      <td>Drama</td>\n",
       "    </tr>\n",
       "    <tr>\n",
       "      <th>3</th>\n",
       "      <td>15</td>\n",
       "      <td>M</td>\n",
       "      <td>25</td>\n",
       "      <td>7</td>\n",
       "      <td>22903</td>\n",
       "      <td>1193</td>\n",
       "      <td>4</td>\n",
       "      <td>978199279</td>\n",
       "      <td>One Flew Over the Cuckoo's Nest (1975)</td>\n",
       "      <td>Drama</td>\n",
       "    </tr>\n",
       "    <tr>\n",
       "      <th>4</th>\n",
       "      <td>17</td>\n",
       "      <td>M</td>\n",
       "      <td>50</td>\n",
       "      <td>1</td>\n",
       "      <td>95350</td>\n",
       "      <td>1193</td>\n",
       "      <td>5</td>\n",
       "      <td>978158471</td>\n",
       "      <td>One Flew Over the Cuckoo's Nest (1975)</td>\n",
       "      <td>Drama</td>\n",
       "    </tr>\n",
       "  </tbody>\n",
       "</table>\n",
       "</div>"
      ],
      "text/plain": [
       "   user_id gender  age  occupation    zip  movie_id  rating  timestamp  \\\n",
       "0        1      F    1          10  48067      1193       5  978300760   \n",
       "1        2      M   56          16  70072      1193       5  978298413   \n",
       "2       12      M   25          12  32793      1193       4  978220179   \n",
       "3       15      M   25           7  22903      1193       4  978199279   \n",
       "4       17      M   50           1  95350      1193       5  978158471   \n",
       "\n",
       "                                    title genres  \n",
       "0  One Flew Over the Cuckoo's Nest (1975)  Drama  \n",
       "1  One Flew Over the Cuckoo's Nest (1975)  Drama  \n",
       "2  One Flew Over the Cuckoo's Nest (1975)  Drama  \n",
       "3  One Flew Over the Cuckoo's Nest (1975)  Drama  \n",
       "4  One Flew Over the Cuckoo's Nest (1975)  Drama  "
      ]
     },
     "execution_count": 263,
     "metadata": {},
     "output_type": "execute_result"
    }
   ],
   "source": [
    "data = pd.merge(pd.merge(users, ratings), movies)\n",
    "data.head()"
   ]
  },
  {
   "cell_type": "markdown",
   "metadata": {},
   "source": [
    "示例2：根据性别计算每部电影的平均得分"
   ]
  },
  {
   "cell_type": "code",
   "execution_count": 272,
   "metadata": {
    "ExecuteTime": {
     "end_time": "2019-11-14T10:35:50.717801Z",
     "start_time": "2019-11-14T10:35:50.257080Z"
    }
   },
   "outputs": [
    {
     "data": {
      "text/html": [
       "<div>\n",
       "<style scoped>\n",
       "    .dataframe tbody tr th:only-of-type {\n",
       "        vertical-align: middle;\n",
       "    }\n",
       "\n",
       "    .dataframe tbody tr th {\n",
       "        vertical-align: top;\n",
       "    }\n",
       "\n",
       "    .dataframe thead th {\n",
       "        text-align: right;\n",
       "    }\n",
       "</style>\n",
       "<table border=\"1\" class=\"dataframe\">\n",
       "  <thead>\n",
       "    <tr style=\"text-align: right;\">\n",
       "      <th>gender</th>\n",
       "      <th>F</th>\n",
       "      <th>M</th>\n",
       "    </tr>\n",
       "    <tr>\n",
       "      <th>title</th>\n",
       "      <th></th>\n",
       "      <th></th>\n",
       "    </tr>\n",
       "  </thead>\n",
       "  <tbody>\n",
       "    <tr>\n",
       "      <th>$1,000,000 Duck (1971)</th>\n",
       "      <td>3.375000</td>\n",
       "      <td>2.761905</td>\n",
       "    </tr>\n",
       "    <tr>\n",
       "      <th>'Night Mother (1986)</th>\n",
       "      <td>3.388889</td>\n",
       "      <td>3.352941</td>\n",
       "    </tr>\n",
       "  </tbody>\n",
       "</table>\n",
       "</div>"
      ],
      "text/plain": [
       "gender                         F         M\n",
       "title                                     \n",
       "$1,000,000 Duck (1971)  3.375000  2.761905\n",
       "'Night Mother (1986)    3.388889  3.352941"
      ]
     },
     "execution_count": 272,
     "metadata": {},
     "output_type": "execute_result"
    }
   ],
   "source": [
    "mean_ratings = data.pivot_table('rating', index=['title'], columns=['gender'],\n",
    "                aggfunc='mean')\n",
    "mean_ratings[:2]"
   ]
  },
  {
   "cell_type": "markdown",
   "metadata": {},
   "source": [
    "该操作产生了另一个DataFrame，其内容为电影平均得分，行标为电影名称（索引），列标为性别。现在，我打算过滤掉评分数据不够250条的电影（随便选的一个数字）。"
   ]
  },
  {
   "cell_type": "code",
   "execution_count": 283,
   "metadata": {
    "ExecuteTime": {
     "end_time": "2019-11-14T10:40:37.261777Z",
     "start_time": "2019-11-14T10:40:37.048872Z"
    }
   },
   "outputs": [
    {
     "data": {
      "text/plain": [
       "title\n",
       "$1,000,000 Duck (1971)                       37\n",
       "'Night Mother (1986)                         70\n",
       "'Til There Was You (1997)                    52\n",
       "'burbs, The (1989)                          303\n",
       "...And Justice for All (1979)               199\n",
       "                                           ... \n",
       "Zed & Two Noughts, A (1985)                  29\n",
       "Zero Effect (1998)                          301\n",
       "Zero Kelvin (Kj鎟lighetens kj鴗ere) (1995)      2\n",
       "Zeus and Roxanne (1997)                      23\n",
       "eXistenZ (1999)                             410\n",
       "Length: 3706, dtype: int64"
      ]
     },
     "execution_count": 283,
     "metadata": {},
     "output_type": "execute_result"
    }
   ],
   "source": [
    "ratings_by_title = data.groupby('title').size()\n",
    "ratings_by_title"
   ]
  },
  {
   "cell_type": "code",
   "execution_count": 286,
   "metadata": {
    "ExecuteTime": {
     "end_time": "2019-11-14T10:42:07.757065Z",
     "start_time": "2019-11-14T10:42:07.744941Z"
    }
   },
   "outputs": [
    {
     "data": {
      "text/plain": [
       "Index([''burbs, The (1989)', '10 Things I Hate About You (1999)',\n",
       "       '101 Dalmatians (1961)', '101 Dalmatians (1996)', '12 Angry Men (1957)',\n",
       "       '13th Warrior, The (1999)', '2 Days in the Valley (1996)',\n",
       "       '20,000 Leagues Under the Sea (1954)', '2001: A Space Odyssey (1968)',\n",
       "       '2010 (1984)',\n",
       "       ...\n",
       "       'X-Men (2000)', 'Year of Living Dangerously (1982)',\n",
       "       'Yellow Submarine (1968)', 'You've Got Mail (1998)',\n",
       "       'Young Frankenstein (1974)', 'Young Guns (1988)',\n",
       "       'Young Guns II (1990)', 'Young Sherlock Holmes (1985)',\n",
       "       'Zero Effect (1998)', 'eXistenZ (1999)'],\n",
       "      dtype='object', name='title', length=1216)"
      ]
     },
     "execution_count": 286,
     "metadata": {},
     "output_type": "execute_result"
    }
   ],
   "source": [
    "active_titles = ratings_by_title.index[ratings_by_title>=250]\n",
    "active_titles"
   ]
  },
  {
   "cell_type": "markdown",
   "metadata": {
    "ExecuteTime": {
     "end_time": "2019-11-14T10:49:41.623789Z",
     "start_time": "2019-11-14T10:49:41.593204Z"
    }
   },
   "source": [
    "标题索引中含有评分数据大于250条的电影名称，然后我们就可以据此从前面的mean_ratings中选取所需的行了："
   ]
  },
  {
   "cell_type": "code",
   "execution_count": 307,
   "metadata": {
    "ExecuteTime": {
     "end_time": "2019-11-14T10:56:36.636298Z",
     "start_time": "2019-11-14T10:56:36.609110Z"
    }
   },
   "outputs": [
    {
     "data": {
      "text/html": [
       "<div>\n",
       "<style scoped>\n",
       "    .dataframe tbody tr th:only-of-type {\n",
       "        vertical-align: middle;\n",
       "    }\n",
       "\n",
       "    .dataframe tbody tr th {\n",
       "        vertical-align: top;\n",
       "    }\n",
       "\n",
       "    .dataframe thead th {\n",
       "        text-align: right;\n",
       "    }\n",
       "</style>\n",
       "<table border=\"1\" class=\"dataframe\">\n",
       "  <thead>\n",
       "    <tr style=\"text-align: right;\">\n",
       "      <th>gender</th>\n",
       "      <th>F</th>\n",
       "      <th>M</th>\n",
       "    </tr>\n",
       "    <tr>\n",
       "      <th>title</th>\n",
       "      <th></th>\n",
       "      <th></th>\n",
       "    </tr>\n",
       "  </thead>\n",
       "  <tbody>\n",
       "    <tr>\n",
       "      <th>'burbs, The (1989)</th>\n",
       "      <td>2.793478</td>\n",
       "      <td>2.962085</td>\n",
       "    </tr>\n",
       "    <tr>\n",
       "      <th>10 Things I Hate About You (1999)</th>\n",
       "      <td>3.646552</td>\n",
       "      <td>3.311966</td>\n",
       "    </tr>\n",
       "    <tr>\n",
       "      <th>101 Dalmatians (1961)</th>\n",
       "      <td>3.791444</td>\n",
       "      <td>3.500000</td>\n",
       "    </tr>\n",
       "    <tr>\n",
       "      <th>101 Dalmatians (1996)</th>\n",
       "      <td>3.240000</td>\n",
       "      <td>2.911215</td>\n",
       "    </tr>\n",
       "    <tr>\n",
       "      <th>12 Angry Men (1957)</th>\n",
       "      <td>4.184397</td>\n",
       "      <td>4.328421</td>\n",
       "    </tr>\n",
       "    <tr>\n",
       "      <th>...</th>\n",
       "      <td>...</td>\n",
       "      <td>...</td>\n",
       "    </tr>\n",
       "    <tr>\n",
       "      <th>Young Guns (1988)</th>\n",
       "      <td>3.371795</td>\n",
       "      <td>3.425620</td>\n",
       "    </tr>\n",
       "    <tr>\n",
       "      <th>Young Guns II (1990)</th>\n",
       "      <td>2.934783</td>\n",
       "      <td>2.904025</td>\n",
       "    </tr>\n",
       "    <tr>\n",
       "      <th>Young Sherlock Holmes (1985)</th>\n",
       "      <td>3.514706</td>\n",
       "      <td>3.363344</td>\n",
       "    </tr>\n",
       "    <tr>\n",
       "      <th>Zero Effect (1998)</th>\n",
       "      <td>3.864407</td>\n",
       "      <td>3.723140</td>\n",
       "    </tr>\n",
       "    <tr>\n",
       "      <th>eXistenZ (1999)</th>\n",
       "      <td>3.098592</td>\n",
       "      <td>3.289086</td>\n",
       "    </tr>\n",
       "  </tbody>\n",
       "</table>\n",
       "<p>1216 rows × 2 columns</p>\n",
       "</div>"
      ],
      "text/plain": [
       "gender                                    F         M\n",
       "title                                                \n",
       "'burbs, The (1989)                 2.793478  2.962085\n",
       "10 Things I Hate About You (1999)  3.646552  3.311966\n",
       "101 Dalmatians (1961)              3.791444  3.500000\n",
       "101 Dalmatians (1996)              3.240000  2.911215\n",
       "12 Angry Men (1957)                4.184397  4.328421\n",
       "...                                     ...       ...\n",
       "Young Guns (1988)                  3.371795  3.425620\n",
       "Young Guns II (1990)               2.934783  2.904025\n",
       "Young Sherlock Holmes (1985)       3.514706  3.363344\n",
       "Zero Effect (1998)                 3.864407  3.723140\n",
       "eXistenZ (1999)                    3.098592  3.289086\n",
       "\n",
       "[1216 rows x 2 columns]"
      ]
     },
     "execution_count": 307,
     "metadata": {},
     "output_type": "execute_result"
    }
   ],
   "source": [
    "mean_ratings = mean_ratings.loc[active_titles]\n",
    "mean_ratings"
   ]
  },
  {
   "cell_type": "markdown",
   "metadata": {},
   "source": [
    "为了了解女性观众最喜欢的电影，我们可以对F列降序排列："
   ]
  },
  {
   "cell_type": "code",
   "execution_count": 312,
   "metadata": {
    "ExecuteTime": {
     "end_time": "2019-11-14T10:59:11.056237Z",
     "start_time": "2019-11-14T10:59:11.015350Z"
    }
   },
   "outputs": [
    {
     "data": {
      "text/html": [
       "<div>\n",
       "<style scoped>\n",
       "    .dataframe tbody tr th:only-of-type {\n",
       "        vertical-align: middle;\n",
       "    }\n",
       "\n",
       "    .dataframe tbody tr th {\n",
       "        vertical-align: top;\n",
       "    }\n",
       "\n",
       "    .dataframe thead th {\n",
       "        text-align: right;\n",
       "    }\n",
       "</style>\n",
       "<table border=\"1\" class=\"dataframe\">\n",
       "  <thead>\n",
       "    <tr style=\"text-align: right;\">\n",
       "      <th>gender</th>\n",
       "      <th>F</th>\n",
       "      <th>M</th>\n",
       "    </tr>\n",
       "    <tr>\n",
       "      <th>title</th>\n",
       "      <th></th>\n",
       "      <th></th>\n",
       "    </tr>\n",
       "  </thead>\n",
       "  <tbody>\n",
       "    <tr>\n",
       "      <th>Close Shave, A (1995)</th>\n",
       "      <td>4.644444</td>\n",
       "      <td>4.473795</td>\n",
       "    </tr>\n",
       "    <tr>\n",
       "      <th>Wrong Trousers, The (1993)</th>\n",
       "      <td>4.588235</td>\n",
       "      <td>4.478261</td>\n",
       "    </tr>\n",
       "    <tr>\n",
       "      <th>Sunset Blvd. (a.k.a. Sunset Boulevard) (1950)</th>\n",
       "      <td>4.572650</td>\n",
       "      <td>4.464589</td>\n",
       "    </tr>\n",
       "    <tr>\n",
       "      <th>Wallace &amp; Gromit: The Best of Aardman Animation (1996)</th>\n",
       "      <td>4.563107</td>\n",
       "      <td>4.385075</td>\n",
       "    </tr>\n",
       "    <tr>\n",
       "      <th>Schindler's List (1993)</th>\n",
       "      <td>4.562602</td>\n",
       "      <td>4.491415</td>\n",
       "    </tr>\n",
       "    <tr>\n",
       "      <th>...</th>\n",
       "      <td>...</td>\n",
       "      <td>...</td>\n",
       "    </tr>\n",
       "    <tr>\n",
       "      <th>Avengers, The (1998)</th>\n",
       "      <td>1.915254</td>\n",
       "      <td>2.017467</td>\n",
       "    </tr>\n",
       "    <tr>\n",
       "      <th>Speed 2: Cruise Control (1997)</th>\n",
       "      <td>1.906667</td>\n",
       "      <td>1.863014</td>\n",
       "    </tr>\n",
       "    <tr>\n",
       "      <th>Rocky V (1990)</th>\n",
       "      <td>1.878788</td>\n",
       "      <td>2.132780</td>\n",
       "    </tr>\n",
       "    <tr>\n",
       "      <th>Barb Wire (1996)</th>\n",
       "      <td>1.585366</td>\n",
       "      <td>2.100386</td>\n",
       "    </tr>\n",
       "    <tr>\n",
       "      <th>Battlefield Earth (2000)</th>\n",
       "      <td>1.574468</td>\n",
       "      <td>1.616949</td>\n",
       "    </tr>\n",
       "  </tbody>\n",
       "</table>\n",
       "<p>1216 rows × 2 columns</p>\n",
       "</div>"
      ],
      "text/plain": [
       "gender                                                     F         M\n",
       "title                                                                 \n",
       "Close Shave, A (1995)                               4.644444  4.473795\n",
       "Wrong Trousers, The (1993)                          4.588235  4.478261\n",
       "Sunset Blvd. (a.k.a. Sunset Boulevard) (1950)       4.572650  4.464589\n",
       "Wallace & Gromit: The Best of Aardman Animation...  4.563107  4.385075\n",
       "Schindler's List (1993)                             4.562602  4.491415\n",
       "...                                                      ...       ...\n",
       "Avengers, The (1998)                                1.915254  2.017467\n",
       "Speed 2: Cruise Control (1997)                      1.906667  1.863014\n",
       "Rocky V (1990)                                      1.878788  2.132780\n",
       "Barb Wire (1996)                                    1.585366  2.100386\n",
       "Battlefield Earth (2000)                            1.574468  1.616949\n",
       "\n",
       "[1216 rows x 2 columns]"
      ]
     },
     "execution_count": 312,
     "metadata": {},
     "output_type": "execute_result"
    }
   ],
   "source": [
    "top_female_ratings = mean_ratings.sort_values('F', ascending=False)\n",
    "top_female_ratings"
   ]
  },
  {
   "cell_type": "markdown",
   "metadata": {},
   "source": [
    "### 计算评分分歧"
   ]
  },
  {
   "cell_type": "markdown",
   "metadata": {},
   "source": [
    "假设我们想要找出男性和女性观众分歧最大的电影。一个办法是给mean_ratings加上一个用于存放平均得分之差的列，并对其进行排序："
   ]
  },
  {
   "cell_type": "code",
   "execution_count": 314,
   "metadata": {
    "ExecuteTime": {
     "end_time": "2019-11-14T11:02:13.117854Z",
     "start_time": "2019-11-14T11:02:13.100991Z"
    }
   },
   "outputs": [],
   "source": [
    "mean_ratings['diff'] = mean_ratings['M'] - mean_ratings['F']"
   ]
  },
  {
   "cell_type": "code",
   "execution_count": 316,
   "metadata": {
    "ExecuteTime": {
     "end_time": "2019-11-14T11:02:23.429596Z",
     "start_time": "2019-11-14T11:02:23.398151Z"
    }
   },
   "outputs": [
    {
     "data": {
      "text/html": [
       "<div>\n",
       "<style scoped>\n",
       "    .dataframe tbody tr th:only-of-type {\n",
       "        vertical-align: middle;\n",
       "    }\n",
       "\n",
       "    .dataframe tbody tr th {\n",
       "        vertical-align: top;\n",
       "    }\n",
       "\n",
       "    .dataframe thead th {\n",
       "        text-align: right;\n",
       "    }\n",
       "</style>\n",
       "<table border=\"1\" class=\"dataframe\">\n",
       "  <thead>\n",
       "    <tr style=\"text-align: right;\">\n",
       "      <th>gender</th>\n",
       "      <th>F</th>\n",
       "      <th>M</th>\n",
       "      <th>diff</th>\n",
       "    </tr>\n",
       "    <tr>\n",
       "      <th>title</th>\n",
       "      <th></th>\n",
       "      <th></th>\n",
       "      <th></th>\n",
       "    </tr>\n",
       "  </thead>\n",
       "  <tbody>\n",
       "    <tr>\n",
       "      <th>'burbs, The (1989)</th>\n",
       "      <td>2.793478</td>\n",
       "      <td>2.962085</td>\n",
       "      <td>0.168607</td>\n",
       "    </tr>\n",
       "    <tr>\n",
       "      <th>10 Things I Hate About You (1999)</th>\n",
       "      <td>3.646552</td>\n",
       "      <td>3.311966</td>\n",
       "      <td>-0.334586</td>\n",
       "    </tr>\n",
       "    <tr>\n",
       "      <th>101 Dalmatians (1961)</th>\n",
       "      <td>3.791444</td>\n",
       "      <td>3.500000</td>\n",
       "      <td>-0.291444</td>\n",
       "    </tr>\n",
       "    <tr>\n",
       "      <th>101 Dalmatians (1996)</th>\n",
       "      <td>3.240000</td>\n",
       "      <td>2.911215</td>\n",
       "      <td>-0.328785</td>\n",
       "    </tr>\n",
       "    <tr>\n",
       "      <th>12 Angry Men (1957)</th>\n",
       "      <td>4.184397</td>\n",
       "      <td>4.328421</td>\n",
       "      <td>0.144024</td>\n",
       "    </tr>\n",
       "    <tr>\n",
       "      <th>...</th>\n",
       "      <td>...</td>\n",
       "      <td>...</td>\n",
       "      <td>...</td>\n",
       "    </tr>\n",
       "    <tr>\n",
       "      <th>Young Guns (1988)</th>\n",
       "      <td>3.371795</td>\n",
       "      <td>3.425620</td>\n",
       "      <td>0.053825</td>\n",
       "    </tr>\n",
       "    <tr>\n",
       "      <th>Young Guns II (1990)</th>\n",
       "      <td>2.934783</td>\n",
       "      <td>2.904025</td>\n",
       "      <td>-0.030758</td>\n",
       "    </tr>\n",
       "    <tr>\n",
       "      <th>Young Sherlock Holmes (1985)</th>\n",
       "      <td>3.514706</td>\n",
       "      <td>3.363344</td>\n",
       "      <td>-0.151362</td>\n",
       "    </tr>\n",
       "    <tr>\n",
       "      <th>Zero Effect (1998)</th>\n",
       "      <td>3.864407</td>\n",
       "      <td>3.723140</td>\n",
       "      <td>-0.141266</td>\n",
       "    </tr>\n",
       "    <tr>\n",
       "      <th>eXistenZ (1999)</th>\n",
       "      <td>3.098592</td>\n",
       "      <td>3.289086</td>\n",
       "      <td>0.190494</td>\n",
       "    </tr>\n",
       "  </tbody>\n",
       "</table>\n",
       "<p>1216 rows × 3 columns</p>\n",
       "</div>"
      ],
      "text/plain": [
       "gender                                    F         M      diff\n",
       "title                                                          \n",
       "'burbs, The (1989)                 2.793478  2.962085  0.168607\n",
       "10 Things I Hate About You (1999)  3.646552  3.311966 -0.334586\n",
       "101 Dalmatians (1961)              3.791444  3.500000 -0.291444\n",
       "101 Dalmatians (1996)              3.240000  2.911215 -0.328785\n",
       "12 Angry Men (1957)                4.184397  4.328421  0.144024\n",
       "...                                     ...       ...       ...\n",
       "Young Guns (1988)                  3.371795  3.425620  0.053825\n",
       "Young Guns II (1990)               2.934783  2.904025 -0.030758\n",
       "Young Sherlock Holmes (1985)       3.514706  3.363344 -0.151362\n",
       "Zero Effect (1998)                 3.864407  3.723140 -0.141266\n",
       "eXistenZ (1999)                    3.098592  3.289086  0.190494\n",
       "\n",
       "[1216 rows x 3 columns]"
      ]
     },
     "execution_count": 316,
     "metadata": {},
     "output_type": "execute_result"
    }
   ],
   "source": [
    "mean_ratings"
   ]
  },
  {
   "cell_type": "markdown",
   "metadata": {},
   "source": [
    "按\"diff\"排序即可得到分歧最大且女性观众更喜欢的电影："
   ]
  },
  {
   "cell_type": "code",
   "execution_count": 319,
   "metadata": {
    "ExecuteTime": {
     "end_time": "2019-11-14T11:05:40.409676Z",
     "start_time": "2019-11-14T11:05:40.385240Z"
    }
   },
   "outputs": [
    {
     "data": {
      "text/html": [
       "<div>\n",
       "<style scoped>\n",
       "    .dataframe tbody tr th:only-of-type {\n",
       "        vertical-align: middle;\n",
       "    }\n",
       "\n",
       "    .dataframe tbody tr th {\n",
       "        vertical-align: top;\n",
       "    }\n",
       "\n",
       "    .dataframe thead th {\n",
       "        text-align: right;\n",
       "    }\n",
       "</style>\n",
       "<table border=\"1\" class=\"dataframe\">\n",
       "  <thead>\n",
       "    <tr style=\"text-align: right;\">\n",
       "      <th>gender</th>\n",
       "      <th>F</th>\n",
       "      <th>M</th>\n",
       "      <th>diff</th>\n",
       "    </tr>\n",
       "    <tr>\n",
       "      <th>title</th>\n",
       "      <th></th>\n",
       "      <th></th>\n",
       "      <th></th>\n",
       "    </tr>\n",
       "  </thead>\n",
       "  <tbody>\n",
       "    <tr>\n",
       "      <th>Dirty Dancing (1987)</th>\n",
       "      <td>3.790378</td>\n",
       "      <td>2.959596</td>\n",
       "      <td>-0.830782</td>\n",
       "    </tr>\n",
       "    <tr>\n",
       "      <th>Jumpin' Jack Flash (1986)</th>\n",
       "      <td>3.254717</td>\n",
       "      <td>2.578358</td>\n",
       "      <td>-0.676359</td>\n",
       "    </tr>\n",
       "    <tr>\n",
       "      <th>Grease (1978)</th>\n",
       "      <td>3.975265</td>\n",
       "      <td>3.367041</td>\n",
       "      <td>-0.608224</td>\n",
       "    </tr>\n",
       "    <tr>\n",
       "      <th>Little Women (1994)</th>\n",
       "      <td>3.870588</td>\n",
       "      <td>3.321739</td>\n",
       "      <td>-0.548849</td>\n",
       "    </tr>\n",
       "    <tr>\n",
       "      <th>Steel Magnolias (1989)</th>\n",
       "      <td>3.901734</td>\n",
       "      <td>3.365957</td>\n",
       "      <td>-0.535777</td>\n",
       "    </tr>\n",
       "    <tr>\n",
       "      <th>...</th>\n",
       "      <td>...</td>\n",
       "      <td>...</td>\n",
       "      <td>...</td>\n",
       "    </tr>\n",
       "    <tr>\n",
       "      <th>Cable Guy, The (1996)</th>\n",
       "      <td>2.250000</td>\n",
       "      <td>2.863787</td>\n",
       "      <td>0.613787</td>\n",
       "    </tr>\n",
       "    <tr>\n",
       "      <th>Longest Day, The (1962)</th>\n",
       "      <td>3.411765</td>\n",
       "      <td>4.031447</td>\n",
       "      <td>0.619682</td>\n",
       "    </tr>\n",
       "    <tr>\n",
       "      <th>Dumb &amp; Dumber (1994)</th>\n",
       "      <td>2.697987</td>\n",
       "      <td>3.336595</td>\n",
       "      <td>0.638608</td>\n",
       "    </tr>\n",
       "    <tr>\n",
       "      <th>Kentucky Fried Movie, The (1977)</th>\n",
       "      <td>2.878788</td>\n",
       "      <td>3.555147</td>\n",
       "      <td>0.676359</td>\n",
       "    </tr>\n",
       "    <tr>\n",
       "      <th>Good, The Bad and The Ugly, The (1966)</th>\n",
       "      <td>3.494949</td>\n",
       "      <td>4.221300</td>\n",
       "      <td>0.726351</td>\n",
       "    </tr>\n",
       "  </tbody>\n",
       "</table>\n",
       "<p>1216 rows × 3 columns</p>\n",
       "</div>"
      ],
      "text/plain": [
       "gender                                         F         M      diff\n",
       "title                                                               \n",
       "Dirty Dancing (1987)                    3.790378  2.959596 -0.830782\n",
       "Jumpin' Jack Flash (1986)               3.254717  2.578358 -0.676359\n",
       "Grease (1978)                           3.975265  3.367041 -0.608224\n",
       "Little Women (1994)                     3.870588  3.321739 -0.548849\n",
       "Steel Magnolias (1989)                  3.901734  3.365957 -0.535777\n",
       "...                                          ...       ...       ...\n",
       "Cable Guy, The (1996)                   2.250000  2.863787  0.613787\n",
       "Longest Day, The (1962)                 3.411765  4.031447  0.619682\n",
       "Dumb & Dumber (1994)                    2.697987  3.336595  0.638608\n",
       "Kentucky Fried Movie, The (1977)        2.878788  3.555147  0.676359\n",
       "Good, The Bad and The Ugly, The (1966)  3.494949  4.221300  0.726351\n",
       "\n",
       "[1216 rows x 3 columns]"
      ]
     },
     "execution_count": 319,
     "metadata": {},
     "output_type": "execute_result"
    }
   ],
   "source": [
    "sorted_by_diff = mean_ratings.sort_values(by='diff', ascending=True)\n",
    "sorted_by_diff"
   ]
  },
  {
   "cell_type": "markdown",
   "metadata": {},
   "source": [
    "对排序结果反序并取出前10行，得到的则是男性观众更喜欢的电影："
   ]
  },
  {
   "cell_type": "code",
   "execution_count": 320,
   "metadata": {
    "ExecuteTime": {
     "end_time": "2019-11-14T11:05:57.692799Z",
     "start_time": "2019-11-14T11:05:57.662448Z"
    }
   },
   "outputs": [
    {
     "data": {
      "text/html": [
       "<div>\n",
       "<style scoped>\n",
       "    .dataframe tbody tr th:only-of-type {\n",
       "        vertical-align: middle;\n",
       "    }\n",
       "\n",
       "    .dataframe tbody tr th {\n",
       "        vertical-align: top;\n",
       "    }\n",
       "\n",
       "    .dataframe thead th {\n",
       "        text-align: right;\n",
       "    }\n",
       "</style>\n",
       "<table border=\"1\" class=\"dataframe\">\n",
       "  <thead>\n",
       "    <tr style=\"text-align: right;\">\n",
       "      <th>gender</th>\n",
       "      <th>F</th>\n",
       "      <th>M</th>\n",
       "      <th>diff</th>\n",
       "    </tr>\n",
       "    <tr>\n",
       "      <th>title</th>\n",
       "      <th></th>\n",
       "      <th></th>\n",
       "      <th></th>\n",
       "    </tr>\n",
       "  </thead>\n",
       "  <tbody>\n",
       "    <tr>\n",
       "      <th>Good, The Bad and The Ugly, The (1966)</th>\n",
       "      <td>3.494949</td>\n",
       "      <td>4.221300</td>\n",
       "      <td>0.726351</td>\n",
       "    </tr>\n",
       "    <tr>\n",
       "      <th>Kentucky Fried Movie, The (1977)</th>\n",
       "      <td>2.878788</td>\n",
       "      <td>3.555147</td>\n",
       "      <td>0.676359</td>\n",
       "    </tr>\n",
       "    <tr>\n",
       "      <th>Dumb &amp; Dumber (1994)</th>\n",
       "      <td>2.697987</td>\n",
       "      <td>3.336595</td>\n",
       "      <td>0.638608</td>\n",
       "    </tr>\n",
       "    <tr>\n",
       "      <th>Longest Day, The (1962)</th>\n",
       "      <td>3.411765</td>\n",
       "      <td>4.031447</td>\n",
       "      <td>0.619682</td>\n",
       "    </tr>\n",
       "    <tr>\n",
       "      <th>Cable Guy, The (1996)</th>\n",
       "      <td>2.250000</td>\n",
       "      <td>2.863787</td>\n",
       "      <td>0.613787</td>\n",
       "    </tr>\n",
       "    <tr>\n",
       "      <th>Evil Dead II (Dead By Dawn) (1987)</th>\n",
       "      <td>3.297297</td>\n",
       "      <td>3.909283</td>\n",
       "      <td>0.611985</td>\n",
       "    </tr>\n",
       "    <tr>\n",
       "      <th>Hidden, The (1987)</th>\n",
       "      <td>3.137931</td>\n",
       "      <td>3.745098</td>\n",
       "      <td>0.607167</td>\n",
       "    </tr>\n",
       "    <tr>\n",
       "      <th>Rocky III (1982)</th>\n",
       "      <td>2.361702</td>\n",
       "      <td>2.943503</td>\n",
       "      <td>0.581801</td>\n",
       "    </tr>\n",
       "    <tr>\n",
       "      <th>Caddyshack (1980)</th>\n",
       "      <td>3.396135</td>\n",
       "      <td>3.969737</td>\n",
       "      <td>0.573602</td>\n",
       "    </tr>\n",
       "    <tr>\n",
       "      <th>For a Few Dollars More (1965)</th>\n",
       "      <td>3.409091</td>\n",
       "      <td>3.953795</td>\n",
       "      <td>0.544704</td>\n",
       "    </tr>\n",
       "  </tbody>\n",
       "</table>\n",
       "</div>"
      ],
      "text/plain": [
       "gender                                         F         M      diff\n",
       "title                                                               \n",
       "Good, The Bad and The Ugly, The (1966)  3.494949  4.221300  0.726351\n",
       "Kentucky Fried Movie, The (1977)        2.878788  3.555147  0.676359\n",
       "Dumb & Dumber (1994)                    2.697987  3.336595  0.638608\n",
       "Longest Day, The (1962)                 3.411765  4.031447  0.619682\n",
       "Cable Guy, The (1996)                   2.250000  2.863787  0.613787\n",
       "Evil Dead II (Dead By Dawn) (1987)      3.297297  3.909283  0.611985\n",
       "Hidden, The (1987)                      3.137931  3.745098  0.607167\n",
       "Rocky III (1982)                        2.361702  2.943503  0.581801\n",
       "Caddyshack (1980)                       3.396135  3.969737  0.573602\n",
       "For a Few Dollars More (1965)           3.409091  3.953795  0.544704"
      ]
     },
     "execution_count": 320,
     "metadata": {},
     "output_type": "execute_result"
    }
   ],
   "source": [
    "sorted_by_diff[::-1][:10]"
   ]
  },
  {
   "cell_type": "markdown",
   "metadata": {},
   "source": [
    "如果只是想要找出分歧最大的电影（不考虑性别因素），则可以计算得分数据的方差或标准差："
   ]
  },
  {
   "cell_type": "code",
   "execution_count": 325,
   "metadata": {
    "ExecuteTime": {
     "end_time": "2019-11-14T11:10:19.665680Z",
     "start_time": "2019-11-14T11:10:19.418318Z"
    }
   },
   "outputs": [],
   "source": [
    "rating_std_by_title = data.groupby('title')['rating'].std()\n",
    "rating_std_by_title = rating_std_by_title.loc[active_titles]"
   ]
  },
  {
   "cell_type": "code",
   "execution_count": 328,
   "metadata": {
    "ExecuteTime": {
     "end_time": "2019-11-14T11:10:58.711084Z",
     "start_time": "2019-11-14T11:10:58.684564Z"
    }
   },
   "outputs": [
    {
     "data": {
      "text/plain": [
       "title\n",
       "Dumb & Dumber (1994)                     1.321333\n",
       "Blair Witch Project, The (1999)          1.316368\n",
       "Natural Born Killers (1994)              1.307198\n",
       "Tank Girl (1995)                         1.277695\n",
       "Rocky Horror Picture Show, The (1975)    1.260177\n",
       "                                           ...   \n",
       "Wrong Trousers, The (1993)               0.708666\n",
       "Shawshank Redemption, The (1994)         0.700443\n",
       "Great Escape, The (1963)                 0.692585\n",
       "Rear Window (1954)                       0.688946\n",
       "Close Shave, A (1995)                    0.667143\n",
       "Name: rating, Length: 1216, dtype: float64"
      ]
     },
     "execution_count": 328,
     "metadata": {},
     "output_type": "execute_result"
    }
   ],
   "source": [
    "rating_std_by_title.sort_values(ascending=False)"
   ]
  },
  {
   "cell_type": "markdown",
   "metadata": {},
   "source": [
    "## 1880-2010年全美婴儿姓名"
   ]
  },
  {
   "cell_type": "code",
   "execution_count": null,
   "metadata": {},
   "outputs": [],
   "source": []
  }
 ],
 "metadata": {
  "kernelspec": {
   "display_name": "Python 3",
   "language": "python",
   "name": "python3"
  },
  "language_info": {
   "codemirror_mode": {
    "name": "ipython",
    "version": 3
   },
   "file_extension": ".py",
   "mimetype": "text/x-python",
   "name": "python",
   "nbconvert_exporter": "python",
   "pygments_lexer": "ipython3",
   "version": "3.7.3"
  },
  "toc": {
   "base_numbering": 1,
   "nav_menu": {},
   "number_sections": true,
   "sideBar": true,
   "skip_h1_title": false,
   "title_cell": "Table of Contents",
   "title_sidebar": "Contents",
   "toc_cell": false,
   "toc_position": {},
   "toc_section_display": true,
   "toc_window_display": false
  },
  "varInspector": {
   "cols": {
    "lenName": 16,
    "lenType": 16,
    "lenVar": 40
   },
   "kernels_config": {
    "python": {
     "delete_cmd_postfix": "",
     "delete_cmd_prefix": "del ",
     "library": "var_list.py",
     "varRefreshCmd": "print(var_dic_list())"
    },
    "r": {
     "delete_cmd_postfix": ") ",
     "delete_cmd_prefix": "rm(",
     "library": "var_list.r",
     "varRefreshCmd": "cat(var_dic_list()) "
    }
   },
   "types_to_exclude": [
    "module",
    "function",
    "builtin_function_or_method",
    "instance",
    "_Feature"
   ],
   "window_display": false
  }
 },
 "nbformat": 4,
 "nbformat_minor": 2
}
