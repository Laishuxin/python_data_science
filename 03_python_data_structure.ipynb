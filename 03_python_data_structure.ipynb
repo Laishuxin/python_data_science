{
 "cells": [
  {
   "cell_type": "markdown",
   "metadata": {},
   "source": [
    "## itertools模块"
   ]
  },
  {
   "cell_type": "code",
   "execution_count": 1,
   "metadata": {
    "ExecuteTime": {
     "end_time": "2019-10-14T08:23:45.102240Z",
     "start_time": "2019-10-14T08:23:45.099497Z"
    }
   },
   "outputs": [],
   "source": [
    "import itertools"
   ]
  },
  {
   "cell_type": "markdown",
   "metadata": {},
   "source": [
    "### itertools.count(start=0, step=1)\n",
    "生成一个无限无限的计数器"
   ]
  },
  {
   "cell_type": "code",
   "execution_count": 5,
   "metadata": {
    "ExecuteTime": {
     "end_time": "2019-10-14T08:26:56.968736Z",
     "start_time": "2019-10-14T08:26:56.957666Z"
    }
   },
   "outputs": [
    {
     "name": "stdout",
     "output_type": "stream",
     "text": [
      "0\n",
      "2\n",
      "4\n",
      "6\n",
      "8\n",
      "10\n"
     ]
    }
   ],
   "source": [
    "even = itertools.count(0,2)\n",
    "for n in even:\n",
    "    print(n)\n",
    "    if n == 10:\n",
    "        break"
   ]
  },
  {
   "cell_type": "markdown",
   "metadata": {},
   "source": [
    "### itertools.cycle('iterable')"
   ]
  },
  {
   "cell_type": "code",
   "execution_count": 9,
   "metadata": {
    "ExecuteTime": {
     "end_time": "2019-10-14T08:29:51.936421Z",
     "start_time": "2019-10-14T08:29:51.931350Z"
    }
   },
   "outputs": [
    {
     "name": "stdout",
     "output_type": "stream",
     "text": [
      "a\n",
      "b\n",
      "c\n",
      "a\n",
      "b\n",
      "c\n",
      "a\n",
      "b\n",
      "c\n",
      "a\n"
     ]
    }
   ],
   "source": [
    "cs = itertools.cycle('abc')\n",
    "count = 0 # 自己设置一个计数器，用于退出死循环\n",
    "for c in cs:\n",
    "    print(c)\n",
    "    count += 1\n",
    "    if count == 10:\n",
    "        break"
   ]
  },
  {
   "cell_type": "markdown",
   "metadata": {},
   "source": [
    "### itertools.repeat(object, times)"
   ]
  },
  {
   "cell_type": "code",
   "execution_count": 12,
   "metadata": {
    "ExecuteTime": {
     "end_time": "2019-10-14T08:31:35.614045Z",
     "start_time": "2019-10-14T08:31:35.598485Z"
    }
   },
   "outputs": [
    {
     "name": "stdout",
     "output_type": "stream",
     "text": [
      "b\n",
      "b\n",
      "b\n",
      "b\n",
      "b\n",
      "b\n",
      "b\n",
      "b\n",
      "b\n",
      "b\n"
     ]
    }
   ],
   "source": [
    "ns = itertools.repeat('b', 10)\n",
    "for n in ns:\n",
    "    print(n)"
   ]
  },
  {
   "cell_type": "markdown",
   "metadata": {
    "ExecuteTime": {
     "end_time": "2019-10-14T08:32:37.646580Z",
     "start_time": "2019-10-14T08:32:37.643570Z"
    }
   },
   "source": [
    "### itertools.takewhile(predicate, iterable) 终止循环"
   ]
  },
  {
   "cell_type": "code",
   "execution_count": 15,
   "metadata": {
    "ExecuteTime": {
     "end_time": "2019-10-14T08:34:27.295643Z",
     "start_time": "2019-10-14T08:34:27.289867Z"
    }
   },
   "outputs": [
    {
     "name": "stdout",
     "output_type": "stream",
     "text": [
      "0\n",
      "2\n",
      "4\n",
      "6\n",
      "8\n",
      "10\n"
     ]
    }
   ],
   "source": [
    "even = itertools.count(0,2)\n",
    "evens = itertools.takewhile(lambda x:x<=10, even)\n",
    "for n in evens:\n",
    "    print(n)\n",
    "    "
   ]
  },
  {
   "cell_type": "markdown",
   "metadata": {
    "ExecuteTime": {
     "end_time": "2019-10-14T08:36:08.210257Z",
     "start_time": "2019-10-14T08:36:08.206782Z"
    }
   },
   "source": [
    "### itertools.chain(*iterable) 将几组可迭代对象连接起来，形成更大的迭代器\n"
   ]
  },
  {
   "cell_type": "code",
   "execution_count": 21,
   "metadata": {
    "ExecuteTime": {
     "end_time": "2019-10-14T08:38:27.077887Z",
     "start_time": "2019-10-14T08:38:27.062953Z"
    }
   },
   "outputs": [
    {
     "name": "stdout",
     "output_type": "stream",
     "text": [
      "a\n",
      "b\n",
      "c\n",
      "1\n",
      "2\n",
      "3\n",
      "4\n"
     ]
    }
   ],
   "source": [
    "big_iter = itertools.chain('abc', [1,'2'], (3,4))\n",
    "for i in big_iter:\n",
    "    print(i)"
   ]
  },
  {
   "cell_type": "markdown",
   "metadata": {
    "ExecuteTime": {
     "end_time": "2019-10-14T08:38:34.394748Z",
     "start_time": "2019-10-14T08:38:34.379240Z"
    }
   },
   "source": [
    "### itertools.groupby(iterable, key=None)  \n",
    "迭代方式对iterable进行分组，key为要分组的依据  \n",
    "默认两个元素相同为一组"
   ]
  },
  {
   "cell_type": "code",
   "execution_count": 26,
   "metadata": {
    "ExecuteTime": {
     "end_time": "2019-10-14T08:44:46.125721Z",
     "start_time": "2019-10-14T08:44:46.109194Z"
    }
   },
   "outputs": [
    {
     "name": "stdout",
     "output_type": "stream",
     "text": [
      "a : ['a']\n",
      "A : ['A', 'A']\n",
      "b : ['b', 'b']\n",
      "D : ['D', 'D']\n",
      "c : ['c']\n",
      "D : ['D']\n",
      "d : ['d', 'd']\n"
     ]
    }
   ],
   "source": [
    "for key, group in itertools.groupby('aAAbbDDcDdd'):\n",
    "    print(key, \":\", list(group))    "
   ]
  },
  {
   "cell_type": "code",
   "execution_count": 29,
   "metadata": {
    "ExecuteTime": {
     "end_time": "2019-10-14T08:50:17.556115Z",
     "start_time": "2019-10-14T08:50:17.543568Z"
    }
   },
   "outputs": [
    {
     "name": "stdout",
     "output_type": "stream",
     "text": [
      "8 : ['xiaoming', 'xiaohong']\n",
      "5 : ['lihua', 'lilia']\n"
     ]
    }
   ],
   "source": [
    "# 根据名字的长度对其分组\n",
    "for key, group in itertools.groupby(['xiaoming', 'xiaohong', 'lihua', 'lilia'], key=lambda x:len(x)):\n",
    "    print(key, \":\", list(group))    "
   ]
  },
  {
   "cell_type": "markdown",
   "metadata": {
    "ExecuteTime": {
     "end_time": "2019-10-14T08:56:17.589475Z",
     "start_time": "2019-10-14T08:56:17.584044Z"
    }
   },
   "source": [
    "### itertools.combinations(iterable, r) \n",
    "r：维度\n",
    "类似于${n \\choose r}$"
   ]
  },
  {
   "cell_type": "code",
   "execution_count": 35,
   "metadata": {
    "ExecuteTime": {
     "end_time": "2019-10-14T08:58:28.880672Z",
     "start_time": "2019-10-14T08:58:28.873962Z"
    }
   },
   "outputs": [
    {
     "name": "stdout",
     "output_type": "stream",
     "text": [
      "(0, 1)\n",
      "(0, 2)\n",
      "(0, 3)\n",
      "(0, 4)\n",
      "(1, 2)\n",
      "(1, 3)\n",
      "(1, 4)\n",
      "(2, 3)\n",
      "(2, 4)\n",
      "(3, 4)\n",
      "('aa', 'bb')\n",
      "('aa', 'cc')\n",
      "('aa', 'dd')\n",
      "('bb', 'cc')\n",
      "('bb', 'dd')\n",
      "('cc', 'dd')\n"
     ]
    }
   ],
   "source": [
    "combinations = itertools.combinations(range(5), 2)\n",
    "for combination in combinations:\n",
    "    print(combination)\n",
    "\n",
    "combinations = itertools.combinations(['aa', 'bb', 'cc', 'dd'], 2)\n",
    "for combination in combinations:\n",
    "    print(combination)\n"
   ]
  },
  {
   "cell_type": "markdown",
   "metadata": {
    "ExecuteTime": {
     "end_time": "2019-10-14T09:05:30.680291Z",
     "start_time": "2019-10-14T09:05:30.675665Z"
    }
   },
   "source": [
    "### itertools.permutations(iterable, r) \n",
    "r ：维度\n",
    "相当于：A<sub>n</sub><sup>r</sup>"
   ]
  },
  {
   "cell_type": "code",
   "execution_count": 41,
   "metadata": {
    "ExecuteTime": {
     "end_time": "2019-10-14T09:13:22.584602Z",
     "start_time": "2019-10-14T09:13:22.569586Z"
    }
   },
   "outputs": [
    {
     "name": "stdout",
     "output_type": "stream",
     "text": [
      "0 : (0, 1)\n",
      "1 : (0, 2)\n",
      "2 : (0, 3)\n",
      "3 : (0, 4)\n",
      "4 : (1, 0)\n",
      "5 : (1, 2)\n",
      "6 : (1, 3)\n",
      "7 : (1, 4)\n",
      "8 : (2, 0)\n",
      "9 : (2, 1)\n",
      "10 : (2, 3)\n",
      "11 : (2, 4)\n",
      "12 : (3, 0)\n",
      "13 : (3, 1)\n",
      "14 : (3, 2)\n",
      "15 : (3, 4)\n",
      "16 : (4, 0)\n",
      "17 : (4, 1)\n",
      "18 : (4, 2)\n",
      "19 : (4, 3)\n",
      "0 : ('aa', 'bb')\n",
      "1 : ('aa', 'cc')\n",
      "2 : ('bb', 'aa')\n",
      "3 : ('bb', 'cc')\n",
      "4 : ('cc', 'aa')\n",
      "5 : ('cc', 'bb')\n"
     ]
    }
   ],
   "source": [
    "permutations = itertools.permutations(range(5), 2)\n",
    "for i, permutation in enumerate(permutations):\n",
    "    print(i, \":\", permutation)\n",
    "    \n",
    "permutations = itertools.permutations(['aa','bb','cc'], 2)\n",
    "for i, permutation in enumerate(permutations):\n",
    "    print(i, \":\", permutation)"
   ]
  },
  {
   "attachments": {
    "image.png": {
     "image/png": "[encoded data removed]"
    }
   },
   "cell_type": "markdown",
   "metadata": {
    "ExecuteTime": {
     "end_time": "2019-10-14T10:23:54.710543Z",
     "start_time": "2019-10-14T10:23:54.708019Z"
    }
   },
   "source": [
    "### itertools.product(*iterable, repeat=1)\n",
    "生成笛卡尔积\n",
    "![image.png](attachment:image.png)\n"
   ]
  },
  {
   "cell_type": "code",
   "execution_count": 55,
   "metadata": {
    "ExecuteTime": {
     "end_time": "2019-10-14T10:31:44.493169Z",
     "start_time": "2019-10-14T10:31:44.472005Z"
    }
   },
   "outputs": [
    {
     "name": "stdout",
     "output_type": "stream",
     "text": [
      "1 : (0, 0)\n",
      "2 : (0, 1)\n",
      "3 : (1, 0)\n",
      "4 : (1, 1)\n",
      "5 : (2, 0)\n",
      "6 : (2, 1)\n"
     ]
    }
   ],
   "source": [
    "products = itertools.product(range(3), range(2))\n",
    "count = 1\n",
    "for product in products:\n",
    "    print(count, \":\", product)\n",
    "    count += 1\n",
    "    \n"
   ]
  },
  {
   "cell_type": "code",
   "execution_count": 57,
   "metadata": {
    "ExecuteTime": {
     "end_time": "2019-10-14T10:32:00.774640Z",
     "start_time": "2019-10-14T10:32:00.767364Z"
    }
   },
   "outputs": [
    {
     "name": "stdout",
     "output_type": "stream",
     "text": [
      "1 : (0, 0)\n",
      "2 : (0, 1)\n",
      "3 : (1, 0)\n",
      "4 : (1, 1)\n",
      "5 : (2, 0)\n",
      "6 : (2, 1)\n"
     ]
    }
   ],
   "source": [
    "# 上式相当于    \n",
    "products2 = ((x,y) for x in range(3)\n",
    "                 for y in range(2))\n",
    "count = 1\n",
    "for product in products2:\n",
    "    print(count, \":\", product)\n",
    "    count += 1\n",
    "\n",
    "    "
   ]
  },
  {
   "cell_type": "code",
   "execution_count": 59,
   "metadata": {
    "ExecuteTime": {
     "end_time": "2019-10-14T10:32:57.681276Z",
     "start_time": "2019-10-14T10:32:57.655461Z"
    }
   },
   "outputs": [
    {
     "name": "stdout",
     "output_type": "stream",
     "text": [
      "1 : (0, 0, 'aa')\n",
      "2 : (0, 0, 'bb')\n",
      "3 : (0, 0, 'cc')\n",
      "4 : (0, 0, 'dd')\n",
      "5 : (0, 1, 'aa')\n",
      "6 : (0, 1, 'bb')\n",
      "7 : (0, 1, 'cc')\n",
      "8 : (0, 1, 'dd')\n",
      "9 : (1, 0, 'aa')\n",
      "10 : (1, 0, 'bb')\n",
      "11 : (1, 0, 'cc')\n",
      "12 : (1, 0, 'dd')\n",
      "13 : (1, 1, 'aa')\n",
      "14 : (1, 1, 'bb')\n",
      "15 : (1, 1, 'cc')\n",
      "16 : (1, 1, 'dd')\n",
      "17 : (2, 0, 'aa')\n",
      "18 : (2, 0, 'bb')\n",
      "19 : (2, 0, 'cc')\n",
      "20 : (2, 0, 'dd')\n",
      "21 : (2, 1, 'aa')\n",
      "22 : (2, 1, 'bb')\n",
      "23 : (2, 1, 'cc')\n",
      "24 : (2, 1, 'dd')\n"
     ]
    }
   ],
   "source": [
    "products = itertools.product(range(3), range(2), ['aa', 'bb', 'cc', 'dd'])\n",
    "count = 1\n",
    "for product in products:\n",
    "    print(count, \":\", product)\n",
    "    count += 1\n",
    "    \n"
   ]
  },
  {
   "cell_type": "code",
   "execution_count": 67,
   "metadata": {
    "ExecuteTime": {
     "end_time": "2019-10-14T10:35:43.661343Z",
     "start_time": "2019-10-14T10:35:43.646994Z"
    }
   },
   "outputs": [],
   "source": [
    "products = itertools.product(range(3),['zero', 'one', 'two'], repeat=2)\n",
    "count = 1\n",
    "for product in products:\n",
    "#     print(count, \":\", product)\n",
    "    count += 1\n",
    "\n"
   ]
  },
  {
   "cell_type": "markdown",
   "metadata": {},
   "source": [
    "## 文件读写"
   ]
  },
  {
   "cell_type": "code",
   "execution_count": 76,
   "metadata": {
    "ExecuteTime": {
     "end_time": "2019-10-14T10:55:52.328784Z",
     "start_time": "2019-10-14T10:55:52.320851Z"
    }
   },
   "outputs": [
    {
     "name": "stdout",
     "output_type": "stream",
     "text": [
      "Sueña el rico en su riqueza,\n",
      "\n",
      "que más cuidados le ofrece;\n",
      "\n",
      "\n",
      "\n",
      "sueña el pobre que padece\n",
      "\n",
      "su miseria y su pobreza;\n",
      "\n",
      "\n",
      "\n",
      "sueña el que a medrar empieza,\n",
      "\n",
      "sueña el que afana y pretende,\n",
      "\n",
      "sueña el que agravia y ofende,\n",
      "\n",
      "\n",
      "\n",
      "y en el mundo, en conclusión,\n",
      "\n",
      "todos sueñan lo que son,\n",
      "\n",
      "aunque ninguno lo entiende.\n",
      "\n",
      "\n",
      "\n"
     ]
    }
   ],
   "source": [
    "path = 'examples/segismundo.txt'\n",
    "f = open(path)\n",
    "for line in f:\n",
    "    print(line)\n",
    "f.close()"
   ]
  },
  {
   "cell_type": "code",
   "execution_count": 80,
   "metadata": {
    "ExecuteTime": {
     "end_time": "2019-10-14T10:56:50.338146Z",
     "start_time": "2019-10-14T10:56:50.333505Z"
    }
   },
   "outputs": [
    {
     "name": "stdout",
     "output_type": "stream",
     "text": [
      "['Sueña el rico en su riqueza,', 'que más cuidados le ofrece;', '', 'sueña el pobre que padece', 'su miseria y su pobreza;', '', 'sueña el que a medrar empieza,', 'sueña el que afana y pretende,', 'sueña el que agravia y ofende,', '', 'y en el mundo, en conclusión,', 'todos sueñan lo que son,', 'aunque ninguno lo entiende.', '']\n"
     ]
    }
   ],
   "source": [
    "with open(path) as f:\n",
    "    lines = [x.rstrip() for x in f]\n",
    "    print(lines)"
   ]
  },
  {
   "cell_type": "code",
   "execution_count": 88,
   "metadata": {
    "ExecuteTime": {
     "end_time": "2019-10-14T10:59:21.306368Z",
     "start_time": "2019-10-14T10:59:21.301832Z"
    }
   },
   "outputs": [
    {
     "name": "stdout",
     "output_type": "stream",
     "text": [
      "Sueña el r\n",
      "11\n"
     ]
    }
   ],
   "source": [
    "with open(path) as f:\n",
    "    print(f.read(10))\n",
    "    print(f.tell())"
   ]
  },
  {
   "cell_type": "code",
   "execution_count": 87,
   "metadata": {
    "ExecuteTime": {
     "end_time": "2019-10-14T10:58:45.310107Z",
     "start_time": "2019-10-14T10:58:45.293438Z"
    }
   },
   "outputs": [
    {
     "name": "stdout",
     "output_type": "stream",
     "text": [
      "b'Sue\\xc3\\xb1a el '\n",
      "10\n"
     ]
    }
   ],
   "source": [
    "with open(path, 'rb') as f:\n",
    "    print(f.read(10))\n",
    "    print(f.tell())"
   ]
  },
  {
   "cell_type": "code",
   "execution_count": 100,
   "metadata": {
    "ExecuteTime": {
     "end_time": "2019-10-14T11:03:55.258739Z",
     "start_time": "2019-10-14T11:03:55.251211Z"
    }
   },
   "outputs": [
    {
     "name": "stdout",
     "output_type": "stream",
     "text": [
      "['Sueña el rico en su riqueza,\\n', 'que más cuidados le ofrece;\\n', 'sueña el pobre que padece\\n', 'su miseria y su pobreza;\\n', 'sueña el que a medrar empieza,\\n', 'sueña el que afana y pretende,\\n', 'sueña el que agravia y ofende,\\n', 'y en el mundo, en conclusión,\\n', 'todos sueñan lo que son,\\n', 'aunque ninguno lo entiende.\\n']\n"
     ]
    }
   ],
   "source": [
    "with open('tmp.txt', 'w') as handle:\n",
    "    handle.writelines(x for x in open(path) if len(x) > 1)\n",
    "with open('tmp.txt') as f:\n",
    "    lines = f.readlines()\n",
    "    print(lines)"
   ]
  }
 ],
 "metadata": {
  "kernelspec": {
   "display_name": "Python 3",
   "language": "python",
   "name": "python3"
  },
  "language_info": {
   "codemirror_mode": {
    "name": "ipython",
    "version": 3
   },
   "file_extension": ".py",
   "mimetype": "text/x-python",
   "name": "python",
   "nbconvert_exporter": "python",
   "pygments_lexer": "ipython3",
   "version": "3.7.3"
  },
  "toc": {
   "base_numbering": 1,
   "nav_menu": {},
   "number_sections": true,
   "sideBar": true,
   "skip_h1_title": false,
   "title_cell": "Table of Contents",
   "title_sidebar": "Contents",
   "toc_cell": false,
   "toc_position": {},
   "toc_section_display": true,
   "toc_window_display": false
  }
 },
 "nbformat": 4,
 "nbformat_minor": 2
}
