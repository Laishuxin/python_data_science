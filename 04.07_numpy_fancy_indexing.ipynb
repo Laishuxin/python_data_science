{
 "cells": [
  {
   "cell_type": "markdown",
   "metadata": {},
   "source": [
    "## fancy indexing"
   ]
  },
  {
   "cell_type": "code",
   "execution_count": 1,
   "metadata": {
    "ExecuteTime": {
     "end_time": "2019-10-18T00:47:44.995013Z",
     "start_time": "2019-10-18T00:47:44.882880Z"
    }
   },
   "outputs": [
    {
     "name": "stdout",
     "output_type": "stream",
     "text": [
      "[51 92 14 71 60 20 82 86 74 74]\n"
     ]
    }
   ],
   "source": [
    "import numpy as np\n",
    "rand = np.random.RandomState(42)\n",
    "\n",
    "x = rand.randint(100, size=10)\n",
    "print(x)"
   ]
  },
  {
   "cell_type": "code",
   "execution_count": 2,
   "metadata": {
    "ExecuteTime": {
     "end_time": "2019-10-18T00:47:45.005651Z",
     "start_time": "2019-10-18T00:47:44.996763Z"
    }
   },
   "outputs": [
    {
     "data": {
      "text/plain": [
       "[71, 82, 14]"
      ]
     },
     "execution_count": 2,
     "metadata": {},
     "output_type": "execute_result"
    }
   ],
   "source": [
    "# suppose we want to access three different elements \n",
    "# we could do it like this\n",
    "[x[3], x[6], x[2]]"
   ]
  },
  {
   "cell_type": "code",
   "execution_count": 3,
   "metadata": {
    "ExecuteTime": {
     "end_time": "2019-10-18T00:47:45.011397Z",
     "start_time": "2019-10-18T00:47:45.007949Z"
    }
   },
   "outputs": [
    {
     "data": {
      "text/plain": [
       "array([71, 82, 14])"
      ]
     },
     "execution_count": 3,
     "metadata": {},
     "output_type": "execute_result"
    }
   ],
   "source": [
    "# Alternatively, we can pass a sigle list or array of indices to obtain the same result\n",
    "index = [3,6,2]\n",
    "x[index]"
   ]
  },
  {
   "cell_type": "code",
   "execution_count": 4,
   "metadata": {
    "ExecuteTime": {
     "end_time": "2019-10-18T00:47:45.015476Z",
     "start_time": "2019-10-18T00:47:45.012648Z"
    }
   },
   "outputs": [
    {
     "name": "stdout",
     "output_type": "stream",
     "text": [
      "[[71 60]\n",
      " [20 92]]\n"
     ]
    }
   ],
   "source": [
    "# using fancy indexing\n",
    "# the shape fo the result reflects the shape of the index arrays \n",
    "index =np.array([[3,4],\n",
    "                 [5,1]])\n",
    "print(x[index])"
   ]
  },
  {
   "cell_type": "code",
   "execution_count": 5,
   "metadata": {
    "ExecuteTime": {
     "end_time": "2019-10-18T00:47:45.020011Z",
     "start_time": "2019-10-18T00:47:45.016779Z"
    }
   },
   "outputs": [
    {
     "data": {
      "text/plain": [
       "array([[ 0,  1,  2,  3],\n",
       "       [ 4,  5,  6,  7],\n",
       "       [ 8,  9, 10, 11]])"
      ]
     },
     "execution_count": 5,
     "metadata": {},
     "output_type": "execute_result"
    }
   ],
   "source": [
    "# multiple dimensions  also works\n",
    "x = np.arange(12).reshape((3,4))\n",
    "x"
   ]
  },
  {
   "cell_type": "code",
   "execution_count": 6,
   "metadata": {
    "ExecuteTime": {
     "end_time": "2019-10-18T00:47:45.024134Z",
     "start_time": "2019-10-18T00:47:45.021357Z"
    }
   },
   "outputs": [
    {
     "name": "stdout",
     "output_type": "stream",
     "text": [
      "[ 9 11  6]\n"
     ]
    }
   ],
   "source": [
    "row = np.array([2,2,1])\n",
    "col = np.array([1,3,2])\n",
    "print(x[row,col]) # Equivalently [x[2,1],x[2,3],x[1,2]\n"
   ]
  },
  {
   "cell_type": "code",
   "execution_count": 7,
   "metadata": {
    "ExecuteTime": {
     "end_time": "2019-10-18T00:47:45.028620Z",
     "start_time": "2019-10-18T00:47:45.025861Z"
    }
   },
   "outputs": [
    {
     "name": "stdout",
     "output_type": "stream",
     "text": [
      "[[ 9 11 10]\n",
      " [ 9 11 10]\n",
      " [ 5  7  6]]\n"
     ]
    }
   ],
   "source": [
    "print(x[row[:,np.newaxis], col])\n"
   ]
  },
  {
   "cell_type": "code",
   "execution_count": 8,
   "metadata": {
    "ExecuteTime": {
     "end_time": "2019-10-18T00:47:45.032351Z",
     "start_time": "2019-10-18T00:47:45.029892Z"
    }
   },
   "outputs": [
    {
     "data": {
      "text/plain": [
       "array([[ 0,  1,  2,  3],\n",
       "       [ 4,  5,  6,  7],\n",
       "       [ 8,  9, 10, 11]])"
      ]
     },
     "execution_count": 8,
     "metadata": {},
     "output_type": "execute_result"
    }
   ],
   "source": [
    "x"
   ]
  },
  {
   "cell_type": "code",
   "execution_count": 9,
   "metadata": {
    "ExecuteTime": {
     "end_time": "2019-10-18T00:47:45.036488Z",
     "start_time": "2019-10-18T00:47:45.033543Z"
    }
   },
   "outputs": [
    {
     "data": {
      "text/plain": [
       "array([10,  8,  9])"
      ]
     },
     "execution_count": 9,
     "metadata": {},
     "output_type": "execute_result"
    }
   ],
   "source": [
    "x[2, [2,0,1]]"
   ]
  },
  {
   "cell_type": "code",
   "execution_count": 10,
   "metadata": {
    "ExecuteTime": {
     "end_time": "2019-10-18T00:47:45.042263Z",
     "start_time": "2019-10-18T00:47:45.037634Z"
    }
   },
   "outputs": [
    {
     "data": {
      "text/plain": [
       "array([[ 6,  4,  5],\n",
       "       [10,  8,  9]])"
      ]
     },
     "execution_count": 10,
     "metadata": {},
     "output_type": "execute_result"
    }
   ],
   "source": [
    "x[1:,[2, 0,1]]"
   ]
  },
  {
   "cell_type": "code",
   "execution_count": 12,
   "metadata": {
    "ExecuteTime": {
     "end_time": "2019-10-18T00:48:05.163333Z",
     "start_time": "2019-10-18T00:48:05.152567Z"
    }
   },
   "outputs": [
    {
     "name": "stdout",
     "output_type": "stream",
     "text": [
      "[[2]\n",
      " [2]\n",
      " [1]] [ True False  True False]\n",
      "[[ 8 10]\n",
      " [ 8 10]\n",
      " [ 4  6]]\n"
     ]
    }
   ],
   "source": [
    "mask = np.array([1,0,1,0],dtype=bool)\n",
    "# print(x[row[:,np.newaxis]])\n",
    "print(row[:,np.newaxis],mask)\n",
    "print(x[row[:,np.newaxis],mask])"
   ]
  },
  {
   "cell_type": "markdown",
   "metadata": {
    "ExecuteTime": {
     "end_time": "2019-10-18T00:48:30.031237Z",
     "start_time": "2019-10-18T00:48:30.028116Z"
    }
   },
   "source": [
    "### example: selecting random points"
   ]
  },
  {
   "cell_type": "code",
   "execution_count": 43,
   "metadata": {
    "ExecuteTime": {
     "end_time": "2019-10-18T01:11:52.645002Z",
     "start_time": "2019-10-18T01:11:52.636298Z"
    }
   },
   "outputs": [
    {
     "name": "stdout",
     "output_type": "stream",
     "text": [
      "(100, 2)\n",
      "[[ 5.86501323e-01  2.65750974e+00]\n",
      " [ 8.91568728e-02 -4.10108912e-01]\n",
      " [ 1.08760627e+00  1.12826476e+00]\n",
      " [ 5.96401368e-01  1.15404786e+00]\n",
      " [ 9.97906065e-01  2.35994742e+00]\n",
      " [-3.55226165e-01 -1.08865240e+00]\n",
      " [-3.03399728e-01 -1.60611376e+00]\n",
      " [-9.73621269e-01 -2.21867838e+00]\n",
      " [-2.35151244e+00 -3.06392323e+00]\n",
      " [ 5.98644067e-01  9.80839233e-01]\n",
      " [-4.67325254e-04  6.43655246e-01]\n",
      " [-9.75217525e-01 -3.06097819e+00]\n",
      " [-3.00206653e-01 -8.71889611e-01]\n",
      " [-1.14870280e+00 -1.13938864e+00]\n",
      " [ 8.61065030e-01  2.71343135e-01]\n",
      " [-3.68613042e-01 -1.79122424e+00]\n",
      " [-1.68961962e-01  4.43965779e-01]\n",
      " [-2.35830450e-01 -6.79446032e-01]\n",
      " [ 1.64178663e+00  8.24801146e-01]\n",
      " [-5.48363884e-01 -1.59766047e+00]\n",
      " [-1.55045915e+00 -3.31231706e+00]\n",
      " [ 9.16611489e-02  1.37606145e+00]\n",
      " [-9.79685051e-01 -2.60224726e+00]\n",
      " [-8.90276868e-01 -2.75037960e+00]\n",
      " [-3.66163830e-01 -2.65509702e-01]\n",
      " [-9.62889757e-01 -1.65189111e+00]\n",
      " [-1.11204807e-01  9.15337643e-01]\n",
      " [ 3.32713201e-01  1.87329944e-01]\n",
      " [-2.30259914e-01  1.54393170e+00]\n",
      " [ 1.91215901e-01  1.85969192e+00]\n",
      " [ 8.62321110e-01  2.60993237e+00]\n",
      " [-8.94885987e-01 -4.05642558e-01]\n",
      " [ 9.60738294e-01  1.31208373e+00]\n",
      " [-5.29450524e-01  5.23761879e-01]\n",
      " [ 1.80740008e+00  1.56176782e+00]\n",
      " [-4.18584971e-01  1.72026864e-02]\n",
      " [ 6.12144957e-01  2.39564383e+00]\n",
      " [ 1.01314248e+00  2.28730850e+00]\n",
      " [-2.40964450e-01 -1.86704293e+00]\n",
      " [-6.32646685e-01 -2.12266356e-01]\n",
      " [-1.62086361e-01 -1.17131111e+00]\n",
      " [-1.65506871e+00 -3.28305040e+00]\n",
      " [ 1.38809812e+00  4.28661584e+00]\n",
      " [ 4.52659364e-01  1.30557523e+00]\n",
      " [-7.20949699e-01 -2.33541426e+00]\n",
      " [ 9.44182133e-01  3.90904768e+00]\n",
      " [-1.04254340e+00 -2.61136765e+00]\n",
      " [-6.47100429e-01 -1.96205995e+00]\n",
      " [-3.43721564e-02 -2.39157870e-01]\n",
      " [ 1.66405563e-01  7.90644878e-01]\n",
      " [ 1.21248750e+00  2.65489464e+00]\n",
      " [-9.93951836e-01 -4.10066133e-01]\n",
      " [ 8.79453934e-01  2.68663218e+00]\n",
      " [ 1.36007608e-01 -1.70299430e+00]\n",
      " [-7.16152641e-01 -7.76131715e-01]\n",
      " [-5.11726592e-01 -1.32625949e+00]\n",
      " [-3.72870401e-01 -7.16350203e-01]\n",
      " [ 1.48687457e+00  3.79888117e+00]\n",
      " [ 6.08852603e-01  7.07006190e-01]\n",
      " [-2.77516816e+00 -5.34402713e+00]\n",
      " [ 9.29968496e-01  2.62033887e+00]\n",
      " [-7.74469082e-01 -3.48920806e+00]\n",
      " [-1.18603725e-01 -1.52039371e-01]\n",
      " [ 1.03223028e+00  2.90284662e+00]\n",
      " [-1.60838202e+00 -2.25067874e+00]\n",
      " [-7.26955719e-01  9.52734718e-01]\n",
      " [ 1.76499513e+00  4.64664137e+00]\n",
      " [ 1.27027841e+00  3.16433636e+00]\n",
      " [ 2.88205360e-01  1.24442949e+00]\n",
      " [ 4.33312955e-01  1.52071181e-01]\n",
      " [-3.71029882e-02  2.00210455e+00]\n",
      " [ 2.41613952e-01 -1.25906316e+00]\n",
      " [-4.34361982e-01 -1.25935909e+00]\n",
      " [-3.18008463e-01  1.19700198e-01]\n",
      " [-7.64505966e-01 -2.77525287e+00]\n",
      " [ 2.36465339e-01 -2.02284626e-02]\n",
      " [-4.62529672e-01 -1.36808998e+00]\n",
      " [ 7.64055952e-02 -1.08086034e-01]\n",
      " [-5.54300049e-01  5.06902256e-01]\n",
      " [-2.35308682e+00 -5.27269258e+00]\n",
      " [ 7.02983786e-01 -2.99517944e-02]\n",
      " [ 7.51034592e-01  1.67597980e+00]\n",
      " [ 8.94031191e-01  1.49823040e+00]\n",
      " [-1.46648786e+00 -3.50925192e+00]\n",
      " [ 1.48787918e-01 -3.70532794e-01]\n",
      " [-1.00655915e+00 -2.66014220e+00]\n",
      " [ 1.08614243e+00  9.11187425e-01]\n",
      " [ 2.67714258e-01  4.87761185e-02]\n",
      " [-2.26197823e+00 -3.46507695e+00]\n",
      " [ 1.57067982e+00  2.57734661e+00]\n",
      " [ 5.67570238e-01  4.86962713e-01]\n",
      " [-7.58733264e-02 -5.36709131e-01]\n",
      " [-6.48020244e-01 -4.64647559e-01]\n",
      " [ 6.02361625e-01  2.53143847e+00]\n",
      " [-1.49001739e-01  1.96577906e+00]\n",
      " [-1.45431255e+00 -3.63341835e+00]\n",
      " [ 1.33218310e+00  1.96615658e+00]\n",
      " [-7.95492857e-01 -1.95339736e+00]\n",
      " [-1.69983525e+00 -1.71792508e+00]\n",
      " [ 1.18249455e+00  1.52330235e+00]]\n"
     ]
    }
   ],
   "source": [
    "mean = [0,0]\n",
    "cov = [[1,2],\n",
    "       [2,5]]\n",
    "X = rand.multivariate_normal(mean, cov,100)\n",
    "print(X.shape)\n",
    "print(X)"
   ]
  },
  {
   "cell_type": "code",
   "execution_count": 38,
   "metadata": {
    "ExecuteTime": {
     "end_time": "2019-10-18T01:09:26.087462Z",
     "start_time": "2019-10-18T01:09:25.989904Z"
    }
   },
   "outputs": [
    {
     "data": {
      "image/png": "[encoded data removed]",
      "text/plain": [
       "<Figure size 432x288 with 1 Axes>"
      ]
     },
     "metadata": {},
     "output_type": "display_data"
    }
   ],
   "source": [
    "import matplotlib.pyplot as plt\n",
    "import seaborn\n",
    "seaborn.set()\n",
    "plt.scatter(X[:,0], X[:,1])\n",
    "plt.show()"
   ]
  },
  {
   "cell_type": "code",
   "execution_count": 54,
   "metadata": {
    "ExecuteTime": {
     "end_time": "2019-10-18T01:18:57.559797Z",
     "start_time": "2019-10-18T01:18:57.548102Z"
    }
   },
   "outputs": [
    {
     "name": "stdout",
     "output_type": "stream",
     "text": [
      "[36 86 46 68 15 10 78 66  9 18  3 70 48 22 58 21 89 79 88  5]\n",
      "[[ 6.12144957e-01  2.39564383e+00]\n",
      " [ 1.08614243e+00  9.11187425e-01]\n",
      " [-1.04254340e+00 -2.61136765e+00]\n",
      " [ 2.88205360e-01  1.24442949e+00]\n",
      " [-3.68613042e-01 -1.79122424e+00]\n",
      " [-4.67325254e-04  6.43655246e-01]\n",
      " [-5.54300049e-01  5.06902256e-01]\n",
      " [ 1.76499513e+00  4.64664137e+00]\n",
      " [ 5.98644067e-01  9.80839233e-01]\n",
      " [ 1.64178663e+00  8.24801146e-01]\n",
      " [ 5.96401368e-01  1.15404786e+00]\n",
      " [-3.71029882e-02  2.00210455e+00]\n",
      " [-3.43721564e-02 -2.39157870e-01]\n",
      " [-9.79685051e-01 -2.60224726e+00]\n",
      " [ 6.08852603e-01  7.07006190e-01]\n",
      " [ 9.16611489e-02  1.37606145e+00]\n",
      " [ 1.57067982e+00  2.57734661e+00]\n",
      " [-2.35308682e+00 -5.27269258e+00]\n",
      " [-2.26197823e+00 -3.46507695e+00]\n",
      " [-3.55226165e-01 -1.08865240e+00]]\n"
     ]
    }
   ],
   "source": [
    "# 根据X的维度shape[0], 从中选取20个点， replace不重复\n",
    "indices = np.random.choice(X.shape[0], 20, replace=False)\n",
    "print(indices)\n",
    "# print(indices.shape)\n",
    "selection = X[indices]  # equivalently, x[indices,:]\n",
    "\n",
    "print(selection)\n"
   ]
  },
  {
   "cell_type": "code",
   "execution_count": 70,
   "metadata": {
    "ExecuteTime": {
     "end_time": "2019-10-18T01:24:24.239192Z",
     "start_time": "2019-10-18T01:24:24.131521Z"
    }
   },
   "outputs": [
    {
     "data": {
      "image/png": "[encoded data removed]",
      "text/plain": [
       "<Figure size 432x288 with 1 Axes>"
      ]
     },
     "metadata": {},
     "output_type": "display_data"
    }
   ],
   "source": [
    "plt.scatter(X[:, 0], X[:, 1], alpha=0.3)\n",
    "plt.scatter(selection[:, 0], selection[:, 1],\n",
    "            facecolor='none', s=200);\n",
    "plt.show()\n",
    "# plt.scatter?"
   ]
  },
  {
   "cell_type": "markdown",
   "metadata": {},
   "source": [
    "### modifying values with fancy indexing"
   ]
  },
  {
   "cell_type": "code",
   "execution_count": 72,
   "metadata": {
    "ExecuteTime": {
     "end_time": "2019-10-18T01:26:27.228302Z",
     "start_time": "2019-10-18T01:26:27.220936Z"
    }
   },
   "outputs": [
    {
     "name": "stdout",
     "output_type": "stream",
     "text": [
      "[ 0 99 99  3 99  5  6  7 99  9]\n",
      "[ 0 89 89  3 89  5  6  7 89  9]\n"
     ]
    }
   ],
   "source": [
    "x = np.arange(10)\n",
    "i = np.array([2, 1, 8, 4])\n",
    "x[i] = 99\n",
    "print(x)\n",
    "x[i] -= 10\n",
    "print(x)"
   ]
  },
  {
   "cell_type": "code",
   "execution_count": 75,
   "metadata": {
    "ExecuteTime": {
     "end_time": "2019-10-18T01:30:08.007515Z",
     "start_time": "2019-10-18T01:30:08.001273Z"
    }
   },
   "outputs": [
    {
     "name": "stdout",
     "output_type": "stream",
     "text": [
      "[0. 0.]\n",
      "[6. 0. 0. 0. 0. 0. 0. 0. 0. 0.]\n"
     ]
    }
   ],
   "source": [
    "# 重复的索引操作可能带来意想不到的结果\n",
    "\n",
    "x = np.zeros(10)\n",
    "print(x[[0, 0]])\n",
    "x[[0,0]] = [4, 6] # expected [4,6,0,0,0,..]\n",
    "print(x) # result [6, 0,0 ..]\n",
    "# the reason is that, to first assign x[0]=4,followed by x[0]=6\n"
   ]
  },
  {
   "cell_type": "code",
   "execution_count": 77,
   "metadata": {
    "ExecuteTime": {
     "end_time": "2019-10-18T01:34:08.722693Z",
     "start_time": "2019-10-18T01:34:08.716547Z"
    }
   },
   "outputs": [
    {
     "data": {
      "text/plain": [
       "array([6., 0., 2., 2., 2., 0., 0., 0., 0., 0.])"
      ]
     },
     "execution_count": 77,
     "metadata": {},
     "output_type": "execute_result"
    }
   ],
   "source": [
    "i = [2, 3, 3, 4, 4, 4]\n",
    "x[i] += 1 # expected [6, 0, 1, 2, 3, 0..]\n",
    "x  # result  array([6., 0., 1., 1., 1., 0., 0., 0., 0., 0.])\n",
    "# it is not the augmentation that happens multiple times"
   ]
  },
  {
   "cell_type": "code",
   "execution_count": 79,
   "metadata": {
    "ExecuteTime": {
     "end_time": "2019-10-18T01:35:18.616476Z",
     "start_time": "2019-10-18T01:35:18.601808Z"
    }
   },
   "outputs": [
    {
     "name": "stdout",
     "output_type": "stream",
     "text": [
      "[0. 0. 1. 2. 3. 0. 0. 0. 0. 0.]\n"
     ]
    }
   ],
   "source": [
    "i = [2, 3, 3, 4, 4, 4]\n",
    "x = np.zeros(10)\n",
    "np.add.at(x, i, 1)\n",
    "print(x)"
   ]
  },
  {
   "cell_type": "markdown",
   "metadata": {},
   "source": [
    "### example: binning data"
   ]
  },
  {
   "cell_type": "code",
   "execution_count": 106,
   "metadata": {
    "ExecuteTime": {
     "end_time": "2019-10-18T01:52:33.311621Z",
     "start_time": "2019-10-18T01:52:33.210564Z"
    }
   },
   "outputs": [
    {
     "data": {
      "image/png": "[encoded data removed]",
      "text/plain": [
       "<Figure size 432x288 with 1 Axes>"
      ]
     },
     "metadata": {},
     "output_type": "display_data"
    }
   ],
   "source": [
    "np.random.seed(42)\n",
    "x = np.random.randn(100)\n",
    "# compute a histogram by hand\n",
    "bins = np.linspace(-5, 5, 20)\n",
    "# print(bins)\n",
    "counts = np.zeros_like(bins)\n",
    "\n",
    "# find the appropriate bin for each x\n",
    "i = np.searchsorted(bins, x)# ;print(i) 找出x中的所有元素在直方图中的位置\n",
    "np.add.at(counts, i, 1)\n",
    "plt.plot(bins, counts, linestyle='steps')\n",
    "# plt.hist(x, bins, histtype='step')\n",
    "plt.show()"
   ]
  },
  {
   "cell_type": "code",
   "execution_count": 108,
   "metadata": {
    "ExecuteTime": {
     "end_time": "2019-10-18T01:54:37.450590Z",
     "start_time": "2019-10-18T01:54:14.138609Z"
    }
   },
   "outputs": [
    {
     "name": "stdout",
     "output_type": "stream",
     "text": [
      "NumPy routine:\n",
      "18.7 µs ± 582 ns per loop (mean ± std. dev. of 7 runs, 100000 loops each)\n",
      "Custom routine:\n",
      "9.88 µs ± 199 ns per loop (mean ± std. dev. of 7 runs, 100000 loops each)\n"
     ]
    }
   ],
   "source": [
    "\n",
    "print(\"NumPy routine:\")\n",
    "%timeit counts, edges = np.histogram(x, bins)\n",
    "### 两种方法等价\n",
    "print(\"Custom routine:\")\n",
    "%timeit np.add.at(counts, np.searchsorted(bins, x), 1)"
   ]
  },
  {
   "cell_type": "code",
   "execution_count": 112,
   "metadata": {
    "ExecuteTime": {
     "end_time": "2019-10-18T02:00:17.583416Z",
     "start_time": "2019-10-18T02:00:06.252568Z"
    }
   },
   "outputs": [
    {
     "name": "stdout",
     "output_type": "stream",
     "text": [
      "NumPy routine:\n",
      "58.4 ms ± 2.38 ms per loop (mean ± std. dev. of 7 runs, 10 loops each)\n",
      "Custom routine:\n",
      "81.2 ms ± 4.53 ms per loop (mean ± std. dev. of 7 runs, 10 loops each)\n"
     ]
    }
   ],
   "source": [
    "# numpy 内置的直方图画法更适用与大数据\n",
    "\n",
    "x = np.random.randn(1000000)\n",
    "print(\"NumPy routine:\")\n",
    "%timeit counts, edges = np.histogram(x, bins)\n",
    "\n",
    "print(\"Custom routine:\")\n",
    "%timeit np.add.at(counts, np.searchsorted(bins, x), 1)"
   ]
  }
 ],
 "metadata": {
  "kernelspec": {
   "display_name": "Python 3",
   "language": "python",
   "name": "python3"
  },
  "language_info": {
   "codemirror_mode": {
    "name": "ipython",
    "version": 3
   },
   "file_extension": ".py",
   "mimetype": "text/x-python",
   "name": "python",
   "nbconvert_exporter": "python",
   "pygments_lexer": "ipython3",
   "version": "3.7.3"
  },
  "toc": {
   "base_numbering": 1,
   "nav_menu": {},
   "number_sections": true,
   "sideBar": true,
   "skip_h1_title": false,
   "title_cell": "Table of Contents",
   "title_sidebar": "Contents",
   "toc_cell": false,
   "toc_position": {},
   "toc_section_display": true,
   "toc_window_display": false
  }
 },
 "nbformat": 4,
 "nbformat_minor": 2
}
